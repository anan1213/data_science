{
 "cells": [
  {
   "cell_type": "code",
   "execution_count": 3,
   "metadata": {},
   "outputs": [
    {
     "ename": "FileNotFoundError",
     "evalue": "[Errno 2] No such file or directory: '../data/movie'",
     "output_type": "error",
     "traceback": [
      "\u001b[0;31m---------------------------------------------------------------------------\u001b[0m",
      "\u001b[0;31mFileNotFoundError\u001b[0m                         Traceback (most recent call last)",
      "\u001b[0;32m<ipython-input-3-a691d76736e7>\u001b[0m in \u001b[0;36m<module>\u001b[0;34m\u001b[0m\n\u001b[1;32m     12\u001b[0m \u001b[0;32mfrom\u001b[0m \u001b[0mIPython\u001b[0m\u001b[0;34m.\u001b[0m\u001b[0mdisplay\u001b[0m \u001b[0;32mimport\u001b[0m \u001b[0mdisplay\u001b[0m\u001b[0;34m\u001b[0m\u001b[0;34m\u001b[0m\u001b[0m\n\u001b[1;32m     13\u001b[0m \u001b[0;34m\u001b[0m\u001b[0m\n\u001b[0;32m---> 14\u001b[0;31m \u001b[0mprint\u001b[0m\u001b[0;34m(\u001b[0m\u001b[0mos\u001b[0m\u001b[0;34m.\u001b[0m\u001b[0mlistdir\u001b[0m\u001b[0;34m(\u001b[0m\u001b[0;34m'../data/movie'\u001b[0m\u001b[0;34m)\u001b[0m\u001b[0;34m)\u001b[0m\u001b[0;34m\u001b[0m\u001b[0;34m\u001b[0m\u001b[0m\n\u001b[0m",
      "\u001b[0;31mFileNotFoundError\u001b[0m: [Errno 2] No such file or directory: '../data/movie'"
     ]
    }
   ],
   "source": [
    "import numpy as np\n",
    "import pandas as pd\n",
    "import matplotlib.pyplot as plt\n",
    "import seaborn as sns\n",
    "import warnings\n",
    "import os\n",
    "import re\n",
    "import json\n",
    "\n",
    "warnings.filterwarnings('ignore')\n",
    "\n",
    "from IPython.display import display\n",
    "\n",
    "print(os.listdir('../data/movie'))"
   ]
  },
  {
   "cell_type": "code",
   "execution_count": 973,
   "metadata": {},
   "outputs": [
    {
     "name": "stdout",
     "output_type": "stream",
     "text": [
      "(3000, 23) (4398, 22)\n"
     ]
    }
   ],
   "source": [
    "df_train = pd.read_csv('../data/movie/train.csv')\n",
    "df_test = pd.read_csv('../data/movie/test.csv')\n",
    "\n",
    "print(df_train.shape, df_test.shape)"
   ]
  },
  {
   "cell_type": "code",
   "execution_count": 1061,
   "metadata": {},
   "outputs": [],
   "source": [
    "def kesson_table(df):\n",
    "    total = df.isnull().sum()\n",
    "    percent = total / len(df)\n",
    "    kesson_table = pd.concat([total, percent], keys=['Total', 'Perceent'], axis=1)\n",
    "    kesson_table = kesson_table.drop(kesson_table[kesson_table['Total'] == 0].index)\n",
    "    return kesson_table\n",
    "\n",
    "def graph_display():\n",
    "    plt.figure(fisgsize=(12, 5))\n",
    "    plt.plot(history.history['acc'])\n",
    "    plt.plot(history.history['val_acc'])\n",
    "    plt.title('model accuracy', fontsize=20)\n",
    "    plt.xlabel('epochs', fontsize=15)\n",
    "    plt.ylabel('accuracy', fontsize=15)\n",
    "    plt.show()\n",
    "    \n",
    "    plt.figure(figsize=(12, 5))\n",
    "    plt.plot(history.history['loss'])\n",
    "    plt.plot(history.history['val_loss'])\n",
    "    plt.title('model loss', fontsize=20)\n",
    "    plt.xlabel('epochs', fontsize=15)\n",
    "    plt.ylabel('loss', fontsize=15)\n",
    "    plt.show()\n",
    "    \n",
    "def diff_col(df_train, df_test):\n",
    "    #diff_list_all = list(set(df_train.columns + df_test.columns))\n",
    "    diff_list_train = list(set(df_train.columns) - set(df_test.columns))\n",
    "    diff_list_test = list(set(df_test.columns) - set(df_train.columns))\n",
    "    diff_list = set(diff_list_train + diff_list_test)\n",
    "    return diff_list"
   ]
  },
  {
   "cell_type": "code",
   "execution_count": 975,
   "metadata": {},
   "outputs": [
    {
     "data": {
      "text/html": [
       "<div>\n",
       "<style scoped>\n",
       "    .dataframe tbody tr th:only-of-type {\n",
       "        vertical-align: middle;\n",
       "    }\n",
       "\n",
       "    .dataframe tbody tr th {\n",
       "        vertical-align: top;\n",
       "    }\n",
       "\n",
       "    .dataframe thead th {\n",
       "        text-align: right;\n",
       "    }\n",
       "</style>\n",
       "<table border=\"1\" class=\"dataframe\">\n",
       "  <thead>\n",
       "    <tr style=\"text-align: right;\">\n",
       "      <th></th>\n",
       "      <th>id</th>\n",
       "      <th>belongs_to_collection</th>\n",
       "      <th>budget</th>\n",
       "      <th>genres</th>\n",
       "      <th>homepage</th>\n",
       "      <th>imdb_id</th>\n",
       "      <th>original_language</th>\n",
       "      <th>original_title</th>\n",
       "      <th>overview</th>\n",
       "      <th>popularity</th>\n",
       "      <th>...</th>\n",
       "      <th>release_date</th>\n",
       "      <th>runtime</th>\n",
       "      <th>spoken_languages</th>\n",
       "      <th>status</th>\n",
       "      <th>tagline</th>\n",
       "      <th>title</th>\n",
       "      <th>Keywords</th>\n",
       "      <th>cast</th>\n",
       "      <th>crew</th>\n",
       "      <th>revenue</th>\n",
       "    </tr>\n",
       "  </thead>\n",
       "  <tbody>\n",
       "    <tr>\n",
       "      <th>0</th>\n",
       "      <td>1</td>\n",
       "      <td>[{'id': 313576, 'name': 'Hot Tub Time Machine ...</td>\n",
       "      <td>14000000</td>\n",
       "      <td>[{'id': 35, 'name': 'Comedy'}]</td>\n",
       "      <td>NaN</td>\n",
       "      <td>tt2637294</td>\n",
       "      <td>en</td>\n",
       "      <td>Hot Tub Time Machine 2</td>\n",
       "      <td>When Lou, who has become the \"father of the In...</td>\n",
       "      <td>6.575393</td>\n",
       "      <td>...</td>\n",
       "      <td>2/20/15</td>\n",
       "      <td>93.0</td>\n",
       "      <td>[{'iso_639_1': 'en', 'name': 'English'}]</td>\n",
       "      <td>Released</td>\n",
       "      <td>The Laws of Space and Time are About to be Vio...</td>\n",
       "      <td>Hot Tub Time Machine 2</td>\n",
       "      <td>[{'id': 4379, 'name': 'time travel'}, {'id': 9...</td>\n",
       "      <td>[{'cast_id': 4, 'character': 'Lou', 'credit_id...</td>\n",
       "      <td>[{'credit_id': '59ac067c92514107af02c8c8', 'de...</td>\n",
       "      <td>12314651</td>\n",
       "    </tr>\n",
       "    <tr>\n",
       "      <th>1</th>\n",
       "      <td>2</td>\n",
       "      <td>[{'id': 107674, 'name': 'The Princess Diaries ...</td>\n",
       "      <td>40000000</td>\n",
       "      <td>[{'id': 35, 'name': 'Comedy'}, {'id': 18, 'nam...</td>\n",
       "      <td>NaN</td>\n",
       "      <td>tt0368933</td>\n",
       "      <td>en</td>\n",
       "      <td>The Princess Diaries 2: Royal Engagement</td>\n",
       "      <td>Mia Thermopolis is now a college graduate and ...</td>\n",
       "      <td>8.248895</td>\n",
       "      <td>...</td>\n",
       "      <td>8/6/04</td>\n",
       "      <td>113.0</td>\n",
       "      <td>[{'iso_639_1': 'en', 'name': 'English'}]</td>\n",
       "      <td>Released</td>\n",
       "      <td>It can take a lifetime to find true love; she'...</td>\n",
       "      <td>The Princess Diaries 2: Royal Engagement</td>\n",
       "      <td>[{'id': 2505, 'name': 'coronation'}, {'id': 42...</td>\n",
       "      <td>[{'cast_id': 1, 'character': 'Mia Thermopolis'...</td>\n",
       "      <td>[{'credit_id': '52fe43fe9251416c7502563d', 'de...</td>\n",
       "      <td>95149435</td>\n",
       "    </tr>\n",
       "  </tbody>\n",
       "</table>\n",
       "<p>2 rows × 23 columns</p>\n",
       "</div>"
      ],
      "text/plain": [
       "   id                              belongs_to_collection    budget  \\\n",
       "0   1  [{'id': 313576, 'name': 'Hot Tub Time Machine ...  14000000   \n",
       "1   2  [{'id': 107674, 'name': 'The Princess Diaries ...  40000000   \n",
       "\n",
       "                                              genres homepage    imdb_id  \\\n",
       "0                     [{'id': 35, 'name': 'Comedy'}]      NaN  tt2637294   \n",
       "1  [{'id': 35, 'name': 'Comedy'}, {'id': 18, 'nam...      NaN  tt0368933   \n",
       "\n",
       "  original_language                            original_title  \\\n",
       "0                en                    Hot Tub Time Machine 2   \n",
       "1                en  The Princess Diaries 2: Royal Engagement   \n",
       "\n",
       "                                            overview  popularity  ...  \\\n",
       "0  When Lou, who has become the \"father of the In...    6.575393  ...   \n",
       "1  Mia Thermopolis is now a college graduate and ...    8.248895  ...   \n",
       "\n",
       "  release_date runtime                          spoken_languages    status  \\\n",
       "0      2/20/15    93.0  [{'iso_639_1': 'en', 'name': 'English'}]  Released   \n",
       "1       8/6/04   113.0  [{'iso_639_1': 'en', 'name': 'English'}]  Released   \n",
       "\n",
       "                                             tagline  \\\n",
       "0  The Laws of Space and Time are About to be Vio...   \n",
       "1  It can take a lifetime to find true love; she'...   \n",
       "\n",
       "                                      title  \\\n",
       "0                    Hot Tub Time Machine 2   \n",
       "1  The Princess Diaries 2: Royal Engagement   \n",
       "\n",
       "                                            Keywords  \\\n",
       "0  [{'id': 4379, 'name': 'time travel'}, {'id': 9...   \n",
       "1  [{'id': 2505, 'name': 'coronation'}, {'id': 42...   \n",
       "\n",
       "                                                cast  \\\n",
       "0  [{'cast_id': 4, 'character': 'Lou', 'credit_id...   \n",
       "1  [{'cast_id': 1, 'character': 'Mia Thermopolis'...   \n",
       "\n",
       "                                                crew   revenue  \n",
       "0  [{'credit_id': '59ac067c92514107af02c8c8', 'de...  12314651  \n",
       "1  [{'credit_id': '52fe43fe9251416c7502563d', 'de...  95149435  \n",
       "\n",
       "[2 rows x 23 columns]"
      ]
     },
     "execution_count": 975,
     "metadata": {},
     "output_type": "execute_result"
    }
   ],
   "source": [
    "df_train.head(2)"
   ]
  },
  {
   "cell_type": "code",
   "execution_count": 976,
   "metadata": {},
   "outputs": [],
   "source": [
    "df_train.drop(['belongs_to_collection'], axis=1, inplace=True)\n",
    "df_test.drop(['belongs_to_collection'], axis=1, inplace=True)"
   ]
  },
  {
   "cell_type": "code",
   "execution_count": 977,
   "metadata": {},
   "outputs": [],
   "source": [
    "df_train['log_rev'] = np.log(df_train['revenue'] + 1)"
   ]
  },
  {
   "cell_type": "code",
   "execution_count": 978,
   "metadata": {},
   "outputs": [
    {
     "data": {
      "text/plain": [
       "<seaborn.axisgrid.JointGrid at 0x7f045339d6a0>"
      ]
     },
     "execution_count": 978,
     "metadata": {},
     "output_type": "execute_result"
    },
    {
     "data": {
      "image/png": "[encoded data removed]",
      "text/plain": [
       "<Figure size 432x432 with 3 Axes>"
      ]
     },
     "metadata": {
      "needs_background": "light"
     },
     "output_type": "display_data"
    }
   ],
   "source": [
    "x = np.log(df_train['budget'][df_train['budget'] > 0] + 1)\n",
    "y = df_train['revenue'][df_train['budget'] > 0]\n",
    "\n",
    "sns.jointplot(x, y, color='g')"
   ]
  },
  {
   "cell_type": "code",
   "execution_count": 979,
   "metadata": {},
   "outputs": [
    {
     "data": {
      "text/plain": [
       "<seaborn.axisgrid.JointGrid at 0x7f0451dc11d0>"
      ]
     },
     "execution_count": 979,
     "metadata": {},
     "output_type": "execute_result"
    },
    {
     "data": {
      "image/png": "[encoded data removed]",
      "text/plain": [
       "<Figure size 432x432 with 3 Axes>"
      ]
     },
     "metadata": {
      "needs_background": "light"
     },
     "output_type": "display_data"
    }
   ],
   "source": [
    "x = df_train['budget'][df_train['budget'] > 0]\n",
    "y = df_train['revenue'][df_train['budget'] > 0]\n",
    "\n",
    "sns.jointplot(x, y, color='g')"
   ]
  },
  {
   "cell_type": "code",
   "execution_count": 980,
   "metadata": {},
   "outputs": [],
   "source": [
    "df_train['budget_log'] = np.log(df_train['budget'] +1)\n",
    "df_test['budget_log'] = np.log(df_test['budget'] + 1)"
   ]
  },
  {
   "cell_type": "code",
   "execution_count": 981,
   "metadata": {},
   "outputs": [
    {
     "data": {
      "text/html": [
       "<div>\n",
       "<style scoped>\n",
       "    .dataframe tbody tr th:only-of-type {\n",
       "        vertical-align: middle;\n",
       "    }\n",
       "\n",
       "    .dataframe tbody tr th {\n",
       "        vertical-align: top;\n",
       "    }\n",
       "\n",
       "    .dataframe thead th {\n",
       "        text-align: right;\n",
       "    }\n",
       "</style>\n",
       "<table border=\"1\" class=\"dataframe\">\n",
       "  <thead>\n",
       "    <tr style=\"text-align: right;\">\n",
       "      <th></th>\n",
       "      <th>Total</th>\n",
       "      <th>Perceent</th>\n",
       "    </tr>\n",
       "  </thead>\n",
       "  <tbody>\n",
       "    <tr>\n",
       "      <th>genres</th>\n",
       "      <td>7</td>\n",
       "      <td>0.002333</td>\n",
       "    </tr>\n",
       "    <tr>\n",
       "      <th>homepage</th>\n",
       "      <td>2054</td>\n",
       "      <td>0.684667</td>\n",
       "    </tr>\n",
       "    <tr>\n",
       "      <th>overview</th>\n",
       "      <td>8</td>\n",
       "      <td>0.002667</td>\n",
       "    </tr>\n",
       "    <tr>\n",
       "      <th>poster_path</th>\n",
       "      <td>1</td>\n",
       "      <td>0.000333</td>\n",
       "    </tr>\n",
       "    <tr>\n",
       "      <th>production_companies</th>\n",
       "      <td>156</td>\n",
       "      <td>0.052000</td>\n",
       "    </tr>\n",
       "    <tr>\n",
       "      <th>production_countries</th>\n",
       "      <td>55</td>\n",
       "      <td>0.018333</td>\n",
       "    </tr>\n",
       "    <tr>\n",
       "      <th>runtime</th>\n",
       "      <td>2</td>\n",
       "      <td>0.000667</td>\n",
       "    </tr>\n",
       "    <tr>\n",
       "      <th>spoken_languages</th>\n",
       "      <td>20</td>\n",
       "      <td>0.006667</td>\n",
       "    </tr>\n",
       "    <tr>\n",
       "      <th>tagline</th>\n",
       "      <td>597</td>\n",
       "      <td>0.199000</td>\n",
       "    </tr>\n",
       "    <tr>\n",
       "      <th>Keywords</th>\n",
       "      <td>276</td>\n",
       "      <td>0.092000</td>\n",
       "    </tr>\n",
       "    <tr>\n",
       "      <th>cast</th>\n",
       "      <td>13</td>\n",
       "      <td>0.004333</td>\n",
       "    </tr>\n",
       "    <tr>\n",
       "      <th>crew</th>\n",
       "      <td>16</td>\n",
       "      <td>0.005333</td>\n",
       "    </tr>\n",
       "  </tbody>\n",
       "</table>\n",
       "</div>"
      ],
      "text/plain": [
       "                      Total  Perceent\n",
       "genres                    7  0.002333\n",
       "homepage               2054  0.684667\n",
       "overview                  8  0.002667\n",
       "poster_path               1  0.000333\n",
       "production_companies    156  0.052000\n",
       "production_countries     55  0.018333\n",
       "runtime                   2  0.000667\n",
       "spoken_languages         20  0.006667\n",
       "tagline                 597  0.199000\n",
       "Keywords                276  0.092000\n",
       "cast                     13  0.004333\n",
       "crew                     16  0.005333"
      ]
     },
     "execution_count": 981,
     "metadata": {},
     "output_type": "execute_result"
    }
   ],
   "source": [
    "kesson_table(df_train)"
   ]
  },
  {
   "cell_type": "code",
   "execution_count": 982,
   "metadata": {},
   "outputs": [],
   "source": [
    "df_train['genres'] = df_train['genres'].fillna('none')\n",
    "df_test['genres'] = df_test['genres'].fillna('none')"
   ]
  },
  {
   "cell_type": "code",
   "execution_count": 983,
   "metadata": {},
   "outputs": [],
   "source": [
    "def get_list(json_file):\n",
    "    if json_file == 'none':\n",
    "        return ['none']\n",
    "    else:\n",
    "        results = []\n",
    "        jsons = eval(json_file)\n",
    "        for json in jsons:\n",
    "            results.append(json['name'])\n",
    "        return results"
   ]
  },
  {
   "cell_type": "code",
   "execution_count": 984,
   "metadata": {},
   "outputs": [],
   "source": [
    "df_train['genre_list'] = df_train['genres'].apply(lambda x: get_list(x))\n",
    "df_test['genre_list'] = df_test['genres'].apply(lambda x: get_list(x))"
   ]
  },
  {
   "cell_type": "code",
   "execution_count": 985,
   "metadata": {},
   "outputs": [],
   "source": [
    "def create_unique(df, col_list):\n",
    "    cols = df[col_list]\n",
    "    unique_index = []\n",
    "    for col in cols:\n",
    "        for one_genre in col:\n",
    "            if one_genre not in unique_index:\n",
    "                unique_index.append(one_genre)\n",
    "    del_list = 'none'\n",
    "    for word in del_list:\n",
    "        try:\n",
    "            unique_index.remove(word)\n",
    "        except:\n",
    "            pass\n",
    "    unique_index.append('none')\n",
    "    return unique_index\n",
    "\n",
    "def diff_unique_list(df1, df2, col_name):\n",
    "    \"\"\"this function use when df[col_name] is list\n",
    "    \"\"\"\n",
    "    train_list = create_unique(df1, col_name)\n",
    "    test_list = create_unique(df2, col_name)\n",
    "    #all_list = train_list + test_list\n",
    "    #diff_list = list(set(all_list))\n",
    "    diff_list = list(set(train_list) - set(test_list))\n",
    "    #diff_list_2 = list(set(test_list) - set(train_list))\n",
    "    #diff_list = diff_list_1 + diff_list_2\n",
    "    return diff_list\n",
    "\n",
    "def return_one(unique_x, unique):\n",
    "    if unique in unique_x:\n",
    "        return 1\n",
    "    else:\n",
    "        return 0\n",
    "    \n",
    "def return_one_list(x, x_list):\n",
    "    for x_one in x:\n",
    "        if x_one in x_list:\n",
    "            return 1\n",
    "        else:\n",
    "            return 0\n",
    "\n",
    "def create_new_onehot(df, col_name , col_list):\n",
    "    unique_list = create_unique(df, col_list)\n",
    "    for unique in unique_list:\n",
    "        df[col_name + '_' + unique] = pd.Series(np.zeros(df.shape[0],))\n",
    "        df[col_name + '_' + unique] = df[col_list].apply(lambda x:return_one(x, unique))"
   ]
  },
  {
   "cell_type": "code",
   "execution_count": 986,
   "metadata": {},
   "outputs": [],
   "source": [
    "create_new_onehot(df_train, 'genres', 'genre_list')\n",
    "create_new_onehot(df_test, 'genres', 'genre_list')"
   ]
  },
  {
   "cell_type": "code",
   "execution_count": 987,
   "metadata": {},
   "outputs": [],
   "source": [
    "df_train['homepage'] = df_train['homepage'].fillna('none')\n",
    "df_test['homepage'] = df_test['homepage'].fillna('none')\n",
    "\n",
    "df_train['homepage'][df_train['homepage'] != 'none'] = 1\n",
    "df_train['homepage'][df_train['homepage'] == 'none'] = 0\n",
    "\n",
    "df_test['homepage'][df_test['homepage'] != 'none'] = 1\n",
    "df_test['homepage'][df_test['homepage'] == 'none'] = 0"
   ]
  },
  {
   "cell_type": "code",
   "execution_count": 988,
   "metadata": {},
   "outputs": [],
   "source": [
    "def diff_unique_one(df_train, df_test, col_name):\n",
    "    \"\"\"this function don't use when the value of df[col_name] is list.\n",
    "       only use df[col_name] isn't list.\n",
    "    \"\"\"\n",
    "    train_list = df_train[col_name].value_counts()\n",
    "    test_list = df_test[col_name].value_counts()\n",
    "    #all_list = train_list.index + test_list.index\n",
    "    #diff_list = list(set(all_list))\n",
    "    diff_list = list(set(train_list.index) - set(test_list.index))\n",
    "    #diff_list_2 = list(set(train_list.index) - set(test_list.index))\n",
    "    #diff_list = diff_list_1 + diff_list_2\n",
    "    return diff_list\n",
    "\n",
    "def drop_only_index(df_train, df_test, col_name):\n",
    "    diff_list = diff_unique_list(df_train, df_test, col_name)\n",
    "    df_train.drop(diff_list,axis=1, inplace=True)\n",
    "    df_test.drop(diff_list,axis=1, inplace=True)"
   ]
  },
  {
   "cell_type": "code",
   "execution_count": 989,
   "metadata": {},
   "outputs": [],
   "source": [
    "drop_only_index(df_train, df_test, 'original_language')"
   ]
  },
  {
   "cell_type": "code",
   "execution_count": 990,
   "metadata": {},
   "outputs": [
    {
     "data": {
      "text/plain": [
       "count    3000.000000\n",
       "mean        8.463274\n",
       "std        12.104000\n",
       "min         0.000001\n",
       "25%         4.018053\n",
       "50%         7.374861\n",
       "75%        10.890983\n",
       "max       294.337037\n",
       "Name: popularity, dtype: float64"
      ]
     },
     "execution_count": 990,
     "metadata": {},
     "output_type": "execute_result"
    }
   ],
   "source": [
    "df_train['popularity'].describe()"
   ]
  },
  {
   "cell_type": "code",
   "execution_count": 991,
   "metadata": {},
   "outputs": [
    {
     "data": {
      "text/plain": [
       "<seaborn.axisgrid.JointGrid at 0x7f0453320160>"
      ]
     },
     "execution_count": 991,
     "metadata": {},
     "output_type": "execute_result"
    },
    {
     "data": {
      "image/png": "[encoded data removed]",
      "text/plain": [
       "<Figure size 432x432 with 3 Axes>"
      ]
     },
     "metadata": {
      "needs_background": "light"
     },
     "output_type": "display_data"
    }
   ],
   "source": [
    "sns.jointplot(x='popularity', y='revenue',data=df_train)"
   ]
  },
  {
   "cell_type": "code",
   "execution_count": 992,
   "metadata": {},
   "outputs": [],
   "source": [
    "Drop = ['original_title', 'overview', 'poster_path']\n",
    "\n",
    "df_train.drop(Drop, axis=1, inplace=True)\n",
    "df_test.drop(Drop, axis=1, inplace=True)"
   ]
  },
  {
   "cell_type": "code",
   "execution_count": 993,
   "metadata": {},
   "outputs": [],
   "source": [
    "def fill_none(col_name):\n",
    "    df_train[col_name] = df_train[col_name].fillna('none')\n",
    "    df_test[col_name] = df_test[col_name].fillna('none')\n",
    "\n",
    "fill_none('production_companies')"
   ]
  },
  {
   "cell_type": "code",
   "execution_count": 994,
   "metadata": {},
   "outputs": [],
   "source": [
    "df_train['company_list'] = df_train['production_companies'].apply(lambda x: get_list(x))\n",
    "df_test['company_list'] = df_test['production_companies'].apply(lambda x: get_list(x))"
   ]
  },
  {
   "cell_type": "code",
   "execution_count": 995,
   "metadata": {},
   "outputs": [],
   "source": [
    "#train_list = create_unique(df_train, 'company_list')\n",
    "#test_list = create_unique(df_train, 'company_list')\n",
    "diff_list = diff_unique_list(df_train, df_test, 'company_list')"
   ]
  },
  {
   "cell_type": "code",
   "execution_count": 996,
   "metadata": {},
   "outputs": [],
   "source": [
    "def get_diff_value(df1, df2, col_name):\n",
    "    \"\"\"this function use when df[col_name] is list\n",
    "    \"\"\"\n",
    "    train_list = create_unique(df1, col_name)\n",
    "    test_list = create_unique(df2, col_name)\n",
    "    all_list = list(set(train_list + test_list))\n",
    "    diff_list_train = list(set(all_list) - set(train_list))\n",
    "    diff_list_test = list(set(all_list) - set(test_list))\n",
    "    diff_list = diff_list_train + diff_list_test\n",
    "    same_list = list(set(all_list) - set(diff_list))\n",
    "    \n",
    "    return same_list, diff_list, all_list"
   ]
  },
  {
   "cell_type": "code",
   "execution_count": 997,
   "metadata": {},
   "outputs": [],
   "source": [
    "same, diff, all_list = get_diff_value(df_train, df_test, 'company_list')"
   ]
  },
  {
   "cell_type": "code",
   "execution_count": 998,
   "metadata": {},
   "outputs": [],
   "source": [
    "train_list = create_unique(df_train, 'company_list')"
   ]
  },
  {
   "cell_type": "code",
   "execution_count": 999,
   "metadata": {},
   "outputs": [],
   "source": [
    "def dict_count(df, col_list):\n",
    "    dictionary = {}\n",
    "    for cols in df[col_list]:\n",
    "        for col in cols:\n",
    "            if col not in dictionary:\n",
    "                dictionary[col] = 0\n",
    "            else:\n",
    "                pass\n",
    "            if company in train_list:\n",
    "                dictionary[col] += 1\n",
    "    sort = sorted(dictionary.items(), key=lambda x: x[1], reverse=True)\n",
    "    return sort"
   ]
  },
  {
   "cell_type": "code",
   "execution_count": 1000,
   "metadata": {},
   "outputs": [],
   "source": [
    "sort = dict_count(df_train, 'company_list')"
   ]
  },
  {
   "cell_type": "code",
   "execution_count": 1001,
   "metadata": {},
   "outputs": [],
   "source": [
    "def select_number_limit(sort, num):\n",
    "    select_list = []\n",
    "    for select in sort:\n",
    "        if select[1] > num:\n",
    "            select_list.append(select[0])\n",
    "    return select_list\n",
    "        \n",
    "select_list = select_number_limit(sort, 20)\n",
    "\n",
    "df_train['company_20'] = df_train['company_list'].apply(lambda x: return_one_list(x, select_list))\n",
    "df_test['company_20'] = df_test['company_list'].apply(lambda x: return_one_list(x, select_list))"
   ]
  },
  {
   "cell_type": "code",
   "execution_count": 1002,
   "metadata": {},
   "outputs": [
    {
     "data": {
      "image/png": "[encoded data removed]",
      "text/plain": [
       "<Figure size 864x360 with 1 Axes>"
      ]
     },
     "metadata": {
      "needs_background": "light"
     },
     "output_type": "display_data"
    }
   ],
   "source": [
    "company_20 = df_train['log_rev'][df_train['company_20'] == 1]\n",
    "company_non = df_train['log_rev'][df_train['company_20'] == 0]\n",
    "\n",
    "plt.figure(figsize=(12, 5))\n",
    "sns.distplot(company_20, color='b')\n",
    "sns.distplot(company_non, color='r')\n",
    "plt.title('company20 or not', fontsize=20)\n",
    "plt.xlabel('revenue', fontsize=15)\n",
    "plt.ylabel('density', fontsize=15)\n",
    "plt.show()"
   ]
  },
  {
   "cell_type": "code",
   "execution_count": 1003,
   "metadata": {},
   "outputs": [],
   "source": [
    "df_train['production_countries'] = df_train['production_countries'].fillna('none')\n",
    "df_test['production_countries'] = df_test['production_countries'].fillna('none')\n",
    "\n",
    "df_train['country_list'] = df_train['production_countries'].apply(lambda x: get_list(x))\n",
    "df_test['country_list'] = df_test['production_countries'].apply(lambda x: get_list(x))"
   ]
  },
  {
   "cell_type": "code",
   "execution_count": 1004,
   "metadata": {},
   "outputs": [],
   "source": [
    "dict_country = dict_count(df_train, 'country_list')\n",
    "select_country = select_number_limit(dict_country, 50)\n",
    "\n",
    "df_train['country_20'] = df_train['country_list'].apply(lambda x: return_one_list(x, select_country))\n",
    "df_test['country_20'] = df_test['country_list'].apply(lambda x: return_one_list(x, select_country))"
   ]
  },
  {
   "cell_type": "code",
   "execution_count": 1005,
   "metadata": {},
   "outputs": [
    {
     "data": {
      "image/png": "[encoded data removed]",
      "text/plain": [
       "<Figure size 864x360 with 1 Axes>"
      ]
     },
     "metadata": {
      "needs_background": "light"
     },
     "output_type": "display_data"
    }
   ],
   "source": [
    "country_20 = df_train['log_rev'][df_train['country_20'] == 1]\n",
    "country_non = df_train['log_rev'][df_train['country_20'] == 0]\n",
    "\n",
    "plt.figure(figsize=(12, 5))\n",
    "sns.distplot(country_20, color='b')\n",
    "sns.distplot(country_non, color='r')\n",
    "plt.title('country20 or not', fontsize=20)\n",
    "plt.xlabel('revenue', fontsize=15)\n",
    "plt.ylabel('density', fontsize=15)\n",
    "plt.show()"
   ]
  },
  {
   "cell_type": "code",
   "execution_count": 1006,
   "metadata": {},
   "outputs": [
    {
     "data": {
      "text/plain": [
       "828    Jails, Hospitals & Hip-Hop\n",
       "Name: title, dtype: object"
      ]
     },
     "execution_count": 1006,
     "metadata": {},
     "output_type": "execute_result"
    }
   ],
   "source": [
    "df_test['title'][df_test['release_date'].isnull()]"
   ]
  },
  {
   "cell_type": "code",
   "execution_count": 1007,
   "metadata": {},
   "outputs": [],
   "source": [
    "df_train['release_year'] = df_train['release_date'].apply(lambda x: x[-2:])\n",
    "\n",
    "df_test['release_date'] = df_test['release_date'].fillna('11/11/00')\n",
    "df_test['release_year'] = df_test['release_date'].apply(lambda x: x[-2:])"
   ]
  },
  {
   "cell_type": "code",
   "execution_count": 1008,
   "metadata": {},
   "outputs": [],
   "source": [
    "def get_year(year):\n",
    "    year = int(year)\n",
    "    if year > 20 and year < 100:\n",
    "        return 1900 + year\n",
    "    else:\n",
    "        return 2000 + year"
   ]
  },
  {
   "cell_type": "code",
   "execution_count": 1009,
   "metadata": {},
   "outputs": [],
   "source": [
    "df_train['release_year'] = df_train['release_year'].apply(lambda x: get_year(x))\n",
    "df_test['release_year'] = df_test['release_year'].apply(lambda x: get_year(x))"
   ]
  },
  {
   "cell_type": "code",
   "execution_count": 1010,
   "metadata": {},
   "outputs": [
    {
     "data": {
      "text/plain": [
       "<Figure size 864x360 with 0 Axes>"
      ]
     },
     "metadata": {},
     "output_type": "display_data"
    },
    {
     "data": {
      "image/png": "[encoded data removed]",
      "text/plain": [
       "<Figure size 432x432 with 3 Axes>"
      ]
     },
     "metadata": {
      "needs_background": "light"
     },
     "output_type": "display_data"
    }
   ],
   "source": [
    "plt.figure(figsize=(12, 5))\n",
    "\n",
    "sns.jointplot(x='release_year', y='revenue', data=df_train, color='g')\n",
    "plt.title('distribution release year', fontsize=20)\n",
    "plt.xlabel('release year', fontsize=15)\n",
    "plt.ylabel('reevenue', fontsize=15)\n",
    "plt.show()"
   ]
  },
  {
   "cell_type": "code",
   "execution_count": 1011,
   "metadata": {},
   "outputs": [
    {
     "data": {
      "text/plain": [
       "<matplotlib.collections.PathCollection at 0x7f04527b86d8>"
      ]
     },
     "execution_count": 1011,
     "metadata": {},
     "output_type": "execute_result"
    },
    {
     "data": {
      "image/png": "[encoded data removed]",
      "text/plain": [
       "<Figure size 864x360 with 1 Axes>"
      ]
     },
     "metadata": {
      "needs_background": "light"
     },
     "output_type": "display_data"
    }
   ],
   "source": [
    "plt.figure(figsize=(12, 5))\n",
    "plt.scatter(x='runtime', y='revenue', data=df_train)"
   ]
  },
  {
   "cell_type": "code",
   "execution_count": 1012,
   "metadata": {},
   "outputs": [],
   "source": [
    "df_train['runtime'] = df_train['runtime'].fillna(df_train['runtime'].median())\n",
    "df_test['runtime'] = df_test['runtime'].fillna(df_test['runtime'].median())"
   ]
  },
  {
   "cell_type": "code",
   "execution_count": 1013,
   "metadata": {},
   "outputs": [],
   "source": [
    "df_train['spoken_languages'] = df_train['spoken_languages'].fillna('none')\n",
    "df_test['spoken_languages'] = df_test['spoken_languages'].fillna('none')"
   ]
  },
  {
   "cell_type": "code",
   "execution_count": 1014,
   "metadata": {},
   "outputs": [],
   "source": [
    "df_train['language_list'] = df_train['spoken_languages'].apply(lambda x: get_list(x))\n",
    "df_test['language_list'] = df_test['spoken_languages'].apply(lambda x: get_list(x))"
   ]
  },
  {
   "cell_type": "code",
   "execution_count": 1015,
   "metadata": {},
   "outputs": [
    {
     "data": {
      "text/plain": [
       "[('English', 2618),\n",
       " ('Français', 288),\n",
       " ('Español', 239),\n",
       " ('Deutsch', 169),\n",
       " ('Pусский', 152),\n",
       " ('Italiano', 124),\n",
       " ('日本語', 89),\n",
       " ('普通话', 68),\n",
       " ('हिन्दी', 56),\n",
       " ('', 47),\n",
       " ('Português', 43),\n",
       " ('العربية', 40),\n",
       " ('한국어/조선말', 37),\n",
       " ('广州话 / 廣州話', 36),\n",
       " ('தமிழ்', 27),\n",
       " ('Polski', 25),\n",
       " ('Magyar', 24),\n",
       " ('Latin', 23),\n",
       " ('svenska', 22),\n",
       " ('ภาษาไทย', 22),\n",
       " ('Český', 20),\n",
       " ('none', 20),\n",
       " ('עִבְרִית', 15),\n",
       " ('ελληνικά', 15),\n",
       " ('Türkçe', 13),\n",
       " ('Dansk', 13),\n",
       " ('Nederlands', 10),\n",
       " ('فارسی', 10),\n",
       " ('Tiếng Việt', 10),\n",
       " ('اردو', 8),\n",
       " ('Română', 8),\n",
       " ('తెలుగు', 7),\n",
       " ('Kiswahili', 7),\n",
       " ('Norsk', 7),\n",
       " ('No Language', 7),\n",
       " ('suomi', 6),\n",
       " ('Український', 6),\n",
       " ('Srpski', 4),\n",
       " ('Afrikaans', 4),\n",
       " ('Gaeilge', 3),\n",
       " ('Català', 3),\n",
       " ('বাংলা', 3),\n",
       " ('ਪੰਜਾਬੀ', 3),\n",
       " ('Somali', 3),\n",
       " ('Íslenska', 3),\n",
       " ('български език', 2),\n",
       " ('shqip', 2),\n",
       " ('Bahasa indonesia', 2),\n",
       " ('Slovenčina', 2),\n",
       " ('Esperanto', 2),\n",
       " ('euskera', 2),\n",
       " ('isiZulu', 2),\n",
       " ('Hrvatski', 2),\n",
       " ('қазақ', 1),\n",
       " ('Wolof', 1),\n",
       " ('Eesti', 1),\n",
       " ('پښتو', 1)]"
      ]
     },
     "execution_count": 1015,
     "metadata": {},
     "output_type": "execute_result"
    }
   ],
   "source": [
    "sort = dict_count(df_train, 'language_list')\n",
    "sort"
   ]
  },
  {
   "cell_type": "code",
   "execution_count": 1016,
   "metadata": {},
   "outputs": [],
   "source": [
    "select_list = select_number_limit(sort, 2000)\n",
    "\n",
    "df_train['language_20'] = df_train['language_list'].apply(lambda x: return_one_list(x, select_list))\n",
    "df_test['language_20'] = df_test['language_list'].apply(lambda x: return_one_list(x, select_list))"
   ]
  },
  {
   "cell_type": "code",
   "execution_count": 1017,
   "metadata": {},
   "outputs": [
    {
     "data": {
      "image/png": "[encoded data removed]",
      "text/plain": [
       "<Figure size 864x360 with 1 Axes>"
      ]
     },
     "metadata": {
      "needs_background": "light"
     },
     "output_type": "display_data"
    }
   ],
   "source": [
    "language_20 = df_train['log_rev'][df_train['language_20'] == 1]\n",
    "language_non = df_train['log_rev'][df_train['language_20'] == 0]\n",
    "\n",
    "plt.figure(figsize=(12, 5))\n",
    "sns.distplot(country_20, color='b')\n",
    "sns.distplot(country_non, color='r')\n",
    "plt.title('language20 or not', fontsize=20)\n",
    "plt.xlabel('revenue', fontsize=15)\n",
    "plt.ylabel('density', fontsize=15)\n",
    "plt.show()"
   ]
  },
  {
   "cell_type": "code",
   "execution_count": 1018,
   "metadata": {},
   "outputs": [],
   "source": [
    "df_train['status'][df_train['status'] == 'Released'] = 1\n",
    "df_train['status'][df_train['status'] == 'Rumored'] = 0\n",
    "\n",
    "df_test['status'] = df_test['status'].fillna(1)\n",
    "df_test['status'][df_test['status'] == 'Released'] = 1\n",
    "df_test['status'][df_test['status'] == 'Rumored'] = 0"
   ]
  },
  {
   "cell_type": "code",
   "execution_count": 1019,
   "metadata": {},
   "outputs": [
    {
     "data": {
      "text/html": [
       "<div>\n",
       "<style scoped>\n",
       "    .dataframe tbody tr th:only-of-type {\n",
       "        vertical-align: middle;\n",
       "    }\n",
       "\n",
       "    .dataframe tbody tr th {\n",
       "        vertical-align: top;\n",
       "    }\n",
       "\n",
       "    .dataframe thead th {\n",
       "        text-align: right;\n",
       "    }\n",
       "</style>\n",
       "<table border=\"1\" class=\"dataframe\">\n",
       "  <thead>\n",
       "    <tr style=\"text-align: right;\">\n",
       "      <th></th>\n",
       "      <th>id</th>\n",
       "      <th>budget</th>\n",
       "      <th>genres</th>\n",
       "      <th>homepage</th>\n",
       "      <th>imdb_id</th>\n",
       "      <th>original_language</th>\n",
       "      <th>popularity</th>\n",
       "      <th>production_companies</th>\n",
       "      <th>production_countries</th>\n",
       "      <th>release_date</th>\n",
       "      <th>...</th>\n",
       "      <th>genres_Western</th>\n",
       "      <th>genres_Foreign</th>\n",
       "      <th>genres_none</th>\n",
       "      <th>company_list</th>\n",
       "      <th>company_20</th>\n",
       "      <th>country_list</th>\n",
       "      <th>country_20</th>\n",
       "      <th>release_year</th>\n",
       "      <th>language_list</th>\n",
       "      <th>language_20</th>\n",
       "    </tr>\n",
       "  </thead>\n",
       "  <tbody>\n",
       "  </tbody>\n",
       "</table>\n",
       "<p>0 rows × 47 columns</p>\n",
       "</div>"
      ],
      "text/plain": [
       "Empty DataFrame\n",
       "Columns: [id, budget, genres, homepage, imdb_id, original_language, popularity, production_companies, production_countries, release_date, runtime, spoken_languages, status, tagline, title, Keywords, cast, crew, budget_log, genre_list, genres_Adventure, genres_Animation, genres_Family, genres_Fantasy, genres_Horror, genres_Science Fiction, genres_Comedy, genres_Romance, genres_Drama, genres_War, genres_Mystery, genres_History, genres_Documentary, genres_Thriller, genres_Action, genres_Music, genres_Crime, genres_Western, genres_Foreign, genres_none, company_list, company_20, country_list, country_20, release_year, language_list, language_20]\n",
       "Index: []\n",
       "\n",
       "[0 rows x 47 columns]"
      ]
     },
     "execution_count": 1019,
     "metadata": {},
     "output_type": "execute_result"
    }
   ],
   "source": [
    "df_test[df_test['status'].isnull()]"
   ]
  },
  {
   "cell_type": "code",
   "execution_count": 1020,
   "metadata": {},
   "outputs": [],
   "source": [
    "def get_list_gender(json_file):\n",
    "    if json_file == 'none':\n",
    "        return ['none']\n",
    "    else:\n",
    "        results = []\n",
    "        jsons = eval(json_file)\n",
    "        for json in jsons:\n",
    "            results.append(json['gender'])\n",
    "        return results"
   ]
  },
  {
   "cell_type": "code",
   "execution_count": 1021,
   "metadata": {},
   "outputs": [],
   "source": [
    "Drop = ['tagline', 'Keywords', 'title']\n",
    "\n",
    "df_train.drop(Drop, axis=1, inplace=True)\n",
    "df_test.drop(Drop, axis=1, inplace=True)"
   ]
  },
  {
   "cell_type": "code",
   "execution_count": 1022,
   "metadata": {},
   "outputs": [],
   "source": [
    "df_train['cast'] = df_train['cast'].fillna('none')\n",
    "df_test['cast'] = df_test['cast'].fillna('none')\n",
    "\n",
    "df_train['gender_list'] = df_train['cast'].apply(lambda x: get_list_gender(x))\n",
    "df_test['gender_list'] = df_test['cast'].apply(lambda x: get_list_gender(x))"
   ]
  },
  {
   "cell_type": "code",
   "execution_count": 1023,
   "metadata": {},
   "outputs": [],
   "source": [
    "def add_gender(x_list):\n",
    "    sum_ = 0\n",
    "    for value in x_list:\n",
    "        if value == 'none':\n",
    "            return 0\n",
    "        else:\n",
    "            sum_ += value\n",
    "    average = sum_ / (len(x_list) + 1)\n",
    "    return average"
   ]
  },
  {
   "cell_type": "code",
   "execution_count": 1024,
   "metadata": {},
   "outputs": [],
   "source": [
    "df_train['gender_sum'] = df_train['gender_list'].apply(lambda x: add_gender(x))\n",
    "df_test['gender_sum'] = df_test['gender_list'].apply(lambda x: add_gender(x))"
   ]
  },
  {
   "cell_type": "code",
   "execution_count": 1025,
   "metadata": {},
   "outputs": [
    {
     "data": {
      "text/plain": [
       "<seaborn.axisgrid.JointGrid at 0x7f0452305f60>"
      ]
     },
     "execution_count": 1025,
     "metadata": {},
     "output_type": "execute_result"
    },
    {
     "data": {
      "image/png": "[encoded data removed]",
      "text/plain": [
       "<Figure size 432x432 with 3 Axes>"
      ]
     },
     "metadata": {
      "needs_background": "light"
     },
     "output_type": "display_data"
    }
   ],
   "source": [
    "sns.jointplot(x='gender_sum', y='revenue', color='g', data=df_train)"
   ]
  },
  {
   "cell_type": "code",
   "execution_count": 1026,
   "metadata": {},
   "outputs": [],
   "source": [
    "df_train.drop(['crew'], axis=1, inplace=True)\n",
    "df_test.drop(['crew'], axis=1, inplace=True)"
   ]
  },
  {
   "cell_type": "code",
   "execution_count": 1027,
   "metadata": {},
   "outputs": [
    {
     "data": {
      "text/plain": [
       "['revenue', 'log_rev', 'genres_TV Movie']"
      ]
     },
     "execution_count": 1027,
     "metadata": {},
     "output_type": "execute_result"
    }
   ],
   "source": [
    "diff_col(df_train, df_test)"
   ]
  },
  {
   "cell_type": "code",
   "execution_count": 1041,
   "metadata": {},
   "outputs": [],
   "source": [
    "Drop = ['budget', 'genres', 'homepage', 'imdb_id', 'production_companies', 'production_countries',\n",
    "        'release_date', 'spoken_languages', 'status', 'cast','company_list',\n",
    "        'country_list', 'language_list','gender_list', 'genre_list']\n",
    "\n",
    "df_train.drop(Drop, axis=1, inplace=True)\n",
    "df_test.drop(Drop, axis=1, inplace=True)"
   ]
  },
  {
   "cell_type": "code",
   "execution_count": 1047,
   "metadata": {},
   "outputs": [],
   "source": [
    "df_train = pd.get_dummies(df_train, columns=['original_language'])\n",
    "df_test = pd.get_dummies(df_test, columns=['original_language'])"
   ]
  },
  {
   "cell_type": "code",
   "execution_count": 1050,
   "metadata": {},
   "outputs": [],
   "source": [
    "Drop = ['original_language_ar','original_language_nb', 'original_language_vi', 'original_language_fa','original_language_mr']\n",
    "\n",
    "df_train.drop(Drop, axis=1, inplace=True)\n",
    "\n",
    "Drop = ['original_language_af', 'original_language_bm', 'original_language_ca',\n",
    "        'original_language_is', 'original_language_ka', 'original_language_kn',\n",
    "        'original_language_th', 'original_language_xx',]\n",
    "\n",
    "df_test.drop(Drop, axis=1, inplace=True)"
   ]
  },
  {
   "cell_type": "code",
   "execution_count": 1093,
   "metadata": {},
   "outputs": [
    {
     "name": "stdout",
     "output_type": "stream",
     "text": [
      "(3000, 59) (3000,) (4398, 59)\n"
     ]
    }
   ],
   "source": [
    "from sklearn.preprocessing import StandardScaler\n",
    "sc = StandardScaler()\n",
    "\n",
    "\n",
    "train = df_train.drop(['id', 'revenue', 'genre_list', 'log_rev'], axis=1)\n",
    "test = df_test.drop(['id', 'genre_list'], axis=1)\n",
    "train_ = df_train['revenue']\n",
    "\n",
    "X_train = sc.fit_transform(train.values).astype(np.float32)\n",
    "X_test = sc.fit_transform(test.values).astype(np.float32)\n",
    "t_train = train_.values.astype(np.float32)\n",
    "\n",
    "print(X_train.shape, y_train.shape, X_test.shape)"
   ]
  },
  {
   "cell_type": "code",
   "execution_count": 1094,
   "metadata": {},
   "outputs": [],
   "source": [
    "from sklearn.model_selection import train_test_split\n",
    "\n",
    "X_train, X_val, t_train, t_val = train_test_split(X_train, t_train, test_size=0.3, random_state=0)"
   ]
  },
  {
   "cell_type": "code",
   "execution_count": 1095,
   "metadata": {},
   "outputs": [],
   "source": [
    "import chainer\n",
    "import chainer.links as L\n",
    "import chainer.functions as F\n",
    "from chainer import Sequential\n",
    "\n",
    "n_input = X_train.shape[1]\n",
    "n_hidden1 = X_train.shape[1]*10\n",
    "n_hidden2 = 100\n",
    "n_output = 1\n",
    "\n",
    "net = Sequential(\n",
    "    L.Linear(n_input, n_hidden1), F.relu,\n",
    "    L.Linear(n_hidden1, n_hidden2), F.relu,\n",
    "    L.Linear(n_hidden2, n_output)\n",
    ")"
   ]
  },
  {
   "cell_type": "code",
   "execution_count": 1096,
   "metadata": {},
   "outputs": [
    {
     "data": {
      "text/plain": [
       "<chainer.optimizers.adam.Adam at 0x7f0451fcaf98>"
      ]
     },
     "execution_count": 1096,
     "metadata": {},
     "output_type": "execute_result"
    }
   ],
   "source": [
    "optimizer = chainer.optimizers.Adam()\n",
    "optimizer.setup(net)"
   ]
  },
  {
   "cell_type": "code",
   "execution_count": 1097,
   "metadata": {},
   "outputs": [],
   "source": [
    "n_epoch = 100\n",
    "n_batchsize = 100"
   ]
  },
  {
   "cell_type": "markdown",
   "metadata": {},
   "source": [
    "iteration = 0\n",
    "\n",
    "# ログの保存用\n",
    "results_train = {\n",
    "    'loss': [],\n",
    "    'accuracy': []\n",
    "}\n",
    "results_valid = {\n",
    "    'loss': [],\n",
    "    'accuracy': []\n",
    "}\n",
    "\n",
    "\n",
    "for epoch in range(n_epoch):\n",
    "\n",
    "    # データセット並べ替えた順番を取得\n",
    "    order = np.random.permutation(range(len(X_train)))\n",
    "\n",
    "    # 各バッチ毎の目的関数の出力と分類精度の保存用\n",
    "    loss_list = []\n",
    "    accuracy_list = []\n",
    "\n",
    "    for i in range(0, len(order), n_batchsize):\n",
    "        # バッチを準備\n",
    "        index = order[i:i+n_batchsize]\n",
    "        X_train_batch = X_train[index,:]\n",
    "        t_train_batch = t_train[index]\n",
    "        t_train_batch = t_train_batch.reshape(100, 1)\n",
    "        print(t_train_batch.shape)\n",
    "        \n",
    "        \n",
    "        # 予測値を出力\n",
    "        y_train_batch = net(X_train_batch)\n",
    "\n",
    "        # 目的関数を適用し、分類精度を計算\n",
    "        loss_train_batch = F.mean_squared_error(y_train_batch, t_train_batch)\n",
    "        accuracy_train_batch = F.accuracy(y_train_batch, t_train_batch)\n",
    "\n",
    "        loss_list.append(loss_train_batch.array)\n",
    "        accuracy_list.append(accuracy_train_batch.array)\n",
    "\n",
    "        # 勾配のリセットと勾配の計算\n",
    "        net.cleargrads()\n",
    "        loss_train_batch.backward()\n",
    "\n",
    "        # パラメータの更新\n",
    "        optimizer.update()\n",
    "\n",
    "        # カウントアップ\n",
    "        iteration += 1\n",
    "\n",
    "    # 訓練データに対する目的関数の出力と分類精度を集計\n",
    "    loss_train = np.mean(loss_list)\n",
    "    accuracy_train = np.mean(accuracy_list)\n",
    "\n",
    "    # 1エポック終えたら、検証データで評価\n",
    "    # 検証データで予測値を出力\n",
    "    with chainer.using_config('train', False), chainer.using_config('enable_backprop', False):\n",
    "        y_val = net(X_val)\n",
    "\n",
    "    # 目的関数を適用し、分類精度を計算\n",
    "    loss_val = F.mean_squared_error(y_val, t_val)\n",
    "    accuracy_val = F.accuracy(y_val, t_val)\n",
    "\n",
    "    # 結果の表示\n",
    "    print('epoch: {}, iteration: {}, loss (train): {:.4f}, loss (valid): {:.4f}'.format(\n",
    "        epoch, iteration, loss_train, loss_val.array))\n",
    "\n",
    "    # ログを保存\n",
    "    results_train['loss'] .append(loss_train)\n",
    "    results_train['accuracy'] .append(accuracy_train)\n",
    "    results_valid['loss'].append(loss_val.array)\n",
    "    results_valid['accuracy'].append(accuracy_val.array)"
   ]
  },
  {
   "cell_type": "code",
   "execution_count": null,
   "metadata": {},
   "outputs": [],
   "source": []
  }
 ],
 "metadata": {
  "kernelspec": {
   "display_name": "Python 3",
   "language": "python",
   "name": "python3"
  },
  "language_info": {
   "codemirror_mode": {
    "name": "ipython",
    "version": 3
   },
   "file_extension": ".py",
   "mimetype": "text/x-python",
   "name": "python",
   "nbconvert_exporter": "python",
   "pygments_lexer": "ipython3",
   "version": "3.6.7"
  }
 },
 "nbformat": 4,
 "nbformat_minor": 2
}
