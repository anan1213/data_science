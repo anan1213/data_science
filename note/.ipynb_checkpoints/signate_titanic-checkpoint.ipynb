{
 "cells": [
  {
   "cell_type": "code",
   "execution_count": 1,
   "metadata": {},
   "outputs": [
    {
     "name": "stdout",
     "output_type": "stream",
     "text": [
      "['.DS_Store', 'train.tsv', 'output', 'test.tsv', '.ipynb_checkpoints']\n"
     ]
    }
   ],
   "source": [
    "import pandas as pd\n",
    "import numpy as np\n",
    "import matplotlib.pyplot as plt\n",
    "import seaborn as sns\n",
    "import os\n",
    "\n",
    "import warnings\n",
    "warnings.filterwarnings('ignore')\n",
    "\n",
    "from IPython.display import display\n",
    "\n",
    "print(os.listdir('../data/signate_titanic'))"
   ]
  },
  {
   "cell_type": "code",
   "execution_count": 2,
   "metadata": {},
   "outputs": [],
   "source": [
    "df_train = pd.read_csv('../data/signate_titanic/train.tsv', delimiter='\\t')\n",
    "df_test = pd.read_csv('../data/signate_titanic/test.tsv', delimiter='\\t')"
   ]
  },
  {
   "cell_type": "code",
   "execution_count": 3,
   "metadata": {},
   "outputs": [
    {
     "data": {
      "text/html": [
       "<div>\n",
       "<style scoped>\n",
       "    .dataframe tbody tr th:only-of-type {\n",
       "        vertical-align: middle;\n",
       "    }\n",
       "\n",
       "    .dataframe tbody tr th {\n",
       "        vertical-align: top;\n",
       "    }\n",
       "\n",
       "    .dataframe thead th {\n",
       "        text-align: right;\n",
       "    }\n",
       "</style>\n",
       "<table border=\"1\" class=\"dataframe\">\n",
       "  <thead>\n",
       "    <tr style=\"text-align: right;\">\n",
       "      <th></th>\n",
       "      <th>id</th>\n",
       "      <th>survived</th>\n",
       "      <th>pclass</th>\n",
       "      <th>sex</th>\n",
       "      <th>age</th>\n",
       "      <th>sibsp</th>\n",
       "      <th>parch</th>\n",
       "      <th>fare</th>\n",
       "      <th>embarked</th>\n",
       "    </tr>\n",
       "  </thead>\n",
       "  <tbody>\n",
       "    <tr>\n",
       "      <th>0</th>\n",
       "      <td>3</td>\n",
       "      <td>1</td>\n",
       "      <td>1</td>\n",
       "      <td>female</td>\n",
       "      <td>35.0</td>\n",
       "      <td>1</td>\n",
       "      <td>0</td>\n",
       "      <td>53.1000</td>\n",
       "      <td>S</td>\n",
       "    </tr>\n",
       "    <tr>\n",
       "      <th>1</th>\n",
       "      <td>4</td>\n",
       "      <td>0</td>\n",
       "      <td>3</td>\n",
       "      <td>male</td>\n",
       "      <td>35.0</td>\n",
       "      <td>0</td>\n",
       "      <td>0</td>\n",
       "      <td>8.0500</td>\n",
       "      <td>S</td>\n",
       "    </tr>\n",
       "    <tr>\n",
       "      <th>2</th>\n",
       "      <td>7</td>\n",
       "      <td>0</td>\n",
       "      <td>3</td>\n",
       "      <td>male</td>\n",
       "      <td>2.0</td>\n",
       "      <td>3</td>\n",
       "      <td>1</td>\n",
       "      <td>21.0750</td>\n",
       "      <td>S</td>\n",
       "    </tr>\n",
       "    <tr>\n",
       "      <th>3</th>\n",
       "      <td>9</td>\n",
       "      <td>1</td>\n",
       "      <td>2</td>\n",
       "      <td>female</td>\n",
       "      <td>14.0</td>\n",
       "      <td>1</td>\n",
       "      <td>0</td>\n",
       "      <td>30.0708</td>\n",
       "      <td>C</td>\n",
       "    </tr>\n",
       "    <tr>\n",
       "      <th>4</th>\n",
       "      <td>11</td>\n",
       "      <td>1</td>\n",
       "      <td>1</td>\n",
       "      <td>female</td>\n",
       "      <td>58.0</td>\n",
       "      <td>0</td>\n",
       "      <td>0</td>\n",
       "      <td>26.5500</td>\n",
       "      <td>S</td>\n",
       "    </tr>\n",
       "  </tbody>\n",
       "</table>\n",
       "</div>"
      ],
      "text/plain": [
       "   id  survived  pclass     sex   age  sibsp  parch     fare embarked\n",
       "0   3         1       1  female  35.0      1      0  53.1000        S\n",
       "1   4         0       3    male  35.0      0      0   8.0500        S\n",
       "2   7         0       3    male   2.0      3      1  21.0750        S\n",
       "3   9         1       2  female  14.0      1      0  30.0708        C\n",
       "4  11         1       1  female  58.0      0      0  26.5500        S"
      ]
     },
     "execution_count": 3,
     "metadata": {},
     "output_type": "execute_result"
    }
   ],
   "source": [
    "df_train.head()"
   ]
  },
  {
   "cell_type": "code",
   "execution_count": 4,
   "metadata": {},
   "outputs": [
    {
     "data": {
      "text/plain": [
       "id           0\n",
       "survived     0\n",
       "pclass       0\n",
       "sex          0\n",
       "age         85\n",
       "sibsp        0\n",
       "parch        0\n",
       "fare         0\n",
       "embarked     2\n",
       "dtype: int64"
      ]
     },
     "execution_count": 4,
     "metadata": {},
     "output_type": "execute_result"
    }
   ],
   "source": [
    "df_train.isnull().sum()"
   ]
  },
  {
   "cell_type": "code",
   "execution_count": 5,
   "metadata": {},
   "outputs": [
    {
     "data": {
      "text/plain": [
       "id           0\n",
       "pclass       0\n",
       "sex          0\n",
       "age         92\n",
       "sibsp        0\n",
       "parch        0\n",
       "fare         0\n",
       "embarked     0\n",
       "dtype: int64"
      ]
     },
     "execution_count": 5,
     "metadata": {},
     "output_type": "execute_result"
    }
   ],
   "source": [
    "df_test.isnull().sum()"
   ]
  },
  {
   "cell_type": "code",
   "execution_count": 6,
   "metadata": {},
   "outputs": [],
   "source": [
    "df_train['age'] = df_train['age'].fillna(100)\n",
    "df_test['age'] = df_test['age'].fillna(100)"
   ]
  },
  {
   "cell_type": "code",
   "execution_count": 10,
   "metadata": {},
   "outputs": [
    {
     "data": {
      "text/html": [
       "<div>\n",
       "<style scoped>\n",
       "    .dataframe tbody tr th:only-of-type {\n",
       "        vertical-align: middle;\n",
       "    }\n",
       "\n",
       "    .dataframe tbody tr th {\n",
       "        vertical-align: top;\n",
       "    }\n",
       "\n",
       "    .dataframe thead th {\n",
       "        text-align: right;\n",
       "    }\n",
       "</style>\n",
       "<table border=\"1\" class=\"dataframe\">\n",
       "  <thead>\n",
       "    <tr style=\"text-align: right;\">\n",
       "      <th></th>\n",
       "      <th>id</th>\n",
       "      <th>survived</th>\n",
       "      <th>pclass</th>\n",
       "      <th>sex</th>\n",
       "      <th>age</th>\n",
       "      <th>sibsp</th>\n",
       "      <th>parch</th>\n",
       "      <th>fare</th>\n",
       "      <th>embarked</th>\n",
       "    </tr>\n",
       "  </thead>\n",
       "  <tbody>\n",
       "  </tbody>\n",
       "</table>\n",
       "</div>"
      ],
      "text/plain": [
       "Empty DataFrame\n",
       "Columns: [id, survived, pclass, sex, age, sibsp, parch, fare, embarked]\n",
       "Index: []"
      ]
     },
     "metadata": {},
     "output_type": "display_data"
    }
   ],
   "source": [
    "display(df_train[df_train['embarked'].isnull()])"
   ]
  },
  {
   "cell_type": "code",
   "execution_count": 11,
   "metadata": {},
   "outputs": [],
   "source": [
    "df_train['embarked'] = df_train['embarked'].fillna('S')"
   ]
  },
  {
   "cell_type": "code",
   "execution_count": 12,
   "metadata": {},
   "outputs": [
    {
     "name": "stdout",
     "output_type": "stream",
     "text": [
      "survived    0   1\n",
      "pclass           \n",
      "1          34  74\n",
      "2          54  43\n",
      "3         178  62\n"
     ]
    },
    {
     "data": {
      "image/png": "[encoded data removed]",
      "text/plain": [
       "<Figure size 864x360 with 1 Axes>"
      ]
     },
     "metadata": {
      "needs_background": "light"
     },
     "output_type": "display_data"
    }
   ],
   "source": [
    "print(pd.crosstab(df_train['pclass'], df_train['survived']))\n",
    "\n",
    "plt.figure(figsize=(12, 5))\n",
    "sns.countplot(x='pclass', hue='survived', data=df_train, palette='hls')\n",
    "plt.title('pclass destribution by survived or not', fontsize=20)\n",
    "plt.xlabel('pclass', fontsize=12)\n",
    "plt.ylabel('Counts', fontsize=12)\n",
    "\n",
    "plt.show()"
   ]
  },
  {
   "cell_type": "code",
   "execution_count": 13,
   "metadata": {},
   "outputs": [
    {
     "data": {
      "text/plain": [
       "count    445.000000\n",
       "mean      42.732966\n",
       "std       30.627822\n",
       "min        0.670000\n",
       "25%       22.000000\n",
       "50%       32.000000\n",
       "75%       50.000000\n",
       "max      100.000000\n",
       "Name: age, dtype: float64"
      ]
     },
     "execution_count": 13,
     "metadata": {},
     "output_type": "execute_result"
    }
   ],
   "source": [
    "df_train['age'].describe()"
   ]
  },
  {
   "cell_type": "code",
   "execution_count": 14,
   "metadata": {},
   "outputs": [],
   "source": [
    "interval = (0, 5, 12, 18, 24, 60, 100)\n",
    "label_name = ['baby', 'child', 'yaung', 'student', 'adult', 'senior']\n",
    "\n",
    "df_train['age'] = pd.cut(df_train['age'], interval, labels=label_name)\n",
    "df_test['age'] = pd.cut(df_test['age'], interval, labels=label_name)"
   ]
  },
  {
   "cell_type": "code",
   "execution_count": 15,
   "metadata": {},
   "outputs": [
    {
     "data": {
      "text/html": [
       "<div>\n",
       "<style scoped>\n",
       "    .dataframe tbody tr th:only-of-type {\n",
       "        vertical-align: middle;\n",
       "    }\n",
       "\n",
       "    .dataframe tbody tr th {\n",
       "        vertical-align: top;\n",
       "    }\n",
       "\n",
       "    .dataframe thead th {\n",
       "        text-align: right;\n",
       "    }\n",
       "</style>\n",
       "<table border=\"1\" class=\"dataframe\">\n",
       "  <thead>\n",
       "    <tr style=\"text-align: right;\">\n",
       "      <th></th>\n",
       "      <th>id</th>\n",
       "      <th>survived</th>\n",
       "      <th>pclass</th>\n",
       "      <th>sex</th>\n",
       "      <th>age</th>\n",
       "      <th>sibsp</th>\n",
       "      <th>parch</th>\n",
       "      <th>fare</th>\n",
       "      <th>embarked</th>\n",
       "    </tr>\n",
       "  </thead>\n",
       "  <tbody>\n",
       "    <tr>\n",
       "      <th>0</th>\n",
       "      <td>3</td>\n",
       "      <td>1</td>\n",
       "      <td>1</td>\n",
       "      <td>female</td>\n",
       "      <td>adult</td>\n",
       "      <td>1</td>\n",
       "      <td>0</td>\n",
       "      <td>53.1000</td>\n",
       "      <td>S</td>\n",
       "    </tr>\n",
       "    <tr>\n",
       "      <th>1</th>\n",
       "      <td>4</td>\n",
       "      <td>0</td>\n",
       "      <td>3</td>\n",
       "      <td>male</td>\n",
       "      <td>adult</td>\n",
       "      <td>0</td>\n",
       "      <td>0</td>\n",
       "      <td>8.0500</td>\n",
       "      <td>S</td>\n",
       "    </tr>\n",
       "    <tr>\n",
       "      <th>2</th>\n",
       "      <td>7</td>\n",
       "      <td>0</td>\n",
       "      <td>3</td>\n",
       "      <td>male</td>\n",
       "      <td>baby</td>\n",
       "      <td>3</td>\n",
       "      <td>1</td>\n",
       "      <td>21.0750</td>\n",
       "      <td>S</td>\n",
       "    </tr>\n",
       "    <tr>\n",
       "      <th>3</th>\n",
       "      <td>9</td>\n",
       "      <td>1</td>\n",
       "      <td>2</td>\n",
       "      <td>female</td>\n",
       "      <td>yaung</td>\n",
       "      <td>1</td>\n",
       "      <td>0</td>\n",
       "      <td>30.0708</td>\n",
       "      <td>C</td>\n",
       "    </tr>\n",
       "    <tr>\n",
       "      <th>4</th>\n",
       "      <td>11</td>\n",
       "      <td>1</td>\n",
       "      <td>1</td>\n",
       "      <td>female</td>\n",
       "      <td>adult</td>\n",
       "      <td>0</td>\n",
       "      <td>0</td>\n",
       "      <td>26.5500</td>\n",
       "      <td>S</td>\n",
       "    </tr>\n",
       "  </tbody>\n",
       "</table>\n",
       "</div>"
      ],
      "text/plain": [
       "   id  survived  pclass     sex    age  sibsp  parch     fare embarked\n",
       "0   3         1       1  female  adult      1      0  53.1000        S\n",
       "1   4         0       3    male  adult      0      0   8.0500        S\n",
       "2   7         0       3    male   baby      3      1  21.0750        S\n",
       "3   9         1       2  female  yaung      1      0  30.0708        C\n",
       "4  11         1       1  female  adult      0      0  26.5500        S"
      ]
     },
     "execution_count": 15,
     "metadata": {},
     "output_type": "execute_result"
    }
   ],
   "source": [
    "df_train.head()"
   ]
  },
  {
   "cell_type": "code",
   "execution_count": 16,
   "metadata": {},
   "outputs": [],
   "source": [
    "df_train['family'] = df_train['sibsp'] * df_train['parch'] + 1\n",
    "df_test['family'] = df_test['sibsp'] * df_test['parch'] + 1"
   ]
  },
  {
   "cell_type": "code",
   "execution_count": 17,
   "metadata": {},
   "outputs": [
    {
     "data": {
      "text/plain": [
       "count    445.000000\n",
       "mean      33.959971\n",
       "std       52.079492\n",
       "min        0.000000\n",
       "25%        7.925000\n",
       "50%       15.000000\n",
       "75%       31.387500\n",
       "max      512.329200\n",
       "Name: fare, dtype: float64"
      ]
     },
     "execution_count": 17,
     "metadata": {},
     "output_type": "execute_result"
    }
   ],
   "source": [
    "df_train['fare'].describe()"
   ]
  },
  {
   "cell_type": "code",
   "execution_count": 18,
   "metadata": {},
   "outputs": [],
   "source": [
    "interval = (-1, 8, 15, 32, 600)\n",
    "label_name = ['first', 'second', 'third', 'forth']\n",
    "\n",
    "df_train['fare'] = pd.cut(df_train['fare'], interval, labels=label_name)\n",
    "df_test['fare'] = pd.cut(df_test['fare'], interval, labels=label_name)"
   ]
  },
  {
   "cell_type": "code",
   "execution_count": 19,
   "metadata": {},
   "outputs": [],
   "source": [
    "columns = ['pclass', 'sex', 'age', 'fare', 'embarked']\n",
    "prefix = ['pclass', 'sex', 'age', 'fare', 'emb']\n",
    "\n",
    "df_train = pd.get_dummies(df_train, columns=columns, prefix=prefix)\n",
    "df_test = pd.get_dummies(df_test, columns=columns, prefix=prefix)"
   ]
  },
  {
   "cell_type": "code",
   "execution_count": 20,
   "metadata": {},
   "outputs": [],
   "source": [
    "Drop_train = ['id', 'survived', 'sibsp', 'parch']\n",
    "Drop_test = ['id', 'sibsp', 'parch']"
   ]
  },
  {
   "cell_type": "code",
   "execution_count": 21,
   "metadata": {},
   "outputs": [
    {
     "name": "stdout",
     "output_type": "stream",
     "text": [
      "(445, 23) (446, 22)\n"
     ]
    }
   ],
   "source": [
    "print(df_train.shape, df_test.shape)"
   ]
  },
  {
   "cell_type": "code",
   "execution_count": 22,
   "metadata": {},
   "outputs": [],
   "source": [
    "train = df_train.drop(Drop_train, axis=1)\n",
    "train_ = df_train['survived']\n",
    "test = df_test.drop(Drop_test, axis=1)\n",
    "\n",
    "X_train = train.values\n",
    "y_train = train_.values\n",
    "X_test = test.values\n",
    "X_test = X_test.astype(np.float, copy=False)"
   ]
  },
  {
   "cell_type": "code",
   "execution_count": 23,
   "metadata": {},
   "outputs": [
    {
     "name": "stdout",
     "output_type": "stream",
     "text": [
      "(445, 19) (445,) (446, 19)\n"
     ]
    }
   ],
   "source": [
    "print(X_train.shape, y_train.shape, X_test.shape)"
   ]
  },
  {
   "cell_type": "code",
   "execution_count": 24,
   "metadata": {},
   "outputs": [],
   "source": [
    "from sklearn.preprocessing import StandardScaler\n",
    "sc = StandardScaler()\n",
    "X_train = sc.fit_transform(X_train)\n",
    "X_test = sc.fit_transform(X_test)"
   ]
  },
  {
   "cell_type": "code",
   "execution_count": 25,
   "metadata": {},
   "outputs": [
    {
     "name": "stderr",
     "output_type": "stream",
     "text": [
      "Using TensorFlow backend.\n"
     ]
    }
   ],
   "source": [
    "from keras.models import Sequential\n",
    "from keras.layers import Dense, Activation, Dropout\n",
    "import keras\n",
    "from keras.optimizers import Adam, SGD, RMSprop\n",
    "import graphviz"
   ]
  },
  {
   "cell_type": "code",
   "execution_count": 38,
   "metadata": {},
   "outputs": [
    {
     "name": "stdout",
     "output_type": "stream",
     "text": [
      "_________________________________________________________________\n",
      "Layer (type)                 Output Shape              Param #   \n",
      "=================================================================\n",
      "dense_4 (Dense)              (None, 100)               2000      \n",
      "_________________________________________________________________\n",
      "dropout_3 (Dropout)          (None, 100)               0         \n",
      "_________________________________________________________________\n",
      "dense_5 (Dense)              (None, 10)                1010      \n",
      "_________________________________________________________________\n",
      "dropout_4 (Dropout)          (None, 10)                0         \n",
      "_________________________________________________________________\n",
      "dense_6 (Dense)              (None, 1)                 11        \n",
      "=================================================================\n",
      "Total params: 3,021\n",
      "Trainable params: 3,021\n",
      "Non-trainable params: 0\n",
      "_________________________________________________________________\n"
     ]
    }
   ],
   "source": [
    "model = Sequential()\n",
    "\n",
    "model.add(Dense(100, activation='relu', input_dim=19, kernel_initializer='uniform'))\n",
    "model.add(Dropout(0.5))\n",
    "model.add(Dense(10, activation='relu',kernel_initializer='uniform'))\n",
    "model.add(Dropout(0.5))\n",
    "model.add(Dense(1, activation='sigmoid', kernel_initializer='uniform'))\n",
    "\n",
    "model.summary()"
   ]
  },
  {
   "cell_type": "code",
   "execution_count": 41,
   "metadata": {},
   "outputs": [
    {
     "name": "stdout",
     "output_type": "stream",
     "text": [
      "Epoch 1/100\n",
      "445/445 [==============================] - 1s 1ms/step - loss: 0.3993 - acc: 0.8517\n",
      "Epoch 2/100\n",
      "445/445 [==============================] - 0s 223us/step - loss: 0.3592 - acc: 0.8539\n",
      "Epoch 3/100\n",
      "445/445 [==============================] - 0s 235us/step - loss: 0.3961 - acc: 0.8382\n",
      "Epoch 4/100\n",
      "445/445 [==============================] - 0s 273us/step - loss: 0.3874 - acc: 0.8562\n",
      "Epoch 5/100\n",
      "445/445 [==============================] - 0s 256us/step - loss: 0.3557 - acc: 0.8562\n",
      "Epoch 6/100\n",
      "445/445 [==============================] - 0s 227us/step - loss: 0.3819 - acc: 0.8562\n",
      "Epoch 7/100\n",
      "445/445 [==============================] - 0s 200us/step - loss: 0.3606 - acc: 0.8607\n",
      "Epoch 8/100\n",
      "445/445 [==============================] - 0s 212us/step - loss: 0.3582 - acc: 0.8562\n",
      "Epoch 9/100\n",
      "445/445 [==============================] - 0s 231us/step - loss: 0.3749 - acc: 0.8652\n",
      "Epoch 10/100\n",
      "445/445 [==============================] - 0s 283us/step - loss: 0.3706 - acc: 0.8629\n",
      "Epoch 11/100\n",
      "445/445 [==============================] - 0s 317us/step - loss: 0.3873 - acc: 0.8539\n",
      "Epoch 12/100\n",
      "445/445 [==============================] - 0s 245us/step - loss: 0.3804 - acc: 0.8472\n",
      "Epoch 13/100\n",
      "445/445 [==============================] - 0s 214us/step - loss: 0.3765 - acc: 0.8539\n",
      "Epoch 14/100\n",
      "445/445 [==============================] - 0s 222us/step - loss: 0.3574 - acc: 0.8539\n",
      "Epoch 15/100\n",
      "445/445 [==============================] - 0s 191us/step - loss: 0.3704 - acc: 0.8494\n",
      "Epoch 16/100\n",
      "445/445 [==============================] - 0s 213us/step - loss: 0.3654 - acc: 0.8539\n",
      "Epoch 17/100\n",
      "445/445 [==============================] - ETA: 0s - loss: 0.4117 - acc: 0.848 - 0s 236us/step - loss: 0.4037 - acc: 0.8449\n",
      "Epoch 18/100\n",
      "445/445 [==============================] - 0s 265us/step - loss: 0.3981 - acc: 0.8449\n",
      "Epoch 19/100\n",
      "445/445 [==============================] - 0s 230us/step - loss: 0.3711 - acc: 0.8607\n",
      "Epoch 20/100\n",
      "445/445 [==============================] - 0s 201us/step - loss: 0.3887 - acc: 0.8449\n",
      "Epoch 21/100\n",
      "445/445 [==============================] - 0s 234us/step - loss: 0.3696 - acc: 0.8472\n",
      "Epoch 22/100\n",
      "445/445 [==============================] - 0s 205us/step - loss: 0.3640 - acc: 0.8404\n",
      "Epoch 23/100\n",
      "445/445 [==============================] - 0s 229us/step - loss: 0.3530 - acc: 0.8652\n",
      "Epoch 24/100\n",
      "445/445 [==============================] - 0s 216us/step - loss: 0.3555 - acc: 0.8427\n",
      "Epoch 25/100\n",
      "445/445 [==============================] - 0s 220us/step - loss: 0.3763 - acc: 0.8607\n",
      "Epoch 26/100\n",
      "445/445 [==============================] - 0s 232us/step - loss: 0.3692 - acc: 0.8562\n",
      "Epoch 27/100\n",
      "445/445 [==============================] - 0s 248us/step - loss: 0.3644 - acc: 0.8472\n",
      "Epoch 28/100\n",
      "445/445 [==============================] - 0s 239us/step - loss: 0.3788 - acc: 0.8472\n",
      "Epoch 29/100\n",
      "445/445 [==============================] - 0s 185us/step - loss: 0.3712 - acc: 0.8674\n",
      "Epoch 30/100\n",
      "445/445 [==============================] - 0s 227us/step - loss: 0.3800 - acc: 0.8517\n",
      "Epoch 31/100\n",
      "445/445 [==============================] - 0s 241us/step - loss: 0.3536 - acc: 0.8719\n",
      "Epoch 32/100\n",
      "445/445 [==============================] - 0s 189us/step - loss: 0.3595 - acc: 0.8764\n",
      "Epoch 33/100\n",
      "445/445 [==============================] - 0s 227us/step - loss: 0.3595 - acc: 0.8539\n",
      "Epoch 34/100\n",
      "445/445 [==============================] - 0s 210us/step - loss: 0.3622 - acc: 0.8404\n",
      "Epoch 35/100\n",
      "445/445 [==============================] - 0s 250us/step - loss: 0.3714 - acc: 0.8652\n",
      "Epoch 36/100\n",
      "445/445 [==============================] - 0s 224us/step - loss: 0.3617 - acc: 0.8427\n",
      "Epoch 37/100\n",
      "445/445 [==============================] - 0s 230us/step - loss: 0.3688 - acc: 0.8584\n",
      "Epoch 38/100\n",
      "445/445 [==============================] - 0s 212us/step - loss: 0.3648 - acc: 0.8607\n",
      "Epoch 39/100\n",
      "445/445 [==============================] - 0s 256us/step - loss: 0.3793 - acc: 0.8449\n",
      "Epoch 40/100\n",
      "445/445 [==============================] - 0s 235us/step - loss: 0.3675 - acc: 0.8517\n",
      "Epoch 41/100\n",
      "445/445 [==============================] - 0s 225us/step - loss: 0.3508 - acc: 0.8607\n",
      "Epoch 42/100\n",
      "445/445 [==============================] - 0s 228us/step - loss: 0.3590 - acc: 0.8607\n",
      "Epoch 43/100\n",
      "445/445 [==============================] - 0s 229us/step - loss: 0.3485 - acc: 0.8562\n",
      "Epoch 44/100\n",
      "445/445 [==============================] - 0s 202us/step - loss: 0.3682 - acc: 0.8539\n",
      "Epoch 45/100\n",
      "445/445 [==============================] - 0s 229us/step - loss: 0.3456 - acc: 0.8539\n",
      "Epoch 46/100\n",
      "445/445 [==============================] - 0s 272us/step - loss: 0.3622 - acc: 0.8449\n",
      "Epoch 47/100\n",
      "445/445 [==============================] - 0s 226us/step - loss: 0.3529 - acc: 0.8584\n",
      "Epoch 48/100\n",
      "445/445 [==============================] - 0s 225us/step - loss: 0.3755 - acc: 0.8584\n",
      "Epoch 49/100\n",
      "445/445 [==============================] - 0s 234us/step - loss: 0.3263 - acc: 0.8652\n",
      "Epoch 50/100\n",
      "445/445 [==============================] - 0s 199us/step - loss: 0.3628 - acc: 0.8472\n",
      "Epoch 51/100\n",
      "445/445 [==============================] - 0s 232us/step - loss: 0.3213 - acc: 0.8607\n",
      "Epoch 52/100\n",
      "445/445 [==============================] - 0s 253us/step - loss: 0.3560 - acc: 0.8629\n",
      "Epoch 53/100\n",
      "445/445 [==============================] - 0s 316us/step - loss: 0.3516 - acc: 0.8629\n",
      "Epoch 54/100\n",
      "445/445 [==============================] - 0s 316us/step - loss: 0.3366 - acc: 0.8562\n",
      "Epoch 55/100\n",
      "445/445 [==============================] - 0s 329us/step - loss: 0.3143 - acc: 0.8742\n",
      "Epoch 56/100\n",
      "445/445 [==============================] - 0s 273us/step - loss: 0.3407 - acc: 0.8674\n",
      "Epoch 57/100\n",
      "445/445 [==============================] - 0s 220us/step - loss: 0.3393 - acc: 0.8607\n",
      "Epoch 58/100\n",
      "445/445 [==============================] - 0s 201us/step - loss: 0.3356 - acc: 0.8674\n",
      "Epoch 59/100\n",
      "445/445 [==============================] - 0s 229us/step - loss: 0.3709 - acc: 0.8427\n",
      "Epoch 60/100\n",
      "445/445 [==============================] - 0s 273us/step - loss: 0.3335 - acc: 0.8584\n",
      "Epoch 61/100\n",
      "445/445 [==============================] - 0s 302us/step - loss: 0.3460 - acc: 0.8562\n",
      "Epoch 62/100\n",
      "445/445 [==============================] - 0s 250us/step - loss: 0.3434 - acc: 0.8652\n",
      "Epoch 63/100\n",
      "445/445 [==============================] - 0s 214us/step - loss: 0.3503 - acc: 0.8629\n",
      "Epoch 64/100\n",
      "445/445 [==============================] - 0s 226us/step - loss: 0.3386 - acc: 0.8719\n",
      "Epoch 65/100\n",
      "445/445 [==============================] - 0s 234us/step - loss: 0.3242 - acc: 0.8674\n",
      "Epoch 66/100\n",
      "445/445 [==============================] - 0s 191us/step - loss: 0.3822 - acc: 0.8494\n",
      "Epoch 67/100\n",
      "445/445 [==============================] - 0s 157us/step - loss: 0.3407 - acc: 0.8652\n",
      "Epoch 68/100\n",
      "445/445 [==============================] - 0s 159us/step - loss: 0.3443 - acc: 0.8517\n",
      "Epoch 69/100\n",
      "445/445 [==============================] - 0s 161us/step - loss: 0.3764 - acc: 0.8449\n",
      "Epoch 70/100\n",
      "445/445 [==============================] - 0s 316us/step - loss: 0.3567 - acc: 0.8494\n",
      "Epoch 71/100\n",
      "445/445 [==============================] - 0s 306us/step - loss: 0.3394 - acc: 0.8652\n",
      "Epoch 72/100\n",
      "445/445 [==============================] - 0s 240us/step - loss: 0.3392 - acc: 0.8719\n",
      "Epoch 73/100\n",
      "445/445 [==============================] - 0s 267us/step - loss: 0.3420 - acc: 0.8652\n",
      "Epoch 74/100\n",
      "445/445 [==============================] - 0s 231us/step - loss: 0.3384 - acc: 0.8652\n",
      "Epoch 75/100\n",
      "445/445 [==============================] - 0s 252us/step - loss: 0.3500 - acc: 0.8652\n",
      "Epoch 76/100\n",
      "445/445 [==============================] - 0s 264us/step - loss: 0.3585 - acc: 0.8517\n",
      "Epoch 77/100\n",
      "445/445 [==============================] - 0s 295us/step - loss: 0.3461 - acc: 0.8652\n",
      "Epoch 78/100\n",
      "445/445 [==============================] - 0s 269us/step - loss: 0.3441 - acc: 0.8629\n",
      "Epoch 79/100\n",
      "445/445 [==============================] - 0s 257us/step - loss: 0.3383 - acc: 0.8629\n",
      "Epoch 80/100\n",
      "445/445 [==============================] - 0s 267us/step - loss: 0.3499 - acc: 0.8629\n",
      "Epoch 81/100\n",
      "445/445 [==============================] - 0s 318us/step - loss: 0.3305 - acc: 0.8652\n",
      "Epoch 82/100\n",
      "445/445 [==============================] - 0s 282us/step - loss: 0.3343 - acc: 0.8562\n",
      "Epoch 83/100\n"
     ]
    },
    {
     "name": "stdout",
     "output_type": "stream",
     "text": [
      "445/445 [==============================] - 0s 258us/step - loss: 0.3599 - acc: 0.8449\n",
      "Epoch 84/100\n",
      "445/445 [==============================] - 0s 184us/step - loss: 0.3425 - acc: 0.8562\n",
      "Epoch 85/100\n",
      "445/445 [==============================] - 0s 163us/step - loss: 0.3376 - acc: 0.8674\n",
      "Epoch 86/100\n",
      "445/445 [==============================] - 0s 157us/step - loss: 0.3494 - acc: 0.8697\n",
      "Epoch 87/100\n",
      "445/445 [==============================] - 0s 162us/step - loss: 0.3479 - acc: 0.8562\n",
      "Epoch 88/100\n",
      "445/445 [==============================] - 0s 161us/step - loss: 0.3448 - acc: 0.8494\n",
      "Epoch 89/100\n",
      "445/445 [==============================] - 0s 165us/step - loss: 0.3408 - acc: 0.8607\n",
      "Epoch 90/100\n",
      "445/445 [==============================] - 0s 228us/step - loss: 0.3389 - acc: 0.8697\n",
      "Epoch 91/100\n",
      "445/445 [==============================] - 0s 371us/step - loss: 0.3421 - acc: 0.8719\n",
      "Epoch 92/100\n",
      "445/445 [==============================] - 0s 291us/step - loss: 0.3356 - acc: 0.8719\n",
      "Epoch 93/100\n",
      "445/445 [==============================] - 0s 197us/step - loss: 0.3384 - acc: 0.8494\n",
      "Epoch 94/100\n",
      "445/445 [==============================] - 0s 176us/step - loss: 0.3441 - acc: 0.8697\n",
      "Epoch 95/100\n",
      "445/445 [==============================] - 0s 195us/step - loss: 0.3383 - acc: 0.8539\n",
      "Epoch 96/100\n",
      "445/445 [==============================] - 0s 281us/step - loss: 0.3405 - acc: 0.8652\n",
      "Epoch 97/100\n",
      "445/445 [==============================] - 0s 347us/step - loss: 0.3365 - acc: 0.8697\n",
      "Epoch 98/100\n",
      "445/445 [==============================] - 0s 285us/step - loss: 0.3594 - acc: 0.8562\n",
      "Epoch 99/100\n",
      "445/445 [==============================] - 0s 215us/step - loss: 0.3267 - acc: 0.8674\n",
      "Epoch 100/100\n",
      "445/445 [==============================] - 0s 214us/step - loss: 0.3518 - acc: 0.8697\n"
     ]
    },
    {
     "data": {
      "text/plain": [
       "<keras.callbacks.History at 0x133715f28>"
      ]
     },
     "execution_count": 41,
     "metadata": {},
     "output_type": "execute_result"
    }
   ],
   "source": [
    "model.compile(optimizer=Adam(), loss='binary_crossentropy', metrics=['accuracy'])\n",
    "model.fit(X_train, y_train, batch_size=10, epochs=100, verbose=1)"
   ]
  },
  {
   "cell_type": "code",
   "execution_count": 42,
   "metadata": {},
   "outputs": [
    {
     "name": "stdout",
     "output_type": "stream",
     "text": [
      "445/445 [==============================] - 0s 271us/step\n",
      "acc : 88.09%\n"
     ]
    }
   ],
   "source": [
    "scores = model.evaluate(X_train, y_train, batch_size=40)\n",
    "print('%s : %.2f%%' % (model.metrics_names[1], scores[1]*100))"
   ]
  },
  {
   "cell_type": "code",
   "execution_count": 43,
   "metadata": {},
   "outputs": [
    {
     "name": "stdout",
     "output_type": "stream",
     "text": [
      "dict_keys(['val_loss', 'val_acc', 'loss', 'acc'])\n"
     ]
    }
   ],
   "source": [
    "history = model.fit(X_train, y_train, validation_split=0.2, epochs=180, batch_size=20, verbose=0)\n",
    "print(history.history.keys())"
   ]
  },
  {
   "cell_type": "code",
   "execution_count": 44,
   "metadata": {},
   "outputs": [
    {
     "data": {
      "image/png": "[encoded data removed]",
      "text/plain": [
       "<Figure size 432x288 with 1 Axes>"
      ]
     },
     "metadata": {
      "needs_background": "light"
     },
     "output_type": "display_data"
    }
   ],
   "source": [
    "plt.plot(history.history['acc'])\n",
    "plt.plot(history.history['val_acc'])\n",
    "plt.title('Model Acuuracy')\n",
    "plt.xlabel('Epochs')\n",
    "plt.ylabel('Accuracy')\n",
    "plt.legend(['train', 'test'], loc='upper left')\n",
    "plt.show()"
   ]
  },
  {
   "cell_type": "code",
   "execution_count": 45,
   "metadata": {},
   "outputs": [
    {
     "data": {
      "image/png": "[encoded data removed]",
      "text/plain": [
       "<Figure size 432x288 with 1 Axes>"
      ]
     },
     "metadata": {
      "needs_background": "light"
     },
     "output_type": "display_data"
    }
   ],
   "source": [
    "plt.plot(history.history['loss'])\n",
    "plt.plot(history.history['val_loss'])\n",
    "plt.title('Model loss')\n",
    "plt.xlabel('Epochs')\n",
    "plt.ylabel('loss')\n",
    "plt.legend(['train', 'test'], loc='upper left')\n",
    "plt.show()"
   ]
  },
  {
   "cell_type": "code",
   "execution_count": 46,
   "metadata": {},
   "outputs": [],
   "source": [
    "predict = np.round(model.predict(X_test))\n",
    "\n",
    "df_out = pd.read_csv('../data/signate_titanic/test.tsv', delimiter='\\t')\n",
    "df_out['survived'] = predict\n",
    "#df_out['survived'] = df_out['survived'].map({1:0, 0:1})\n",
    "#df_out['survived'] = df_out['survived'].map({1:0, 0:1})\n",
    "\n",
    "df_out[['id', 'survived']].to_csv('../data/signate_titanic/output/deep.tsv', sep='\\t', index=False, header=False)"
   ]
  },
  {
   "cell_type": "code",
   "execution_count": 32,
   "metadata": {},
   "outputs": [],
   "source": [
    "from sklearn.metrics import accuracy_score, confusion_matrix, classification_report\n",
    "from sklearn.model_selection import cross_val_score\n",
    "from sklearn.preprocessing import LabelEncoder, StandardScaler\n",
    "from sklearn.pipeline import Pipeline\n",
    "\n",
    "from sklearn.model_selection import train_test_split, KFold, cross_validate\n",
    "from sklearn.metrics import accuracy_score\n",
    "\n",
    "from sklearn.cluster import KMeans\n",
    "from sklearn.decomposition import PCA\n",
    "from sklearn.svm import SVC\n",
    "from sklearn.linear_model import RidgeClassifier, SGDClassifier, LogisticRegression\n",
    "from sklearn.svm import SVC, LinearSVC\n",
    "from sklearn.neighbors import KNeighborsClassifier\n",
    "from sklearn.tree import DecisionTreeClassifier\n",
    "from xgboost import XGBClassifier\n",
    "from sklearn.naive_bayes import MultinomialNB\n",
    "from sklearn.feature_selection import SelectFromModel\n",
    "from sklearn.ensemble import RandomForestClassifier, GradientBoostingClassifier, ExtraTreesClassifier, BaggingClassifier, VotingClassifier, RandomTreesEmbedding"
   ]
  },
  {
   "cell_type": "code",
   "execution_count": 33,
   "metadata": {},
   "outputs": [
    {
     "name": "stdout",
     "output_type": "stream",
     "text": [
      "LogReg: 0.791002 (+/- 0.045846)\n",
      "XGBClassifier: 0.795396 (+/- 0.051218)\n",
      "KNN: 0.786582 (+/- 0.022955)\n",
      "DecisionTreeClassifier: 0.806708 (+/- 0.041161)\n",
      "RandomForestClassifier: 0.815520 (+/- 0.046417)\n",
      "GradientBoostingClassifier: 0.804461 (+/- 0.039404)\n",
      "RidgeClassifier: 0.793325 (+/- 0.042753)\n",
      "BaggingRidgeClassifier: 0.800016 (+/- 0.030377)\n",
      "ExtraTreesClassifier: 0.813273 (+/- 0.037490)\n"
     ]
    },
    {
     "data": {
      "image/png": "[encoded data removed]",
      "text/plain": [
       "<Figure size 1080x432 with 1 Axes>"
      ]
     },
     "metadata": {
      "needs_background": "light"
     },
     "output_type": "display_data"
    }
   ],
   "source": [
    "clfs = []\n",
    "seed = 3\n",
    "\n",
    "clfs.append(('LogReg', Pipeline([('Scaler', StandardScaler()), ('LogReg', LogisticRegression())])))\n",
    "clfs.append((\"XGBClassifier\",\n",
    "             Pipeline([(\"Scaler\", StandardScaler()),\n",
    "                       (\"XGB\", XGBClassifier())]))) \n",
    "clfs.append((\"KNN\", \n",
    "             Pipeline([(\"Scaler\", StandardScaler()),\n",
    "                       (\"KNN\", KNeighborsClassifier())]))) \n",
    "\n",
    "clfs.append((\"DecisionTreeClassifier\", \n",
    "             Pipeline([(\"Scaler\", StandardScaler()),\n",
    "                       (\"DecisionTrees\", DecisionTreeClassifier())]))) \n",
    "\n",
    "clfs.append((\"RandomForestClassifier\", \n",
    "             Pipeline([(\"Scaler\", StandardScaler()),\n",
    "                       (\"RandomForest\", RandomForestClassifier())]))) \n",
    "\n",
    "clfs.append((\"GradientBoostingClassifier\", \n",
    "             Pipeline([(\"Scaler\", StandardScaler()),\n",
    "                       (\"GradientBoosting\", GradientBoostingClassifier(max_features=15, n_estimators=150))]))) \n",
    "\n",
    "clfs.append((\"RidgeClassifier\", \n",
    "             Pipeline([(\"Scaler\", StandardScaler()),\n",
    "                       (\"RidgeClassifier\", RidgeClassifier())])))\n",
    "\n",
    "clfs.append((\"BaggingRidgeClassifier\",\n",
    "             Pipeline([(\"Scaler\", StandardScaler()),\n",
    "                       (\"BaggingClassifier\", BaggingClassifier())])))\n",
    "\n",
    "clfs.append((\"ExtraTreesClassifier\",\n",
    "             Pipeline([(\"Scaler\", StandardScaler()),\n",
    "                       (\"ExtraTrees\", ExtraTreesClassifier())])))\n",
    "\n",
    "scoring = 'accuracy'\n",
    "n_folds = 7\n",
    "\n",
    "results, names = [], []\n",
    "\n",
    "for name, model in clfs:\n",
    "    kfold = KFold(n_splits=n_folds, random_state=seed)\n",
    "    cv_results = cross_val_score(model, X_train, y_train, cv=5, scoring=scoring, n_jobs=-1)\n",
    "    names.append(name)\n",
    "    results.append(cv_results)\n",
    "    msg = '%s: %f (+/- %f)' % (name, cv_results.mean(), cv_results.std())\n",
    "    print(msg)\n",
    "    \n",
    "fig = plt.figure(figsize=(15, 6))\n",
    "fig.suptitle('Classifier Algorithm Comparison', fontsize=22)\n",
    "ax = fig.add_subplot(111)\n",
    "sns.boxplot(x=names, y=results)\n",
    "ax.set_xticklabels(names)\n",
    "ax.set_xlabel('Algorithmn', fontsize=20)\n",
    "ax.set_ylabel('Accuracy of Models', fontsize=18)\n",
    "ax.set_xticklabels(ax.get_xticklabels(), rotation=45)\n",
    "plt.show()"
   ]
  },
  {
   "cell_type": "code",
   "execution_count": 34,
   "metadata": {},
   "outputs": [],
   "source": [
    "from sklearn.ensemble import RandomForestClassifier\n",
    "\n",
    "forest = RandomForestClassifier()\n",
    "forest.fit(X_train, y_train)\n",
    "\n",
    "predict = forest.predict(X_test)"
   ]
  },
  {
   "cell_type": "code",
   "execution_count": 35,
   "metadata": {},
   "outputs": [
    {
     "data": {
      "text/plain": [
       "array([0, 1, 0, 0, 0, 0, 1, 0, 1, 1, 0, 0, 0, 0, 0, 0, 1, 1, 1, 0, 0, 0,\n",
       "       0, 0, 0, 0, 1, 0, 0, 0, 1, 0, 0, 0, 0, 0, 1, 1, 0, 0, 0, 0, 0, 0,\n",
       "       1, 0, 0, 0, 0, 0, 0, 0, 0, 0, 0, 0, 0, 0, 0, 0, 0, 1, 0, 0, 0, 0,\n",
       "       0, 0, 0, 1, 1, 1, 1, 0, 0, 0, 0, 1, 1, 0, 0, 0, 1, 0, 0, 1, 0, 0,\n",
       "       1, 0, 0, 0, 0, 0, 0, 1, 0, 1, 1, 1, 0, 1, 0, 0, 0, 1, 0, 1, 0, 1,\n",
       "       0, 1, 1, 0, 0, 0, 1, 1, 0, 0, 1, 0, 0, 0, 0, 1, 0, 0, 0, 0, 0, 0,\n",
       "       0, 0, 0, 0, 1, 0, 1, 0, 1, 0, 0, 1, 0, 0, 1, 0, 1, 0, 0, 0, 0, 0,\n",
       "       1, 0, 0, 1, 0, 1, 0, 1, 1, 1, 1, 0, 0, 1, 0, 1, 1, 0, 1, 1, 0, 1,\n",
       "       1, 0, 0, 0, 0, 1, 0, 0, 0, 0, 1, 1, 0, 0, 0, 0, 1, 1, 0, 1, 1, 0,\n",
       "       0, 1, 0, 0, 0, 1, 1, 0, 0, 0, 0, 1, 0, 0, 0, 0, 0, 1, 1, 0, 1, 0,\n",
       "       0, 0, 0, 0, 0, 1, 0, 0, 0, 1, 0, 1, 1, 0, 1, 1, 0, 1, 1, 1, 0, 0,\n",
       "       1, 0, 0, 0, 0, 0, 1, 0, 0, 0, 1, 1, 1, 0, 0, 1, 0, 0, 0, 1, 0, 1,\n",
       "       0, 1, 1, 0, 1, 1, 1, 0, 1, 0, 0, 1, 0, 1, 0, 0, 1, 0, 0, 1, 1, 0,\n",
       "       0, 0, 0, 0, 0, 1, 0, 0, 0, 0, 0, 0, 1, 1, 0, 1, 1, 1, 1, 0, 0, 1,\n",
       "       0, 0, 1, 1, 0, 1, 0, 0, 0, 0, 0, 1, 0, 1, 0, 1, 0, 0, 0, 1, 0, 1,\n",
       "       0, 0, 0, 1, 1, 0, 0, 1, 0, 0, 1, 0, 0, 0, 0, 0, 1, 1, 0, 0, 0, 0,\n",
       "       1, 0, 1, 1, 1, 0, 1, 1, 1, 0, 0, 0, 0, 1, 0, 0, 0, 1, 1, 0, 1, 0,\n",
       "       0, 0, 1, 0, 1, 0, 0, 0, 0, 0, 0, 0, 0, 0, 0, 0, 1, 1, 0, 0, 1, 0,\n",
       "       0, 1, 1, 0, 1, 0, 1, 0, 0, 0, 0, 0, 1, 0, 0, 0, 1, 0, 0, 0, 1, 0,\n",
       "       0, 0, 0, 0, 0, 0, 0, 0, 1, 1, 0, 1, 0, 1, 0, 1, 0, 0, 0, 1, 0, 0,\n",
       "       0, 0, 0, 1, 1, 0])"
      ]
     },
     "execution_count": 35,
     "metadata": {},
     "output_type": "execute_result"
    }
   ],
   "source": []
  },
  {
   "cell_type": "code",
   "execution_count": 37,
   "metadata": {},
   "outputs": [],
   "source": [
    "df_out = pd.read_csv('../data/signate_titanic/test.tsv', delimiter='\\t')\n",
    "df_out['survived'] = predict\n",
    "\n",
    "df_out[['id', 'survived']].to_csv('../data/signate_titanic/output/forest.tsv', sep='\\t', index=False, header=False)"
   ]
  },
  {
   "cell_type": "code",
   "execution_count": null,
   "metadata": {},
   "outputs": [],
   "source": []
  }
 ],
 "metadata": {
  "kernelspec": {
   "display_name": "Python 3",
   "language": "python",
   "name": "python3"
  },
  "language_info": {
   "codemirror_mode": {
    "name": "ipython",
    "version": 3
   },
   "file_extension": ".py",
   "mimetype": "text/x-python",
   "name": "python",
   "nbconvert_exporter": "python",
   "pygments_lexer": "ipython3",
   "version": "3.6.7"
  }
 },
 "nbformat": 4,
 "nbformat_minor": 2
}
