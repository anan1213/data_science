{
 "cells": [
  {
   "cell_type": "code",
   "execution_count": 219,
   "metadata": {},
   "outputs": [
    {
     "name": "stdout",
     "output_type": "stream",
     "text": [
      "['.DS_Store', 'test.csv', 'output', 'submit_sample.csv', 'train.csv']\n"
     ]
    }
   ],
   "source": [
    "import pandas as pd\n",
    "import numpy as np\n",
    "import matplotlib.pyplot as plt\n",
    "import seaborn as sns\n",
    "import os\n",
    "import re\n",
    "\n",
    "import warnings\n",
    "warnings.filterwarnings('ignore')\n",
    "\n",
    "print(os.listdir('../data/bank'))\n",
    "\n",
    "from IPython.display import display"
   ]
  },
  {
   "cell_type": "code",
   "execution_count": 220,
   "metadata": {},
   "outputs": [],
   "source": [
    "df_train = pd.read_csv('../data/bank/train.csv')\n",
    "df_test = pd.read_csv('../data/bank/test.csv')"
   ]
  },
  {
   "cell_type": "code",
   "execution_count": 221,
   "metadata": {},
   "outputs": [],
   "source": [
    "def kesson_table(df):\n",
    "    total = df.isnull().sum()\n",
    "    percent = total / len(df) * 100\n",
    "    kesson_table = pd.concat([total, percent], axis=1, keys=['Total', 'Percent'])\n",
    "    kesson_table = kesson_table.drop(kesson_table[kesson_table['Total']==0].index)\n",
    "    return kesson_table"
   ]
  },
  {
   "cell_type": "code",
   "execution_count": 222,
   "metadata": {},
   "outputs": [
    {
     "data": {
      "text/html": [
       "<div>\n",
       "<style scoped>\n",
       "    .dataframe tbody tr th:only-of-type {\n",
       "        vertical-align: middle;\n",
       "    }\n",
       "\n",
       "    .dataframe tbody tr th {\n",
       "        vertical-align: top;\n",
       "    }\n",
       "\n",
       "    .dataframe thead th {\n",
       "        text-align: right;\n",
       "    }\n",
       "</style>\n",
       "<table border=\"1\" class=\"dataframe\">\n",
       "  <thead>\n",
       "    <tr style=\"text-align: right;\">\n",
       "      <th></th>\n",
       "      <th>Total</th>\n",
       "      <th>Percent</th>\n",
       "    </tr>\n",
       "  </thead>\n",
       "  <tbody>\n",
       "  </tbody>\n",
       "</table>\n",
       "</div>"
      ],
      "text/plain": [
       "Empty DataFrame\n",
       "Columns: [Total, Percent]\n",
       "Index: []"
      ]
     },
     "execution_count": 222,
     "metadata": {},
     "output_type": "execute_result"
    }
   ],
   "source": [
    "kesson_table(df_train)"
   ]
  },
  {
   "cell_type": "code",
   "execution_count": 223,
   "metadata": {},
   "outputs": [
    {
     "data": {
      "text/html": [
       "<div>\n",
       "<style scoped>\n",
       "    .dataframe tbody tr th:only-of-type {\n",
       "        vertical-align: middle;\n",
       "    }\n",
       "\n",
       "    .dataframe tbody tr th {\n",
       "        vertical-align: top;\n",
       "    }\n",
       "\n",
       "    .dataframe thead th {\n",
       "        text-align: right;\n",
       "    }\n",
       "</style>\n",
       "<table border=\"1\" class=\"dataframe\">\n",
       "  <thead>\n",
       "    <tr style=\"text-align: right;\">\n",
       "      <th></th>\n",
       "      <th>id</th>\n",
       "      <th>age</th>\n",
       "      <th>job</th>\n",
       "      <th>marital</th>\n",
       "      <th>education</th>\n",
       "      <th>default</th>\n",
       "      <th>balance</th>\n",
       "      <th>housing</th>\n",
       "      <th>loan</th>\n",
       "      <th>contact</th>\n",
       "      <th>day</th>\n",
       "      <th>month</th>\n",
       "      <th>duration</th>\n",
       "      <th>campaign</th>\n",
       "      <th>pdays</th>\n",
       "      <th>previous</th>\n",
       "      <th>poutcome</th>\n",
       "      <th>y</th>\n",
       "    </tr>\n",
       "  </thead>\n",
       "  <tbody>\n",
       "    <tr>\n",
       "      <th>0</th>\n",
       "      <td>1</td>\n",
       "      <td>39</td>\n",
       "      <td>blue-collar</td>\n",
       "      <td>married</td>\n",
       "      <td>secondary</td>\n",
       "      <td>no</td>\n",
       "      <td>1756</td>\n",
       "      <td>yes</td>\n",
       "      <td>no</td>\n",
       "      <td>cellular</td>\n",
       "      <td>3</td>\n",
       "      <td>apr</td>\n",
       "      <td>939</td>\n",
       "      <td>1</td>\n",
       "      <td>-1</td>\n",
       "      <td>0</td>\n",
       "      <td>unknown</td>\n",
       "      <td>1</td>\n",
       "    </tr>\n",
       "    <tr>\n",
       "      <th>1</th>\n",
       "      <td>2</td>\n",
       "      <td>51</td>\n",
       "      <td>entrepreneur</td>\n",
       "      <td>married</td>\n",
       "      <td>primary</td>\n",
       "      <td>no</td>\n",
       "      <td>1443</td>\n",
       "      <td>no</td>\n",
       "      <td>no</td>\n",
       "      <td>cellular</td>\n",
       "      <td>18</td>\n",
       "      <td>feb</td>\n",
       "      <td>172</td>\n",
       "      <td>10</td>\n",
       "      <td>-1</td>\n",
       "      <td>0</td>\n",
       "      <td>unknown</td>\n",
       "      <td>1</td>\n",
       "    </tr>\n",
       "    <tr>\n",
       "      <th>2</th>\n",
       "      <td>3</td>\n",
       "      <td>36</td>\n",
       "      <td>management</td>\n",
       "      <td>single</td>\n",
       "      <td>tertiary</td>\n",
       "      <td>no</td>\n",
       "      <td>436</td>\n",
       "      <td>no</td>\n",
       "      <td>no</td>\n",
       "      <td>cellular</td>\n",
       "      <td>13</td>\n",
       "      <td>apr</td>\n",
       "      <td>567</td>\n",
       "      <td>1</td>\n",
       "      <td>595</td>\n",
       "      <td>2</td>\n",
       "      <td>failure</td>\n",
       "      <td>1</td>\n",
       "    </tr>\n",
       "    <tr>\n",
       "      <th>3</th>\n",
       "      <td>4</td>\n",
       "      <td>63</td>\n",
       "      <td>retired</td>\n",
       "      <td>married</td>\n",
       "      <td>secondary</td>\n",
       "      <td>no</td>\n",
       "      <td>474</td>\n",
       "      <td>no</td>\n",
       "      <td>no</td>\n",
       "      <td>cellular</td>\n",
       "      <td>25</td>\n",
       "      <td>jan</td>\n",
       "      <td>423</td>\n",
       "      <td>1</td>\n",
       "      <td>-1</td>\n",
       "      <td>0</td>\n",
       "      <td>unknown</td>\n",
       "      <td>1</td>\n",
       "    </tr>\n",
       "    <tr>\n",
       "      <th>4</th>\n",
       "      <td>5</td>\n",
       "      <td>31</td>\n",
       "      <td>management</td>\n",
       "      <td>single</td>\n",
       "      <td>tertiary</td>\n",
       "      <td>no</td>\n",
       "      <td>354</td>\n",
       "      <td>no</td>\n",
       "      <td>no</td>\n",
       "      <td>cellular</td>\n",
       "      <td>30</td>\n",
       "      <td>apr</td>\n",
       "      <td>502</td>\n",
       "      <td>1</td>\n",
       "      <td>9</td>\n",
       "      <td>2</td>\n",
       "      <td>success</td>\n",
       "      <td>1</td>\n",
       "    </tr>\n",
       "  </tbody>\n",
       "</table>\n",
       "</div>"
      ],
      "text/plain": [
       "   id  age           job  marital  education default  balance housing loan  \\\n",
       "0   1   39   blue-collar  married  secondary      no     1756     yes   no   \n",
       "1   2   51  entrepreneur  married    primary      no     1443      no   no   \n",
       "2   3   36    management   single   tertiary      no      436      no   no   \n",
       "3   4   63       retired  married  secondary      no      474      no   no   \n",
       "4   5   31    management   single   tertiary      no      354      no   no   \n",
       "\n",
       "    contact  day month  duration  campaign  pdays  previous poutcome  y  \n",
       "0  cellular    3   apr       939         1     -1         0  unknown  1  \n",
       "1  cellular   18   feb       172        10     -1         0  unknown  1  \n",
       "2  cellular   13   apr       567         1    595         2  failure  1  \n",
       "3  cellular   25   jan       423         1     -1         0  unknown  1  \n",
       "4  cellular   30   apr       502         1      9         2  success  1  "
      ]
     },
     "execution_count": 223,
     "metadata": {},
     "output_type": "execute_result"
    }
   ],
   "source": [
    "df_train.head()"
   ]
  },
  {
   "cell_type": "code",
   "execution_count": 224,
   "metadata": {},
   "outputs": [
    {
     "data": {
      "image/png": "[encoded data removed]",
      "text/plain": [
       "<Figure size 864x360 with 1 Axes>"
      ]
     },
     "metadata": {
      "needs_background": "light"
     },
     "output_type": "display_data"
    }
   ],
   "source": [
    "y0 = df_train[df_train['y'] == 0]\n",
    "y1 = df_train[df_train['y'] == 1]\n",
    "\n",
    "plt.figure(figsize=(12, 5))\n",
    "\n",
    "sns.distplot(y0['age'], bins=24, color='r')\n",
    "sns.distplot(y1['age'], bins=24, color='b')\n",
    "plt.title('distribution and density', fontsize=20)\n",
    "plt.xlabel('age', fontsize=15)\n",
    "plt.ylabel('count', fontsize=15)\n",
    "\n",
    "plt.show()"
   ]
  },
  {
   "cell_type": "code",
   "execution_count": 225,
   "metadata": {},
   "outputs": [
    {
     "data": {
      "text/plain": [
       "<matplotlib.axes._subplots.AxesSubplot at 0x1252abdd8>"
      ]
     },
     "execution_count": 225,
     "metadata": {},
     "output_type": "execute_result"
    },
    {
     "data": {
      "image/png": "[encoded data removed]",
      "text/plain": [
       "<Figure size 864x360 with 1 Axes>"
      ]
     },
     "metadata": {
      "needs_background": "light"
     },
     "output_type": "display_data"
    }
   ],
   "source": [
    "plt.figure(figsize=(12, 5))\n",
    "\n",
    "sns.countplot(x='marital', hue='y', data=df_train, palette='hls')"
   ]
  },
  {
   "cell_type": "code",
   "execution_count": 226,
   "metadata": {},
   "outputs": [
    {
     "data": {
      "text/plain": [
       "<matplotlib.axes._subplots.AxesSubplot at 0x120956940>"
      ]
     },
     "execution_count": 226,
     "metadata": {},
     "output_type": "execute_result"
    },
    {
     "data": {
      "image/png": "[encoded data removed]",
      "text/plain": [
       "<Figure size 864x360 with 1 Axes>"
      ]
     },
     "metadata": {
      "needs_background": "light"
     },
     "output_type": "display_data"
    }
   ],
   "source": [
    "plt.figure(figsize=(12, 5))\n",
    "\n",
    "sns.countplot(x='education', hue='y', data=df_train, palette='hls')"
   ]
  },
  {
   "cell_type": "code",
   "execution_count": 227,
   "metadata": {},
   "outputs": [
    {
     "data": {
      "text/plain": [
       "<matplotlib.axes._subplots.AxesSubplot at 0x125152da0>"
      ]
     },
     "execution_count": 227,
     "metadata": {},
     "output_type": "execute_result"
    },
    {
     "data": {
      "image/png": "[encoded data removed]",
      "text/plain": [
       "<Figure size 864x360 with 1 Axes>"
      ]
     },
     "metadata": {
      "needs_background": "light"
     },
     "output_type": "display_data"
    }
   ],
   "source": [
    "plt.figure(figsize=(12, 5))\n",
    "\n",
    "sns.countplot(x='default', hue='y', data=df_train, palette='hls')"
   ]
  },
  {
   "cell_type": "code",
   "execution_count": 228,
   "metadata": {},
   "outputs": [
    {
     "data": {
      "text/plain": [
       "<matplotlib.axes._subplots.AxesSubplot at 0x126abbb00>"
      ]
     },
     "execution_count": 228,
     "metadata": {},
     "output_type": "execute_result"
    },
    {
     "data": {
      "image/png": "[encoded data removed]",
      "text/plain": [
       "<Figure size 864x360 with 1 Axes>"
      ]
     },
     "metadata": {
      "needs_background": "light"
     },
     "output_type": "display_data"
    }
   ],
   "source": [
    "plt.figure(figsize=(12, 5))\n",
    "\n",
    "sns.countplot(x='housing', hue='y', data=df_train, palette='hls')"
   ]
  },
  {
   "cell_type": "code",
   "execution_count": 229,
   "metadata": {},
   "outputs": [
    {
     "data": {
      "image/png": "[encoded data removed]",
      "text/plain": [
       "<Figure size 864x360 with 1 Axes>"
      ]
     },
     "metadata": {
      "needs_background": "light"
     },
     "output_type": "display_data"
    }
   ],
   "source": [
    "y0 = df_train[df_train['y'] == 0]\n",
    "y1 = df_train[df_train['y'] == 1]\n",
    "\n",
    "plt.figure(figsize=(12, 5))\n",
    "\n",
    "sns.distplot(np.log(y0['balance'] + 6848), bins=24, color='r')\n",
    "sns.distplot(np.log(y1['balance'] + 6848), bins=24, color='b')\n",
    "plt.title('distribution and density', fontsize=20)\n",
    "plt.xlabel('balance', fontsize=15)\n",
    "plt.ylabel('count', fontsize=15)\n",
    "\n",
    "plt.show()"
   ]
  },
  {
   "cell_type": "code",
   "execution_count": 230,
   "metadata": {},
   "outputs": [],
   "source": [
    "df_train['balance'] = np.log(df_train['balance'] + 10000)\n",
    "df_test['balance'] = np.log(df_test['balance'] + 10000)"
   ]
  },
  {
   "cell_type": "markdown",
   "metadata": {},
   "source": [
    "interval = (-10000, -450, -230, -96, 72, 449, 1450, 2100, 3100, 5000, 12000)\n",
    "labels = ['var1', 'var2', 'var3', 'var4', 'var5', 'var6', 'var7', 'var8', 'var9', 'var10']\n",
    "\n",
    "df_train['balance'] = pd.cut(df_train['balance'], interval, labels=labels)\n",
    "df_test['balance'] = pd.cut(df_test['balance'], interval, labels=labels)"
   ]
  },
  {
   "cell_type": "markdown",
   "metadata": {},
   "source": [
    "interval = (0, 5, 12, 18, 25, 35, 60, 120)\n",
    "\n",
    "cats = ['Babies', 'Children', 'Teen', 'Student', 'Young', 'Adult', 'Senior']\n",
    "\n",
    "df_train[\"age\"] = pd.cut(df_train['age'], interval, labels=cats)\n",
    "df_test['age'] = pd.cut(df_test['age'], interval, labels=cats)"
   ]
  },
  {
   "cell_type": "code",
   "execution_count": 231,
   "metadata": {},
   "outputs": [],
   "source": [
    "df_train['previous'][df_train['previous'] > 0] = 1\n",
    "df_test['previous'][df_test['previous'] > 0] = 1"
   ]
  },
  {
   "cell_type": "code",
   "execution_count": 232,
   "metadata": {},
   "outputs": [],
   "source": [
    "columns = ['job', 'marital', 'education', 'default', 'housing', 'loan', 'contact', 'month','poutcome', 'previous']\n",
    "\n",
    "df_train = pd.get_dummies(df_train, columns=columns, prefix=columns, drop_first=True)\n",
    "df_test = pd.get_dummies(df_test, columns=columns, prefix=columns, drop_first=True)"
   ]
  },
  {
   "cell_type": "code",
   "execution_count": 233,
   "metadata": {},
   "outputs": [],
   "source": [
    "from keras.models import Sequential\n",
    "from keras.layers import Dense, Dropout, Activation\n",
    "from keras.optimizers import Adam, SGD, RMSprop\n",
    "from sklearn.preprocessing import StandardScaler\n",
    "from sklearn.preprocessing import MinMaxScaler\n",
    "from keras.layers.recurrent import LSTM\n",
    "from keras.wrappers.scikit_learn import KerasRegressor\n",
    "sc = StandardScaler()\n",
    "mm = MinMaxScaler()"
   ]
  },
  {
   "cell_type": "code",
   "execution_count": 234,
   "metadata": {},
   "outputs": [
    {
     "name": "stdout",
     "output_type": "stream",
     "text": [
      "(27128, 42) (27128,) (18083, 42)\n"
     ]
    }
   ],
   "source": [
    "train = df_train.drop(['id', 'y'], axis=1)\n",
    "train_ = df_train['y']\n",
    "test = df_test.drop(['id'], axis=1)\n",
    "\n",
    "X_train = sc.fit_transform(train.values)\n",
    "y_train = train_.values\n",
    "X_test = sc.fit_transform(test.values)\n",
    "\n",
    "#X_train = train.values.astype(np.float32)\n",
    "#y_train = train_.values.astype(np.float32)\n",
    "#X_test = test.values.astype(np.float32)\n",
    "\n",
    "print(X_train.shape, y_train.shape, X_test.shape)"
   ]
  },
  {
   "cell_type": "code",
   "execution_count": 244,
   "metadata": {},
   "outputs": [
    {
     "name": "stdout",
     "output_type": "stream",
     "text": [
      "_________________________________________________________________\n",
      "Layer (type)                 Output Shape              Param #   \n",
      "=================================================================\n",
      "dense_44 (Dense)             (None, 210)               9030      \n",
      "_________________________________________________________________\n",
      "dropout_21 (Dropout)         (None, 210)               0         \n",
      "_________________________________________________________________\n",
      "dense_45 (Dense)             (None, 42)                8862      \n",
      "_________________________________________________________________\n",
      "dense_46 (Dense)             (None, 1)                 43        \n",
      "=================================================================\n",
      "Total params: 17,935\n",
      "Trainable params: 17,935\n",
      "Non-trainable params: 0\n",
      "_________________________________________________________________\n"
     ]
    }
   ],
   "source": [
    "model = Sequential()\n",
    "\n",
    "model.add(Dense(42*5, activation='relu', input_dim=42, kernel_initializer='uniform'))\n",
    "model.add(Dropout(0.3))\n",
    "model.add(Dense(42, activation='relu', kernel_initializer='uniform'))\n",
    "#model.add(Dropout(0.3))\n",
    "model.add(Dense(1, activation='sigmoid', kernel_initializer='uniform'))\n",
    "#model.add(Dropout(0.3))\n",
    "\n",
    "model.summary()"
   ]
  },
  {
   "cell_type": "code",
   "execution_count": 246,
   "metadata": {},
   "outputs": [
    {
     "name": "stdout",
     "output_type": "stream",
     "text": [
      "Train on 21702 samples, validate on 5426 samples\n",
      "Epoch 1/200\n",
      "21702/21702 [==============================] - 1s 68us/step - loss: 0.6925 - acc: 0.5307 - val_loss: 0.6807 - val_acc: 0.8891\n",
      "Epoch 2/200\n",
      "21702/21702 [==============================] - 0s 8us/step - loss: 0.6784 - acc: 0.8815 - val_loss: 0.6655 - val_acc: 0.8891\n",
      "Epoch 3/200\n",
      "21702/21702 [==============================] - 0s 9us/step - loss: 0.6630 - acc: 0.8815 - val_loss: 0.6472 - val_acc: 0.8891\n",
      "Epoch 4/200\n",
      "21702/21702 [==============================] - 0s 9us/step - loss: 0.6439 - acc: 0.8815 - val_loss: 0.6238 - val_acc: 0.8891\n",
      "Epoch 5/200\n",
      "21702/21702 [==============================] - 0s 9us/step - loss: 0.6200 - acc: 0.8815 - val_loss: 0.5943 - val_acc: 0.8891\n",
      "Epoch 6/200\n",
      "21702/21702 [==============================] - 0s 9us/step - loss: 0.5896 - acc: 0.8815 - val_loss: 0.5584 - val_acc: 0.8891\n",
      "Epoch 7/200\n",
      "21702/21702 [==============================] - 0s 10us/step - loss: 0.5531 - acc: 0.8815 - val_loss: 0.5160 - val_acc: 0.8891\n",
      "Epoch 8/200\n",
      "21702/21702 [==============================] - 0s 9us/step - loss: 0.5111 - acc: 0.8815 - val_loss: 0.4688 - val_acc: 0.8891\n",
      "Epoch 9/200\n",
      "21702/21702 [==============================] - 0s 9us/step - loss: 0.4642 - acc: 0.8815 - val_loss: 0.4197 - val_acc: 0.8891\n",
      "Epoch 10/200\n",
      "21702/21702 [==============================] - 0s 9us/step - loss: 0.4165 - acc: 0.8815 - val_loss: 0.3726 - val_acc: 0.8891\n",
      "Epoch 11/200\n",
      "21702/21702 [==============================] - 0s 9us/step - loss: 0.3721 - acc: 0.8815 - val_loss: 0.3326 - val_acc: 0.8891\n",
      "Epoch 12/200\n",
      "21702/21702 [==============================] - 0s 9us/step - loss: 0.3356 - acc: 0.8815 - val_loss: 0.3032 - val_acc: 0.8891\n",
      "Epoch 13/200\n",
      "21702/21702 [==============================] - 0s 9us/step - loss: 0.3101 - acc: 0.8815 - val_loss: 0.2847 - val_acc: 0.8891\n",
      "Epoch 14/200\n",
      "21702/21702 [==============================] - 0s 9us/step - loss: 0.2946 - acc: 0.8815 - val_loss: 0.2750 - val_acc: 0.8891\n",
      "Epoch 15/200\n",
      "21702/21702 [==============================] - 0s 9us/step - loss: 0.2868 - acc: 0.8815 - val_loss: 0.2702 - val_acc: 0.8891\n",
      "Epoch 16/200\n",
      "21702/21702 [==============================] - 0s 9us/step - loss: 0.2835 - acc: 0.8815 - val_loss: 0.2673 - val_acc: 0.8891\n",
      "Epoch 17/200\n",
      "21702/21702 [==============================] - 0s 9us/step - loss: 0.2807 - acc: 0.8815 - val_loss: 0.2644 - val_acc: 0.8891\n",
      "Epoch 18/200\n",
      "21702/21702 [==============================] - 0s 9us/step - loss: 0.2775 - acc: 0.8815 - val_loss: 0.2611 - val_acc: 0.8891\n",
      "Epoch 19/200\n",
      "21702/21702 [==============================] - 0s 9us/step - loss: 0.2743 - acc: 0.8815 - val_loss: 0.2575 - val_acc: 0.8891\n",
      "Epoch 20/200\n",
      "21702/21702 [==============================] - 0s 10us/step - loss: 0.2698 - acc: 0.8815 - val_loss: 0.2539 - val_acc: 0.8891\n",
      "Epoch 21/200\n",
      "21702/21702 [==============================] - 0s 9us/step - loss: 0.2655 - acc: 0.8815 - val_loss: 0.2507 - val_acc: 0.8891\n",
      "Epoch 22/200\n",
      "21702/21702 [==============================] - 0s 9us/step - loss: 0.2625 - acc: 0.8815 - val_loss: 0.2479 - val_acc: 0.8891\n",
      "Epoch 23/200\n",
      "21702/21702 [==============================] - 0s 9us/step - loss: 0.2591 - acc: 0.8815 - val_loss: 0.2454 - val_acc: 0.8891\n",
      "Epoch 24/200\n",
      "21702/21702 [==============================] - 0s 9us/step - loss: 0.2559 - acc: 0.8815 - val_loss: 0.2432 - val_acc: 0.8891\n",
      "Epoch 25/200\n",
      "21702/21702 [==============================] - 0s 8us/step - loss: 0.2532 - acc: 0.8815 - val_loss: 0.2412 - val_acc: 0.8891\n",
      "Epoch 26/200\n",
      "21702/21702 [==============================] - 0s 9us/step - loss: 0.2511 - acc: 0.8815 - val_loss: 0.2393 - val_acc: 0.8891\n",
      "Epoch 27/200\n",
      "21702/21702 [==============================] - 0s 9us/step - loss: 0.2490 - acc: 0.8815 - val_loss: 0.2376 - val_acc: 0.8891\n",
      "Epoch 28/200\n",
      "21702/21702 [==============================] - 0s 9us/step - loss: 0.2470 - acc: 0.8815 - val_loss: 0.2359 - val_acc: 0.8891\n",
      "Epoch 29/200\n",
      "21702/21702 [==============================] - 0s 9us/step - loss: 0.2456 - acc: 0.8815 - val_loss: 0.2342 - val_acc: 0.8891\n",
      "Epoch 30/200\n",
      "21702/21702 [==============================] - 0s 9us/step - loss: 0.2434 - acc: 0.8815 - val_loss: 0.2326 - val_acc: 0.8891\n",
      "Epoch 31/200\n",
      "21702/21702 [==============================] - 0s 9us/step - loss: 0.2414 - acc: 0.8815 - val_loss: 0.2310 - val_acc: 0.8891\n",
      "Epoch 32/200\n",
      "21702/21702 [==============================] - 0s 9us/step - loss: 0.2395 - acc: 0.8815 - val_loss: 0.2295 - val_acc: 0.8891\n",
      "Epoch 33/200\n",
      "21702/21702 [==============================] - 0s 9us/step - loss: 0.2381 - acc: 0.8815 - val_loss: 0.2281 - val_acc: 0.8891\n",
      "Epoch 34/200\n",
      "21702/21702 [==============================] - 0s 9us/step - loss: 0.2361 - acc: 0.8815 - val_loss: 0.2268 - val_acc: 0.8891\n",
      "Epoch 35/200\n",
      "21702/21702 [==============================] - 0s 9us/step - loss: 0.2346 - acc: 0.8815 - val_loss: 0.2256 - val_acc: 0.8891\n",
      "Epoch 36/200\n",
      "21702/21702 [==============================] - 0s 10us/step - loss: 0.2334 - acc: 0.8815 - val_loss: 0.2245 - val_acc: 0.8891\n",
      "Epoch 37/200\n",
      "21702/21702 [==============================] - 0s 8us/step - loss: 0.2319 - acc: 0.8815 - val_loss: 0.2235 - val_acc: 0.8891\n",
      "Epoch 38/200\n",
      "21702/21702 [==============================] - 0s 9us/step - loss: 0.2303 - acc: 0.8815 - val_loss: 0.2226 - val_acc: 0.8891\n",
      "Epoch 39/200\n",
      "21702/21702 [==============================] - 0s 9us/step - loss: 0.2293 - acc: 0.8815 - val_loss: 0.2217 - val_acc: 0.8891\n",
      "Epoch 40/200\n",
      "21702/21702 [==============================] - 0s 8us/step - loss: 0.2283 - acc: 0.8815 - val_loss: 0.2208 - val_acc: 0.8891\n",
      "Epoch 41/200\n",
      "21702/21702 [==============================] - 0s 8us/step - loss: 0.2272 - acc: 0.8815 - val_loss: 0.2200 - val_acc: 0.8891\n",
      "Epoch 42/200\n",
      "21702/21702 [==============================] - 0s 9us/step - loss: 0.2259 - acc: 0.8815 - val_loss: 0.2193 - val_acc: 0.8891\n",
      "Epoch 43/200\n",
      "21702/21702 [==============================] - 0s 9us/step - loss: 0.2253 - acc: 0.8815 - val_loss: 0.2185 - val_acc: 0.8891\n",
      "Epoch 44/200\n",
      "21702/21702 [==============================] - 0s 9us/step - loss: 0.2238 - acc: 0.8815 - val_loss: 0.2179 - val_acc: 0.8889\n",
      "Epoch 45/200\n",
      "21702/21702 [==============================] - 0s 8us/step - loss: 0.2226 - acc: 0.8826 - val_loss: 0.2173 - val_acc: 0.8894\n",
      "Epoch 46/200\n",
      "21702/21702 [==============================] - 0s 9us/step - loss: 0.2219 - acc: 0.8838 - val_loss: 0.2168 - val_acc: 0.8911\n",
      "Epoch 47/200\n",
      "21702/21702 [==============================] - 0s 8us/step - loss: 0.2213 - acc: 0.8864 - val_loss: 0.2163 - val_acc: 0.8942\n",
      "Epoch 48/200\n",
      "21702/21702 [==============================] - 0s 9us/step - loss: 0.2200 - acc: 0.8884 - val_loss: 0.2157 - val_acc: 0.8983\n",
      "Epoch 49/200\n",
      "21702/21702 [==============================] - 0s 8us/step - loss: 0.2200 - acc: 0.8899 - val_loss: 0.2151 - val_acc: 0.9010\n",
      "Epoch 50/200\n",
      "21702/21702 [==============================] - 0s 8us/step - loss: 0.2186 - acc: 0.8949 - val_loss: 0.2147 - val_acc: 0.9038\n",
      "Epoch 51/200\n",
      "21702/21702 [==============================] - 0s 9us/step - loss: 0.2188 - acc: 0.8961 - val_loss: 0.2142 - val_acc: 0.9067\n",
      "Epoch 52/200\n",
      "21702/21702 [==============================] - 0s 8us/step - loss: 0.2173 - acc: 0.8988 - val_loss: 0.2137 - val_acc: 0.9062\n",
      "Epoch 53/200\n",
      "21702/21702 [==============================] - 0s 9us/step - loss: 0.2172 - acc: 0.9012 - val_loss: 0.2132 - val_acc: 0.9079\n",
      "Epoch 54/200\n",
      "21702/21702 [==============================] - 0s 9us/step - loss: 0.2161 - acc: 0.9016 - val_loss: 0.2128 - val_acc: 0.9067\n",
      "Epoch 55/200\n",
      "21702/21702 [==============================] - 0s 9us/step - loss: 0.2158 - acc: 0.9033 - val_loss: 0.2124 - val_acc: 0.9067\n",
      "Epoch 56/200\n",
      "21702/21702 [==============================] - 0s 8us/step - loss: 0.2145 - acc: 0.9026 - val_loss: 0.2120 - val_acc: 0.9064\n",
      "Epoch 57/200\n",
      "21702/21702 [==============================] - 0s 9us/step - loss: 0.2135 - acc: 0.9036 - val_loss: 0.2117 - val_acc: 0.9062\n",
      "Epoch 58/200\n",
      "21702/21702 [==============================] - 0s 9us/step - loss: 0.2136 - acc: 0.9029 - val_loss: 0.2114 - val_acc: 0.9071\n",
      "Epoch 59/200\n",
      "21702/21702 [==============================] - 0s 9us/step - loss: 0.2125 - acc: 0.9033 - val_loss: 0.2111 - val_acc: 0.9060\n",
      "Epoch 60/200\n"
     ]
    },
    {
     "name": "stdout",
     "output_type": "stream",
     "text": [
      "21702/21702 [==============================] - 0s 8us/step - loss: 0.2112 - acc: 0.9031 - val_loss: 0.2106 - val_acc: 0.9055\n",
      "Epoch 61/200\n",
      "21702/21702 [==============================] - 0s 8us/step - loss: 0.2118 - acc: 0.9037 - val_loss: 0.2102 - val_acc: 0.9055\n",
      "Epoch 62/200\n",
      "21702/21702 [==============================] - 0s 8us/step - loss: 0.2103 - acc: 0.9049 - val_loss: 0.2099 - val_acc: 0.9058\n",
      "Epoch 63/200\n",
      "21702/21702 [==============================] - 0s 9us/step - loss: 0.2106 - acc: 0.9047 - val_loss: 0.2096 - val_acc: 0.9051\n",
      "Epoch 64/200\n",
      "21702/21702 [==============================] - 0s 8us/step - loss: 0.2099 - acc: 0.9042 - val_loss: 0.2094 - val_acc: 0.9045\n",
      "Epoch 65/200\n",
      "21702/21702 [==============================] - 0s 8us/step - loss: 0.2090 - acc: 0.9057 - val_loss: 0.2092 - val_acc: 0.9047\n",
      "Epoch 66/200\n",
      "21702/21702 [==============================] - 0s 8us/step - loss: 0.2094 - acc: 0.9041 - val_loss: 0.2092 - val_acc: 0.9049\n",
      "Epoch 67/200\n",
      "21702/21702 [==============================] - 0s 8us/step - loss: 0.2089 - acc: 0.9059 - val_loss: 0.2092 - val_acc: 0.9055\n",
      "Epoch 68/200\n",
      "21702/21702 [==============================] - 0s 8us/step - loss: 0.2084 - acc: 0.9044 - val_loss: 0.2093 - val_acc: 0.9053\n",
      "Epoch 69/200\n",
      "21702/21702 [==============================] - 0s 8us/step - loss: 0.2070 - acc: 0.9057 - val_loss: 0.2092 - val_acc: 0.9058\n",
      "Epoch 70/200\n",
      "21702/21702 [==============================] - 0s 8us/step - loss: 0.2088 - acc: 0.9062 - val_loss: 0.2089 - val_acc: 0.9060\n",
      "Epoch 71/200\n",
      "21702/21702 [==============================] - 0s 8us/step - loss: 0.2074 - acc: 0.9058 - val_loss: 0.2086 - val_acc: 0.9066\n",
      "Epoch 72/200\n",
      "21702/21702 [==============================] - 0s 8us/step - loss: 0.2072 - acc: 0.9064 - val_loss: 0.2084 - val_acc: 0.9064\n",
      "Epoch 73/200\n",
      "21702/21702 [==============================] - 0s 8us/step - loss: 0.2072 - acc: 0.9058 - val_loss: 0.2084 - val_acc: 0.9064\n",
      "Epoch 74/200\n",
      "21702/21702 [==============================] - 0s 7us/step - loss: 0.2069 - acc: 0.9064 - val_loss: 0.2085 - val_acc: 0.9075\n",
      "Epoch 75/200\n",
      "21702/21702 [==============================] - 0s 8us/step - loss: 0.2057 - acc: 0.9060 - val_loss: 0.2083 - val_acc: 0.9073\n",
      "Epoch 76/200\n",
      "21702/21702 [==============================] - 0s 8us/step - loss: 0.2063 - acc: 0.9073 - val_loss: 0.2081 - val_acc: 0.9077\n",
      "Epoch 77/200\n",
      "21702/21702 [==============================] - 0s 8us/step - loss: 0.2055 - acc: 0.9070 - val_loss: 0.2079 - val_acc: 0.9073\n",
      "Epoch 78/200\n",
      "21702/21702 [==============================] - 0s 8us/step - loss: 0.2057 - acc: 0.9063 - val_loss: 0.2077 - val_acc: 0.9075\n",
      "Epoch 79/200\n",
      "21702/21702 [==============================] - 0s 8us/step - loss: 0.2052 - acc: 0.9067 - val_loss: 0.2075 - val_acc: 0.9071\n",
      "Epoch 80/200\n",
      "21702/21702 [==============================] - 0s 9us/step - loss: 0.2050 - acc: 0.9066 - val_loss: 0.2075 - val_acc: 0.9071\n",
      "Epoch 81/200\n",
      "21702/21702 [==============================] - 0s 8us/step - loss: 0.2050 - acc: 0.9063 - val_loss: 0.2076 - val_acc: 0.9077\n",
      "Epoch 82/200\n",
      "21702/21702 [==============================] - 0s 8us/step - loss: 0.2039 - acc: 0.9084 - val_loss: 0.2077 - val_acc: 0.9080\n",
      "Epoch 83/200\n",
      "21702/21702 [==============================] - 0s 9us/step - loss: 0.2035 - acc: 0.9076 - val_loss: 0.2078 - val_acc: 0.9084\n",
      "Epoch 84/200\n",
      "21702/21702 [==============================] - 0s 8us/step - loss: 0.2046 - acc: 0.9070 - val_loss: 0.2077 - val_acc: 0.9080\n",
      "Epoch 85/200\n",
      "21702/21702 [==============================] - 0s 8us/step - loss: 0.2039 - acc: 0.9083 - val_loss: 0.2076 - val_acc: 0.9077\n",
      "Epoch 86/200\n",
      "21702/21702 [==============================] - 0s 12us/step - loss: 0.2024 - acc: 0.9093 - val_loss: 0.2075 - val_acc: 0.9071\n",
      "Epoch 87/200\n",
      "21702/21702 [==============================] - 0s 15us/step - loss: 0.2033 - acc: 0.9077 - val_loss: 0.2073 - val_acc: 0.9079\n",
      "Epoch 88/200\n",
      "21702/21702 [==============================] - 0s 15us/step - loss: 0.2028 - acc: 0.9083 - val_loss: 0.2070 - val_acc: 0.9082\n",
      "Epoch 89/200\n",
      "21702/21702 [==============================] - 0s 16us/step - loss: 0.2030 - acc: 0.9091 - val_loss: 0.2068 - val_acc: 0.9075\n",
      "Epoch 90/200\n",
      "21702/21702 [==============================] - 0s 15us/step - loss: 0.2026 - acc: 0.9080 - val_loss: 0.2067 - val_acc: 0.9082\n",
      "Epoch 91/200\n",
      "21702/21702 [==============================] - 0s 14us/step - loss: 0.2021 - acc: 0.9086 - val_loss: 0.2067 - val_acc: 0.9084\n",
      "Epoch 92/200\n",
      "21702/21702 [==============================] - 0s 11us/step - loss: 0.2017 - acc: 0.9081 - val_loss: 0.2067 - val_acc: 0.9080\n",
      "Epoch 93/200\n",
      "21702/21702 [==============================] - 0s 14us/step - loss: 0.2024 - acc: 0.9088 - val_loss: 0.2068 - val_acc: 0.9082\n",
      "Epoch 94/200\n",
      "21702/21702 [==============================] - 0s 13us/step - loss: 0.2015 - acc: 0.9093 - val_loss: 0.2067 - val_acc: 0.9091\n",
      "Epoch 95/200\n",
      "21702/21702 [==============================] - 0s 14us/step - loss: 0.2017 - acc: 0.9088 - val_loss: 0.2066 - val_acc: 0.9091\n",
      "Epoch 96/200\n",
      "21702/21702 [==============================] - 0s 13us/step - loss: 0.2013 - acc: 0.9086 - val_loss: 0.2065 - val_acc: 0.9091\n",
      "Epoch 97/200\n",
      "21702/21702 [==============================] - 0s 13us/step - loss: 0.2009 - acc: 0.9091 - val_loss: 0.2065 - val_acc: 0.9091\n",
      "Epoch 98/200\n",
      "21702/21702 [==============================] - 0s 11us/step - loss: 0.2002 - acc: 0.9101 - val_loss: 0.2065 - val_acc: 0.9091\n",
      "Epoch 99/200\n",
      "21702/21702 [==============================] - 0s 8us/step - loss: 0.2004 - acc: 0.9089 - val_loss: 0.2066 - val_acc: 0.9095\n",
      "Epoch 100/200\n",
      "21702/21702 [==============================] - 0s 9us/step - loss: 0.2014 - acc: 0.9093 - val_loss: 0.2066 - val_acc: 0.9093\n",
      "Epoch 101/200\n",
      "21702/21702 [==============================] - 0s 9us/step - loss: 0.2002 - acc: 0.9101 - val_loss: 0.2066 - val_acc: 0.9097\n",
      "Epoch 102/200\n",
      "21702/21702 [==============================] - 0s 9us/step - loss: 0.2010 - acc: 0.9090 - val_loss: 0.2066 - val_acc: 0.9093\n",
      "Epoch 103/200\n",
      "21702/21702 [==============================] - 0s 13us/step - loss: 0.1983 - acc: 0.9106 - val_loss: 0.2065 - val_acc: 0.9097\n",
      "Epoch 104/200\n",
      "21702/21702 [==============================] - 0s 13us/step - loss: 0.2002 - acc: 0.9100 - val_loss: 0.2064 - val_acc: 0.9095\n",
      "Epoch 105/200\n",
      "21702/21702 [==============================] - 0s 13us/step - loss: 0.1993 - acc: 0.9094 - val_loss: 0.2063 - val_acc: 0.9086\n",
      "Epoch 106/200\n",
      "21702/21702 [==============================] - 0s 10us/step - loss: 0.1990 - acc: 0.9108 - val_loss: 0.2061 - val_acc: 0.9091\n",
      "Epoch 107/200\n",
      "21702/21702 [==============================] - 0s 8us/step - loss: 0.1990 - acc: 0.9099 - val_loss: 0.2061 - val_acc: 0.9093\n",
      "Epoch 108/200\n",
      "21702/21702 [==============================] - 0s 9us/step - loss: 0.1980 - acc: 0.9111 - val_loss: 0.2060 - val_acc: 0.9097\n",
      "Epoch 109/200\n",
      "21702/21702 [==============================] - 0s 13us/step - loss: 0.1980 - acc: 0.9106 - val_loss: 0.2059 - val_acc: 0.9097\n",
      "Epoch 110/200\n",
      "21702/21702 [==============================] - 0s 12us/step - loss: 0.1976 - acc: 0.9106 - val_loss: 0.2058 - val_acc: 0.9099\n",
      "Epoch 111/200\n",
      "21702/21702 [==============================] - 0s 15us/step - loss: 0.1981 - acc: 0.9105 - val_loss: 0.2057 - val_acc: 0.9108\n",
      "Epoch 112/200\n",
      "21702/21702 [==============================] - 0s 13us/step - loss: 0.1975 - acc: 0.9102 - val_loss: 0.2057 - val_acc: 0.9099\n",
      "Epoch 113/200\n",
      "21702/21702 [==============================] - 0s 9us/step - loss: 0.1975 - acc: 0.9101 - val_loss: 0.2057 - val_acc: 0.9099\n",
      "Epoch 114/200\n",
      "21702/21702 [==============================] - 0s 9us/step - loss: 0.1978 - acc: 0.9107 - val_loss: 0.2057 - val_acc: 0.9101\n",
      "Epoch 115/200\n",
      "21702/21702 [==============================] - 0s 10us/step - loss: 0.1981 - acc: 0.9097 - val_loss: 0.2057 - val_acc: 0.9097\n",
      "Epoch 116/200\n",
      "21702/21702 [==============================] - 0s 9us/step - loss: 0.1964 - acc: 0.9120 - val_loss: 0.2057 - val_acc: 0.9099\n",
      "Epoch 117/200\n",
      "21702/21702 [==============================] - 0s 8us/step - loss: 0.1966 - acc: 0.9121 - val_loss: 0.2059 - val_acc: 0.9091\n",
      "Epoch 118/200\n",
      "21702/21702 [==============================] - 0s 8us/step - loss: 0.1960 - acc: 0.9128 - val_loss: 0.2059 - val_acc: 0.9084\n",
      "Epoch 119/200\n"
     ]
    },
    {
     "name": "stdout",
     "output_type": "stream",
     "text": [
      "21702/21702 [==============================] - 0s 9us/step - loss: 0.1970 - acc: 0.9115 - val_loss: 0.2060 - val_acc: 0.9084\n",
      "Epoch 120/200\n",
      "21702/21702 [==============================] - 0s 7us/step - loss: 0.1962 - acc: 0.9131 - val_loss: 0.2061 - val_acc: 0.9082\n",
      "Epoch 121/200\n",
      "21702/21702 [==============================] - 0s 10us/step - loss: 0.1958 - acc: 0.9127 - val_loss: 0.2062 - val_acc: 0.9090\n",
      "Epoch 122/200\n",
      "21702/21702 [==============================] - 0s 12us/step - loss: 0.1955 - acc: 0.9134 - val_loss: 0.2061 - val_acc: 0.9093\n",
      "Epoch 123/200\n",
      "21702/21702 [==============================] - 0s 8us/step - loss: 0.1946 - acc: 0.9143 - val_loss: 0.2060 - val_acc: 0.9080\n",
      "Epoch 124/200\n",
      "21702/21702 [==============================] - 0s 8us/step - loss: 0.1942 - acc: 0.9117 - val_loss: 0.2061 - val_acc: 0.9079\n",
      "Epoch 125/200\n",
      "21702/21702 [==============================] - 0s 9us/step - loss: 0.1935 - acc: 0.9138 - val_loss: 0.2062 - val_acc: 0.9086\n",
      "Epoch 126/200\n",
      "21702/21702 [==============================] - 0s 9us/step - loss: 0.1951 - acc: 0.9127 - val_loss: 0.2062 - val_acc: 0.9086\n",
      "Epoch 127/200\n",
      "21702/21702 [==============================] - 0s 8us/step - loss: 0.1938 - acc: 0.9140 - val_loss: 0.2062 - val_acc: 0.9091\n",
      "Epoch 128/200\n",
      "21702/21702 [==============================] - 0s 8us/step - loss: 0.1954 - acc: 0.9122 - val_loss: 0.2062 - val_acc: 0.9104\n",
      "Epoch 129/200\n",
      "21702/21702 [==============================] - 0s 8us/step - loss: 0.1939 - acc: 0.9134 - val_loss: 0.2059 - val_acc: 0.9108\n",
      "Epoch 130/200\n",
      "21702/21702 [==============================] - 0s 14us/step - loss: 0.1940 - acc: 0.9141 - val_loss: 0.2058 - val_acc: 0.9102\n",
      "Epoch 131/200\n",
      "21702/21702 [==============================] - 0s 9us/step - loss: 0.1936 - acc: 0.9129 - val_loss: 0.2057 - val_acc: 0.9099\n",
      "Epoch 132/200\n",
      "21702/21702 [==============================] - 0s 9us/step - loss: 0.1936 - acc: 0.9146 - val_loss: 0.2057 - val_acc: 0.9095\n",
      "Epoch 133/200\n",
      "21702/21702 [==============================] - 0s 9us/step - loss: 0.1933 - acc: 0.9133 - val_loss: 0.2057 - val_acc: 0.9090\n",
      "Epoch 134/200\n",
      "21702/21702 [==============================] - 0s 9us/step - loss: 0.1921 - acc: 0.9144 - val_loss: 0.2057 - val_acc: 0.9101\n",
      "Epoch 135/200\n",
      "21702/21702 [==============================] - 0s 8us/step - loss: 0.1920 - acc: 0.9142 - val_loss: 0.2057 - val_acc: 0.9097\n",
      "Epoch 136/200\n",
      "21702/21702 [==============================] - 0s 12us/step - loss: 0.1914 - acc: 0.9148 - val_loss: 0.2056 - val_acc: 0.9102\n",
      "Epoch 137/200\n",
      "21702/21702 [==============================] - 0s 10us/step - loss: 0.1919 - acc: 0.9139 - val_loss: 0.2056 - val_acc: 0.9104\n",
      "Epoch 138/200\n",
      "21702/21702 [==============================] - 0s 8us/step - loss: 0.1915 - acc: 0.9136 - val_loss: 0.2057 - val_acc: 0.9097\n",
      "Epoch 139/200\n",
      "21702/21702 [==============================] - 0s 14us/step - loss: 0.1927 - acc: 0.9145 - val_loss: 0.2060 - val_acc: 0.9097\n",
      "Epoch 140/200\n",
      "21702/21702 [==============================] - 0s 13us/step - loss: 0.1914 - acc: 0.9145 - val_loss: 0.2064 - val_acc: 0.9088\n",
      "Epoch 141/200\n",
      "21702/21702 [==============================] - 0s 11us/step - loss: 0.1923 - acc: 0.9146 - val_loss: 0.2067 - val_acc: 0.9095\n",
      "Epoch 142/200\n",
      "21702/21702 [==============================] - 0s 12us/step - loss: 0.1910 - acc: 0.9145 - val_loss: 0.2067 - val_acc: 0.9099\n",
      "Epoch 143/200\n",
      "21702/21702 [==============================] - 0s 10us/step - loss: 0.1906 - acc: 0.9160 - val_loss: 0.2064 - val_acc: 0.9095\n",
      "Epoch 144/200\n",
      "21702/21702 [==============================] - 0s 16us/step - loss: 0.1914 - acc: 0.9147 - val_loss: 0.2061 - val_acc: 0.9101\n",
      "Epoch 145/200\n",
      "21702/21702 [==============================] - 0s 13us/step - loss: 0.1902 - acc: 0.9157 - val_loss: 0.2061 - val_acc: 0.9099\n",
      "Epoch 146/200\n",
      "21702/21702 [==============================] - 0s 11us/step - loss: 0.1907 - acc: 0.9163 - val_loss: 0.2061 - val_acc: 0.9101\n",
      "Epoch 147/200\n",
      "21702/21702 [==============================] - 0s 10us/step - loss: 0.1891 - acc: 0.9159 - val_loss: 0.2064 - val_acc: 0.9099\n",
      "Epoch 148/200\n",
      "21702/21702 [==============================] - 0s 9us/step - loss: 0.1889 - acc: 0.9171 - val_loss: 0.2066 - val_acc: 0.9099\n",
      "Epoch 149/200\n",
      "21702/21702 [==============================] - 0s 15us/step - loss: 0.1884 - acc: 0.9154 - val_loss: 0.2067 - val_acc: 0.9090\n",
      "Epoch 150/200\n",
      "21702/21702 [==============================] - 0s 17us/step - loss: 0.1899 - acc: 0.9156 - val_loss: 0.2067 - val_acc: 0.9093\n",
      "Epoch 151/200\n",
      "21702/21702 [==============================] - 0s 15us/step - loss: 0.1884 - acc: 0.9170 - val_loss: 0.2070 - val_acc: 0.9095\n",
      "Epoch 152/200\n",
      "21702/21702 [==============================] - 0s 10us/step - loss: 0.1896 - acc: 0.9171 - val_loss: 0.2073 - val_acc: 0.9091\n",
      "Epoch 153/200\n",
      "21702/21702 [==============================] - 0s 10us/step - loss: 0.1894 - acc: 0.9165 - val_loss: 0.2074 - val_acc: 0.9101\n",
      "Epoch 154/200\n",
      "21702/21702 [==============================] - 0s 12us/step - loss: 0.1894 - acc: 0.9159 - val_loss: 0.2070 - val_acc: 0.9097\n",
      "Epoch 155/200\n",
      "21702/21702 [==============================] - 0s 9us/step - loss: 0.1875 - acc: 0.9177 - val_loss: 0.2068 - val_acc: 0.9088\n",
      "Epoch 156/200\n",
      "21702/21702 [==============================] - 0s 9us/step - loss: 0.1877 - acc: 0.9175 - val_loss: 0.2067 - val_acc: 0.9093\n",
      "Epoch 157/200\n",
      "21702/21702 [==============================] - 0s 8us/step - loss: 0.1881 - acc: 0.9175 - val_loss: 0.2066 - val_acc: 0.9095\n",
      "Epoch 158/200\n",
      "21702/21702 [==============================] - 0s 9us/step - loss: 0.1881 - acc: 0.9168 - val_loss: 0.2066 - val_acc: 0.9099\n",
      "Epoch 159/200\n",
      "21702/21702 [==============================] - 0s 8us/step - loss: 0.1878 - acc: 0.9158 - val_loss: 0.2067 - val_acc: 0.9108\n",
      "Epoch 160/200\n",
      "21702/21702 [==============================] - 0s 9us/step - loss: 0.1867 - acc: 0.9175 - val_loss: 0.2066 - val_acc: 0.9106\n",
      "Epoch 161/200\n",
      "21702/21702 [==============================] - 0s 9us/step - loss: 0.1866 - acc: 0.9175 - val_loss: 0.2068 - val_acc: 0.9091\n",
      "Epoch 162/200\n",
      "21702/21702 [==============================] - 0s 9us/step - loss: 0.1866 - acc: 0.9190 - val_loss: 0.2069 - val_acc: 0.9095\n",
      "Epoch 163/200\n",
      "21702/21702 [==============================] - 0s 9us/step - loss: 0.1864 - acc: 0.9179 - val_loss: 0.2071 - val_acc: 0.9073\n",
      "Epoch 164/200\n",
      "21702/21702 [==============================] - 0s 10us/step - loss: 0.1863 - acc: 0.9183 - val_loss: 0.2075 - val_acc: 0.9080\n",
      "Epoch 165/200\n",
      "21702/21702 [==============================] - 0s 9us/step - loss: 0.1851 - acc: 0.9189 - val_loss: 0.2078 - val_acc: 0.9082\n",
      "Epoch 166/200\n",
      "21702/21702 [==============================] - 0s 11us/step - loss: 0.1846 - acc: 0.9180 - val_loss: 0.2078 - val_acc: 0.9073\n",
      "Epoch 167/200\n",
      "21702/21702 [==============================] - 0s 11us/step - loss: 0.1844 - acc: 0.9202 - val_loss: 0.2076 - val_acc: 0.9075\n",
      "Epoch 168/200\n",
      "21702/21702 [==============================] - 0s 7us/step - loss: 0.1849 - acc: 0.9174 - val_loss: 0.2077 - val_acc: 0.9067\n",
      "Epoch 169/200\n",
      "21702/21702 [==============================] - 0s 7us/step - loss: 0.1846 - acc: 0.9194 - val_loss: 0.2081 - val_acc: 0.9066\n",
      "Epoch 170/200\n",
      "21702/21702 [==============================] - 0s 13us/step - loss: 0.1844 - acc: 0.9190 - val_loss: 0.2085 - val_acc: 0.9062\n",
      "Epoch 171/200\n",
      "21702/21702 [==============================] - 0s 8us/step - loss: 0.1842 - acc: 0.9185 - val_loss: 0.2086 - val_acc: 0.9060\n",
      "Epoch 172/200\n",
      "21702/21702 [==============================] - 0s 7us/step - loss: 0.1830 - acc: 0.9196 - val_loss: 0.2086 - val_acc: 0.9069\n",
      "Epoch 173/200\n",
      "21702/21702 [==============================] - 0s 7us/step - loss: 0.1834 - acc: 0.9201 - val_loss: 0.2088 - val_acc: 0.9075\n",
      "Epoch 174/200\n",
      "21702/21702 [==============================] - 0s 8us/step - loss: 0.1844 - acc: 0.9191 - val_loss: 0.2091 - val_acc: 0.9075\n",
      "Epoch 175/200\n",
      "21702/21702 [==============================] - 0s 11us/step - loss: 0.1837 - acc: 0.9188 - val_loss: 0.2093 - val_acc: 0.9079\n",
      "Epoch 176/200\n",
      "21702/21702 [==============================] - 0s 9us/step - loss: 0.1827 - acc: 0.9199 - val_loss: 0.2094 - val_acc: 0.9071\n",
      "Epoch 177/200\n",
      "21702/21702 [==============================] - 0s 7us/step - loss: 0.1837 - acc: 0.9189 - val_loss: 0.2095 - val_acc: 0.9062\n"
     ]
    },
    {
     "name": "stdout",
     "output_type": "stream",
     "text": [
      "Epoch 178/200\n",
      "21702/21702 [==============================] - 0s 7us/step - loss: 0.1841 - acc: 0.9194 - val_loss: 0.2094 - val_acc: 0.9067\n",
      "Epoch 179/200\n",
      "21702/21702 [==============================] - 0s 7us/step - loss: 0.1839 - acc: 0.9203 - val_loss: 0.2090 - val_acc: 0.9075\n",
      "Epoch 180/200\n",
      "21702/21702 [==============================] - 0s 9us/step - loss: 0.1842 - acc: 0.9210 - val_loss: 0.2093 - val_acc: 0.9055\n",
      "Epoch 181/200\n",
      "21702/21702 [==============================] - 0s 10us/step - loss: 0.1817 - acc: 0.9216 - val_loss: 0.2095 - val_acc: 0.9055\n",
      "Epoch 182/200\n",
      "21702/21702 [==============================] - 0s 7us/step - loss: 0.1816 - acc: 0.9208 - val_loss: 0.2093 - val_acc: 0.9049\n",
      "Epoch 183/200\n",
      "21702/21702 [==============================] - 0s 11us/step - loss: 0.1806 - acc: 0.9208 - val_loss: 0.2091 - val_acc: 0.9056\n",
      "Epoch 184/200\n",
      "21702/21702 [==============================] - 0s 9us/step - loss: 0.1810 - acc: 0.9217 - val_loss: 0.2091 - val_acc: 0.9056\n",
      "Epoch 185/200\n",
      "21702/21702 [==============================] - 0s 7us/step - loss: 0.1813 - acc: 0.9202 - val_loss: 0.2090 - val_acc: 0.9064\n",
      "Epoch 186/200\n",
      "21702/21702 [==============================] - 0s 14us/step - loss: 0.1802 - acc: 0.9212 - val_loss: 0.2093 - val_acc: 0.9080\n",
      "Epoch 187/200\n",
      "21702/21702 [==============================] - 0s 8us/step - loss: 0.1803 - acc: 0.9207 - val_loss: 0.2095 - val_acc: 0.9066\n",
      "Epoch 188/200\n",
      "21702/21702 [==============================] - 0s 9us/step - loss: 0.1801 - acc: 0.9209 - val_loss: 0.2095 - val_acc: 0.9069\n",
      "Epoch 189/200\n",
      "21702/21702 [==============================] - 0s 9us/step - loss: 0.1800 - acc: 0.9217 - val_loss: 0.2093 - val_acc: 0.9067\n",
      "Epoch 190/200\n",
      "21702/21702 [==============================] - 0s 12us/step - loss: 0.1809 - acc: 0.9214 - val_loss: 0.2092 - val_acc: 0.9056\n",
      "Epoch 191/200\n",
      "21702/21702 [==============================] - 0s 9us/step - loss: 0.1808 - acc: 0.9210 - val_loss: 0.2091 - val_acc: 0.9060\n",
      "Epoch 192/200\n",
      "21702/21702 [==============================] - 0s 12us/step - loss: 0.1797 - acc: 0.9224 - val_loss: 0.2093 - val_acc: 0.9060\n",
      "Epoch 193/200\n",
      "21702/21702 [==============================] - 0s 10us/step - loss: 0.1797 - acc: 0.9216 - val_loss: 0.2095 - val_acc: 0.9060\n",
      "Epoch 194/200\n",
      "21702/21702 [==============================] - 0s 13us/step - loss: 0.1785 - acc: 0.9224 - val_loss: 0.2096 - val_acc: 0.9069\n",
      "Epoch 195/200\n",
      "21702/21702 [==============================] - 0s 13us/step - loss: 0.1809 - acc: 0.9219 - val_loss: 0.2097 - val_acc: 0.9075\n",
      "Epoch 196/200\n",
      "21702/21702 [==============================] - 0s 11us/step - loss: 0.1801 - acc: 0.9228 - val_loss: 0.2098 - val_acc: 0.9075\n",
      "Epoch 197/200\n",
      "21702/21702 [==============================] - 0s 13us/step - loss: 0.1785 - acc: 0.9222 - val_loss: 0.2101 - val_acc: 0.9080\n",
      "Epoch 198/200\n",
      "21702/21702 [==============================] - 0s 13us/step - loss: 0.1797 - acc: 0.9219 - val_loss: 0.2105 - val_acc: 0.9071\n",
      "Epoch 199/200\n",
      "21702/21702 [==============================] - 0s 12us/step - loss: 0.1772 - acc: 0.9232 - val_loss: 0.2107 - val_acc: 0.9064\n",
      "Epoch 200/200\n",
      "21702/21702 [==============================] - 0s 12us/step - loss: 0.1779 - acc: 0.9227 - val_loss: 0.2114 - val_acc: 0.9053\n",
      "dict_keys(['val_loss', 'val_acc', 'loss', 'acc'])\n",
      "27128/27128 [==============================] - 2s 69us/step\n",
      "acc: 92.18%\n"
     ]
    }
   ],
   "source": [
    "model.compile(optimizer=Adam(), loss='binary_crossentropy', metrics=['acc'])\n",
    "history = model.fit(X_train, y_train, epochs=200, batch_size=10000, validation_split=0.2, verbose=1)\n",
    "print(history.history.keys())\n",
    "\n",
    "scores = model.evaluate(X_train, y_train, batch_size=30)\n",
    "print('%s: %.2f%%' % (model.metrics_names[1], scores[1]*100))"
   ]
  },
  {
   "cell_type": "code",
   "execution_count": 247,
   "metadata": {},
   "outputs": [
    {
     "data": {
      "image/png": "[encoded data removed]",
      "text/plain": [
       "<Figure size 864x360 with 1 Axes>"
      ]
     },
     "metadata": {
      "needs_background": "light"
     },
     "output_type": "display_data"
    },
    {
     "data": {
      "image/png": "[encoded data removed]",
      "text/plain": [
       "<Figure size 864x360 with 1 Axes>"
      ]
     },
     "metadata": {
      "needs_background": "light"
     },
     "output_type": "display_data"
    }
   ],
   "source": [
    "def display():\n",
    "    \"\"\"This function display history of acc and loss.\n",
    "    returns: two figures.\n",
    "    \"\"\"\n",
    "    plt.figure(figsize=(12, 5))\n",
    "    plt.plot(history.history['acc'])\n",
    "    plt.plot(history.history['val_acc'])\n",
    "    plt.title('Model Accuracy')\n",
    "    plt.xlabel('epochs')\n",
    "    plt.ylabel('Accuracy')\n",
    "    plt.show()\n",
    "    \n",
    "    plt.figure(figsize=(12, 5))\n",
    "    plt.plot(history.history['loss'])\n",
    "    plt.plot(history.history['val_loss'])\n",
    "    plt.title('Model Loss')\n",
    "    plt.xlabel('epochs')\n",
    "    plt.ylabel('Loss')\n",
    "    plt.show()\n",
    "display()"
   ]
  },
  {
   "cell_type": "code",
   "execution_count": 248,
   "metadata": {},
   "outputs": [],
   "source": [
    "predict = model.predict(X_test)\n",
    "\n",
    "df_out = pd.read_csv('../data/bank/test.csv')\n",
    "df_out['y'] = predict\n",
    "\n",
    "df_out[['id', 'y']].to_csv('../data/bank/output/deep_new.csv', index=False, header=False)"
   ]
  },
  {
   "cell_type": "code",
   "execution_count": null,
   "metadata": {},
   "outputs": [],
   "source": []
  }
 ],
 "metadata": {
  "kernelspec": {
   "display_name": "Python 3",
   "language": "python",
   "name": "python3"
  },
  "language_info": {
   "codemirror_mode": {
    "name": "ipython",
    "version": 3
   },
   "file_extension": ".py",
   "mimetype": "text/x-python",
   "name": "python",
   "nbconvert_exporter": "python",
   "pygments_lexer": "ipython3",
   "version": "3.6.7"
  }
 },
 "nbformat": 4,
 "nbformat_minor": 2
}
