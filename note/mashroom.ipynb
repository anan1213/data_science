{
 "cells": [
  {
   "cell_type": "code",
   "execution_count": 1,
   "metadata": {},
   "outputs": [
    {
     "name": "stdout",
     "output_type": "stream",
     "text": [
      "['.DS_Store', 'train.tsv', 'output', 'test.tsv', '.ipynb_checkpoints']\n"
     ]
    }
   ],
   "source": [
    "import pandas as pd\n",
    "import matplotlib.pyplot as plt\n",
    "import numpy as np\n",
    "import seaborn as sns\n",
    "import os\n",
    "\n",
    "import warnings\n",
    "warnings.filterwarnings('ignore')\n",
    "\n",
    "print(os.listdir('../data/mashroom'))"
   ]
  },
  {
   "cell_type": "code",
   "execution_count": 2,
   "metadata": {},
   "outputs": [
    {
     "name": "stdout",
     "output_type": "stream",
     "text": [
      "(4062, 24) (4062, 23)\n"
     ]
    }
   ],
   "source": [
    "df_train = pd.read_csv('../data/mashroom/train.tsv', delimiter='\\t')\n",
    "df_test = pd.read_csv('../data/mashroom/test.tsv', delimiter='\\t')\n",
    "print(df_train.shape, df_test.shape)"
   ]
  },
  {
   "cell_type": "code",
   "execution_count": 3,
   "metadata": {},
   "outputs": [],
   "source": [
    "def kesson_table(df):\n",
    "    total = df.isnull().sum()\n",
    "    percent = total / len(df) * 100\n",
    "    kesson_table = pd.concat([total, percent], axis=1, keys=['Total', 'Percent'])\n",
    "    kesson_table = kesson_table.drop(kesson_table[kesson_table == 0].index.sort_values(ascending=False))\n",
    "    return kesson_table"
   ]
  },
  {
   "cell_type": "code",
   "execution_count": 4,
   "metadata": {},
   "outputs": [
    {
     "data": {
      "text/html": [
       "<div>\n",
       "<style scoped>\n",
       "    .dataframe tbody tr th:only-of-type {\n",
       "        vertical-align: middle;\n",
       "    }\n",
       "\n",
       "    .dataframe tbody tr th {\n",
       "        vertical-align: top;\n",
       "    }\n",
       "\n",
       "    .dataframe thead th {\n",
       "        text-align: right;\n",
       "    }\n",
       "</style>\n",
       "<table border=\"1\" class=\"dataframe\">\n",
       "  <thead>\n",
       "    <tr style=\"text-align: right;\">\n",
       "      <th></th>\n",
       "      <th>id</th>\n",
       "      <th>Y</th>\n",
       "      <th>cap-shape</th>\n",
       "      <th>cap-surface</th>\n",
       "      <th>cap-color</th>\n",
       "      <th>bruises</th>\n",
       "      <th>odor</th>\n",
       "      <th>gill-attachment</th>\n",
       "      <th>gill-spacing</th>\n",
       "      <th>gill-size</th>\n",
       "      <th>...</th>\n",
       "      <th>stalk-surface-below-ring</th>\n",
       "      <th>stalk-color-above-ring</th>\n",
       "      <th>stalk-color-below-ring</th>\n",
       "      <th>veil-type</th>\n",
       "      <th>veil-color</th>\n",
       "      <th>ring-number</th>\n",
       "      <th>ring-type</th>\n",
       "      <th>spore-print-color</th>\n",
       "      <th>population</th>\n",
       "      <th>habitat</th>\n",
       "    </tr>\n",
       "  </thead>\n",
       "  <tbody>\n",
       "    <tr>\n",
       "      <th>0</th>\n",
       "      <td>0</td>\n",
       "      <td>p</td>\n",
       "      <td>f</td>\n",
       "      <td>y</td>\n",
       "      <td>n</td>\n",
       "      <td>f</td>\n",
       "      <td>f</td>\n",
       "      <td>f</td>\n",
       "      <td>c</td>\n",
       "      <td>n</td>\n",
       "      <td>...</td>\n",
       "      <td>k</td>\n",
       "      <td>w</td>\n",
       "      <td>w</td>\n",
       "      <td>p</td>\n",
       "      <td>w</td>\n",
       "      <td>o</td>\n",
       "      <td>e</td>\n",
       "      <td>w</td>\n",
       "      <td>v</td>\n",
       "      <td>d</td>\n",
       "    </tr>\n",
       "    <tr>\n",
       "      <th>1</th>\n",
       "      <td>2</td>\n",
       "      <td>p</td>\n",
       "      <td>f</td>\n",
       "      <td>y</td>\n",
       "      <td>y</td>\n",
       "      <td>f</td>\n",
       "      <td>f</td>\n",
       "      <td>f</td>\n",
       "      <td>c</td>\n",
       "      <td>b</td>\n",
       "      <td>...</td>\n",
       "      <td>k</td>\n",
       "      <td>b</td>\n",
       "      <td>p</td>\n",
       "      <td>p</td>\n",
       "      <td>w</td>\n",
       "      <td>o</td>\n",
       "      <td>l</td>\n",
       "      <td>h</td>\n",
       "      <td>y</td>\n",
       "      <td>g</td>\n",
       "    </tr>\n",
       "    <tr>\n",
       "      <th>2</th>\n",
       "      <td>3</td>\n",
       "      <td>e</td>\n",
       "      <td>b</td>\n",
       "      <td>y</td>\n",
       "      <td>w</td>\n",
       "      <td>t</td>\n",
       "      <td>l</td>\n",
       "      <td>f</td>\n",
       "      <td>c</td>\n",
       "      <td>b</td>\n",
       "      <td>...</td>\n",
       "      <td>s</td>\n",
       "      <td>w</td>\n",
       "      <td>w</td>\n",
       "      <td>p</td>\n",
       "      <td>w</td>\n",
       "      <td>o</td>\n",
       "      <td>p</td>\n",
       "      <td>k</td>\n",
       "      <td>n</td>\n",
       "      <td>m</td>\n",
       "    </tr>\n",
       "    <tr>\n",
       "      <th>3</th>\n",
       "      <td>5</td>\n",
       "      <td>p</td>\n",
       "      <td>x</td>\n",
       "      <td>s</td>\n",
       "      <td>b</td>\n",
       "      <td>t</td>\n",
       "      <td>f</td>\n",
       "      <td>f</td>\n",
       "      <td>c</td>\n",
       "      <td>b</td>\n",
       "      <td>...</td>\n",
       "      <td>s</td>\n",
       "      <td>w</td>\n",
       "      <td>w</td>\n",
       "      <td>p</td>\n",
       "      <td>w</td>\n",
       "      <td>o</td>\n",
       "      <td>p</td>\n",
       "      <td>h</td>\n",
       "      <td>v</td>\n",
       "      <td>u</td>\n",
       "    </tr>\n",
       "    <tr>\n",
       "      <th>4</th>\n",
       "      <td>7</td>\n",
       "      <td>p</td>\n",
       "      <td>x</td>\n",
       "      <td>s</td>\n",
       "      <td>w</td>\n",
       "      <td>t</td>\n",
       "      <td>f</td>\n",
       "      <td>f</td>\n",
       "      <td>c</td>\n",
       "      <td>b</td>\n",
       "      <td>...</td>\n",
       "      <td>f</td>\n",
       "      <td>w</td>\n",
       "      <td>w</td>\n",
       "      <td>p</td>\n",
       "      <td>w</td>\n",
       "      <td>o</td>\n",
       "      <td>p</td>\n",
       "      <td>h</td>\n",
       "      <td>v</td>\n",
       "      <td>g</td>\n",
       "    </tr>\n",
       "  </tbody>\n",
       "</table>\n",
       "<p>5 rows × 24 columns</p>\n",
       "</div>"
      ],
      "text/plain": [
       "   id  Y cap-shape cap-surface cap-color bruises odor gill-attachment  \\\n",
       "0   0  p         f           y         n       f    f               f   \n",
       "1   2  p         f           y         y       f    f               f   \n",
       "2   3  e         b           y         w       t    l               f   \n",
       "3   5  p         x           s         b       t    f               f   \n",
       "4   7  p         x           s         w       t    f               f   \n",
       "\n",
       "  gill-spacing gill-size  ... stalk-surface-below-ring stalk-color-above-ring  \\\n",
       "0            c         n  ...                        k                      w   \n",
       "1            c         b  ...                        k                      b   \n",
       "2            c         b  ...                        s                      w   \n",
       "3            c         b  ...                        s                      w   \n",
       "4            c         b  ...                        f                      w   \n",
       "\n",
       "  stalk-color-below-ring veil-type veil-color ring-number ring-type  \\\n",
       "0                      w         p          w           o         e   \n",
       "1                      p         p          w           o         l   \n",
       "2                      w         p          w           o         p   \n",
       "3                      w         p          w           o         p   \n",
       "4                      w         p          w           o         p   \n",
       "\n",
       "  spore-print-color population habitat  \n",
       "0                 w          v       d  \n",
       "1                 h          y       g  \n",
       "2                 k          n       m  \n",
       "3                 h          v       u  \n",
       "4                 h          v       g  \n",
       "\n",
       "[5 rows x 24 columns]"
      ]
     },
     "execution_count": 4,
     "metadata": {},
     "output_type": "execute_result"
    }
   ],
   "source": [
    "df_train.head()"
   ]
  },
  {
   "cell_type": "code",
   "execution_count": 5,
   "metadata": {},
   "outputs": [
    {
     "data": {
      "text/plain": [
       "Index(['id', 'Y', 'cap-shape', 'cap-surface', 'cap-color', 'bruises', 'odor',\n",
       "       'gill-attachment', 'gill-spacing', 'gill-size', 'gill-color',\n",
       "       'stalk-shape', 'stalk-root', 'stalk-surface-above-ring',\n",
       "       'stalk-surface-below-ring', 'stalk-color-above-ring',\n",
       "       'stalk-color-below-ring', 'veil-type', 'veil-color', 'ring-number',\n",
       "       'ring-type', 'spore-print-color', 'population', 'habitat'],\n",
       "      dtype='object')"
      ]
     },
     "execution_count": 5,
     "metadata": {},
     "output_type": "execute_result"
    }
   ],
   "source": [
    "df_train.columns"
   ]
  },
  {
   "cell_type": "code",
   "execution_count": 6,
   "metadata": {},
   "outputs": [
    {
     "name": "stdout",
     "output_type": "stream",
     "text": [
      "Y            e    p\n",
      "cap-shape          \n",
      "b          227   17\n",
      "c            0    3\n",
      "f          818  755\n",
      "k          115  308\n",
      "s           10    0\n",
      "x          933  876\n"
     ]
    },
    {
     "data": {
      "image/png": "[encoded data removed]",
      "text/plain": [
       "<Figure size 864x360 with 1 Axes>"
      ]
     },
     "metadata": {
      "needs_background": "light"
     },
     "output_type": "display_data"
    }
   ],
   "source": [
    "print(pd.crosstab(df_train['cap-shape'], df_train['Y']))\n",
    "\n",
    "plt.figure(figsize=(12, 5))\n",
    "sns.countplot(x='cap-shape', data=df_train, hue='Y', palette='hls')\n",
    "plt.title('Description about cap-shape by Y', fontsize=20)\n",
    "plt.xlabel('cap-shape', fontsize=15)\n",
    "plt.ylabel('count', fontsize=15)\n",
    "\n",
    "plt.show()"
   ]
  },
  {
   "cell_type": "code",
   "execution_count": 7,
   "metadata": {},
   "outputs": [],
   "source": [
    "df_train['cap-shape'][(df_train['cap-shape']=='b') | (df_train['cap-shape']=='s')] = 1\n",
    "df_train['cap-shape'][(df_train['cap-shape']=='f') | (df_train['cap-shape']=='x')\n",
    "                      | (df_train['cap-shape']=='k') | (df_train['cap-shape']=='k') | (df_train['cap-shape']=='c')] = 0\n"
   ]
  },
  {
   "cell_type": "code",
   "execution_count": 8,
   "metadata": {},
   "outputs": [],
   "source": [
    "df_train['cap-shape'][(df_train['cap-shape']=='b') | (df_train['cap-shape']=='s')] = 1\n",
    "df_train['cap-shape'][ (df_train['cap-shape']!='b') & (df_train['cap-shape']!='s') & (df_train['cap-shape'] != 1)] = 0"
   ]
  },
  {
   "cell_type": "code",
   "execution_count": 9,
   "metadata": {},
   "outputs": [
    {
     "data": {
      "text/plain": [
       "0    3808\n",
       "1     254\n",
       "Name: cap-shape, dtype: int64"
      ]
     },
     "execution_count": 9,
     "metadata": {},
     "output_type": "execute_result"
    }
   ],
   "source": [
    "df_train['cap-shape'].value_counts()"
   ]
  },
  {
   "cell_type": "code",
   "execution_count": 10,
   "metadata": {},
   "outputs": [],
   "source": [
    "def train_change_test(string):\n",
    "    changed = string.replace('train', 'test')\n",
    "    return changed"
   ]
  },
  {
   "cell_type": "code",
   "execution_count": 11,
   "metadata": {},
   "outputs": [
    {
     "data": {
      "text/plain": [
       "\"df_test['cap-shape'][(df_test['cap-shape']=='b') | (df_test['cap-shape']=='s')] = 1 df_test['cap-shape'][ (df_test['cap-shape']!='b') & (df_test['cap-shape']!='s') & (df_test['cap-shape'] != 1)] = 0\""
      ]
     },
     "execution_count": 11,
     "metadata": {},
     "output_type": "execute_result"
    }
   ],
   "source": [
    "train_change_test(\"df_train['cap-shape'][(df_train['cap-shape']=='b') | (df_train['cap-shape']=='s')] = 1 \\\n",
    "df_train['cap-shape'][ (df_train['cap-shape']!='b') & (df_train['cap-shape']!='s') & (df_train['cap-shape'] != 1)] = 0\")"
   ]
  },
  {
   "cell_type": "code",
   "execution_count": 12,
   "metadata": {},
   "outputs": [],
   "source": [
    "df_test['cap-shape'][(df_test['cap-shape']=='b') | (df_test['cap-shape']=='s')] = 1\n",
    "df_test['cap-shape'][ (df_test['cap-shape']!='b') & (df_test['cap-shape']!='s') & (df_test['cap-shape'] != 1)] = 0"
   ]
  },
  {
   "cell_type": "code",
   "execution_count": 13,
   "metadata": {},
   "outputs": [
    {
     "data": {
      "image/png": "[encoded data removed]",
      "text/plain": [
       "<Figure size 864x360 with 1 Axes>"
      ]
     },
     "metadata": {
      "needs_background": "light"
     },
     "output_type": "display_data"
    },
    {
     "data": {
      "image/png": "[encoded data removed]",
      "text/plain": [
       "<Figure size 864x360 with 1 Axes>"
      ]
     },
     "metadata": {
      "needs_background": "light"
     },
     "output_type": "display_data"
    },
    {
     "data": {
      "image/png": "[encoded data removed]",
      "text/plain": [
       "<Figure size 864x360 with 1 Axes>"
      ]
     },
     "metadata": {
      "needs_background": "light"
     },
     "output_type": "display_data"
    },
    {
     "data": {
      "image/png": "[encoded data removed]",
      "text/plain": [
       "<Figure size 864x360 with 1 Axes>"
      ]
     },
     "metadata": {
      "needs_background": "light"
     },
     "output_type": "display_data"
    }
   ],
   "source": [
    "plt.figure(figsize=(12, 5))\n",
    "sns.countplot(x='cap-surface', data=df_train, hue='Y', palette='hls')\n",
    "plt.title('Description about var by Y', fontsize=20)\n",
    "plt.xlabel('var', fontsize=15)\n",
    "plt.ylabel('count', fontsize=15)\n",
    "\n",
    "plt.show()\n",
    "\n",
    "plt.figure(figsize=(12, 5))\n",
    "sns.countplot(x='cap-color', data=df_train, hue='Y', palette='hls')\n",
    "plt.title('Description about var by Y', fontsize=20)\n",
    "plt.xlabel('var', fontsize=15)\n",
    "plt.ylabel('count', fontsize=15)\n",
    "\n",
    "plt.show()\n",
    "\n",
    "plt.figure(figsize=(12, 5))\n",
    "sns.countplot(x='bruises', data=df_train, hue='Y', palette='hls')\n",
    "plt.title('Description about var by Y', fontsize=20)\n",
    "plt.xlabel('var', fontsize=15)\n",
    "plt.ylabel('count', fontsize=15)\n",
    "\n",
    "plt.show()\n",
    "\n",
    "plt.figure(figsize=(12, 5))\n",
    "sns.countplot(x='odor', data=df_train, hue='Y', palette='hls')\n",
    "plt.title('Description about var by Y', fontsize=20)\n",
    "plt.xlabel('var', fontsize=15)\n",
    "plt.ylabel('count', fontsize=15)\n",
    "\n",
    "plt.show()"
   ]
  },
  {
   "cell_type": "code",
   "execution_count": 14,
   "metadata": {},
   "outputs": [],
   "source": [
    "columns = ['cap-shape', 'cap-surface', 'cap-color', 'bruises', 'odor',\n",
    "       'gill-attachment', 'gill-spacing', 'gill-size', 'gill-color',\n",
    "       'stalk-shape', 'stalk-root', 'stalk-surface-above-ring',\n",
    "       'stalk-surface-below-ring', 'stalk-color-above-ring',\n",
    "       'stalk-color-below-ring', 'veil-type', 'veil-color', 'ring-number',\n",
    "       'ring-type', 'spore-print-color', 'population', 'habitat']\n",
    "prefix = ['cap-shape', 'cap-surface', 'cap-color', 'bruises', 'odor',\n",
    "       'gill-attachment', 'gill-spacing', 'gill-size', 'gill-color',\n",
    "       'stalk-shape', 'stalk-root', 'stalk-surface-above-ring',\n",
    "       'stalk-surface-below-ring', 'stalk-color-above-ring',\n",
    "       'stalk-color-below-ring', 'veil-type', 'veil-color', 'ring-number',\n",
    "       'ring-type', 'spore-print-color', 'population', 'habitat']\n",
    "\n",
    "df_train = pd.get_dummies(df_train, columns=columns, prefix=prefix, drop_first=True)\n",
    "df_test = pd.get_dummies(df_test, columns=columns, prefix=prefix, drop_first=True)"
   ]
  },
  {
   "cell_type": "code",
   "execution_count": 15,
   "metadata": {},
   "outputs": [],
   "source": [
    "from sklearn.preprocessing import StandardScaler\n",
    "sc = StandardScaler()"
   ]
  },
  {
   "cell_type": "code",
   "execution_count": 16,
   "metadata": {},
   "outputs": [],
   "source": [
    "train = df_train.drop(['id', 'Y'], axis=1)\n",
    "train_ = df_train['Y']\n",
    "train_[train_ == 'p'] = 0\n",
    "train_[train_== 'e'] = 1\n",
    "test = df_test.drop(['id'], axis=1)\n",
    "\n",
    "X_train = sc.fit_transform(train.values)\n",
    "y_train = train_.values\n",
    "X_test = sc.fit_transform(test.values)"
   ]
  },
  {
   "cell_type": "code",
   "execution_count": 17,
   "metadata": {},
   "outputs": [
    {
     "name": "stdout",
     "output_type": "stream",
     "text": [
      "(4062, 91) (4062, 91) (4062,)\n"
     ]
    }
   ],
   "source": [
    "print(X_train.shape, X_test.shape, y_train.shape)"
   ]
  },
  {
   "cell_type": "code",
   "execution_count": 18,
   "metadata": {},
   "outputs": [
    {
     "name": "stderr",
     "output_type": "stream",
     "text": [
      "Using TensorFlow backend.\n"
     ]
    }
   ],
   "source": [
    "from keras.models import Sequential\n",
    "from keras.layers import Dense, Dropout\n",
    "from keras.optimizers import Adam"
   ]
  },
  {
   "cell_type": "code",
   "execution_count": 19,
   "metadata": {},
   "outputs": [
    {
     "name": "stdout",
     "output_type": "stream",
     "text": [
      "WARNING:tensorflow:From /Users/anankoki/kaggle/lib/python3.6/site-packages/tensorflow/python/framework/op_def_library.py:263: colocate_with (from tensorflow.python.framework.ops) is deprecated and will be removed in a future version.\n",
      "Instructions for updating:\n",
      "Colocations handled automatically by placer.\n",
      "WARNING:tensorflow:From /Users/anankoki/kaggle/lib/python3.6/site-packages/keras/backend/tensorflow_backend.py:3445: calling dropout (from tensorflow.python.ops.nn_ops) with keep_prob is deprecated and will be removed in a future version.\n",
      "Instructions for updating:\n",
      "Please use `rate` instead of `keep_prob`. Rate should be set to `rate = 1 - keep_prob`.\n",
      "_________________________________________________________________\n",
      "Layer (type)                 Output Shape              Param #   \n",
      "=================================================================\n",
      "dense_1 (Dense)              (None, 10)                920       \n",
      "_________________________________________________________________\n",
      "dropout_1 (Dropout)          (None, 10)                0         \n",
      "_________________________________________________________________\n",
      "dense_2 (Dense)              (None, 100)               1100      \n",
      "_________________________________________________________________\n",
      "dropout_2 (Dropout)          (None, 100)               0         \n",
      "_________________________________________________________________\n",
      "dense_3 (Dense)              (None, 1)                 101       \n",
      "=================================================================\n",
      "Total params: 2,121\n",
      "Trainable params: 2,121\n",
      "Non-trainable params: 0\n",
      "_________________________________________________________________\n"
     ]
    }
   ],
   "source": [
    "model = Sequential()\n",
    "\n",
    "model.add(Dense(10, activation='relu', input_dim=91, kernel_initializer='uniform'))\n",
    "model.add(Dropout(0.4))\n",
    "model.add(Dense(100, activation='relu', kernel_initializer='uniform'))\n",
    "model.add(Dropout(0.4))\n",
    "model.add(Dense(1, activation='sigmoid', kernel_initializer='uniform'))\n",
    "\n",
    "model.summary()"
   ]
  },
  {
   "cell_type": "code",
   "execution_count": 20,
   "metadata": {},
   "outputs": [
    {
     "name": "stdout",
     "output_type": "stream",
     "text": [
      "WARNING:tensorflow:From /Users/anankoki/kaggle/lib/python3.6/site-packages/tensorflow/python/ops/math_ops.py:3066: to_int32 (from tensorflow.python.ops.math_ops) is deprecated and will be removed in a future version.\n",
      "Instructions for updating:\n",
      "Use tf.cast instead.\n",
      "Train on 3249 samples, validate on 813 samples\n",
      "Epoch 1/100\n",
      "3249/3249 [==============================] - 1s 232us/step - loss: 0.5782 - acc: 0.7596 - val_loss: 0.3129 - val_acc: 0.9471\n",
      "Epoch 2/100\n",
      "3249/3249 [==============================] - 0s 49us/step - loss: 0.1912 - acc: 0.9818 - val_loss: 0.0710 - val_acc: 0.9902\n",
      "Epoch 3/100\n",
      "3249/3249 [==============================] - 0s 44us/step - loss: 0.0892 - acc: 0.9963 - val_loss: 0.0320 - val_acc: 0.9963\n",
      "Epoch 4/100\n",
      "3249/3249 [==============================] - 0s 45us/step - loss: 0.0488 - acc: 0.9988 - val_loss: 0.0194 - val_acc: 0.9963\n",
      "Epoch 5/100\n",
      "3249/3249 [==============================] - 0s 49us/step - loss: 0.0355 - acc: 0.9969 - val_loss: 0.0125 - val_acc: 0.9988\n",
      "Epoch 6/100\n",
      "3249/3249 [==============================] - 0s 48us/step - loss: 0.0226 - acc: 0.9985 - val_loss: 0.0090 - val_acc: 0.9988\n",
      "Epoch 7/100\n",
      "3249/3249 [==============================] - 0s 43us/step - loss: 0.0217 - acc: 0.9963 - val_loss: 0.0065 - val_acc: 0.9988\n",
      "Epoch 8/100\n",
      "3249/3249 [==============================] - 0s 45us/step - loss: 0.0139 - acc: 0.9982 - val_loss: 0.0050 - val_acc: 0.9988\n",
      "Epoch 9/100\n",
      "3249/3249 [==============================] - 0s 46us/step - loss: 0.0133 - acc: 0.9982 - val_loss: 0.0025 - val_acc: 1.0000\n",
      "Epoch 10/100\n",
      "3249/3249 [==============================] - 0s 73us/step - loss: 0.0098 - acc: 0.9988 - val_loss: 0.0022 - val_acc: 1.0000\n",
      "Epoch 11/100\n",
      "3249/3249 [==============================] - 0s 53us/step - loss: 0.0124 - acc: 0.9975 - val_loss: 0.0020 - val_acc: 1.0000\n",
      "Epoch 12/100\n",
      "3249/3249 [==============================] - 0s 44us/step - loss: 0.0069 - acc: 0.9991 - val_loss: 0.0021 - val_acc: 1.0000\n",
      "Epoch 13/100\n",
      "3249/3249 [==============================] - 0s 45us/step - loss: 0.0090 - acc: 0.9988 - val_loss: 0.0012 - val_acc: 1.0000\n",
      "Epoch 14/100\n",
      "3249/3249 [==============================] - 0s 49us/step - loss: 0.0074 - acc: 0.9985 - val_loss: 0.0018 - val_acc: 1.0000\n",
      "Epoch 15/100\n",
      "3249/3249 [==============================] - 0s 54us/step - loss: 0.0089 - acc: 0.9985 - val_loss: 6.7397e-04 - val_acc: 1.0000\n",
      "Epoch 16/100\n",
      "3249/3249 [==============================] - 0s 50us/step - loss: 0.0080 - acc: 0.9991 - val_loss: 6.1176e-04 - val_acc: 1.0000\n",
      "Epoch 17/100\n",
      "3249/3249 [==============================] - 0s 44us/step - loss: 0.0056 - acc: 0.9991 - val_loss: 5.5736e-04 - val_acc: 1.0000\n",
      "Epoch 18/100\n",
      "3249/3249 [==============================] - 0s 44us/step - loss: 0.0113 - acc: 0.9978 - val_loss: 6.5801e-04 - val_acc: 1.0000\n",
      "Epoch 19/100\n",
      "3249/3249 [==============================] - 0s 44us/step - loss: 0.0108 - acc: 0.9978 - val_loss: 7.1085e-04 - val_acc: 1.0000\n",
      "Epoch 20/100\n",
      "3249/3249 [==============================] - 0s 50us/step - loss: 0.0086 - acc: 0.9985 - val_loss: 6.1107e-04 - val_acc: 1.0000\n",
      "Epoch 21/100\n",
      "3249/3249 [==============================] - 0s 47us/step - loss: 0.0105 - acc: 0.9982 - val_loss: 6.4089e-04 - val_acc: 1.0000\n",
      "Epoch 22/100\n",
      "3249/3249 [==============================] - 0s 46us/step - loss: 0.0021 - acc: 1.0000 - val_loss: 5.8200e-04 - val_acc: 1.0000\n",
      "Epoch 23/100\n",
      "3249/3249 [==============================] - 0s 49us/step - loss: 0.0092 - acc: 0.9982 - val_loss: 0.0011 - val_acc: 1.0000\n",
      "Epoch 24/100\n",
      "3249/3249 [==============================] - 0s 46us/step - loss: 0.0154 - acc: 0.9972 - val_loss: 0.0022 - val_acc: 0.9988\n",
      "Epoch 25/100\n",
      "3249/3249 [==============================] - 0s 48us/step - loss: 0.0064 - acc: 0.9991 - val_loss: 0.0016 - val_acc: 1.0000\n",
      "Epoch 26/100\n",
      "3249/3249 [==============================] - 0s 46us/step - loss: 0.0048 - acc: 0.9994 - val_loss: 0.0010 - val_acc: 1.0000\n",
      "Epoch 27/100\n",
      "3249/3249 [==============================] - 0s 59us/step - loss: 0.0092 - acc: 0.9988 - val_loss: 9.3148e-04 - val_acc: 1.0000\n",
      "Epoch 28/100\n",
      "3249/3249 [==============================] - 0s 75us/step - loss: 0.0139 - acc: 0.9975 - val_loss: 0.0012 - val_acc: 1.0000\n",
      "Epoch 29/100\n",
      "3249/3249 [==============================] - 0s 69us/step - loss: 0.0036 - acc: 0.9997 - val_loss: 7.3953e-04 - val_acc: 1.0000\n",
      "Epoch 30/100\n",
      "3249/3249 [==============================] - 0s 81us/step - loss: 0.0085 - acc: 0.9988 - val_loss: 5.6326e-04 - val_acc: 1.0000\n",
      "Epoch 31/100\n",
      "3249/3249 [==============================] - 0s 63us/step - loss: 0.0057 - acc: 0.9988 - val_loss: 7.0739e-04 - val_acc: 1.0000\n",
      "Epoch 32/100\n",
      "3249/3249 [==============================] - 0s 80us/step - loss: 0.0116 - acc: 0.9982 - val_loss: 4.8824e-04 - val_acc: 1.0000\n",
      "Epoch 33/100\n",
      "3249/3249 [==============================] - 0s 83us/step - loss: 0.0051 - acc: 0.9994 - val_loss: 4.7656e-04 - val_acc: 1.0000\n",
      "Epoch 34/100\n",
      "3249/3249 [==============================] - 0s 72us/step - loss: 0.0106 - acc: 0.9985 - val_loss: 5.7737e-04 - val_acc: 1.0000\n",
      "Epoch 35/100\n",
      "3249/3249 [==============================] - 0s 51us/step - loss: 0.0107 - acc: 0.9982 - val_loss: 6.2025e-04 - val_acc: 1.0000\n",
      "Epoch 36/100\n",
      "3249/3249 [==============================] - 0s 48us/step - loss: 0.0051 - acc: 0.9994 - val_loss: 5.8513e-04 - val_acc: 1.0000\n",
      "Epoch 37/100\n",
      "3249/3249 [==============================] - 0s 75us/step - loss: 0.0123 - acc: 0.9982 - val_loss: 7.3039e-04 - val_acc: 1.0000\n",
      "Epoch 38/100\n",
      "3249/3249 [==============================] - 0s 75us/step - loss: 0.0094 - acc: 0.9985 - val_loss: 7.8379e-04 - val_acc: 1.0000\n",
      "Epoch 39/100\n",
      "3249/3249 [==============================] - 0s 85us/step - loss: 0.0098 - acc: 0.9985 - val_loss: 0.0010 - val_acc: 1.0000\n",
      "Epoch 40/100\n",
      "3249/3249 [==============================] - 0s 81us/step - loss: 0.0131 - acc: 0.9978 - val_loss: 7.9545e-04 - val_acc: 1.0000\n",
      "Epoch 41/100\n",
      "3249/3249 [==============================] - 0s 52us/step - loss: 0.0053 - acc: 0.9994 - val_loss: 7.3696e-04 - val_acc: 1.0000\n",
      "Epoch 42/100\n",
      "3249/3249 [==============================] - 0s 48us/step - loss: 0.0048 - acc: 0.9991 - val_loss: 0.0024 - val_acc: 0.9988\n",
      "Epoch 43/100\n",
      "3249/3249 [==============================] - 0s 44us/step - loss: 0.0049 - acc: 0.9994 - val_loss: 0.0014 - val_acc: 1.0000\n",
      "Epoch 44/100\n",
      "3249/3249 [==============================] - 0s 71us/step - loss: 0.0032 - acc: 0.9997 - val_loss: 0.0011 - val_acc: 1.0000\n",
      "Epoch 45/100\n",
      "3249/3249 [==============================] - 0s 65us/step - loss: 0.0029 - acc: 0.9997 - val_loss: 0.0037 - val_acc: 0.9975\n",
      "Epoch 46/100\n",
      "3249/3249 [==============================] - 0s 63us/step - loss: 0.0105 - acc: 0.9982 - val_loss: 0.0038 - val_acc: 0.9975\n",
      "Epoch 47/100\n",
      "3249/3249 [==============================] - 0s 75us/step - loss: 0.0090 - acc: 0.9985 - val_loss: 0.0019 - val_acc: 1.0000\n",
      "Epoch 48/100\n",
      "3249/3249 [==============================] - 0s 86us/step - loss: 0.0089 - acc: 0.9985 - val_loss: 7.2554e-04 - val_acc: 1.0000\n",
      "Epoch 49/100\n",
      "3249/3249 [==============================] - 0s 75us/step - loss: 0.0083 - acc: 0.9988 - val_loss: 6.6094e-04 - val_acc: 1.0000\n",
      "Epoch 50/100\n",
      "3249/3249 [==============================] - 0s 67us/step - loss: 0.0013 - acc: 1.0000 - val_loss: 5.5574e-04 - val_acc: 1.0000\n",
      "Epoch 51/100\n",
      "3249/3249 [==============================] - 0s 50us/step - loss: 0.0040 - acc: 0.9994 - val_loss: 4.8075e-04 - val_acc: 1.0000\n",
      "Epoch 52/100\n",
      "3249/3249 [==============================] - 0s 64us/step - loss: 0.0083 - acc: 0.9988 - val_loss: 7.1511e-04 - val_acc: 1.0000\n",
      "Epoch 53/100\n",
      "3249/3249 [==============================] - 0s 82us/step - loss: 0.0114 - acc: 0.9982 - val_loss: 7.3145e-04 - val_acc: 1.0000\n",
      "Epoch 54/100\n",
      "3249/3249 [==============================] - 0s 46us/step - loss: 0.0075 - acc: 0.9988 - val_loss: 6.7767e-04 - val_acc: 1.0000\n",
      "Epoch 55/100\n",
      "3249/3249 [==============================] - 0s 57us/step - loss: 0.0032 - acc: 0.9997 - val_loss: 5.7847e-04 - val_acc: 1.0000\n",
      "Epoch 56/100\n",
      "3249/3249 [==============================] - 0s 66us/step - loss: 0.0056 - acc: 0.9991 - val_loss: 5.8338e-04 - val_acc: 1.0000\n",
      "Epoch 57/100\n",
      "3249/3249 [==============================] - 0s 65us/step - loss: 0.0088 - acc: 0.9988 - val_loss: 6.1016e-04 - val_acc: 1.0000\n"
     ]
    },
    {
     "name": "stdout",
     "output_type": "stream",
     "text": [
      "Epoch 58/100\n",
      "3249/3249 [==============================] - 0s 85us/step - loss: 0.0084 - acc: 0.9988 - val_loss: 6.8430e-04 - val_acc: 1.0000\n",
      "Epoch 59/100\n",
      "3249/3249 [==============================] - 0s 91us/step - loss: 0.0042 - acc: 0.9994 - val_loss: 8.1478e-04 - val_acc: 1.0000\n",
      "Epoch 60/100\n",
      "3249/3249 [==============================] - 0s 45us/step - loss: 0.0069 - acc: 0.9991 - val_loss: 0.0018 - val_acc: 0.9988\n",
      "Epoch 61/100\n",
      "3249/3249 [==============================] - 0s 66us/step - loss: 0.0044 - acc: 0.9994 - val_loss: 0.0018 - val_acc: 0.9988\n",
      "Epoch 62/100\n",
      "3249/3249 [==============================] - 0s 65us/step - loss: 0.0050 - acc: 0.9994 - val_loss: 0.0017 - val_acc: 1.0000\n",
      "Epoch 63/100\n",
      "3249/3249 [==============================] - 0s 46us/step - loss: 0.0046 - acc: 0.9994 - val_loss: 0.0016 - val_acc: 1.0000\n",
      "Epoch 64/100\n",
      "3249/3249 [==============================] - 0s 47us/step - loss: 0.0102 - acc: 0.9985 - val_loss: 0.0018 - val_acc: 0.9988\n",
      "Epoch 65/100\n",
      "3249/3249 [==============================] - 0s 78us/step - loss: 0.0043 - acc: 0.9994 - val_loss: 0.0023 - val_acc: 0.9988\n",
      "Epoch 66/100\n",
      "3249/3249 [==============================] - 0s 64us/step - loss: 0.0135 - acc: 0.9978 - val_loss: 4.7669e-04 - val_acc: 1.0000\n",
      "Epoch 67/100\n",
      "3249/3249 [==============================] - 0s 76us/step - loss: 0.0027 - acc: 0.9997 - val_loss: 3.5455e-04 - val_acc: 1.0000\n",
      "Epoch 68/100\n",
      "3249/3249 [==============================] - 0s 88us/step - loss: 0.0050 - acc: 0.9994 - val_loss: 3.3022e-04 - val_acc: 1.0000\n",
      "Epoch 69/100\n",
      "3249/3249 [==============================] - 0s 48us/step - loss: 0.0050 - acc: 0.9994 - val_loss: 2.7736e-04 - val_acc: 1.0000\n",
      "Epoch 70/100\n",
      "3249/3249 [==============================] - 0s 79us/step - loss: 0.0077 - acc: 0.9988 - val_loss: 2.6408e-04 - val_acc: 1.0000\n",
      "Epoch 71/100\n",
      "3249/3249 [==============================] - 0s 62us/step - loss: 0.0080 - acc: 0.9988 - val_loss: 2.9239e-04 - val_acc: 1.0000\n",
      "Epoch 72/100\n",
      "3249/3249 [==============================] - 0s 51us/step - loss: 0.0059 - acc: 0.9991 - val_loss: 2.6983e-04 - val_acc: 1.0000\n",
      "Epoch 73/100\n",
      "3249/3249 [==============================] - 0s 43us/step - loss: 0.0042 - acc: 0.9994 - val_loss: 2.6115e-04 - val_acc: 1.0000\n",
      "Epoch 74/100\n",
      "3249/3249 [==============================] - 0s 58us/step - loss: 9.4108e-04 - acc: 1.0000 - val_loss: 2.0418e-04 - val_acc: 1.0000\n",
      "Epoch 75/100\n",
      "3249/3249 [==============================] - 0s 67us/step - loss: 0.0028 - acc: 0.9997 - val_loss: 1.9100e-04 - val_acc: 1.0000\n",
      "Epoch 76/100\n",
      "3249/3249 [==============================] - 0s 59us/step - loss: 0.0100 - acc: 0.9985 - val_loss: 2.9988e-04 - val_acc: 1.0000\n",
      "Epoch 77/100\n",
      "3249/3249 [==============================] - 0s 51us/step - loss: 0.0064 - acc: 0.9991 - val_loss: 2.6115e-04 - val_acc: 1.0000\n",
      "Epoch 78/100\n",
      "3249/3249 [==============================] - 0s 62us/step - loss: 0.0075 - acc: 0.9988 - val_loss: 2.9004e-04 - val_acc: 1.0000\n",
      "Epoch 79/100\n",
      "3249/3249 [==============================] - 0s 61us/step - loss: 0.0060 - acc: 0.9991 - val_loss: 2.7355e-04 - val_acc: 1.0000\n",
      "Epoch 80/100\n",
      "3249/3249 [==============================] - 0s 59us/step - loss: 0.0027 - acc: 0.9997 - val_loss: 2.4752e-04 - val_acc: 1.0000\n",
      "Epoch 81/100\n",
      "3249/3249 [==============================] - 0s 68us/step - loss: 0.0045 - acc: 0.9994 - val_loss: 2.2373e-04 - val_acc: 1.0000\n",
      "Epoch 82/100\n",
      "3249/3249 [==============================] - 0s 62us/step - loss: 0.0088 - acc: 0.9988 - val_loss: 2.6671e-04 - val_acc: 1.0000\n",
      "Epoch 83/100\n",
      "3249/3249 [==============================] - 0s 56us/step - loss: 0.0028 - acc: 0.9997 - val_loss: 2.0220e-04 - val_acc: 1.0000\n",
      "Epoch 84/100\n",
      "3249/3249 [==============================] - 0s 73us/step - loss: 0.0047 - acc: 0.9994 - val_loss: 1.8941e-04 - val_acc: 1.0000\n",
      "Epoch 85/100\n",
      "3249/3249 [==============================] - 0s 92us/step - loss: 0.0083 - acc: 0.9985 - val_loss: 2.5637e-04 - val_acc: 1.0000\n",
      "Epoch 86/100\n",
      "3249/3249 [==============================] - 0s 52us/step - loss: 0.0057 - acc: 0.9991 - val_loss: 2.3160e-04 - val_acc: 1.0000\n",
      "Epoch 87/100\n",
      "3249/3249 [==============================] - 0s 80us/step - loss: 0.0048 - acc: 0.9994 - val_loss: 2.2753e-04 - val_acc: 1.0000\n",
      "Epoch 88/100\n",
      "3249/3249 [==============================] - 0s 50us/step - loss: 0.0097 - acc: 0.9985 - val_loss: 2.5015e-04 - val_acc: 1.0000\n",
      "Epoch 89/100\n",
      "3249/3249 [==============================] - 0s 62us/step - loss: 0.0105 - acc: 0.9985 - val_loss: 3.0345e-04 - val_acc: 1.0000\n",
      "Epoch 90/100\n",
      "3249/3249 [==============================] - 0s 59us/step - loss: 0.0044 - acc: 0.9994 - val_loss: 2.6063e-04 - val_acc: 1.0000\n",
      "Epoch 91/100\n",
      "3249/3249 [==============================] - 0s 71us/step - loss: 0.0046 - acc: 0.9994 - val_loss: 2.3096e-04 - val_acc: 1.0000\n",
      "Epoch 92/100\n",
      "3249/3249 [==============================] - 0s 63us/step - loss: 0.0062 - acc: 0.9991 - val_loss: 2.1214e-04 - val_acc: 1.0000\n",
      "Epoch 93/100\n",
      "3249/3249 [==============================] - 0s 57us/step - loss: 0.0080 - acc: 0.9988 - val_loss: 2.3652e-04 - val_acc: 1.0000\n",
      "Epoch 94/100\n",
      "3249/3249 [==============================] - 0s 55us/step - loss: 0.0011 - acc: 1.0000 - val_loss: 1.8646e-04 - val_acc: 1.0000\n",
      "Epoch 95/100\n",
      "3249/3249 [==============================] - 0s 56us/step - loss: 0.0066 - acc: 0.9991 - val_loss: 1.9906e-04 - val_acc: 1.0000\n",
      "Epoch 96/100\n",
      "3249/3249 [==============================] - 0s 82us/step - loss: 0.0049 - acc: 0.9994 - val_loss: 2.9484e-04 - val_acc: 1.0000\n",
      "Epoch 97/100\n",
      "3249/3249 [==============================] - 0s 57us/step - loss: 0.0083 - acc: 0.9988 - val_loss: 3.2311e-04 - val_acc: 1.0000\n",
      "Epoch 98/100\n",
      "3249/3249 [==============================] - 0s 56us/step - loss: 0.0028 - acc: 0.9997 - val_loss: 1.9892e-04 - val_acc: 1.0000\n",
      "Epoch 99/100\n",
      "3249/3249 [==============================] - 0s 44us/step - loss: 0.0044 - acc: 0.9994 - val_loss: 1.8586e-04 - val_acc: 1.0000\n",
      "Epoch 100/100\n",
      "3249/3249 [==============================] - 0s 41us/step - loss: 0.0030 - acc: 0.9997 - val_loss: 1.6033e-04 - val_acc: 1.0000\n",
      "4062/4062 [==============================] - 0s 34us/step\n",
      "acc : 100.00%\n"
     ]
    }
   ],
   "source": [
    "model.compile(optimizer=Adam(), loss='binary_crossentropy', metrics=['accuracy'])\n",
    "history = model.fit(X_train, y_train,validation_split=0.2, batch_size=50, epochs=100, verbose=1)\n",
    "\n",
    "scores = model.evaluate(X_train, y_train, batch_size=20)\n",
    "print('%s : %.2f%%' % (model.metrics_names[1], scores[1]*100))"
   ]
  },
  {
   "cell_type": "code",
   "execution_count": 90,
   "metadata": {},
   "outputs": [
    {
     "data": {
      "image/png": "[encoded data removed]",
      "text/plain": [
       "<Figure size 432x288 with 1 Axes>"
      ]
     },
     "metadata": {
      "needs_background": "light"
     },
     "output_type": "display_data"
    }
   ],
   "source": [
    "plt.plot(history.history['acc'])\n",
    "plt.plot(history.history['val_acc'])\n",
    "plt.title('Model Acuuracy')\n",
    "plt.xlabel('Epochs')\n",
    "plt.ylabel('Accuracy')\n",
    "plt.legend(['train', 'test'], loc='upper left')\n",
    "plt.show()"
   ]
  },
  {
   "cell_type": "code",
   "execution_count": 91,
   "metadata": {},
   "outputs": [
    {
     "data": {
      "image/png": "[encoded data removed]",
      "text/plain": [
       "<Figure size 432x288 with 1 Axes>"
      ]
     },
     "metadata": {
      "needs_background": "light"
     },
     "output_type": "display_data"
    }
   ],
   "source": [
    "plt.plot(history.history['loss'])\n",
    "plt.plot(history.history['val_loss'])\n",
    "plt.title('Model loss')\n",
    "plt.xlabel('Epochs')\n",
    "plt.ylabel('loss')\n",
    "plt.legend(['train', 'test'], loc='upper left')\n",
    "plt.show()"
   ]
  },
  {
   "cell_type": "code",
   "execution_count": 95,
   "metadata": {},
   "outputs": [],
   "source": [
    "predict = np.round(model.predict(X_test))\n",
    "\n",
    "df_out = pd.read_csv('../data/mashroom/test.tsv', delimiter='\\t')\n",
    "df_out['Y'] = predict\n",
    "df_out['Y'][df_out['Y'] == 1] = 'p'\n",
    "df_out['Y'][df_out['Y'] == 0] = 'e'\n",
    "\n",
    "df_out[['id', 'Y']].to_csv('../data/mashroom/output/summit.csv', index=False, header=False)"
   ]
  },
  {
   "cell_type": "code",
   "execution_count": null,
   "metadata": {},
   "outputs": [],
   "source": []
  }
 ],
 "metadata": {
  "kernelspec": {
   "display_name": "Python 3",
   "language": "python",
   "name": "python3"
  },
  "language_info": {
   "codemirror_mode": {
    "name": "ipython",
    "version": 3
   },
   "file_extension": ".py",
   "mimetype": "text/x-python",
   "name": "python",
   "nbconvert_exporter": "python",
   "pygments_lexer": "ipython3",
   "version": "3.6.7"
  }
 },
 "nbformat": 4,
 "nbformat_minor": 2
}
