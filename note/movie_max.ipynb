{
 "cells": [
  {
   "cell_type": "code",
   "execution_count": 1,
   "metadata": {},
   "outputs": [
    {
     "name": "stdout",
     "output_type": "stream",
     "text": [
      "['sample_submission.csv', 'test.csv', 'output', '.ipynb_checkpoints', 'train.csv']\n"
     ]
    }
   ],
   "source": [
    "import pandas as pd\n",
    "import numpy as np\n",
    "import matplotlib.pyplot as plt\n",
    "import seaborn as sns\n",
    "import re\n",
    "import os\n",
    "import random\n",
    "\n",
    "import warnings\n",
    "warnings.filterwarnings('ignore')\n",
    "from scipy import stats\n",
    "from scipy.stats import boxcox\n",
    "\n",
    "from funcs import *\n",
    "from funcs import famous_list\n",
    "\n",
    "print(os.listdir('../data/movie'))"
   ]
  },
  {
   "cell_type": "code",
   "execution_count": 2,
   "metadata": {},
   "outputs": [],
   "source": [
    "def find_collection(x):\n",
    "    if x == 'none':\n",
    "        return 3\n",
    "    else:\n",
    "        for word in x:\n",
    "            judge = word.find('Collection')\n",
    "            if judge > 0:\n",
    "                return 1\n",
    "            else:\n",
    "                return 2"
   ]
  },
  {
   "cell_type": "code",
   "execution_count": 3,
   "metadata": {},
   "outputs": [
    {
     "name": "stdout",
     "output_type": "stream",
     "text": [
      "(3000, 23) (4398, 22)\n"
     ]
    }
   ],
   "source": [
    "df_train = pd.read_csv('../data/movie/train.csv')\n",
    "df_test = pd.read_csv('../data/movie/test.csv')\n",
    "print(df_train.shape, df_test.shape)"
   ]
  },
  {
   "cell_type": "code",
   "execution_count": 4,
   "metadata": {},
   "outputs": [],
   "source": [
    "df_train['log_rev'] = np.log(df_train['revenue'] + 1)"
   ]
  },
  {
   "cell_type": "code",
   "execution_count": 5,
   "metadata": {},
   "outputs": [
    {
     "data": {
      "text/plain": [
       "Index(['id', 'belongs_to_collection', 'budget', 'genres', 'homepage',\n",
       "       'imdb_id', 'original_language', 'original_title', 'overview',\n",
       "       'popularity', 'poster_path', 'production_companies',\n",
       "       'production_countries', 'release_date', 'runtime', 'spoken_languages',\n",
       "       'status', 'tagline', 'title', 'Keywords', 'cast', 'crew', 'revenue',\n",
       "       'log_rev'],\n",
       "      dtype='object')"
      ]
     },
     "execution_count": 5,
     "metadata": {},
     "output_type": "execute_result"
    }
   ],
   "source": [
    "df_train.columns"
   ]
  },
  {
   "cell_type": "code",
   "execution_count": 6,
   "metadata": {},
   "outputs": [],
   "source": [
    "df_train['belongs_to_collection'] = df_train['belongs_to_collection'].fillna('none')\n",
    "df_test['belongs_to_collection'] = df_test['belongs_to_collection'].fillna('none')\n",
    "\n",
    "df_train['collection_list'] = df_train['belongs_to_collection'].apply(lambda x: list_from_json(x, 'name'))\n",
    "df_test['collection_list'] = df_test['belongs_to_collection'].apply(lambda x: list_from_json(x, 'name'))\n",
    "\n",
    "df_train['collection_var'] = df_train['collection_list'].apply(lambda x: find_collection(x))\n",
    "df_test['collection_var'] = df_test['collection_list'].apply(lambda x: find_collection(x))"
   ]
  },
  {
   "cell_type": "code",
   "execution_count": 7,
   "metadata": {},
   "outputs": [],
   "source": [
    "fillna_all(df_train, df_test, 'homepage')\n",
    "\n",
    "df_train['homepage'][df_train['homepage'] != 'none'] = 1\n",
    "df_train['homepage'][df_train['homepage'] != 1] = 0\n",
    "df_test['homepage'][df_test['homepage'] != 'none'] = 1\n",
    "df_test['homepage'][df_test['homepage'] != 1] = 0"
   ]
  },
  {
   "cell_type": "code",
   "execution_count": 8,
   "metadata": {},
   "outputs": [
    {
     "data": {
      "text/plain": [
       "0    2054\n",
       "1     946\n",
       "Name: homepage, dtype: int64"
      ]
     },
     "execution_count": 8,
     "metadata": {},
     "output_type": "execute_result"
    }
   ],
   "source": [
    "df_train['homepage'].value_counts()"
   ]
  },
  {
   "cell_type": "code",
   "execution_count": 9,
   "metadata": {},
   "outputs": [],
   "source": [
    "fillna_all(df_train, df_test, 'genres')\n",
    "open_json(df_train, df_test, 'genres')"
   ]
  },
  {
   "cell_type": "code",
   "execution_count": 10,
   "metadata": {},
   "outputs": [],
   "source": [
    "df_train['genre_list'] = df_train['genres'].apply(lambda x: list_from_json(x, 'name'))\n",
    "df_test['genre_list'] = df_test['genres'].apply(lambda x: list_from_json(x, 'name'))\n",
    "\n",
    "genre_unique = make_unique_list(df_train, 'genre_list')"
   ]
  },
  {
   "cell_type": "code",
   "execution_count": 11,
   "metadata": {
    "scrolled": true
   },
   "outputs": [],
   "source": [
    "all_power2(df_train, df_test, genre_unique, 'new_genres')"
   ]
  },
  {
   "cell_type": "code",
   "execution_count": 12,
   "metadata": {},
   "outputs": [
    {
     "data": {
      "text/plain": [
       "Index(['id', 'belongs_to_collection', 'budget', 'genres', 'homepage',\n",
       "       'imdb_id', 'original_language', 'original_title', 'overview',\n",
       "       'popularity', 'poster_path', 'production_companies',\n",
       "       'production_countries', 'release_date', 'runtime', 'spoken_languages',\n",
       "       'status', 'tagline', 'title', 'Keywords', 'cast', 'crew', 'revenue',\n",
       "       'log_rev', 'collection_list', 'collection_var', 'new_genres',\n",
       "       'genre_list', 'Comedy_var', 'Drama_var', 'Family_var', 'Romance_var',\n",
       "       'Thriller_var', 'Action_var', 'Animation_var', 'Adventure_var',\n",
       "       'Horror_var', 'Documentary_var', 'Music_var', 'Crime_var',\n",
       "       'Science Fiction_var', 'Mystery_var', 'Foreign_var', 'Fantasy_var',\n",
       "       'War_var', 'Western_var', 'History_var', 'TV Movie_var', 'none_var'],\n",
       "      dtype='object')"
      ]
     },
     "execution_count": 12,
     "metadata": {},
     "output_type": "execute_result"
    }
   ],
   "source": [
    "df_train.columns"
   ]
  },
  {
   "cell_type": "code",
   "execution_count": 13,
   "metadata": {},
   "outputs": [],
   "source": [
    "Drop = ['belongs_to_collection', 'genres', 'homepage', 'original_title', 'overview',\n",
    "        'poster_path',  'spoken_languages', 'tagline', 'title', 'Keywords','collection_list',\n",
    "        'new_genres', 'genre_list', 'new_production_companies', 'company_list',  'release_date',\n",
    "        'new_production_countries', 'country_list', 'production_companies', 'production_countries',\n",
    "        'keyword_list', 'imdb_id', 'cast', 'crew']\n",
    "columns = ['collection_var', 'original_language', 'status']"
   ]
  },
  {
   "cell_type": "code",
   "execution_count": 14,
   "metadata": {},
   "outputs": [],
   "source": [
    "df_train['release_year'] = df_train['release_date'].apply(lambda x: x[-2:])\n",
    "\n",
    "df_test['release_date'] = df_test['release_date'].fillna('11/11/00')\n",
    "df_test['release_year'] = df_test['release_date'].apply(lambda x: x[-2:])"
   ]
  },
  {
   "cell_type": "code",
   "execution_count": 15,
   "metadata": {},
   "outputs": [],
   "source": [
    "def get_year(year):\n",
    "    year = int(year)\n",
    "    if year > 20 and year < 100:\n",
    "        return 1900 + year\n",
    "    else:\n",
    "        return 2000 + year"
   ]
  },
  {
   "cell_type": "code",
   "execution_count": 16,
   "metadata": {},
   "outputs": [],
   "source": [
    "df_train['release_year'] = df_train['release_year'].apply(lambda x: get_year(x))\n",
    "df_test['release_year'] = df_test['release_year'].apply(lambda x: get_year(x))"
   ]
  },
  {
   "cell_type": "code",
   "execution_count": 17,
   "metadata": {},
   "outputs": [
    {
     "data": {
      "text/plain": [
       "<seaborn.axisgrid.JointGrid at 0x7f55903dbe48>"
      ]
     },
     "execution_count": 17,
     "metadata": {},
     "output_type": "execute_result"
    },
    {
     "data": {
      "image/png": "[encoded data removed]",
      "text/plain": [
       "<Figure size 432x432 with 3 Axes>"
      ]
     },
     "metadata": {
      "needs_background": "light"
     },
     "output_type": "display_data"
    }
   ],
   "source": [
    "x = np.log(df_train['popularity'] + 1)\n",
    "y = df_train['log_rev']\n",
    "\n",
    "sns.jointplot(x, y)"
   ]
  },
  {
   "cell_type": "code",
   "execution_count": 18,
   "metadata": {},
   "outputs": [],
   "source": [
    "df_train['popularity'] = np.log(df_train['popularity'] + 1)\n",
    "df_test['popularity'] = np.log(df_test['popularity'] + 1)"
   ]
  },
  {
   "cell_type": "code",
   "execution_count": 19,
   "metadata": {},
   "outputs": [],
   "source": [
    "fillna_all(df_train, df_test, 'production_companies')\n",
    "open_json(df_train, df_test, 'production_companies')"
   ]
  },
  {
   "cell_type": "code",
   "execution_count": 20,
   "metadata": {},
   "outputs": [],
   "source": [
    "df_train['company_list'] = df_train['production_companies'].apply(lambda x: list_from_json(x, 'name'))\n",
    "df_test['company_list'] = df_test['production_companies'].apply(lambda x: list_from_json(x, 'name'))\n",
    "\n",
    "company_unique = make_unique_list(df_train, 'company_list')"
   ]
  },
  {
   "cell_type": "code",
   "execution_count": 21,
   "metadata": {},
   "outputs": [],
   "source": [
    "for unique in company_unique:\n",
    "    famous_company = famous_list(df_train, 'new_production_companies', unique, 'log_rev')"
   ]
  },
  {
   "cell_type": "code",
   "execution_count": 22,
   "metadata": {},
   "outputs": [],
   "source": [
    "def select_number_limit(sort, num):\n",
    "    select_list = []\n",
    "    for select in sort:\n",
    "        if sort[select] > num:\n",
    "            select_list.append([select, sort[select]])\n",
    "    select_list = dict(select_list)\n",
    "    return select_list\n",
    "\n",
    "def select_random(sort, num):\n",
    "    random_index = random.sample(list(sort.items()), num)\n",
    "    random_index = dict(random_index)\n",
    "    return random_index"
   ]
  },
  {
   "cell_type": "code",
   "execution_count": 23,
   "metadata": {},
   "outputs": [],
   "source": [
    "company_unique = select_random(famous_company, 50)"
   ]
  },
  {
   "cell_type": "code",
   "execution_count": 24,
   "metadata": {},
   "outputs": [],
   "source": [
    "all_power2(df_train, df_test, company_unique, 'new_production_companies')"
   ]
  },
  {
   "cell_type": "code",
   "execution_count": 25,
   "metadata": {},
   "outputs": [
    {
     "data": {
      "text/plain": [
       "Index(['id', 'belongs_to_collection', 'budget', 'genres', 'homepage',\n",
       "       'imdb_id', 'original_language', 'original_title', 'overview',\n",
       "       'popularity',\n",
       "       ...\n",
       "       'Filmworks/FX_var', 'ZDF Productions_var', 'FilmColony_var',\n",
       "       'Innovisions_var', 'Metro Tartan Distribution Ltd._var',\n",
       "       'Mattel Entertainment_var', 'Recorded Picture Company (RPC)_var',\n",
       "       'HBO Pictures_var', 'Grosvenor Park Media Ltd._var',\n",
       "       'Mindfire Entertainment_var'],\n",
       "      dtype='object', length=102)"
      ]
     },
     "execution_count": 25,
     "metadata": {},
     "output_type": "execute_result"
    }
   ],
   "source": [
    "df_train.columns"
   ]
  },
  {
   "cell_type": "code",
   "execution_count": 26,
   "metadata": {},
   "outputs": [],
   "source": [
    "df_test['status'][df_test['status'] == 'Post Production '] = 'Released'"
   ]
  },
  {
   "cell_type": "code",
   "execution_count": 27,
   "metadata": {},
   "outputs": [],
   "source": [
    "fillna_all(df_train, df_test, 'production_countries')\n",
    "open_json(df_train, df_test, 'production_countries')\n",
    "\n",
    "df_train['country_list'] = df_train['production_countries'].apply(lambda x: list_from_json(x, 'name'))\n",
    "df_test['country_list'] = df_test['production_countries'].apply(lambda x: list_from_json(x, 'name'))\n",
    "\n",
    "country_unique = make_unique_list(df_train, 'country_list')"
   ]
  },
  {
   "cell_type": "code",
   "execution_count": 28,
   "metadata": {},
   "outputs": [],
   "source": [
    "for unique in country_unique:\n",
    "    famous_country = famous_list(df_train, 'new_production_countries', unique, 'log_rev')"
   ]
  },
  {
   "cell_type": "code",
   "execution_count": 29,
   "metadata": {},
   "outputs": [],
   "source": [
    "all_power2(df_train, df_test, country_unique, 'new_production_countries')"
   ]
  },
  {
   "cell_type": "code",
   "execution_count": 30,
   "metadata": {},
   "outputs": [],
   "source": [
    "fillna_all(df_train, df_test, 'Keywords')\n",
    "\n",
    "df_train['keyword_list'] = df_train['Keywords'].apply(lambda x: list_from_json(x, 'name'))\n",
    "df_test['keyword_list'] = df_test['Keywords'].apply(lambda x: list_from_json(x, 'name'))"
   ]
  },
  {
   "cell_type": "code",
   "execution_count": 31,
   "metadata": {},
   "outputs": [],
   "source": [
    "df_train['keyword_var'] = df_train['keyword_list'].apply(lambda x: 0 if x=='none' else len(x))\n",
    "df_test['keyword_var'] = df_test['keyword_list'].apply(lambda x: 0 if x=='none' else len(x))"
   ]
  },
  {
   "cell_type": "markdown",
   "metadata": {},
   "source": [
    "fillna_all(df_train, df_test, 'cast')\n",
    "open_json(df_train, df_test, 'cast')\n",
    "\n",
    "df_train['cast_list'] = df_train['cast'].apply(lambda x: list_from_json(x, 'name'))\n",
    "df_test['cast_list'] = df_test['cast'].apply(lambda x: list_from_json(x, 'name'))\n",
    "\n",
    "cast_unique = make_unique_list(df_train, 'cast_list')"
   ]
  },
  {
   "cell_type": "code",
   "execution_count": 32,
   "metadata": {},
   "outputs": [],
   "source": [
    "fillna_all(df_train, df_test, 'crew')\n",
    "open_json(df_train, df_test, 'crew')"
   ]
  },
  {
   "cell_type": "code",
   "execution_count": 33,
   "metadata": {},
   "outputs": [],
   "source": [
    "df_train['crew_list'] = df_train['crew'].apply(lambda x: list_from_json(x, 'job'))\n",
    "unique_crew = make_unique_list(df_train, 'crew_list')"
   ]
  },
  {
   "cell_type": "code",
   "execution_count": 34,
   "metadata": {},
   "outputs": [],
   "source": [
    "unique_crew =random.sample(unique_crew, 50)\n",
    "all_power(df_train, df_test, unique_crew)"
   ]
  },
  {
   "cell_type": "code",
   "execution_count": 35,
   "metadata": {},
   "outputs": [
    {
     "data": {
      "text/plain": [
       "{'crew_list', 'log_rev', 'revenue'}"
      ]
     },
     "execution_count": 35,
     "metadata": {},
     "output_type": "execute_result"
    }
   ],
   "source": [
    "diff_col(df_train, df_test)"
   ]
  },
  {
   "cell_type": "code",
   "execution_count": 36,
   "metadata": {},
   "outputs": [],
   "source": [
    "df_train = pd.get_dummies(df_train, columns=columns)\n",
    "df_test = pd.get_dummies(df_test, columns=columns)"
   ]
  },
  {
   "cell_type": "code",
   "execution_count": 37,
   "metadata": {},
   "outputs": [
    {
     "data": {
      "text/plain": [
       "{'crew_list',\n",
       " 'log_rev',\n",
       " 'original_language_ar',\n",
       " 'original_language_fa',\n",
       " 'original_language_mr',\n",
       " 'original_language_nb',\n",
       " 'original_language_vi',\n",
       " 'revenue'}"
      ]
     },
     "execution_count": 37,
     "metadata": {},
     "output_type": "execute_result"
    }
   ],
   "source": [
    "diff_col(df_train, df_test)"
   ]
  },
  {
   "cell_type": "code",
   "execution_count": 38,
   "metadata": {},
   "outputs": [
    {
     "data": {
      "text/plain": [
       "['original_language_is',\n",
       " 'original_language_th',\n",
       " 'status_Post Production',\n",
       " 'original_language_bm',\n",
       " 'original_language_ca',\n",
       " 'original_language_af',\n",
       " 'original_language_xx',\n",
       " 'original_language_kn',\n",
       " 'original_language_ka']"
      ]
     },
     "execution_count": 38,
     "metadata": {},
     "output_type": "execute_result"
    }
   ],
   "source": [
    "list(set(df_test.columns) - set(df_train.columns))"
   ]
  },
  {
   "cell_type": "code",
   "execution_count": 39,
   "metadata": {},
   "outputs": [],
   "source": [
    "Drop_train = [ 'original_language_ar', 'original_language_fa', 'original_language_mr',\n",
    "              'original_language_nb', 'original_language_vi','crew_list']\n",
    "Drop_test = ['original_language_af', 'original_language_kn', 'original_language_is',\n",
    "             'original_language_ca', 'original_language_th', 'original_language_ka',\n",
    "             'original_language_bm', 'original_language_xx','status_Post Production']\n",
    "df_train.drop(Drop_train, axis=1, inplace=True)\n",
    "df_test.drop(Drop_test, axis=1, inplace=True)"
   ]
  },
  {
   "cell_type": "code",
   "execution_count": 40,
   "metadata": {},
   "outputs": [],
   "source": [
    "drop_all(df_train, df_test, Drop)"
   ]
  },
  {
   "cell_type": "code",
   "execution_count": 41,
   "metadata": {},
   "outputs": [],
   "source": [
    "df_train['runtime'].fillna(df_train['runtime'].median(), inplace=True)\n",
    "df_test['runtime'].fillna(df_test['runtime'].median(), inplace=True)"
   ]
  },
  {
   "cell_type": "code",
   "execution_count": 42,
   "metadata": {},
   "outputs": [],
   "source": [
    "df_train.drop(['new_crew'], axis=1, inplace=True)\n"
   ]
  },
  {
   "cell_type": "code",
   "execution_count": 43,
   "metadata": {},
   "outputs": [],
   "source": [
    "df_test.drop(['new_crew'], axis=1, inplace=True)"
   ]
  },
  {
   "cell_type": "code",
   "execution_count": 44,
   "metadata": {},
   "outputs": [],
   "source": [
    "drop_all(df_train, df_test, ['none_var'])"
   ]
  },
  {
   "cell_type": "code",
   "execution_count": 90,
   "metadata": {},
   "outputs": [
    {
     "name": "stdout",
     "output_type": "stream",
     "text": [
      "(3000, 235) (3000, 1) (4398, 235)\n"
     ]
    }
   ],
   "source": [
    "from keras.models import Sequential\n",
    "from keras.layers import Dense, Dropout, Activation, LSTM\n",
    "from keras.optimizers import Adam\n",
    "from sklearn.preprocessing import StandardScaler\n",
    "sc = StandardScaler()\n",
    "\n",
    "train = df_train.drop(['id', 'revenue', 'log_rev'], axis=1)\n",
    "train_ = df_train['log_rev']\n",
    "test = df_test.drop(['id'], axis=1)\n",
    "\n",
    "X_train = sc.fit_transform(train.values)\n",
    "y_train = train_.values.reshape(y_train.shape[0], 1)\n",
    "X_test = sc.fit_transform(test.values)\n",
    "\n",
    "print(X_train.shape, y_train.shape, X_test.shape)"
   ]
  },
  {
   "cell_type": "code",
   "execution_count": 91,
   "metadata": {},
   "outputs": [
    {
     "name": "stdout",
     "output_type": "stream",
     "text": [
      "(2951, 50, 235) (2951, 1)\n",
      "(2655, 50, 235) (296, 50, 235) (2655, 1) (296, 1)\n"
     ]
    }
   ],
   "source": [
    "maxlen = 50             # 入力系列数\n",
    "n_in = X_train.shape[1]   # 学習データ（＝入力）の列数\n",
    "n_out = y_train.shape[1]  # ラベルデータ（=出力）の列数\n",
    "len_seq = X_train.shape[0] - maxlen + 1\n",
    "data = []\n",
    "target = []\n",
    "for i in range(0, len_seq):\n",
    "    data.append(X_train[i:i+maxlen, :])\n",
    "    target.append(y_train[i+maxlen-1, :])\n",
    "\n",
    "x = np.array(data).reshape(len(data), maxlen, n_in)\n",
    "t = np.array(target).reshape(len(data), n_out)\n",
    "\n",
    "print(x.shape, t.shape)\n",
    "\n",
    "# ここからソースコードの後半\n",
    "n_train = int(len(data)*0.9)              # 訓練データ長\n",
    "x_train,x_test = np.vsplit(x, [n_train])  # 学習データを訓練用とテスト用に分割\n",
    "t_train,t_test = np.vsplit(t, [n_train])  # ラベルデータを訓練用とテスト用に分割\n",
    "\n",
    "print(x_train.shape, x_test.shape, t_train.shape, t_test.shape)"
   ]
  },
  {
   "cell_type": "code",
   "execution_count": 92,
   "metadata": {},
   "outputs": [
    {
     "name": "stdout",
     "output_type": "stream",
     "text": [
      "_________________________________________________________________\n",
      "Layer (type)                 Output Shape              Param #   \n",
      "=================================================================\n",
      "lstm_8 (LSTM)                (None, 235)               442740    \n",
      "_________________________________________________________________\n",
      "dense_8 (Dense)              (None, 1)                 236       \n",
      "_________________________________________________________________\n",
      "activation_8 (Activation)    (None, 1)                 0         \n",
      "=================================================================\n",
      "Total params: 442,976\n",
      "Trainable params: 442,976\n",
      "Non-trainable params: 0\n",
      "_________________________________________________________________\n"
     ]
    }
   ],
   "source": [
    "model = Sequential()\n",
    "model.add(LSTM(235,\n",
    "               input_shape=(maxlen, n_in)))\n",
    "model.add(Dense(1))\n",
    "model.add(Activation('linear'))\n",
    "\n",
    "model.summary()"
   ]
  },
  {
   "cell_type": "code",
   "execution_count": 94,
   "metadata": {},
   "outputs": [
    {
     "name": "stdout",
     "output_type": "stream",
     "text": [
      "WARNING:tensorflow:From /home/anan/data_science/lib/python3.6/site-packages/tensorflow/python/ops/math_ops.py:3066: to_int32 (from tensorflow.python.ops.math_ops) is deprecated and will be removed in a future version.\n",
      "Instructions for updating:\n",
      "Use tf.cast instead.\n",
      "Train on 1858 samples, validate on 797 samples\n",
      "Epoch 1/50\n",
      "1858/1858 [==============================] - 6s 3ms/step - loss: 97.5972 - mean_squared_error: 97.5972 - val_loss: 13.0765 - val_mean_squared_error: 13.0765\n",
      "Epoch 2/50\n",
      "1858/1858 [==============================] - 5s 3ms/step - loss: 8.7036 - mean_squared_error: 8.7036 - val_loss: 7.4615 - val_mean_squared_error: 7.4615\n",
      "Epoch 3/50\n",
      "1858/1858 [==============================] - 5s 3ms/step - loss: 6.3936 - mean_squared_error: 6.3936 - val_loss: 6.2579 - val_mean_squared_error: 6.2579\n",
      "Epoch 4/50\n",
      "1858/1858 [==============================] - 5s 3ms/step - loss: 5.7861 - mean_squared_error: 5.7861 - val_loss: 5.8128 - val_mean_squared_error: 5.8128\n",
      "Epoch 5/50\n",
      "1858/1858 [==============================] - 5s 3ms/step - loss: 5.3903 - mean_squared_error: 5.3903 - val_loss: 5.4898 - val_mean_squared_error: 5.4898\n",
      "Epoch 6/50\n",
      "1858/1858 [==============================] - 5s 3ms/step - loss: 5.0692 - mean_squared_error: 5.0692 - val_loss: 5.2073 - val_mean_squared_error: 5.2073\n",
      "Epoch 7/50\n",
      "1858/1858 [==============================] - 5s 3ms/step - loss: 4.8236 - mean_squared_error: 4.8236 - val_loss: 5.0668 - val_mean_squared_error: 5.0668\n",
      "Epoch 8/50\n",
      "1858/1858 [==============================] - 5s 3ms/step - loss: 4.6230 - mean_squared_error: 4.6230 - val_loss: 4.8403 - val_mean_squared_error: 4.8403\n",
      "Epoch 9/50\n",
      "1858/1858 [==============================] - 5s 3ms/step - loss: 4.4585 - mean_squared_error: 4.4585 - val_loss: 4.7193 - val_mean_squared_error: 4.7193\n",
      "Epoch 10/50\n",
      "1858/1858 [==============================] - 5s 3ms/step - loss: 4.3595 - mean_squared_error: 4.3595 - val_loss: 4.6218 - val_mean_squared_error: 4.6218\n",
      "Epoch 11/50\n",
      "1858/1858 [==============================] - 6s 3ms/step - loss: 4.2222 - mean_squared_error: 4.2222 - val_loss: 4.5638 - val_mean_squared_error: 4.5638\n",
      "Epoch 12/50\n",
      "1858/1858 [==============================] - 8s 4ms/step - loss: 4.1330 - mean_squared_error: 4.1330 - val_loss: 4.3950 - val_mean_squared_error: 4.3950\n",
      "Epoch 13/50\n",
      "1858/1858 [==============================] - 8s 4ms/step - loss: 4.0551 - mean_squared_error: 4.0551 - val_loss: 4.3530 - val_mean_squared_error: 4.3530\n",
      "Epoch 14/50\n",
      "1858/1858 [==============================] - 8s 4ms/step - loss: 3.9766 - mean_squared_error: 3.9766 - val_loss: 4.2383 - val_mean_squared_error: 4.2383\n",
      "Epoch 15/50\n",
      "1858/1858 [==============================] - 5s 3ms/step - loss: 3.9269 - mean_squared_error: 3.9269 - val_loss: 4.1804 - val_mean_squared_error: 4.1804\n",
      "Epoch 16/50\n",
      "1858/1858 [==============================] - 5s 3ms/step - loss: 3.8656 - mean_squared_error: 3.8656 - val_loss: 4.1311 - val_mean_squared_error: 4.1311\n",
      "Epoch 17/50\n",
      "1858/1858 [==============================] - 5s 3ms/step - loss: 3.8651 - mean_squared_error: 3.8651 - val_loss: 4.1151 - val_mean_squared_error: 4.1151\n",
      "Epoch 18/50\n",
      "1858/1858 [==============================] - 5s 3ms/step - loss: 3.7471 - mean_squared_error: 3.7471 - val_loss: 4.0777 - val_mean_squared_error: 4.0777\n",
      "Epoch 19/50\n",
      "1858/1858 [==============================] - 5s 3ms/step - loss: 3.7439 - mean_squared_error: 3.7439 - val_loss: 4.0254 - val_mean_squared_error: 4.0254\n",
      "Epoch 20/50\n",
      "1858/1858 [==============================] - 7s 4ms/step - loss: 3.6568 - mean_squared_error: 3.6568 - val_loss: 3.9845 - val_mean_squared_error: 3.9845\n",
      "Epoch 21/50\n",
      "1858/1858 [==============================] - 8s 4ms/step - loss: 3.6167 - mean_squared_error: 3.6167 - val_loss: 3.9716 - val_mean_squared_error: 3.9716\n",
      "Epoch 22/50\n",
      "1858/1858 [==============================] - 9s 5ms/step - loss: 3.5661 - mean_squared_error: 3.5661 - val_loss: 3.9280 - val_mean_squared_error: 3.9280\n",
      "Epoch 23/50\n",
      "1858/1858 [==============================] - 9s 5ms/step - loss: 3.5429 - mean_squared_error: 3.5429 - val_loss: 3.9022 - val_mean_squared_error: 3.9022\n",
      "Epoch 24/50\n",
      "1858/1858 [==============================] - 8s 4ms/step - loss: 3.4803 - mean_squared_error: 3.4803 - val_loss: 3.9090 - val_mean_squared_error: 3.9090\n",
      "Epoch 25/50\n",
      "1858/1858 [==============================] - 8s 4ms/step - loss: 3.4511 - mean_squared_error: 3.4511 - val_loss: 3.8411 - val_mean_squared_error: 3.8411\n",
      "Epoch 26/50\n",
      "1858/1858 [==============================] - 6s 3ms/step - loss: 3.3989 - mean_squared_error: 3.3989 - val_loss: 3.8692 - val_mean_squared_error: 3.8692\n",
      "Epoch 27/50\n",
      "1858/1858 [==============================] - 5s 3ms/step - loss: 3.3743 - mean_squared_error: 3.3743 - val_loss: 3.7912 - val_mean_squared_error: 3.7912\n",
      "Epoch 28/50\n",
      "1858/1858 [==============================] - 5s 3ms/step - loss: 3.3250 - mean_squared_error: 3.3250 - val_loss: 3.8321 - val_mean_squared_error: 3.8321\n",
      "Epoch 29/50\n",
      "1858/1858 [==============================] - 5s 3ms/step - loss: 3.3034 - mean_squared_error: 3.3034 - val_loss: 3.8198 - val_mean_squared_error: 3.8198\n",
      "Epoch 30/50\n",
      "1858/1858 [==============================] - 6s 3ms/step - loss: 3.2747 - mean_squared_error: 3.2747 - val_loss: 3.7556 - val_mean_squared_error: 3.7556\n",
      "Epoch 31/50\n",
      "1858/1858 [==============================] - 8s 4ms/step - loss: 3.2483 - mean_squared_error: 3.2483 - val_loss: 3.8053 - val_mean_squared_error: 3.8053\n",
      "Epoch 32/50\n",
      "1858/1858 [==============================] - 9s 5ms/step - loss: 3.1973 - mean_squared_error: 3.1973 - val_loss: 3.8446 - val_mean_squared_error: 3.8446\n",
      "Epoch 33/50\n",
      "1858/1858 [==============================] - 9s 5ms/step - loss: 3.2240 - mean_squared_error: 3.2240 - val_loss: 3.7359 - val_mean_squared_error: 3.7359\n",
      "Epoch 34/50\n",
      "1858/1858 [==============================] - 8s 4ms/step - loss: 3.1158 - mean_squared_error: 3.1158 - val_loss: 3.7239 - val_mean_squared_error: 3.7239\n",
      "Epoch 35/50\n",
      "1858/1858 [==============================] - 9s 5ms/step - loss: 3.0648 - mean_squared_error: 3.0648 - val_loss: 3.7092 - val_mean_squared_error: 3.7092\n",
      "Epoch 36/50\n",
      "1858/1858 [==============================] - 9s 5ms/step - loss: 3.0154 - mean_squared_error: 3.0154 - val_loss: 3.7099 - val_mean_squared_error: 3.7099\n",
      "Epoch 37/50\n",
      "1858/1858 [==============================] - 8s 4ms/step - loss: 3.0511 - mean_squared_error: 3.0511 - val_loss: 3.7024 - val_mean_squared_error: 3.7024\n",
      "Epoch 38/50\n",
      "1858/1858 [==============================] - 8s 4ms/step - loss: 2.9629 - mean_squared_error: 2.9629 - val_loss: 3.7175 - val_mean_squared_error: 3.7175\n",
      "Epoch 39/50\n",
      "1858/1858 [==============================] - 6s 3ms/step - loss: 2.9527 - mean_squared_error: 2.9527 - val_loss: 3.8323 - val_mean_squared_error: 3.8323\n",
      "Epoch 40/50\n",
      "1858/1858 [==============================] - 5s 3ms/step - loss: 2.9901 - mean_squared_error: 2.9901 - val_loss: 3.6723 - val_mean_squared_error: 3.6723\n",
      "Epoch 41/50\n",
      "1858/1858 [==============================] - 5s 3ms/step - loss: 2.9648 - mean_squared_error: 2.9648 - val_loss: 3.8617 - val_mean_squared_error: 3.8617\n",
      "Epoch 42/50\n",
      "1858/1858 [==============================] - 6s 3ms/step - loss: 2.8346 - mean_squared_error: 2.8346 - val_loss: 3.7386 - val_mean_squared_error: 3.7386\n",
      "Epoch 43/50\n",
      "1858/1858 [==============================] - 6s 3ms/step - loss: 2.8186 - mean_squared_error: 2.8186 - val_loss: 3.6851 - val_mean_squared_error: 3.6851\n",
      "Epoch 44/50\n",
      "1858/1858 [==============================] - 9s 5ms/step - loss: 2.7901 - mean_squared_error: 2.7901 - val_loss: 3.6792 - val_mean_squared_error: 3.6792\n",
      "Epoch 45/50\n",
      "1858/1858 [==============================] - 9s 5ms/step - loss: 2.6897 - mean_squared_error: 2.6897 - val_loss: 3.7110 - val_mean_squared_error: 3.7110\n",
      "Epoch 46/50\n",
      "1858/1858 [==============================] - 8s 4ms/step - loss: 2.7210 - mean_squared_error: 2.7210 - val_loss: 3.6782 - val_mean_squared_error: 3.6782\n",
      "Epoch 47/50\n",
      "1858/1858 [==============================] - 8s 4ms/step - loss: 2.6575 - mean_squared_error: 2.6575 - val_loss: 3.6555 - val_mean_squared_error: 3.6555\n",
      "Epoch 48/50\n",
      "1858/1858 [==============================] - 8s 4ms/step - loss: 2.6359 - mean_squared_error: 2.6359 - val_loss: 3.7673 - val_mean_squared_error: 3.7673\n"
     ]
    },
    {
     "name": "stdout",
     "output_type": "stream",
     "text": [
      "Epoch 49/50\n",
      "1858/1858 [==============================] - 8s 4ms/step - loss: 2.6085 - mean_squared_error: 2.6085 - val_loss: 3.6865 - val_mean_squared_error: 3.6865\n",
      "Epoch 50/50\n",
      "1858/1858 [==============================] - 8s 4ms/step - loss: 2.5282 - mean_squared_error: 2.5282 - val_loss: 3.6878 - val_mean_squared_error: 3.6878\n",
      "dict_keys(['val_loss', 'val_mean_squared_error', 'loss', 'mean_squared_error'])\n",
      "2655/2655 [==============================] - 6s 2ms/step\n",
      "mean_squared_error: 288.10%\n"
     ]
    }
   ],
   "source": [
    "model.compile(optimizer=Adam(), loss='mse', metrics=['mse'])\n",
    "history = model.fit(x_train, t_train, epochs=50, batch_size=100, validation_split=0.3, verbose=1)\n",
    "print(history.history.keys())\n",
    "\n",
    "scores = model.evaluate(x_train, t_train, batch_size=30)\n",
    "print('%s: %.2f%%' % (model.metrics_names[1], scores[1]*100))"
   ]
  },
  {
   "cell_type": "markdown",
   "metadata": {},
   "source": [
    "from sklearn.svm import SVR\n",
    "svr = SVR()\n",
    "svr.fit(X_train, y_train)\n",
    "predict = svr.predict(X_test)\n",
    "predict = np.e**predict"
   ]
  },
  {
   "cell_type": "markdown",
   "metadata": {},
   "source": [
    "from xgboost import XGBRegressor\n",
    "\n",
    "model = XGBRegressor()\n",
    "model.fit(X_train, y_train)\n",
    "predict1 = model.predict(X_test)\n",
    "predict1 = np.e**predict1\n",
    "predict1"
   ]
  },
  {
   "cell_type": "code",
   "execution_count": 97,
   "metadata": {},
   "outputs": [
    {
     "data": {
      "text/plain": [
       "array([[14.028906 ],\n",
       "       [16.84946  ],\n",
       "       [18.90032  ],\n",
       "       [13.909214 ],\n",
       "       [13.174585 ],\n",
       "       [18.740818 ],\n",
       "       [13.913991 ],\n",
       "       [16.045519 ],\n",
       "       [16.791174 ],\n",
       "       [18.340439 ],\n",
       "       [13.783513 ],\n",
       "       [17.362392 ],\n",
       "       [10.510033 ],\n",
       "       [16.152506 ],\n",
       "       [14.628435 ],\n",
       "       [19.405447 ],\n",
       "       [17.26444  ],\n",
       "       [12.543942 ],\n",
       "       [13.241642 ],\n",
       "       [15.335625 ],\n",
       "       [15.718554 ],\n",
       "       [13.020502 ],\n",
       "       [16.185982 ],\n",
       "       [14.974629 ],\n",
       "       [14.6038065],\n",
       "       [17.790049 ],\n",
       "       [16.19057  ],\n",
       "       [18.474731 ],\n",
       "       [12.065294 ],\n",
       "       [16.62154  ],\n",
       "       [17.558573 ],\n",
       "       [17.332108 ],\n",
       "       [14.069092 ],\n",
       "       [21.00738  ],\n",
       "       [19.451141 ],\n",
       "       [20.000418 ],\n",
       "       [18.934761 ],\n",
       "       [15.705346 ],\n",
       "       [16.290365 ],\n",
       "       [17.595695 ],\n",
       "       [17.389425 ],\n",
       "       [14.887771 ],\n",
       "       [19.47523  ],\n",
       "       [15.20813  ],\n",
       "       [18.096895 ],\n",
       "       [17.252985 ],\n",
       "       [16.792215 ],\n",
       "       [16.698997 ],\n",
       "       [16.240871 ],\n",
       "       [16.738665 ],\n",
       "       [14.566946 ],\n",
       "       [16.428526 ],\n",
       "       [17.265882 ],\n",
       "       [13.760465 ],\n",
       "       [13.930123 ],\n",
       "       [ 8.607761 ],\n",
       "       [12.835098 ],\n",
       "       [ 9.017459 ],\n",
       "       [12.349303 ],\n",
       "       [18.151144 ],\n",
       "       [10.884263 ],\n",
       "       [15.59254  ],\n",
       "       [16.961334 ],\n",
       "       [17.278337 ],\n",
       "       [12.438205 ],\n",
       "       [16.785294 ],\n",
       "       [21.754894 ],\n",
       "       [16.898718 ],\n",
       "       [18.018763 ],\n",
       "       [18.490622 ],\n",
       "       [16.908367 ],\n",
       "       [14.362768 ],\n",
       "       [16.664955 ],\n",
       "       [17.362667 ],\n",
       "       [18.737732 ],\n",
       "       [16.206448 ],\n",
       "       [17.341692 ],\n",
       "       [12.06901  ],\n",
       "       [17.971361 ],\n",
       "       [18.884302 ],\n",
       "       [16.740114 ],\n",
       "       [11.753717 ],\n",
       "       [10.91163  ],\n",
       "       [20.436443 ],\n",
       "       [14.014704 ],\n",
       "       [13.204801 ],\n",
       "       [16.388433 ],\n",
       "       [12.727435 ],\n",
       "       [19.366024 ],\n",
       "       [19.68767  ],\n",
       "       [15.081191 ],\n",
       "       [12.706518 ],\n",
       "       [11.549258 ],\n",
       "       [16.140446 ],\n",
       "       [13.443467 ],\n",
       "       [18.925877 ],\n",
       "       [16.020802 ],\n",
       "       [12.045519 ],\n",
       "       [20.02437  ],\n",
       "       [15.154708 ],\n",
       "       [14.645756 ],\n",
       "       [16.116428 ],\n",
       "       [17.064985 ],\n",
       "       [15.798176 ],\n",
       "       [16.350435 ],\n",
       "       [14.712773 ],\n",
       "       [15.201591 ],\n",
       "       [14.923335 ],\n",
       "       [ 8.011145 ],\n",
       "       [16.376207 ],\n",
       "       [13.353747 ],\n",
       "       [18.454393 ],\n",
       "       [16.339645 ],\n",
       "       [14.088982 ],\n",
       "       [19.396793 ],\n",
       "       [14.83926  ],\n",
       "       [12.926858 ],\n",
       "       [16.830719 ],\n",
       "       [16.413786 ],\n",
       "       [13.639785 ],\n",
       "       [15.918695 ],\n",
       "       [18.280247 ],\n",
       "       [15.807174 ],\n",
       "       [14.043261 ],\n",
       "       [16.898064 ],\n",
       "       [15.953493 ],\n",
       "       [14.444377 ],\n",
       "       [16.375563 ],\n",
       "       [16.922876 ],\n",
       "       [16.118582 ],\n",
       "       [18.39549  ],\n",
       "       [15.667795 ],\n",
       "       [15.59426  ],\n",
       "       [16.06752  ],\n",
       "       [17.380415 ],\n",
       "       [19.898071 ],\n",
       "       [17.31314  ],\n",
       "       [18.16535  ],\n",
       "       [14.100988 ],\n",
       "       [17.709618 ],\n",
       "       [15.265938 ],\n",
       "       [13.718931 ],\n",
       "       [20.514458 ],\n",
       "       [16.227274 ],\n",
       "       [17.772463 ],\n",
       "       [14.1863575],\n",
       "       [15.680199 ],\n",
       "       [17.920126 ],\n",
       "       [16.33717  ],\n",
       "       [14.074649 ],\n",
       "       [15.040009 ],\n",
       "       [15.922735 ],\n",
       "       [17.60192  ],\n",
       "       [14.572104 ],\n",
       "       [20.661736 ],\n",
       "       [18.0131   ],\n",
       "       [18.056604 ],\n",
       "       [17.835217 ],\n",
       "       [11.83659  ],\n",
       "       [16.208958 ],\n",
       "       [14.354174 ],\n",
       "       [13.55192  ],\n",
       "       [20.031588 ],\n",
       "       [14.5363455],\n",
       "       [12.11288  ],\n",
       "       [17.031607 ],\n",
       "       [18.777027 ],\n",
       "       [16.261288 ],\n",
       "       [15.077199 ],\n",
       "       [10.809466 ],\n",
       "       [10.007524 ],\n",
       "       [13.506581 ],\n",
       "       [16.73422  ],\n",
       "       [17.10494  ],\n",
       "       [17.094414 ],\n",
       "       [15.656607 ],\n",
       "       [19.78274  ],\n",
       "       [17.756517 ],\n",
       "       [16.070087 ],\n",
       "       [13.592223 ],\n",
       "       [12.693572 ],\n",
       "       [16.869675 ],\n",
       "       [10.80597  ],\n",
       "       [18.466259 ],\n",
       "       [15.048131 ],\n",
       "       [19.292273 ],\n",
       "       [17.658407 ],\n",
       "       [17.703394 ],\n",
       "       [16.11556  ],\n",
       "       [17.491858 ],\n",
       "       [14.372882 ],\n",
       "       [17.892992 ],\n",
       "       [14.150408 ],\n",
       "       [18.361773 ],\n",
       "       [18.530258 ],\n",
       "       [20.470318 ],\n",
       "       [12.424692 ],\n",
       "       [19.054422 ],\n",
       "       [19.783926 ],\n",
       "       [16.026134 ],\n",
       "       [18.03161  ],\n",
       "       [12.790259 ],\n",
       "       [16.67784  ],\n",
       "       [16.688412 ],\n",
       "       [16.386078 ],\n",
       "       [16.833776 ],\n",
       "       [14.95639  ],\n",
       "       [19.522673 ],\n",
       "       [15.114782 ],\n",
       "       [15.581734 ],\n",
       "       [17.606209 ],\n",
       "       [17.912214 ],\n",
       "       [16.481255 ],\n",
       "       [16.990122 ],\n",
       "       [13.978421 ],\n",
       "       [13.66468  ],\n",
       "       [11.8575945],\n",
       "       [11.230068 ],\n",
       "       [15.566538 ],\n",
       "       [15.5449705],\n",
       "       [13.683941 ],\n",
       "       [18.946957 ],\n",
       "       [16.230263 ],\n",
       "       [19.291597 ],\n",
       "       [15.627805 ],\n",
       "       [16.574009 ],\n",
       "       [17.491388 ],\n",
       "       [19.29254  ],\n",
       "       [16.957022 ],\n",
       "       [18.232346 ],\n",
       "       [17.22415  ],\n",
       "       [18.35799  ],\n",
       "       [10.929945 ],\n",
       "       [17.568472 ],\n",
       "       [19.27922  ],\n",
       "       [17.099733 ],\n",
       "       [16.446405 ],\n",
       "       [16.591698 ],\n",
       "       [12.0997   ],\n",
       "       [16.47631  ],\n",
       "       [18.501503 ],\n",
       "       [14.039754 ],\n",
       "       [12.246386 ],\n",
       "       [12.216738 ],\n",
       "       [17.941261 ],\n",
       "       [14.011911 ],\n",
       "       [18.928972 ],\n",
       "       [16.760712 ],\n",
       "       [15.316696 ],\n",
       "       [11.917679 ],\n",
       "       [17.337912 ],\n",
       "       [18.322983 ],\n",
       "       [16.850224 ],\n",
       "       [17.857882 ],\n",
       "       [16.210592 ],\n",
       "       [14.746786 ],\n",
       "       [16.769934 ],\n",
       "       [16.581348 ],\n",
       "       [17.206034 ],\n",
       "       [12.097155 ],\n",
       "       [13.404848 ],\n",
       "       [13.545582 ],\n",
       "       [16.901697 ],\n",
       "       [16.908182 ],\n",
       "       [16.587154 ],\n",
       "       [16.286835 ],\n",
       "       [17.327267 ],\n",
       "       [15.518151 ],\n",
       "       [16.344063 ],\n",
       "       [14.81704  ],\n",
       "       [17.963526 ],\n",
       "       [16.68081  ],\n",
       "       [14.157739 ],\n",
       "       [17.804657 ],\n",
       "       [16.93875  ],\n",
       "       [16.659233 ],\n",
       "       [11.6617565],\n",
       "       [10.888751 ],\n",
       "       [12.582882 ],\n",
       "       [15.200327 ],\n",
       "       [19.366167 ],\n",
       "       [15.847709 ],\n",
       "       [16.247883 ],\n",
       "       [11.726994 ],\n",
       "       [11.078626 ],\n",
       "       [15.878203 ],\n",
       "       [14.125698 ],\n",
       "       [18.335842 ],\n",
       "       [12.786792 ],\n",
       "       [20.255999 ],\n",
       "       [14.262398 ],\n",
       "       [15.664146 ],\n",
       "       [15.003471 ],\n",
       "       [18.63257  ],\n",
       "       [18.93014  ],\n",
       "       [18.109581 ]], dtype=float32)"
      ]
     },
     "execution_count": 97,
     "metadata": {},
     "output_type": "execute_result"
    }
   ],
   "source": [
    "predict "
   ]
  },
  {
   "cell_type": "code",
   "execution_count": 90,
   "metadata": {},
   "outputs": [],
   "source": [
    "df_out = pd.read_csv('../data/movie/test.csv')\n",
    "df_out['revenue'] = predict\n",
    "df_out[['id', 'revenue']].to_csv('../data/movie/output/deep.csv', index=False, header=True)"
   ]
  },
  {
   "cell_type": "code",
   "execution_count": null,
   "metadata": {},
   "outputs": [],
   "source": []
  }
 ],
 "metadata": {
  "kernelspec": {
   "display_name": "Python 3",
   "language": "python",
   "name": "python3"
  },
  "language_info": {
   "codemirror_mode": {
    "name": "ipython",
    "version": 3
   },
   "file_extension": ".py",
   "mimetype": "text/x-python",
   "name": "python",
   "nbconvert_exporter": "python",
   "pygments_lexer": "ipython3",
   "version": "3.6.7"
  }
 },
 "nbformat": 4,
 "nbformat_minor": 2
}
