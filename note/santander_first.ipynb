{
 "cells": [
  {
   "cell_type": "code",
   "execution_count": 1,
   "metadata": {},
   "outputs": [
    {
     "name": "stdout",
     "output_type": "stream",
     "text": [
      "['test.csv', 'train.csv', 'sample_submission.csv']\n"
     ]
    }
   ],
   "source": [
    "import pandas as pd\n",
    "import numpy as np\n",
    "import matplotlib.pyplot as plt\n",
    "import seaborn as sns\n",
    "import os\n",
    "\n",
    "import warnings\n",
    "warnings.filterwarnings('ignore')\n",
    "\n",
    "print(os.listdir('../data/santander'))"
   ]
  },
  {
   "cell_type": "code",
   "execution_count": 3,
   "metadata": {},
   "outputs": [
    {
     "name": "stdout",
     "output_type": "stream",
     "text": [
      "(200000, 202) (200000, 201)\n"
     ]
    }
   ],
   "source": [
    "df_train = pd.read_csv('../data/santander/train.csv')\n",
    "df_test = pd.read_csv('../data/santander/test.csv')\n",
    "print(df_train.shape, df_test.shape)"
   ]
  },
  {
   "cell_type": "code",
   "execution_count": 18,
   "metadata": {},
   "outputs": [],
   "source": [
    "def kesson_table(df):\n",
    "    total = df.isnull().sum()\n",
    "    percent = total / len(df) * 100\n",
    "    kesson_table = pd.concat([total, percent], axis=1, keys=['Total', 'Percent'])\n",
    "    return kesson_table"
   ]
  },
  {
   "cell_type": "code",
   "execution_count": 25,
   "metadata": {},
   "outputs": [],
   "source": [
    "kesson = kesson_table(df_train)\n",
    "kesson = kesson.drop(kesson[kesson.isnull() == 0], axis=1)"
   ]
  },
  {
   "cell_type": "code",
   "execution_count": 26,
   "metadata": {},
   "outputs": [
    {
     "data": {
      "text/html": [
       "<div>\n",
       "<style scoped>\n",
       "    .dataframe tbody tr th:only-of-type {\n",
       "        vertical-align: middle;\n",
       "    }\n",
       "\n",
       "    .dataframe tbody tr th {\n",
       "        vertical-align: top;\n",
       "    }\n",
       "\n",
       "    .dataframe thead th {\n",
       "        text-align: right;\n",
       "    }\n",
       "</style>\n",
       "<table border=\"1\" class=\"dataframe\">\n",
       "  <thead>\n",
       "    <tr style=\"text-align: right;\">\n",
       "      <th></th>\n",
       "      <th>ID_code</th>\n",
       "      <th>target</th>\n",
       "      <th>var_0</th>\n",
       "      <th>var_1</th>\n",
       "      <th>var_2</th>\n",
       "      <th>var_3</th>\n",
       "      <th>var_4</th>\n",
       "      <th>var_5</th>\n",
       "      <th>var_6</th>\n",
       "      <th>var_7</th>\n",
       "      <th>...</th>\n",
       "      <th>var_190</th>\n",
       "      <th>var_191</th>\n",
       "      <th>var_192</th>\n",
       "      <th>var_193</th>\n",
       "      <th>var_194</th>\n",
       "      <th>var_195</th>\n",
       "      <th>var_196</th>\n",
       "      <th>var_197</th>\n",
       "      <th>var_198</th>\n",
       "      <th>var_199</th>\n",
       "    </tr>\n",
       "  </thead>\n",
       "  <tbody>\n",
       "    <tr>\n",
       "      <th>0</th>\n",
       "      <td>train_0</td>\n",
       "      <td>0</td>\n",
       "      <td>8.9255</td>\n",
       "      <td>-6.7863</td>\n",
       "      <td>11.9081</td>\n",
       "      <td>5.0930</td>\n",
       "      <td>11.4607</td>\n",
       "      <td>-9.2834</td>\n",
       "      <td>5.1187</td>\n",
       "      <td>18.6266</td>\n",
       "      <td>...</td>\n",
       "      <td>4.4354</td>\n",
       "      <td>3.9642</td>\n",
       "      <td>3.1364</td>\n",
       "      <td>1.6910</td>\n",
       "      <td>18.5227</td>\n",
       "      <td>-2.3978</td>\n",
       "      <td>7.8784</td>\n",
       "      <td>8.5635</td>\n",
       "      <td>12.7803</td>\n",
       "      <td>-1.0914</td>\n",
       "    </tr>\n",
       "    <tr>\n",
       "      <th>1</th>\n",
       "      <td>train_1</td>\n",
       "      <td>0</td>\n",
       "      <td>11.5006</td>\n",
       "      <td>-4.1473</td>\n",
       "      <td>13.8588</td>\n",
       "      <td>5.3890</td>\n",
       "      <td>12.3622</td>\n",
       "      <td>7.0433</td>\n",
       "      <td>5.6208</td>\n",
       "      <td>16.5338</td>\n",
       "      <td>...</td>\n",
       "      <td>7.6421</td>\n",
       "      <td>7.7214</td>\n",
       "      <td>2.5837</td>\n",
       "      <td>10.9516</td>\n",
       "      <td>15.4305</td>\n",
       "      <td>2.0339</td>\n",
       "      <td>8.1267</td>\n",
       "      <td>8.7889</td>\n",
       "      <td>18.3560</td>\n",
       "      <td>1.9518</td>\n",
       "    </tr>\n",
       "    <tr>\n",
       "      <th>2</th>\n",
       "      <td>train_2</td>\n",
       "      <td>0</td>\n",
       "      <td>8.6093</td>\n",
       "      <td>-2.7457</td>\n",
       "      <td>12.0805</td>\n",
       "      <td>7.8928</td>\n",
       "      <td>10.5825</td>\n",
       "      <td>-9.0837</td>\n",
       "      <td>6.9427</td>\n",
       "      <td>14.6155</td>\n",
       "      <td>...</td>\n",
       "      <td>2.9057</td>\n",
       "      <td>9.7905</td>\n",
       "      <td>1.6704</td>\n",
       "      <td>1.6858</td>\n",
       "      <td>21.6042</td>\n",
       "      <td>3.1417</td>\n",
       "      <td>-6.5213</td>\n",
       "      <td>8.2675</td>\n",
       "      <td>14.7222</td>\n",
       "      <td>0.3965</td>\n",
       "    </tr>\n",
       "    <tr>\n",
       "      <th>3</th>\n",
       "      <td>train_3</td>\n",
       "      <td>0</td>\n",
       "      <td>11.0604</td>\n",
       "      <td>-2.1518</td>\n",
       "      <td>8.9522</td>\n",
       "      <td>7.1957</td>\n",
       "      <td>12.5846</td>\n",
       "      <td>-1.8361</td>\n",
       "      <td>5.8428</td>\n",
       "      <td>14.9250</td>\n",
       "      <td>...</td>\n",
       "      <td>4.4666</td>\n",
       "      <td>4.7433</td>\n",
       "      <td>0.7178</td>\n",
       "      <td>1.4214</td>\n",
       "      <td>23.0347</td>\n",
       "      <td>-1.2706</td>\n",
       "      <td>-2.9275</td>\n",
       "      <td>10.2922</td>\n",
       "      <td>17.9697</td>\n",
       "      <td>-8.9996</td>\n",
       "    </tr>\n",
       "    <tr>\n",
       "      <th>4</th>\n",
       "      <td>train_4</td>\n",
       "      <td>0</td>\n",
       "      <td>9.8369</td>\n",
       "      <td>-1.4834</td>\n",
       "      <td>12.8746</td>\n",
       "      <td>6.6375</td>\n",
       "      <td>12.2772</td>\n",
       "      <td>2.4486</td>\n",
       "      <td>5.9405</td>\n",
       "      <td>19.2514</td>\n",
       "      <td>...</td>\n",
       "      <td>-1.4905</td>\n",
       "      <td>9.5214</td>\n",
       "      <td>-0.1508</td>\n",
       "      <td>9.1942</td>\n",
       "      <td>13.2876</td>\n",
       "      <td>-1.5121</td>\n",
       "      <td>3.9267</td>\n",
       "      <td>9.5031</td>\n",
       "      <td>17.9974</td>\n",
       "      <td>-8.8104</td>\n",
       "    </tr>\n",
       "  </tbody>\n",
       "</table>\n",
       "<p>5 rows × 202 columns</p>\n",
       "</div>"
      ],
      "text/plain": [
       "   ID_code  target    var_0   var_1    var_2   var_3    var_4   var_5   var_6  \\\n",
       "0  train_0       0   8.9255 -6.7863  11.9081  5.0930  11.4607 -9.2834  5.1187   \n",
       "1  train_1       0  11.5006 -4.1473  13.8588  5.3890  12.3622  7.0433  5.6208   \n",
       "2  train_2       0   8.6093 -2.7457  12.0805  7.8928  10.5825 -9.0837  6.9427   \n",
       "3  train_3       0  11.0604 -2.1518   8.9522  7.1957  12.5846 -1.8361  5.8428   \n",
       "4  train_4       0   9.8369 -1.4834  12.8746  6.6375  12.2772  2.4486  5.9405   \n",
       "\n",
       "     var_7  ...  var_190  var_191  var_192  var_193  var_194  var_195  \\\n",
       "0  18.6266  ...   4.4354   3.9642   3.1364   1.6910  18.5227  -2.3978   \n",
       "1  16.5338  ...   7.6421   7.7214   2.5837  10.9516  15.4305   2.0339   \n",
       "2  14.6155  ...   2.9057   9.7905   1.6704   1.6858  21.6042   3.1417   \n",
       "3  14.9250  ...   4.4666   4.7433   0.7178   1.4214  23.0347  -1.2706   \n",
       "4  19.2514  ...  -1.4905   9.5214  -0.1508   9.1942  13.2876  -1.5121   \n",
       "\n",
       "   var_196  var_197  var_198  var_199  \n",
       "0   7.8784   8.5635  12.7803  -1.0914  \n",
       "1   8.1267   8.7889  18.3560   1.9518  \n",
       "2  -6.5213   8.2675  14.7222   0.3965  \n",
       "3  -2.9275  10.2922  17.9697  -8.9996  \n",
       "4   3.9267   9.5031  17.9974  -8.8104  \n",
       "\n",
       "[5 rows x 202 columns]"
      ]
     },
     "execution_count": 26,
     "metadata": {},
     "output_type": "execute_result"
    }
   ],
   "source": [
    "df_train.head()"
   ]
  },
  {
   "cell_type": "code",
   "execution_count": 65,
   "metadata": {},
   "outputs": [
    {
     "name": "stdout",
     "output_type": "stream",
     "text": [
      "(200000, 200) (200000,) (200000, 200)\n"
     ]
    }
   ],
   "source": [
    "train = df_train.drop(['ID_code', 'target'], axis=1)\n",
    "train_ = df_train['target']\n",
    "test = df_test.drop(['ID_code'], axis=1)\n",
    "\n",
    "X_train = train.values\n",
    "y_train = train_.values\n",
    "X_test = test.values\n",
    "\n",
    "print(X_train.shape, y_train.shape, X_test.shape)"
   ]
  },
  {
   "cell_type": "code",
   "execution_count": 66,
   "metadata": {},
   "outputs": [],
   "source": [
    "from sklearn.preprocessing import StandardScaler\n",
    "sc = StandardScaler()\n",
    "X_train = sc.fit_transform(X_train)\n",
    "X_test = sc.fit_transform(X_test)"
   ]
  },
  {
   "cell_type": "code",
   "execution_count": 67,
   "metadata": {},
   "outputs": [],
   "source": [
    "from keras.models import Sequential\n",
    "from keras.layers import Dense, Activation, Dropout\n",
    "import keras\n",
    "from keras.optimizers import Adam"
   ]
  },
  {
   "cell_type": "code",
   "execution_count": 68,
   "metadata": {},
   "outputs": [
    {
     "name": "stdout",
     "output_type": "stream",
     "text": [
      "_________________________________________________________________\n",
      "Layer (type)                 Output Shape              Param #   \n",
      "=================================================================\n",
      "dense_7 (Dense)              (None, 10)                2010      \n",
      "_________________________________________________________________\n",
      "dropout_5 (Dropout)          (None, 10)                0         \n",
      "_________________________________________________________________\n",
      "dense_8 (Dense)              (None, 100)               1100      \n",
      "_________________________________________________________________\n",
      "dropout_6 (Dropout)          (None, 100)               0         \n",
      "_________________________________________________________________\n",
      "dense_9 (Dense)              (None, 1)                 101       \n",
      "=================================================================\n",
      "Total params: 3,211\n",
      "Trainable params: 3,211\n",
      "Non-trainable params: 0\n",
      "_________________________________________________________________\n"
     ]
    }
   ],
   "source": [
    "model = Sequential()\n",
    "\n",
    "model.add(Dense(10, activation='relu', input_dim=200, kernel_initializer='uniform'))\n",
    "model.add(Dropout(0.4))\n",
    "model.add(Dense(100, activation='relu', kernel_initializer='uniform'))\n",
    "model.add(Dropout(0.4))\n",
    "model.add(Dense(1, activation='relu', kernel_initializer='uniform'))\n",
    "\n",
    "model.summary()"
   ]
  },
  {
   "cell_type": "code",
   "execution_count": 69,
   "metadata": {},
   "outputs": [
    {
     "name": "stdout",
     "output_type": "stream",
     "text": [
      "Train on 160000 samples, validate on 40000 samples\n",
      "Epoch 1/50\n",
      "160000/160000 [==============================] - 2s 12us/step - loss: 0.3189 - acc: 0.9001 - val_loss: 0.2615 - val_acc: 0.8993\n",
      "Epoch 2/50\n",
      "160000/160000 [==============================] - 1s 9us/step - loss: 0.2555 - acc: 0.9058 - val_loss: 0.2369 - val_acc: 0.9091\n",
      "Epoch 3/50\n",
      "160000/160000 [==============================] - 1s 9us/step - loss: 0.2482 - acc: 0.9074 - val_loss: 0.2359 - val_acc: 0.9101\n",
      "Epoch 4/50\n",
      "160000/160000 [==============================] - 1s 9us/step - loss: 0.2453 - acc: 0.9081 - val_loss: 0.2353 - val_acc: 0.9103\n",
      "Epoch 5/50\n",
      "160000/160000 [==============================] - 2s 10us/step - loss: 0.2438 - acc: 0.9080 - val_loss: 0.2353 - val_acc: 0.9099\n",
      "Epoch 6/50\n",
      "160000/160000 [==============================] - 1s 9us/step - loss: 0.2427 - acc: 0.9088 - val_loss: 0.2363 - val_acc: 0.9086\n",
      "Epoch 7/50\n",
      "160000/160000 [==============================] - 1s 9us/step - loss: 0.2410 - acc: 0.9099 - val_loss: 0.2366 - val_acc: 0.9084\n",
      "Epoch 8/50\n",
      "160000/160000 [==============================] - 1s 9us/step - loss: 0.2405 - acc: 0.9097 - val_loss: 0.2371 - val_acc: 0.9081\n",
      "Epoch 9/50\n",
      "160000/160000 [==============================] - 1s 9us/step - loss: 0.2412 - acc: 0.9092 - val_loss: 0.2394 - val_acc: 0.9064\n",
      "Epoch 10/50\n",
      "160000/160000 [==============================] - 2s 10us/step - loss: 0.2393 - acc: 0.9097 - val_loss: 0.2399 - val_acc: 0.9049\n",
      "Epoch 11/50\n",
      "160000/160000 [==============================] - 1s 9us/step - loss: 0.2399 - acc: 0.9097 - val_loss: 0.2487 - val_acc: 0.9002\n",
      "Epoch 12/50\n",
      "160000/160000 [==============================] - 1s 9us/step - loss: 0.2393 - acc: 0.9097 - val_loss: 0.2401 - val_acc: 0.9052\n",
      "Epoch 13/50\n",
      "160000/160000 [==============================] - 2s 9us/step - loss: 0.2378 - acc: 0.9103 - val_loss: 0.2389 - val_acc: 0.9061\n",
      "Epoch 14/50\n",
      "160000/160000 [==============================] - 2s 11us/step - loss: 0.2388 - acc: 0.9099 - val_loss: 0.2410 - val_acc: 0.9042\n",
      "Epoch 15/50\n",
      "160000/160000 [==============================] - 2s 11us/step - loss: 0.2376 - acc: 0.9109 - val_loss: 0.2399 - val_acc: 0.9053\n",
      "Epoch 16/50\n",
      "160000/160000 [==============================] - 2s 10us/step - loss: 0.2370 - acc: 0.9110 - val_loss: 0.2404 - val_acc: 0.9053\n",
      "Epoch 17/50\n",
      "160000/160000 [==============================] - 2s 12us/step - loss: 0.2382 - acc: 0.9095 - val_loss: 0.2434 - val_acc: 0.9035\n",
      "Epoch 18/50\n",
      "160000/160000 [==============================] - 2s 10us/step - loss: 0.2390 - acc: 0.9098 - val_loss: 0.2444 - val_acc: 0.9017\n",
      "Epoch 19/50\n",
      "160000/160000 [==============================] - 2s 10us/step - loss: 0.2375 - acc: 0.9107 - val_loss: 0.2398 - val_acc: 0.9056\n",
      "Epoch 20/50\n",
      "160000/160000 [==============================] - 2s 11us/step - loss: 0.2410 - acc: 0.9094 - val_loss: 0.2476 - val_acc: 0.9030\n",
      "Epoch 21/50\n",
      "160000/160000 [==============================] - 2s 10us/step - loss: 0.2462 - acc: 0.9083 - val_loss: 0.2534 - val_acc: 0.8996\n",
      "Epoch 22/50\n",
      "160000/160000 [==============================] - 2s 10us/step - loss: 0.2438 - acc: 0.9091 - val_loss: 0.2421 - val_acc: 0.9045\n",
      "Epoch 23/50\n",
      "160000/160000 [==============================] - 2s 10us/step - loss: 0.2413 - acc: 0.9097 - val_loss: 0.2409 - val_acc: 0.9063\n",
      "Epoch 24/50\n",
      "160000/160000 [==============================] - 2s 10us/step - loss: 0.2402 - acc: 0.9101 - val_loss: 0.2462 - val_acc: 0.9017\n",
      "Epoch 25/50\n",
      "160000/160000 [==============================] - 2s 10us/step - loss: 0.2382 - acc: 0.9107 - val_loss: 0.2413 - val_acc: 0.9048\n",
      "Epoch 26/50\n",
      "160000/160000 [==============================] - 2s 10us/step - loss: 0.2398 - acc: 0.9093 - val_loss: 0.2464 - val_acc: 0.9013\n",
      "Epoch 27/50\n",
      "160000/160000 [==============================] - 2s 10us/step - loss: 0.2412 - acc: 0.9088 - val_loss: 0.2439 - val_acc: 0.9031\n",
      "Epoch 28/50\n",
      "160000/160000 [==============================] - 2s 10us/step - loss: 0.2395 - acc: 0.9099 - val_loss: 0.2426 - val_acc: 0.9040\n",
      "Epoch 29/50\n",
      "160000/160000 [==============================] - 2s 10us/step - loss: 0.2387 - acc: 0.9096 - val_loss: 0.2427 - val_acc: 0.9038\n",
      "Epoch 30/50\n",
      "160000/160000 [==============================] - 2s 10us/step - loss: 0.2384 - acc: 0.9096 - val_loss: 0.2412 - val_acc: 0.9051\n",
      "Epoch 31/50\n",
      "160000/160000 [==============================] - 2s 10us/step - loss: 0.2387 - acc: 0.9099 - val_loss: 0.2417 - val_acc: 0.9045\n",
      "Epoch 32/50\n",
      "160000/160000 [==============================] - 2s 10us/step - loss: 0.2368 - acc: 0.9110 - val_loss: 0.2485 - val_acc: 0.9006\n",
      "Epoch 33/50\n",
      "160000/160000 [==============================] - 2s 10us/step - loss: 0.2372 - acc: 0.9105 - val_loss: 0.2482 - val_acc: 0.9006\n",
      "Epoch 34/50\n",
      "160000/160000 [==============================] - 2s 10us/step - loss: 0.2362 - acc: 0.9106 - val_loss: 0.2435 - val_acc: 0.9027\n",
      "Epoch 35/50\n",
      "160000/160000 [==============================] - 2s 10us/step - loss: 0.2358 - acc: 0.9112 - val_loss: 0.2418 - val_acc: 0.9039\n",
      "Epoch 36/50\n",
      "160000/160000 [==============================] - 1s 9us/step - loss: 0.2355 - acc: 0.9112 - val_loss: 0.2477 - val_acc: 0.9003\n",
      "Epoch 37/50\n",
      "160000/160000 [==============================] - 2s 11us/step - loss: 0.2349 - acc: 0.9115 - val_loss: 0.2439 - val_acc: 0.9023\n",
      "Epoch 38/50\n",
      "160000/160000 [==============================] - 2s 11us/step - loss: 0.2346 - acc: 0.9115 - val_loss: 0.2427 - val_acc: 0.9032\n",
      "Epoch 39/50\n",
      "160000/160000 [==============================] - 2s 10us/step - loss: 0.2358 - acc: 0.9112 - val_loss: 0.2430 - val_acc: 0.9032\n",
      "Epoch 40/50\n",
      "160000/160000 [==============================] - 2s 10us/step - loss: 0.2354 - acc: 0.9114 - val_loss: 0.2413 - val_acc: 0.9045\n",
      "Epoch 41/50\n",
      "160000/160000 [==============================] - 2s 11us/step - loss: 0.2363 - acc: 0.9110 - val_loss: 0.2457 - val_acc: 0.9018\n",
      "Epoch 42/50\n",
      "160000/160000 [==============================] - 2s 10us/step - loss: 0.2346 - acc: 0.9121 - val_loss: 0.2439 - val_acc: 0.9029\n",
      "Epoch 43/50\n",
      "160000/160000 [==============================] - 2s 10us/step - loss: 0.2344 - acc: 0.9120 - val_loss: 0.2449 - val_acc: 0.9021\n",
      "Epoch 44/50\n",
      "160000/160000 [==============================] - 2s 10us/step - loss: 0.2352 - acc: 0.9118 - val_loss: 0.2486 - val_acc: 0.9005\n",
      "Epoch 45/50\n",
      "160000/160000 [==============================] - 2s 11us/step - loss: 0.2344 - acc: 0.9116 - val_loss: 0.2452 - val_acc: 0.9023\n",
      "Epoch 46/50\n",
      "160000/160000 [==============================] - 2s 10us/step - loss: 0.2400 - acc: 0.9097 - val_loss: 0.2525 - val_acc: 0.8998\n",
      "Epoch 47/50\n",
      "160000/160000 [==============================] - 2s 10us/step - loss: 0.2396 - acc: 0.9109 - val_loss: 0.2462 - val_acc: 0.9020\n",
      "Epoch 48/50\n",
      "160000/160000 [==============================] - 2s 10us/step - loss: 0.2382 - acc: 0.9113 - val_loss: 0.2475 - val_acc: 0.9011\n",
      "Epoch 49/50\n",
      "160000/160000 [==============================] - 2s 11us/step - loss: 0.2387 - acc: 0.9108 - val_loss: 0.2482 - val_acc: 0.9008\n",
      "Epoch 50/50\n",
      "160000/160000 [==============================] - 2s 11us/step - loss: 0.2369 - acc: 0.9107 - val_loss: 0.2455 - val_acc: 0.9026\n",
      "200000/200000 [==============================] - 7s 35us/step\n",
      "acc: 90.32%\n"
     ]
    }
   ],
   "source": [
    "model.compile(optimizer=Adam(lr=0.001), loss='binary_crossentropy', metrics=['accuracy'])\n",
    "history = model.fit(X_train, y_train, validation_split=0.2, batch_size=2000, epochs=50, verbose=1)\n",
    "\n",
    "scores = model.evaluate(X_train, y_train, batch_size=20)\n",
    "print('%s: %0.2f%%' % (model.metrics_names[1], scores[1]* 100))"
   ]
  },
  {
   "cell_type": "code",
   "execution_count": 53,
   "metadata": {},
   "outputs": [],
   "source": [
    "predict = model.predict(X_test)"
   ]
  },
  {
   "cell_type": "code",
   "execution_count": 54,
   "metadata": {},
   "outputs": [],
   "source": [
    "df = pd.DataFrame(predict)"
   ]
  },
  {
   "cell_type": "code",
   "execution_count": 55,
   "metadata": {},
   "outputs": [],
   "source": [
    "df.columns = ['target']"
   ]
  },
  {
   "cell_type": "code",
   "execution_count": 56,
   "metadata": {},
   "outputs": [
    {
     "data": {
      "text/html": [
       "<div>\n",
       "<style scoped>\n",
       "    .dataframe tbody tr th:only-of-type {\n",
       "        vertical-align: middle;\n",
       "    }\n",
       "\n",
       "    .dataframe tbody tr th {\n",
       "        vertical-align: top;\n",
       "    }\n",
       "\n",
       "    .dataframe thead th {\n",
       "        text-align: right;\n",
       "    }\n",
       "</style>\n",
       "<table border=\"1\" class=\"dataframe\">\n",
       "  <thead>\n",
       "    <tr style=\"text-align: right;\">\n",
       "      <th></th>\n",
       "      <th>target</th>\n",
       "    </tr>\n",
       "  </thead>\n",
       "  <tbody>\n",
       "    <tr>\n",
       "      <th>0</th>\n",
       "      <td>0.232316</td>\n",
       "    </tr>\n",
       "    <tr>\n",
       "      <th>1</th>\n",
       "      <td>0.284406</td>\n",
       "    </tr>\n",
       "    <tr>\n",
       "      <th>2</th>\n",
       "      <td>0.069627</td>\n",
       "    </tr>\n",
       "    <tr>\n",
       "      <th>3</th>\n",
       "      <td>0.283606</td>\n",
       "    </tr>\n",
       "    <tr>\n",
       "      <th>4</th>\n",
       "      <td>0.072061</td>\n",
       "    </tr>\n",
       "  </tbody>\n",
       "</table>\n",
       "</div>"
      ],
      "text/plain": [
       "     target\n",
       "0  0.232316\n",
       "1  0.284406\n",
       "2  0.069627\n",
       "3  0.283606\n",
       "4  0.072061"
      ]
     },
     "execution_count": 56,
     "metadata": {},
     "output_type": "execute_result"
    }
   ],
   "source": [
    "df.head()"
   ]
  },
  {
   "cell_type": "code",
   "execution_count": 57,
   "metadata": {},
   "outputs": [
    {
     "data": {
      "image/png": "[encoded data removed]",
      "text/plain": [
       "<Figure size 864x360 with 1 Axes>"
      ]
     },
     "metadata": {
      "needs_background": "light"
     },
     "output_type": "display_data"
    }
   ],
   "source": [
    "plt.figure(figsize=(12, 5))\n",
    "\n",
    "sns.distplot(df['target'], bins=24, color='r')\n",
    "plt.title('Distribution and density by target', fontsize=20)\n",
    "plt.xlabel('target', fontsize=15)\n",
    "plt.ylabel('value', fontsize=15)\n",
    "\n",
    "plt.show()"
   ]
  },
  {
   "cell_type": "code",
   "execution_count": 58,
   "metadata": {},
   "outputs": [],
   "source": [
    "df['target'][df['target'] > 0.31] = 1\n",
    "df['target'][df['target'] <= 0.31] = 0"
   ]
  },
  {
   "cell_type": "code",
   "execution_count": 59,
   "metadata": {},
   "outputs": [
    {
     "data": {
      "text/plain": [
       "0.0    185123\n",
       "1.0     14877\n",
       "Name: target, dtype: int64"
      ]
     },
     "execution_count": 59,
     "metadata": {},
     "output_type": "execute_result"
    }
   ],
   "source": [
    "df['target'].value_counts()"
   ]
  },
  {
   "cell_type": "code",
   "execution_count": 62,
   "metadata": {},
   "outputs": [],
   "source": [
    "predict = df.values\n",
    "\n",
    "df_out = pd.read_csv('../data/santander/test.csv')\n",
    "df_out['target'] = predict\n",
    "df_out[['ID_code', 'target']].to_csv('../data/santander/output/submission.csv', index=False)"
   ]
  },
  {
   "cell_type": "code",
   "execution_count": 70,
   "metadata": {},
   "outputs": [],
   "source": [
    "predict = model.predict(X_test)\n",
    "\n",
    "df_out = pd.read_csv('../data/santander/test.csv')\n",
    "df_out['target'] = predict\n",
    "df_out[['ID_code', 'target']].to_csv('../data/santander/output/submission.csv', index=False)"
   ]
  },
  {
   "cell_type": "code",
   "execution_count": null,
   "metadata": {},
   "outputs": [],
   "source": []
  }
 ],
 "metadata": {
  "kernelspec": {
   "display_name": "Python 3",
   "language": "python",
   "name": "python3"
  },
  "language_info": {
   "codemirror_mode": {
    "name": "ipython",
    "version": 3
   },
   "file_extension": ".py",
   "mimetype": "text/x-python",
   "name": "python",
   "nbconvert_exporter": "python",
   "pygments_lexer": "ipython3",
   "version": "3.6.7"
  }
 },
 "nbformat": 4,
 "nbformat_minor": 2
}
