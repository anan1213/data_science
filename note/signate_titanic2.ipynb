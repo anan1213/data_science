{
 "cells": [
  {
   "cell_type": "code",
   "execution_count": 29,
   "metadata": {},
   "outputs": [],
   "source": [
    "import pandas as pd\n",
    "import numpy as np\n",
    "import matplotlib.pyplot as plt\n",
    "import seaborn as sns\n",
    "import os\n",
    "from IPython.display import display\n",
    "\n",
    "import warnings\n",
    "warnings.filterwarnings('ignore')"
   ]
  },
  {
   "cell_type": "code",
   "execution_count": 30,
   "metadata": {},
   "outputs": [
    {
     "name": "stdout",
     "output_type": "stream",
     "text": [
      "['.DS_Store', 'train.tsv', 'output', 'test.tsv', '.ipynb_checkpoints']\n"
     ]
    }
   ],
   "source": [
    "print(os.listdir('../data/signate_titanic'))"
   ]
  },
  {
   "cell_type": "code",
   "execution_count": 31,
   "metadata": {},
   "outputs": [],
   "source": [
    "df_train = pd.read_csv('../data/signate_titanic/train.tsv', delimiter='\\t')\n",
    "df_test = pd.read_csv('../data/signate_titanic/test.tsv', delimiter='\\t')"
   ]
  },
  {
   "cell_type": "code",
   "execution_count": 32,
   "metadata": {},
   "outputs": [
    {
     "data": {
      "text/html": [
       "<div>\n",
       "<style scoped>\n",
       "    .dataframe tbody tr th:only-of-type {\n",
       "        vertical-align: middle;\n",
       "    }\n",
       "\n",
       "    .dataframe tbody tr th {\n",
       "        vertical-align: top;\n",
       "    }\n",
       "\n",
       "    .dataframe thead th {\n",
       "        text-align: right;\n",
       "    }\n",
       "</style>\n",
       "<table border=\"1\" class=\"dataframe\">\n",
       "  <thead>\n",
       "    <tr style=\"text-align: right;\">\n",
       "      <th></th>\n",
       "      <th>id</th>\n",
       "      <th>survived</th>\n",
       "      <th>pclass</th>\n",
       "      <th>sex</th>\n",
       "      <th>age</th>\n",
       "      <th>sibsp</th>\n",
       "      <th>parch</th>\n",
       "      <th>fare</th>\n",
       "      <th>embarked</th>\n",
       "    </tr>\n",
       "  </thead>\n",
       "  <tbody>\n",
       "    <tr>\n",
       "      <th>0</th>\n",
       "      <td>3</td>\n",
       "      <td>1</td>\n",
       "      <td>1</td>\n",
       "      <td>female</td>\n",
       "      <td>35.0</td>\n",
       "      <td>1</td>\n",
       "      <td>0</td>\n",
       "      <td>53.1000</td>\n",
       "      <td>S</td>\n",
       "    </tr>\n",
       "    <tr>\n",
       "      <th>1</th>\n",
       "      <td>4</td>\n",
       "      <td>0</td>\n",
       "      <td>3</td>\n",
       "      <td>male</td>\n",
       "      <td>35.0</td>\n",
       "      <td>0</td>\n",
       "      <td>0</td>\n",
       "      <td>8.0500</td>\n",
       "      <td>S</td>\n",
       "    </tr>\n",
       "    <tr>\n",
       "      <th>2</th>\n",
       "      <td>7</td>\n",
       "      <td>0</td>\n",
       "      <td>3</td>\n",
       "      <td>male</td>\n",
       "      <td>2.0</td>\n",
       "      <td>3</td>\n",
       "      <td>1</td>\n",
       "      <td>21.0750</td>\n",
       "      <td>S</td>\n",
       "    </tr>\n",
       "    <tr>\n",
       "      <th>3</th>\n",
       "      <td>9</td>\n",
       "      <td>1</td>\n",
       "      <td>2</td>\n",
       "      <td>female</td>\n",
       "      <td>14.0</td>\n",
       "      <td>1</td>\n",
       "      <td>0</td>\n",
       "      <td>30.0708</td>\n",
       "      <td>C</td>\n",
       "    </tr>\n",
       "    <tr>\n",
       "      <th>4</th>\n",
       "      <td>11</td>\n",
       "      <td>1</td>\n",
       "      <td>1</td>\n",
       "      <td>female</td>\n",
       "      <td>58.0</td>\n",
       "      <td>0</td>\n",
       "      <td>0</td>\n",
       "      <td>26.5500</td>\n",
       "      <td>S</td>\n",
       "    </tr>\n",
       "  </tbody>\n",
       "</table>\n",
       "</div>"
      ],
      "text/plain": [
       "   id  survived  pclass     sex   age  sibsp  parch     fare embarked\n",
       "0   3         1       1  female  35.0      1      0  53.1000        S\n",
       "1   4         0       3    male  35.0      0      0   8.0500        S\n",
       "2   7         0       3    male   2.0      3      1  21.0750        S\n",
       "3   9         1       2  female  14.0      1      0  30.0708        C\n",
       "4  11         1       1  female  58.0      0      0  26.5500        S"
      ]
     },
     "execution_count": 32,
     "metadata": {},
     "output_type": "execute_result"
    }
   ],
   "source": [
    "df_train.head()"
   ]
  },
  {
   "cell_type": "code",
   "execution_count": 33,
   "metadata": {},
   "outputs": [],
   "source": [
    "def kesson_table(df):\n",
    "    total = df.isnull().sum()\n",
    "    percent = total / len(df) * 100\n",
    "    kesson_table = pd.concat([total, percent], axis=1, keys=['Total', 'Percent'])\n",
    "    return kesson_table"
   ]
  },
  {
   "cell_type": "code",
   "execution_count": 34,
   "metadata": {},
   "outputs": [
    {
     "data": {
      "text/html": [
       "<div>\n",
       "<style scoped>\n",
       "    .dataframe tbody tr th:only-of-type {\n",
       "        vertical-align: middle;\n",
       "    }\n",
       "\n",
       "    .dataframe tbody tr th {\n",
       "        vertical-align: top;\n",
       "    }\n",
       "\n",
       "    .dataframe thead th {\n",
       "        text-align: right;\n",
       "    }\n",
       "</style>\n",
       "<table border=\"1\" class=\"dataframe\">\n",
       "  <thead>\n",
       "    <tr style=\"text-align: right;\">\n",
       "      <th></th>\n",
       "      <th>Total</th>\n",
       "      <th>Percent</th>\n",
       "    </tr>\n",
       "  </thead>\n",
       "  <tbody>\n",
       "    <tr>\n",
       "      <th>id</th>\n",
       "      <td>0</td>\n",
       "      <td>0.000000</td>\n",
       "    </tr>\n",
       "    <tr>\n",
       "      <th>survived</th>\n",
       "      <td>0</td>\n",
       "      <td>0.000000</td>\n",
       "    </tr>\n",
       "    <tr>\n",
       "      <th>pclass</th>\n",
       "      <td>0</td>\n",
       "      <td>0.000000</td>\n",
       "    </tr>\n",
       "    <tr>\n",
       "      <th>sex</th>\n",
       "      <td>0</td>\n",
       "      <td>0.000000</td>\n",
       "    </tr>\n",
       "    <tr>\n",
       "      <th>age</th>\n",
       "      <td>85</td>\n",
       "      <td>19.101124</td>\n",
       "    </tr>\n",
       "    <tr>\n",
       "      <th>sibsp</th>\n",
       "      <td>0</td>\n",
       "      <td>0.000000</td>\n",
       "    </tr>\n",
       "    <tr>\n",
       "      <th>parch</th>\n",
       "      <td>0</td>\n",
       "      <td>0.000000</td>\n",
       "    </tr>\n",
       "    <tr>\n",
       "      <th>fare</th>\n",
       "      <td>0</td>\n",
       "      <td>0.000000</td>\n",
       "    </tr>\n",
       "    <tr>\n",
       "      <th>embarked</th>\n",
       "      <td>2</td>\n",
       "      <td>0.449438</td>\n",
       "    </tr>\n",
       "  </tbody>\n",
       "</table>\n",
       "</div>"
      ],
      "text/plain": [
       "          Total    Percent\n",
       "id            0   0.000000\n",
       "survived      0   0.000000\n",
       "pclass        0   0.000000\n",
       "sex           0   0.000000\n",
       "age          85  19.101124\n",
       "sibsp         0   0.000000\n",
       "parch         0   0.000000\n",
       "fare          0   0.000000\n",
       "embarked      2   0.449438"
      ]
     },
     "execution_count": 34,
     "metadata": {},
     "output_type": "execute_result"
    }
   ],
   "source": [
    "kesson_table(df_train)"
   ]
  },
  {
   "cell_type": "code",
   "execution_count": 35,
   "metadata": {},
   "outputs": [
    {
     "data": {
      "image/png": "[encoded data removed]",
      "text/plain": [
       "<Figure size 864x360 with 1 Axes>"
      ]
     },
     "metadata": {
      "needs_background": "light"
     },
     "output_type": "display_data"
    }
   ],
   "source": [
    "age_died = df_train[(df_train['age'] > 0) & (df_train['survived'] == 0)]\n",
    "age_surv = df_train[(df_train['age'] > 0) & (df_train['survived'] == 1)]\n",
    "\n",
    "plt.figure(figsize=(12, 5))\n",
    "\n",
    "sns.distplot(age_died['age'], bins=24, color='r')\n",
    "sns.distplot(age_surv['age'], bins=24, color='b')\n",
    "plt.title('Distribution and density by Age', fontsize=20)\n",
    "plt.xlabel('Age', fontsize=15)\n",
    "plt.ylabel('Distribution Died and Surv', fontsize=15)\n",
    "\n",
    "plt.show()"
   ]
  },
  {
   "cell_type": "markdown",
   "metadata": {},
   "source": [
    "The baby has a high probability of being saved.\n",
    "Others follow approximately normal distribution."
   ]
  },
  {
   "cell_type": "markdown",
   "metadata": {},
   "source": [
    "Let's view the data of sibsp and parch.\n",
    "Every baby has a family."
   ]
  },
  {
   "cell_type": "code",
   "execution_count": 36,
   "metadata": {},
   "outputs": [
    {
     "data": {
      "text/plain": [
       "count    445.000000\n",
       "mean       0.431461\n",
       "std        0.850489\n",
       "min        0.000000\n",
       "25%        0.000000\n",
       "50%        0.000000\n",
       "75%        1.000000\n",
       "max        5.000000\n",
       "Name: parch, dtype: float64"
      ]
     },
     "execution_count": 36,
     "metadata": {},
     "output_type": "execute_result"
    }
   ],
   "source": [
    "df_train['parch'].describe()"
   ]
  },
  {
   "cell_type": "code",
   "execution_count": 37,
   "metadata": {},
   "outputs": [
    {
     "name": "stdout",
     "output_type": "stream",
     "text": [
      "survived    0    1\n",
      "parch             \n",
      "0         212  118\n",
      "1          20   36\n",
      "2          28   21\n",
      "3           2    3\n",
      "4           2    0\n",
      "5           2    1\n"
     ]
    },
    {
     "data": {
      "image/png": "[encoded data removed]",
      "text/plain": [
       "<Figure size 864x360 with 1 Axes>"
      ]
     },
     "metadata": {
      "needs_background": "light"
     },
     "output_type": "display_data"
    }
   ],
   "source": [
    "print(pd.crosstab(df_train['parch'], df_train['survived']))\n",
    "\n",
    "plt.figure(figsize=(12, 5))\n",
    "sns.countplot(x='parch', hue='survived', data=df_train, palette='hls')\n",
    "plt.title('Description by survived', fontsize=20)\n",
    "plt.xlabel('the number of parch', fontsize=15)\n",
    "plt.ylabel('Counts', fontsize=15)\n",
    "\n",
    "plt.show()"
   ]
  },
  {
   "cell_type": "markdown",
   "metadata": {},
   "source": [
    "As you can see this graph, there is a heigher probability that one with a family will save more than one without a family."
   ]
  },
  {
   "cell_type": "markdown",
   "metadata": {},
   "source": [
    "Next sibsp."
   ]
  },
  {
   "cell_type": "code",
   "execution_count": 38,
   "metadata": {},
   "outputs": [
    {
     "name": "stdout",
     "output_type": "stream",
     "text": [
      "survived    0    1\n",
      "sibsp             \n",
      "0         194  105\n",
      "1          47   64\n",
      "2           6    8\n",
      "3           4    2\n",
      "4           7    0\n",
      "5           2    0\n",
      "8           6    0\n"
     ]
    },
    {
     "data": {
      "image/png": "[encoded data removed]",
      "text/plain": [
       "<Figure size 864x360 with 1 Axes>"
      ]
     },
     "metadata": {
      "needs_background": "light"
     },
     "output_type": "display_data"
    }
   ],
   "source": [
    "print(pd.crosstab(df_train['sibsp'], df_train['survived']))\n",
    "\n",
    "plt.figure(figsize=(12, 5))\n",
    "sns.countplot(x='sibsp', data=df_train, hue='survived', palette='hls')\n",
    "plt.title('Description by survived', fontsize=20)\n",
    "plt.xlabel('the number of sibsip', fontsize=15)\n",
    "plt.ylabel('Count', fontsize=15)\n",
    "\n",
    "plt.show()"
   ]
  },
  {
   "cell_type": "markdown",
   "metadata": {},
   "source": [
    "As you can see the this graph, this result is similar to the previous result.\n",
    "\n",
    "In conclution after looking this two datas,\n",
    "the most important things is exsisting a familiry or not.\n",
    "\n",
    "Therefore,\n",
    "I will change a binary data after add."
   ]
  },
  {
   "cell_type": "code",
   "execution_count": 39,
   "metadata": {},
   "outputs": [],
   "source": [
    "df_train['family'] = df_train['parch'] + df_train['sibsp']\n",
    "df_test['family'] = df_test['parch'] + df_test['sibsp']"
   ]
  },
  {
   "cell_type": "code",
   "execution_count": 40,
   "metadata": {},
   "outputs": [],
   "source": [
    "df_train['family'][df_train['family'] > 0] = 1\n",
    "df_test['family'][df_test['family'] > 0] = 1"
   ]
  },
  {
   "cell_type": "markdown",
   "metadata": {},
   "source": [
    "Let's check how much is it cavered."
   ]
  },
  {
   "cell_type": "code",
   "execution_count": 41,
   "metadata": {},
   "outputs": [
    {
     "name": "stdout",
     "output_type": "stream",
     "text": [
      "family    0    1\n",
      "sibsp           \n",
      "0       262   37\n",
      "1         0  111\n",
      "2         0   14\n",
      "3         0    6\n",
      "4         0    7\n",
      "5         0    2\n",
      "8         0    6\n"
     ]
    },
    {
     "data": {
      "image/png": "[encoded data removed]",
      "text/plain": [
       "<Figure size 864x360 with 1 Axes>"
      ]
     },
     "metadata": {
      "needs_background": "light"
     },
     "output_type": "display_data"
    }
   ],
   "source": [
    "print(pd.crosstab(df_train['sibsp'], df_train['family']))\n",
    "\n",
    "plt.figure(figsize=(12, 5))\n",
    "sns.countplot(x='family', data=df_train, hue='sibsp', palette='hls')\n",
    "plt.title('Covered between sibsip and family', fontsize=20)\n",
    "plt.xlabel('The number og sibsip', fontsize=15)\n",
    "plt.ylabel('Counts', fontsize=15)\n",
    "\n",
    "plt.show()"
   ]
  },
  {
   "cell_type": "markdown",
   "metadata": {},
   "source": [
    "Next let's look the fare data."
   ]
  },
  {
   "cell_type": "code",
   "execution_count": 42,
   "metadata": {},
   "outputs": [
    {
     "data": {
      "image/png": "[encoded data removed]",
      "text/plain": [
       "<Figure size 864x360 with 1 Axes>"
      ]
     },
     "metadata": {
      "needs_background": "light"
     },
     "output_type": "display_data"
    }
   ],
   "source": [
    "fare_died = df_train[(df_train['fare'] > 0) & (df_train['survived'] == 0)]\n",
    "fare_surv = df_train[(df_train['fare'] > 0) & (df_train['survived'] == 1)]\n",
    "\n",
    "plt.figure(figsize=(12, 5))\n",
    "sns.distplot(fare_died['fare'], bins=24, color='r')\n",
    "sns.distplot(fare_surv['fare'], bins=24, color='b')\n",
    "plt.title('Distribution and density by fare', fontsize=20)\n",
    "plt.xlabel('fare', fontsize=15)\n",
    "plt.ylabel('Destribution Died and Surv', fontsize=15)\n",
    "\n",
    "plt.show()"
   ]
  },
  {
   "cell_type": "markdown",
   "metadata": {},
   "source": [
    "As you can see this graph, A few fare passenger isn't saved in high probability."
   ]
  },
  {
   "cell_type": "code",
   "execution_count": 43,
   "metadata": {},
   "outputs": [
    {
     "data": {
      "text/plain": [
       "count    445.000000\n",
       "mean      33.959971\n",
       "std       52.079492\n",
       "min        0.000000\n",
       "25%        7.925000\n",
       "50%       15.000000\n",
       "75%       31.387500\n",
       "max      512.329200\n",
       "Name: fare, dtype: float64"
      ]
     },
     "execution_count": 43,
     "metadata": {},
     "output_type": "execute_result"
    }
   ],
   "source": [
    "df_train['fare'].describe()"
   ]
  },
  {
   "cell_type": "code",
   "execution_count": 44,
   "metadata": {},
   "outputs": [],
   "source": [
    "interval = (-1, 80, 1000)\n",
    "label_name = ('normal', 'high')\n",
    "\n",
    "df_train['fare'] = pd.cut(df_train['fare'], interval, labels=label_name)\n",
    "df_test['fare'] = pd.cut(df_test['fare'], interval, labels=label_name)"
   ]
  },
  {
   "cell_type": "markdown",
   "metadata": {},
   "source": [
    "Let's see the enbarked."
   ]
  },
  {
   "cell_type": "code",
   "execution_count": 45,
   "metadata": {},
   "outputs": [
    {
     "data": {
      "text/plain": [
       "S    325\n",
       "C     79\n",
       "Q     39\n",
       "Name: embarked, dtype: int64"
      ]
     },
     "execution_count": 45,
     "metadata": {},
     "output_type": "execute_result"
    }
   ],
   "source": [
    "df_train['embarked'].value_counts()"
   ]
  },
  {
   "cell_type": "code",
   "execution_count": 46,
   "metadata": {},
   "outputs": [],
   "source": [
    "df_train['embarked'] = df_train['embarked'].fillna('S')"
   ]
  },
  {
   "cell_type": "code",
   "execution_count": 47,
   "metadata": {},
   "outputs": [
    {
     "name": "stdout",
     "output_type": "stream",
     "text": [
      "survived    0    1\n",
      "embarked          \n",
      "C          32   47\n",
      "Q          23   16\n",
      "S         211  116\n"
     ]
    },
    {
     "data": {
      "image/png": "[encoded data removed]",
      "text/plain": [
       "<Figure size 864x360 with 1 Axes>"
      ]
     },
     "metadata": {
      "needs_background": "light"
     },
     "output_type": "display_data"
    }
   ],
   "source": [
    "print(pd.crosstab(df_train['embarked'], df_train['survived']))\n",
    "\n",
    "plt.figure(figsize=(12, 5))\n",
    "sns.countplot(x='embarked', data=df_train, hue='survived', palette='hls')\n",
    "plt.title('Description by survived or not', fontsize=20)\n",
    "plt.xlabel('Embarked', fontsize=15)\n",
    "plt.ylabel('Count', fontsize=15)\n",
    "\n",
    "plt.show()"
   ]
  },
  {
   "cell_type": "code",
   "execution_count": 48,
   "metadata": {},
   "outputs": [
    {
     "name": "stdout",
     "output_type": "stream",
     "text": [
      "fare      normal  high\n",
      "embarked              \n",
      "C             61    18\n",
      "Q             39     0\n",
      "S            305    22\n"
     ]
    },
    {
     "data": {
      "image/png": "[encoded data removed]",
      "text/plain": [
       "<Figure size 864x360 with 1 Axes>"
      ]
     },
     "metadata": {
      "needs_background": "light"
     },
     "output_type": "display_data"
    }
   ],
   "source": [
    "print(pd.crosstab(df_train['embarked'], df_train['fare']))\n",
    "\n",
    "plt.figure(figsize=(12, 5))\n",
    "sns.countplot(x='embarked', data=df_train, hue='fare', palette='hls')\n",
    "plt.title('Description by survived or not', fontsize=20)\n",
    "plt.xlabel('Embarked', fontsize=15)\n",
    "plt.ylabel('fare', fontsize=15)\n",
    "\n",
    "plt.show()"
   ]
  },
  {
   "cell_type": "code",
   "execution_count": 49,
   "metadata": {},
   "outputs": [
    {
     "data": {
      "text/html": [
       "<div>\n",
       "<style scoped>\n",
       "    .dataframe tbody tr th:only-of-type {\n",
       "        vertical-align: middle;\n",
       "    }\n",
       "\n",
       "    .dataframe tbody tr th {\n",
       "        vertical-align: top;\n",
       "    }\n",
       "\n",
       "    .dataframe thead th {\n",
       "        text-align: right;\n",
       "    }\n",
       "</style>\n",
       "<table border=\"1\" class=\"dataframe\">\n",
       "  <thead>\n",
       "    <tr style=\"text-align: right;\">\n",
       "      <th></th>\n",
       "      <th>id</th>\n",
       "      <th>survived</th>\n",
       "      <th>pclass</th>\n",
       "      <th>sex</th>\n",
       "      <th>age</th>\n",
       "      <th>sibsp</th>\n",
       "      <th>parch</th>\n",
       "      <th>fare</th>\n",
       "      <th>embarked</th>\n",
       "      <th>family</th>\n",
       "    </tr>\n",
       "  </thead>\n",
       "  <tbody>\n",
       "    <tr>\n",
       "      <th>0</th>\n",
       "      <td>3</td>\n",
       "      <td>1</td>\n",
       "      <td>1</td>\n",
       "      <td>female</td>\n",
       "      <td>35.0</td>\n",
       "      <td>1</td>\n",
       "      <td>0</td>\n",
       "      <td>normal</td>\n",
       "      <td>S</td>\n",
       "      <td>1</td>\n",
       "    </tr>\n",
       "    <tr>\n",
       "      <th>1</th>\n",
       "      <td>4</td>\n",
       "      <td>0</td>\n",
       "      <td>3</td>\n",
       "      <td>male</td>\n",
       "      <td>35.0</td>\n",
       "      <td>0</td>\n",
       "      <td>0</td>\n",
       "      <td>normal</td>\n",
       "      <td>S</td>\n",
       "      <td>0</td>\n",
       "    </tr>\n",
       "    <tr>\n",
       "      <th>2</th>\n",
       "      <td>7</td>\n",
       "      <td>0</td>\n",
       "      <td>3</td>\n",
       "      <td>male</td>\n",
       "      <td>2.0</td>\n",
       "      <td>3</td>\n",
       "      <td>1</td>\n",
       "      <td>normal</td>\n",
       "      <td>S</td>\n",
       "      <td>1</td>\n",
       "    </tr>\n",
       "    <tr>\n",
       "      <th>3</th>\n",
       "      <td>9</td>\n",
       "      <td>1</td>\n",
       "      <td>2</td>\n",
       "      <td>female</td>\n",
       "      <td>14.0</td>\n",
       "      <td>1</td>\n",
       "      <td>0</td>\n",
       "      <td>normal</td>\n",
       "      <td>C</td>\n",
       "      <td>1</td>\n",
       "    </tr>\n",
       "    <tr>\n",
       "      <th>4</th>\n",
       "      <td>11</td>\n",
       "      <td>1</td>\n",
       "      <td>1</td>\n",
       "      <td>female</td>\n",
       "      <td>58.0</td>\n",
       "      <td>0</td>\n",
       "      <td>0</td>\n",
       "      <td>normal</td>\n",
       "      <td>S</td>\n",
       "      <td>0</td>\n",
       "    </tr>\n",
       "  </tbody>\n",
       "</table>\n",
       "</div>"
      ],
      "text/plain": [
       "   id  survived  pclass     sex   age  sibsp  parch    fare embarked  family\n",
       "0   3         1       1  female  35.0      1      0  normal        S       1\n",
       "1   4         0       3    male  35.0      0      0  normal        S       0\n",
       "2   7         0       3    male   2.0      3      1  normal        S       1\n",
       "3   9         1       2  female  14.0      1      0  normal        C       1\n",
       "4  11         1       1  female  58.0      0      0  normal        S       0"
      ]
     },
     "execution_count": 49,
     "metadata": {},
     "output_type": "execute_result"
    }
   ],
   "source": [
    "df_train.head()"
   ]
  },
  {
   "cell_type": "code",
   "execution_count": 50,
   "metadata": {},
   "outputs": [
    {
     "name": "stdout",
     "output_type": "stream",
     "text": [
      "This graph is example of factorplot\n"
     ]
    },
    {
     "data": {
      "text/plain": [
       "<Figure size 864x360 with 0 Axes>"
      ]
     },
     "metadata": {},
     "output_type": "display_data"
    },
    {
     "data": {
      "image/png": "[encoded data removed]",
      "text/plain": [
       "<Figure size 410.875x360 with 1 Axes>"
      ]
     },
     "metadata": {
      "needs_background": "light"
     },
     "output_type": "display_data"
    }
   ],
   "source": [
    "print('This graph is example of factorplot')\n",
    "\n",
    "plt.figure(figsize=(12, 5))\n",
    "sns.factorplot(x='pclass', y='age', data=df_train, hue='survived', palette='hls')\n",
    "plt.title('Example of factorplot', fontsize=20)\n",
    "plt.xlabel('pclass', fontsize=15)\n",
    "plt.ylabel('age', fontsize=15)\n",
    "\n",
    "plt.show()"
   ]
  },
  {
   "cell_type": "code",
   "execution_count": 51,
   "metadata": {},
   "outputs": [
    {
     "name": "stdout",
     "output_type": "stream",
     "text": [
      "This graph is example of factorplot\n"
     ]
    },
    {
     "data": {
      "text/plain": [
       "<Figure size 864x360 with 0 Axes>"
      ]
     },
     "metadata": {},
     "output_type": "display_data"
    },
    {
     "data": {
      "image/png": "[encoded data removed]",
      "text/plain": [
       "<Figure size 410.875x360 with 1 Axes>"
      ]
     },
     "metadata": {
      "needs_background": "light"
     },
     "output_type": "display_data"
    }
   ],
   "source": [
    "print('This graph is example of factorplot')\n",
    "\n",
    "plt.figure(figsize=(12, 5))\n",
    "sns.factorplot(x='pclass', y='fare', data=df_train, hue='survived', palette='hls')\n",
    "plt.title('Example of factorplot', fontsize=20)\n",
    "plt.xlabel('pclass', fontsize=15)\n",
    "plt.ylabel('fare', fontsize=15)\n",
    "\n",
    "plt.show()"
   ]
  },
  {
   "cell_type": "code",
   "execution_count": 52,
   "metadata": {},
   "outputs": [],
   "source": [
    "df_train['age'] = df_train['age'].fillna(df_train['age'].median())\n",
    "df_test['age'] = df_test['age'].fillna(df_test['age'].median())"
   ]
  },
  {
   "cell_type": "code",
   "execution_count": null,
   "metadata": {},
   "outputs": [],
   "source": []
  },
  {
   "cell_type": "code",
   "execution_count": 53,
   "metadata": {},
   "outputs": [
    {
     "data": {
      "text/html": [
       "<div>\n",
       "<style scoped>\n",
       "    .dataframe tbody tr th:only-of-type {\n",
       "        vertical-align: middle;\n",
       "    }\n",
       "\n",
       "    .dataframe tbody tr th {\n",
       "        vertical-align: top;\n",
       "    }\n",
       "\n",
       "    .dataframe thead th {\n",
       "        text-align: right;\n",
       "    }\n",
       "</style>\n",
       "<table border=\"1\" class=\"dataframe\">\n",
       "  <thead>\n",
       "    <tr style=\"text-align: right;\">\n",
       "      <th></th>\n",
       "      <th>id</th>\n",
       "      <th>survived</th>\n",
       "      <th>pclass</th>\n",
       "      <th>sex</th>\n",
       "      <th>age</th>\n",
       "      <th>sibsp</th>\n",
       "      <th>parch</th>\n",
       "      <th>fare</th>\n",
       "      <th>embarked</th>\n",
       "      <th>family</th>\n",
       "    </tr>\n",
       "  </thead>\n",
       "  <tbody>\n",
       "    <tr>\n",
       "      <th>0</th>\n",
       "      <td>3</td>\n",
       "      <td>1</td>\n",
       "      <td>1</td>\n",
       "      <td>female</td>\n",
       "      <td>35.0</td>\n",
       "      <td>1</td>\n",
       "      <td>0</td>\n",
       "      <td>normal</td>\n",
       "      <td>S</td>\n",
       "      <td>1</td>\n",
       "    </tr>\n",
       "    <tr>\n",
       "      <th>1</th>\n",
       "      <td>4</td>\n",
       "      <td>0</td>\n",
       "      <td>3</td>\n",
       "      <td>male</td>\n",
       "      <td>35.0</td>\n",
       "      <td>0</td>\n",
       "      <td>0</td>\n",
       "      <td>normal</td>\n",
       "      <td>S</td>\n",
       "      <td>0</td>\n",
       "    </tr>\n",
       "    <tr>\n",
       "      <th>2</th>\n",
       "      <td>7</td>\n",
       "      <td>0</td>\n",
       "      <td>3</td>\n",
       "      <td>male</td>\n",
       "      <td>2.0</td>\n",
       "      <td>3</td>\n",
       "      <td>1</td>\n",
       "      <td>normal</td>\n",
       "      <td>S</td>\n",
       "      <td>1</td>\n",
       "    </tr>\n",
       "    <tr>\n",
       "      <th>3</th>\n",
       "      <td>9</td>\n",
       "      <td>1</td>\n",
       "      <td>2</td>\n",
       "      <td>female</td>\n",
       "      <td>14.0</td>\n",
       "      <td>1</td>\n",
       "      <td>0</td>\n",
       "      <td>normal</td>\n",
       "      <td>C</td>\n",
       "      <td>1</td>\n",
       "    </tr>\n",
       "    <tr>\n",
       "      <th>4</th>\n",
       "      <td>11</td>\n",
       "      <td>1</td>\n",
       "      <td>1</td>\n",
       "      <td>female</td>\n",
       "      <td>58.0</td>\n",
       "      <td>0</td>\n",
       "      <td>0</td>\n",
       "      <td>normal</td>\n",
       "      <td>S</td>\n",
       "      <td>0</td>\n",
       "    </tr>\n",
       "  </tbody>\n",
       "</table>\n",
       "</div>"
      ],
      "text/plain": [
       "   id  survived  pclass     sex   age  sibsp  parch    fare embarked  family\n",
       "0   3         1       1  female  35.0      1      0  normal        S       1\n",
       "1   4         0       3    male  35.0      0      0  normal        S       0\n",
       "2   7         0       3    male   2.0      3      1  normal        S       1\n",
       "3   9         1       2  female  14.0      1      0  normal        C       1\n",
       "4  11         1       1  female  58.0      0      0  normal        S       0"
      ]
     },
     "execution_count": 53,
     "metadata": {},
     "output_type": "execute_result"
    }
   ],
   "source": [
    "df_train.head()"
   ]
  },
  {
   "cell_type": "code",
   "execution_count": 54,
   "metadata": {},
   "outputs": [],
   "source": [
    "interval = (0, 5, 12, 18, 24, 60 , 120)\n",
    "label_name = ['baby', 'child', 'yaung', 'student', 'adult', 'senior']\n",
    "\n",
    "df_train['age'] = pd.cut(df_train['age'], interval, labels=label_name)\n",
    "df_test['age'] = pd.cut(df_test['age'], interval, labels=label_name)"
   ]
  },
  {
   "cell_type": "code",
   "execution_count": 55,
   "metadata": {},
   "outputs": [],
   "source": [
    "columns = ['pclass', 'sex', 'age', 'fare', 'embarked', 'family']\n",
    "prefix = ['plclass', 'sex', 'age', 'fare', 'embarked', 'family']\n",
    "\n",
    "df_train = pd.get_dummies(df_train, columns=columns, prefix=prefix, drop_first=True)\n",
    "df_test = pd.get_dummies(df_test, columns=columns, prefix=prefix, drop_first=True)"
   ]
  },
  {
   "cell_type": "code",
   "execution_count": 57,
   "metadata": {},
   "outputs": [
    {
     "data": {
      "text/plain": [
       "array([[  3,   1,   1, ...,   0,   1,   1],\n",
       "       [  4,   0,   0, ...,   0,   1,   0],\n",
       "       [  7,   0,   3, ...,   0,   1,   1],\n",
       "       ...,\n",
       "       [879,   1,   0, ...,   0,   0,   1],\n",
       "       [884,   0,   0, ...,   0,   1,   0],\n",
       "       [888,   0,   1, ...,   0,   1,   1]])"
      ]
     },
     "execution_count": 57,
     "metadata": {},
     "output_type": "execute_result"
    }
   ],
   "source": [
    "df_train.values"
   ]
  },
  {
   "cell_type": "code",
   "execution_count": 28,
   "metadata": {},
   "outputs": [],
   "source": [
    "Drop_train = ['id', 'survived', 'sibsp', 'parch']\n",
    "Drop_test = ['id', 'sibsp', 'parch']\n",
    "\n",
    "train = df_train.drop(Drop_train, axis=1)\n",
    "train_ = df_train['survived']\n",
    "test = df_test.drop(Drop_test, axis=1)\n",
    "\n",
    "X_train = train.values\n",
    "y_train = train_.values\n",
    "X_test = test.values"
   ]
  },
  {
   "cell_type": "code",
   "execution_count": null,
   "metadata": {},
   "outputs": [],
   "source": []
  },
  {
   "cell_type": "code",
   "execution_count": 64,
   "metadata": {},
   "outputs": [
    {
     "name": "stdout",
     "output_type": "stream",
     "text": [
      "(445, 12) (445,) (446, 12)\n"
     ]
    }
   ],
   "source": [
    "print(X_train.shape, y_train.shape, X_test.shape)"
   ]
  },
  {
   "cell_type": "code",
   "execution_count": 61,
   "metadata": {},
   "outputs": [
    {
     "name": "stderr",
     "output_type": "stream",
     "text": [
      "/Users/anankoki/kaggle/lib/python3.6/site-packages/sklearn/utils/validation.py:595: DataConversionWarning: Data with input dtype uint8 was converted to float64 by StandardScaler.\n",
      "  warnings.warn(msg, DataConversionWarning)\n",
      "/Users/anankoki/kaggle/lib/python3.6/site-packages/sklearn/utils/validation.py:595: DataConversionWarning: Data with input dtype uint8 was converted to float64 by StandardScaler.\n",
      "  warnings.warn(msg, DataConversionWarning)\n"
     ]
    }
   ],
   "source": [
    "from sklearn.preprocessing import StandardScaler\n",
    "sc = StandardScaler()\n",
    "X_train = sc.fit_transform(X_train)\n",
    "X_test = sc.fit_transform(X_test)"
   ]
  },
  {
   "cell_type": "code",
   "execution_count": 63,
   "metadata": {},
   "outputs": [
    {
     "name": "stderr",
     "output_type": "stream",
     "text": [
      "Using TensorFlow backend.\n"
     ]
    }
   ],
   "source": [
    "from keras.models import Sequential\n",
    "from keras.layers import Dense, Activation, Dropout\n",
    "import keras\n",
    "from keras.optimizers import Adam"
   ]
  },
  {
   "cell_type": "code",
   "execution_count": 95,
   "metadata": {},
   "outputs": [
    {
     "name": "stdout",
     "output_type": "stream",
     "text": [
      "_________________________________________________________________\n",
      "Layer (type)                 Output Shape              Param #   \n",
      "=================================================================\n",
      "dense_32 (Dense)             (None, 100)               1300      \n",
      "_________________________________________________________________\n",
      "dropout_23 (Dropout)         (None, 100)               0         \n",
      "_________________________________________________________________\n",
      "dense_33 (Dense)             (None, 30)                3030      \n",
      "_________________________________________________________________\n",
      "dropout_24 (Dropout)         (None, 30)                0         \n",
      "_________________________________________________________________\n",
      "dense_34 (Dense)             (None, 1)                 31        \n",
      "=================================================================\n",
      "Total params: 4,361\n",
      "Trainable params: 4,361\n",
      "Non-trainable params: 0\n",
      "_________________________________________________________________\n"
     ]
    }
   ],
   "source": [
    "model = Sequential()\n",
    "\n",
    "model.add(Dense(100, activation='relu', input_dim=12, kernel_initializer='uniform'))\n",
    "model.add(Dropout(0.3))\n",
    "model.add(Dense(30, activation='relu', input_dim=12, kernel_initializer='uniform'))\n",
    "model.add(Dropout(0.4))\n",
    "model.add(Dense(1, activation='sigmoid', kernel_initializer='uniform'))\n",
    "\n",
    "model.summary()"
   ]
  },
  {
   "cell_type": "code",
   "execution_count": 96,
   "metadata": {},
   "outputs": [
    {
     "name": "stdout",
     "output_type": "stream",
     "text": [
      "Train on 356 samples, validate on 89 samples\n",
      "Epoch 1/100\n",
      "356/356 [==============================] - 1s 4ms/step - loss: 0.6912 - acc: 0.5899 - val_loss: 0.6875 - val_acc: 0.6067\n",
      "Epoch 2/100\n",
      "356/356 [==============================] - 0s 240us/step - loss: 0.6811 - acc: 0.6685 - val_loss: 0.6684 - val_acc: 0.7978\n",
      "Epoch 3/100\n",
      "356/356 [==============================] - 0s 225us/step - loss: 0.6482 - acc: 0.7360 - val_loss: 0.6086 - val_acc: 0.8202\n",
      "Epoch 4/100\n",
      "356/356 [==============================] - 0s 152us/step - loss: 0.5843 - acc: 0.7640 - val_loss: 0.5291 - val_acc: 0.8315\n",
      "Epoch 5/100\n",
      "356/356 [==============================] - 0s 262us/step - loss: 0.5217 - acc: 0.8006 - val_loss: 0.4728 - val_acc: 0.7865\n",
      "Epoch 6/100\n",
      "356/356 [==============================] - 0s 224us/step - loss: 0.4853 - acc: 0.8034 - val_loss: 0.4503 - val_acc: 0.8090\n",
      "Epoch 7/100\n",
      "356/356 [==============================] - 0s 154us/step - loss: 0.4754 - acc: 0.8034 - val_loss: 0.4417 - val_acc: 0.8090\n",
      "Epoch 8/100\n",
      "356/356 [==============================] - 0s 283us/step - loss: 0.4632 - acc: 0.8146 - val_loss: 0.4367 - val_acc: 0.7978\n",
      "Epoch 9/100\n",
      "356/356 [==============================] - 0s 198us/step - loss: 0.4625 - acc: 0.8062 - val_loss: 0.4426 - val_acc: 0.7865\n",
      "Epoch 10/100\n",
      "356/356 [==============================] - 0s 228us/step - loss: 0.4555 - acc: 0.8118 - val_loss: 0.4442 - val_acc: 0.7753\n",
      "Epoch 11/100\n",
      "356/356 [==============================] - 0s 266us/step - loss: 0.4461 - acc: 0.8034 - val_loss: 0.4393 - val_acc: 0.7865\n",
      "Epoch 12/100\n",
      "356/356 [==============================] - 0s 189us/step - loss: 0.4583 - acc: 0.8090 - val_loss: 0.4375 - val_acc: 0.7865\n",
      "Epoch 13/100\n",
      "356/356 [==============================] - 0s 141us/step - loss: 0.4480 - acc: 0.8034 - val_loss: 0.4431 - val_acc: 0.7753\n",
      "Epoch 14/100\n",
      "356/356 [==============================] - 0s 260us/step - loss: 0.4453 - acc: 0.8174 - val_loss: 0.4377 - val_acc: 0.7753\n",
      "Epoch 15/100\n",
      "356/356 [==============================] - 0s 220us/step - loss: 0.4260 - acc: 0.8118 - val_loss: 0.4364 - val_acc: 0.7640\n",
      "Epoch 16/100\n",
      "356/356 [==============================] - 0s 179us/step - loss: 0.4224 - acc: 0.8258 - val_loss: 0.4302 - val_acc: 0.7978\n",
      "Epoch 17/100\n",
      "356/356 [==============================] - 0s 160us/step - loss: 0.4367 - acc: 0.8062 - val_loss: 0.4319 - val_acc: 0.7753\n",
      "Epoch 18/100\n",
      "356/356 [==============================] - 0s 224us/step - loss: 0.4226 - acc: 0.8230 - val_loss: 0.4305 - val_acc: 0.8202\n",
      "Epoch 19/100\n",
      "356/356 [==============================] - 0s 192us/step - loss: 0.4166 - acc: 0.8483 - val_loss: 0.4284 - val_acc: 0.7640\n",
      "Epoch 20/100\n",
      "356/356 [==============================] - 0s 157us/step - loss: 0.4133 - acc: 0.8287 - val_loss: 0.4312 - val_acc: 0.8202\n",
      "Epoch 21/100\n",
      "356/356 [==============================] - 0s 210us/step - loss: 0.4205 - acc: 0.8371 - val_loss: 0.4343 - val_acc: 0.7640\n",
      "Epoch 22/100\n",
      "356/356 [==============================] - 0s 161us/step - loss: 0.4308 - acc: 0.8343 - val_loss: 0.4342 - val_acc: 0.7640\n",
      "Epoch 23/100\n",
      "356/356 [==============================] - 0s 180us/step - loss: 0.4065 - acc: 0.8287 - val_loss: 0.4321 - val_acc: 0.8315\n",
      "Epoch 24/100\n",
      "356/356 [==============================] - 0s 155us/step - loss: 0.4037 - acc: 0.8343 - val_loss: 0.4317 - val_acc: 0.8427\n",
      "Epoch 25/100\n",
      "356/356 [==============================] - 0s 222us/step - loss: 0.4026 - acc: 0.8287 - val_loss: 0.4315 - val_acc: 0.8427\n",
      "Epoch 26/100\n",
      "356/356 [==============================] - 0s 169us/step - loss: 0.4294 - acc: 0.8230 - val_loss: 0.4289 - val_acc: 0.8427\n",
      "Epoch 27/100\n",
      "356/356 [==============================] - 0s 158us/step - loss: 0.3939 - acc: 0.8315 - val_loss: 0.4292 - val_acc: 0.8315\n",
      "Epoch 28/100\n",
      "356/356 [==============================] - 0s 186us/step - loss: 0.3992 - acc: 0.8483 - val_loss: 0.4336 - val_acc: 0.8090\n",
      "Epoch 29/100\n",
      "356/356 [==============================] - 0s 190us/step - loss: 0.4350 - acc: 0.8315 - val_loss: 0.4276 - val_acc: 0.8315\n",
      "Epoch 30/100\n",
      "356/356 [==============================] - 0s 158us/step - loss: 0.4135 - acc: 0.8202 - val_loss: 0.4366 - val_acc: 0.8090\n",
      "Epoch 31/100\n",
      "356/356 [==============================] - 0s 195us/step - loss: 0.4075 - acc: 0.8371 - val_loss: 0.4283 - val_acc: 0.8315\n",
      "Epoch 32/100\n",
      "356/356 [==============================] - 0s 191us/step - loss: 0.4031 - acc: 0.8258 - val_loss: 0.4300 - val_acc: 0.8315\n",
      "Epoch 33/100\n",
      "356/356 [==============================] - 0s 213us/step - loss: 0.4195 - acc: 0.8258 - val_loss: 0.4349 - val_acc: 0.8090\n",
      "Epoch 34/100\n",
      "356/356 [==============================] - 0s 150us/step - loss: 0.4042 - acc: 0.8399 - val_loss: 0.4309 - val_acc: 0.8315\n",
      "Epoch 35/100\n",
      "356/356 [==============================] - 0s 191us/step - loss: 0.4124 - acc: 0.8343 - val_loss: 0.4280 - val_acc: 0.8315\n",
      "Epoch 36/100\n",
      "356/356 [==============================] - 0s 175us/step - loss: 0.4039 - acc: 0.8230 - val_loss: 0.4307 - val_acc: 0.8315\n",
      "Epoch 37/100\n",
      "356/356 [==============================] - 0s 213us/step - loss: 0.3980 - acc: 0.8371 - val_loss: 0.4319 - val_acc: 0.8315\n",
      "Epoch 38/100\n",
      "356/356 [==============================] - 0s 215us/step - loss: 0.3974 - acc: 0.8230 - val_loss: 0.4284 - val_acc: 0.8315\n",
      "Epoch 39/100\n",
      "356/356 [==============================] - 0s 162us/step - loss: 0.3907 - acc: 0.8483 - val_loss: 0.4322 - val_acc: 0.8315\n",
      "Epoch 40/100\n",
      "356/356 [==============================] - 0s 216us/step - loss: 0.3905 - acc: 0.8427 - val_loss: 0.4412 - val_acc: 0.8090\n",
      "Epoch 41/100\n",
      "356/356 [==============================] - 0s 146us/step - loss: 0.4012 - acc: 0.8427 - val_loss: 0.4383 - val_acc: 0.8315\n",
      "Epoch 42/100\n",
      "356/356 [==============================] - 0s 144us/step - loss: 0.3764 - acc: 0.8539 - val_loss: 0.4357 - val_acc: 0.8315\n",
      "Epoch 43/100\n",
      "356/356 [==============================] - 0s 180us/step - loss: 0.4097 - acc: 0.8371 - val_loss: 0.4332 - val_acc: 0.8315\n",
      "Epoch 44/100\n",
      "356/356 [==============================] - 0s 317us/step - loss: 0.3860 - acc: 0.8427 - val_loss: 0.4447 - val_acc: 0.8090\n",
      "Epoch 45/100\n",
      "356/356 [==============================] - 0s 124us/step - loss: 0.3902 - acc: 0.8427 - val_loss: 0.4459 - val_acc: 0.8090\n",
      "Epoch 46/100\n",
      "356/356 [==============================] - 0s 122us/step - loss: 0.3874 - acc: 0.8399 - val_loss: 0.4468 - val_acc: 0.8315\n",
      "Epoch 47/100\n",
      "356/356 [==============================] - 0s 114us/step - loss: 0.3827 - acc: 0.8258 - val_loss: 0.4428 - val_acc: 0.8315\n",
      "Epoch 48/100\n",
      "356/356 [==============================] - 0s 103us/step - loss: 0.3791 - acc: 0.8455 - val_loss: 0.4462 - val_acc: 0.8202\n",
      "Epoch 49/100\n",
      "356/356 [==============================] - 0s 127us/step - loss: 0.3914 - acc: 0.8371 - val_loss: 0.4499 - val_acc: 0.8315\n",
      "Epoch 50/100\n",
      "356/356 [==============================] - 0s 137us/step - loss: 0.4045 - acc: 0.8343 - val_loss: 0.4528 - val_acc: 0.8202\n",
      "Epoch 51/100\n",
      "356/356 [==============================] - 0s 216us/step - loss: 0.3996 - acc: 0.8343 - val_loss: 0.4551 - val_acc: 0.8315\n",
      "Epoch 52/100\n",
      "356/356 [==============================] - 0s 176us/step - loss: 0.3906 - acc: 0.8455 - val_loss: 0.4490 - val_acc: 0.8315\n",
      "Epoch 53/100\n",
      "356/356 [==============================] - 0s 189us/step - loss: 0.4072 - acc: 0.8399 - val_loss: 0.4456 - val_acc: 0.8090\n",
      "Epoch 54/100\n",
      "356/356 [==============================] - 0s 188us/step - loss: 0.3895 - acc: 0.8399 - val_loss: 0.4461 - val_acc: 0.8315\n",
      "Epoch 55/100\n",
      "356/356 [==============================] - 0s 223us/step - loss: 0.3985 - acc: 0.8371 - val_loss: 0.4669 - val_acc: 0.8315\n",
      "Epoch 56/100\n",
      "356/356 [==============================] - 0s 235us/step - loss: 0.3983 - acc: 0.8483 - val_loss: 0.4568 - val_acc: 0.8315\n",
      "Epoch 57/100\n",
      "356/356 [==============================] - 0s 211us/step - loss: 0.3799 - acc: 0.8399 - val_loss: 0.4525 - val_acc: 0.8315\n",
      "Epoch 58/100\n",
      "356/356 [==============================] - 0s 169us/step - loss: 0.3874 - acc: 0.8371 - val_loss: 0.4629 - val_acc: 0.8090\n",
      "Epoch 59/100\n",
      "356/356 [==============================] - 0s 177us/step - loss: 0.3686 - acc: 0.8511 - val_loss: 0.4626 - val_acc: 0.8315\n",
      "Epoch 60/100\n",
      "356/356 [==============================] - 0s 219us/step - loss: 0.3872 - acc: 0.8483 - val_loss: 0.4636 - val_acc: 0.7978\n"
     ]
    },
    {
     "name": "stdout",
     "output_type": "stream",
     "text": [
      "Epoch 61/100\n",
      "356/356 [==============================] - 0s 196us/step - loss: 0.3976 - acc: 0.8343 - val_loss: 0.4544 - val_acc: 0.8202\n",
      "Epoch 62/100\n",
      "356/356 [==============================] - 0s 257us/step - loss: 0.3967 - acc: 0.8399 - val_loss: 0.4439 - val_acc: 0.8202\n",
      "Epoch 63/100\n",
      "356/356 [==============================] - 0s 274us/step - loss: 0.3807 - acc: 0.8511 - val_loss: 0.4502 - val_acc: 0.8202\n",
      "Epoch 64/100\n",
      "356/356 [==============================] - 0s 214us/step - loss: 0.3780 - acc: 0.8567 - val_loss: 0.4539 - val_acc: 0.8202\n",
      "Epoch 65/100\n",
      "356/356 [==============================] - 0s 171us/step - loss: 0.3870 - acc: 0.8315 - val_loss: 0.4603 - val_acc: 0.7978\n",
      "Epoch 66/100\n",
      "356/356 [==============================] - 0s 197us/step - loss: 0.3989 - acc: 0.8343 - val_loss: 0.4542 - val_acc: 0.8315\n",
      "Epoch 67/100\n",
      "356/356 [==============================] - 0s 244us/step - loss: 0.3690 - acc: 0.8483 - val_loss: 0.4552 - val_acc: 0.8315\n",
      "Epoch 68/100\n",
      "356/356 [==============================] - 0s 214us/step - loss: 0.3762 - acc: 0.8315 - val_loss: 0.4572 - val_acc: 0.8315\n",
      "Epoch 69/100\n",
      "356/356 [==============================] - 0s 232us/step - loss: 0.3803 - acc: 0.8427 - val_loss: 0.4617 - val_acc: 0.8202\n",
      "Epoch 70/100\n",
      "356/356 [==============================] - 0s 185us/step - loss: 0.3974 - acc: 0.8483 - val_loss: 0.4552 - val_acc: 0.8315\n",
      "Epoch 71/100\n",
      "356/356 [==============================] - 0s 193us/step - loss: 0.3900 - acc: 0.8399 - val_loss: 0.4543 - val_acc: 0.8315\n",
      "Epoch 72/100\n",
      "356/356 [==============================] - 0s 255us/step - loss: 0.3711 - acc: 0.8343 - val_loss: 0.4621 - val_acc: 0.8202\n",
      "Epoch 73/100\n",
      "356/356 [==============================] - 0s 209us/step - loss: 0.3919 - acc: 0.8455 - val_loss: 0.4671 - val_acc: 0.7978\n",
      "Epoch 74/100\n",
      "356/356 [==============================] - 0s 219us/step - loss: 0.3853 - acc: 0.8343 - val_loss: 0.4808 - val_acc: 0.7978\n",
      "Epoch 75/100\n",
      "356/356 [==============================] - 0s 261us/step - loss: 0.3765 - acc: 0.8287 - val_loss: 0.4746 - val_acc: 0.8315\n",
      "Epoch 76/100\n",
      "356/356 [==============================] - 0s 175us/step - loss: 0.3629 - acc: 0.8511 - val_loss: 0.4639 - val_acc: 0.8315\n",
      "Epoch 77/100\n",
      "356/356 [==============================] - 0s 155us/step - loss: 0.3759 - acc: 0.8455 - val_loss: 0.4579 - val_acc: 0.8202\n",
      "Epoch 78/100\n",
      "356/356 [==============================] - 0s 148us/step - loss: 0.3760 - acc: 0.8455 - val_loss: 0.4672 - val_acc: 0.8315\n",
      "Epoch 79/100\n",
      "356/356 [==============================] - 0s 264us/step - loss: 0.3901 - acc: 0.8455 - val_loss: 0.4690 - val_acc: 0.8315\n",
      "Epoch 80/100\n",
      "356/356 [==============================] - 0s 192us/step - loss: 0.3682 - acc: 0.8427 - val_loss: 0.4683 - val_acc: 0.8202\n",
      "Epoch 81/100\n",
      "356/356 [==============================] - 0s 189us/step - loss: 0.3701 - acc: 0.8371 - val_loss: 0.4672 - val_acc: 0.8202\n",
      "Epoch 82/100\n",
      "356/356 [==============================] - 0s 230us/step - loss: 0.3582 - acc: 0.8455 - val_loss: 0.4624 - val_acc: 0.8202\n",
      "Epoch 83/100\n",
      "356/356 [==============================] - 0s 229us/step - loss: 0.3810 - acc: 0.8427 - val_loss: 0.4814 - val_acc: 0.8202\n",
      "Epoch 84/100\n",
      "356/356 [==============================] - 0s 222us/step - loss: 0.3756 - acc: 0.8539 - val_loss: 0.4810 - val_acc: 0.8315\n",
      "Epoch 85/100\n",
      "356/356 [==============================] - 0s 194us/step - loss: 0.3714 - acc: 0.8455 - val_loss: 0.4803 - val_acc: 0.7753\n",
      "Epoch 86/100\n",
      "356/356 [==============================] - 0s 175us/step - loss: 0.3632 - acc: 0.8539 - val_loss: 0.4785 - val_acc: 0.8315\n",
      "Epoch 87/100\n",
      "356/356 [==============================] - 0s 177us/step - loss: 0.3775 - acc: 0.8287 - val_loss: 0.4779 - val_acc: 0.8202\n",
      "Epoch 88/100\n",
      "356/356 [==============================] - 0s 157us/step - loss: 0.3747 - acc: 0.8455 - val_loss: 0.4880 - val_acc: 0.7753\n",
      "Epoch 89/100\n",
      "356/356 [==============================] - 0s 222us/step - loss: 0.3750 - acc: 0.8624 - val_loss: 0.4845 - val_acc: 0.7640\n",
      "Epoch 90/100\n",
      "356/356 [==============================] - 0s 175us/step - loss: 0.3756 - acc: 0.8567 - val_loss: 0.4700 - val_acc: 0.8315\n",
      "Epoch 91/100\n",
      "356/356 [==============================] - 0s 171us/step - loss: 0.3741 - acc: 0.8427 - val_loss: 0.4837 - val_acc: 0.7640\n",
      "Epoch 92/100\n",
      "356/356 [==============================] - 0s 341us/step - loss: 0.3693 - acc: 0.8511 - val_loss: 0.4802 - val_acc: 0.8315\n",
      "Epoch 93/100\n",
      "356/356 [==============================] - 0s 192us/step - loss: 0.3754 - acc: 0.8539 - val_loss: 0.4878 - val_acc: 0.8315\n",
      "Epoch 94/100\n",
      "356/356 [==============================] - 0s 232us/step - loss: 0.3794 - acc: 0.8399 - val_loss: 0.4784 - val_acc: 0.8315\n",
      "Epoch 95/100\n",
      "356/356 [==============================] - 0s 240us/step - loss: 0.3796 - acc: 0.8427 - val_loss: 0.4874 - val_acc: 0.7753\n",
      "Epoch 96/100\n",
      "356/356 [==============================] - 0s 224us/step - loss: 0.3780 - acc: 0.8455 - val_loss: 0.4759 - val_acc: 0.8315\n",
      "Epoch 97/100\n",
      "356/356 [==============================] - 0s 162us/step - loss: 0.3816 - acc: 0.8483 - val_loss: 0.4752 - val_acc: 0.7753\n",
      "Epoch 98/100\n",
      "356/356 [==============================] - 0s 187us/step - loss: 0.3866 - acc: 0.8343 - val_loss: 0.4655 - val_acc: 0.8315\n",
      "Epoch 99/100\n",
      "356/356 [==============================] - 0s 218us/step - loss: 0.3529 - acc: 0.8483 - val_loss: 0.4760 - val_acc: 0.8315\n",
      "Epoch 100/100\n",
      "356/356 [==============================] - 0s 198us/step - loss: 0.3737 - acc: 0.8511 - val_loss: 0.4727 - val_acc: 0.8315\n",
      "445/445 [==============================] - 0s 90us/step\n",
      "acc: 84.72%\n"
     ]
    }
   ],
   "source": [
    "model.compile(optimizer=Adam(lr=0.001), loss='binary_crossentropy', metrics=['accuracy'])\n",
    "history = model.fit(X_train, y_train,validation_split=0.2, batch_size=20, epochs=100, verbose=1)\n",
    "\n",
    "scores = model.evaluate(X_train, y_train, batch_size=20)\n",
    "print('%s: %0.2f%%' % (model.metrics_names[1], scores[1]*100))"
   ]
  },
  {
   "cell_type": "code",
   "execution_count": 97,
   "metadata": {},
   "outputs": [
    {
     "data": {
      "image/png": "[encoded data removed]",
      "text/plain": [
       "<Figure size 864x360 with 1 Axes>"
      ]
     },
     "metadata": {
      "needs_background": "light"
     },
     "output_type": "display_data"
    },
    {
     "data": {
      "image/png": "[encoded data removed]",
      "text/plain": [
       "<Figure size 864x360 with 1 Axes>"
      ]
     },
     "metadata": {
      "needs_background": "light"
     },
     "output_type": "display_data"
    }
   ],
   "source": [
    "plt.figure(figsize=(12, 5))\n",
    "plt.subplot(1, 2, 1)\n",
    "plt.plot(history.history['acc'])\n",
    "plt.plot(history.history['val_acc'])\n",
    "plt.title('Model Accuracy')\n",
    "plt.xlabel('Epochs')\n",
    "plt.ylabel('Accuracy')\n",
    "plt.legend(['train', 'test'], loc='upper left')\n",
    "plt.show()\n",
    "\n",
    "plt.figure(figsize=(12, 5))\n",
    "plt.subplot(1, 2, 2)\n",
    "plt.plot(history.history['loss'])\n",
    "plt.plot(history.history['val_loss'])\n",
    "plt.title('Model loss')\n",
    "plt.xlabel('Epochs')\n",
    "plt.ylabel('Loss')\n",
    "plt.show()"
   ]
  },
  {
   "cell_type": "code",
   "execution_count": 102,
   "metadata": {},
   "outputs": [],
   "source": [
    "predict = np.round(model.predict(X_test))\n",
    "\n",
    "df_out = pd.read_csv('../data/signate_titanic/test.tsv', delimiter='\\t')\n",
    "df_out['survived'] = predict\n",
    "#df_out['survived'] = df_out['survived'].map({0: 1, 1: 0})\n",
    "\n",
    "df_out[['id',\"survived\"]].to_csv(\"../data/signate_titanic/output/deep.tsv\",index=False, header=False, sep='\\t')"
   ]
  },
  {
   "cell_type": "code",
   "execution_count": 106,
   "metadata": {},
   "outputs": [
    {
     "data": {
      "text/plain": [
       "LinearSVC(C=1.0, class_weight=None, dual=True, fit_intercept=True,\n",
       "     intercept_scaling=1, loss='squared_hinge', max_iter=1000,\n",
       "     multi_class='ovr', penalty='l2', random_state=None, tol=0.0001,\n",
       "     verbose=0)"
      ]
     },
     "execution_count": 106,
     "metadata": {},
     "output_type": "execute_result"
    }
   ],
   "source": [
    "from sklearn import svm\n",
    "\n",
    "svm = svm.LinearSVC()\n",
    "svm.fit(X_train, y_train)"
   ]
  },
  {
   "cell_type": "code",
   "execution_count": 1,
   "metadata": {},
   "outputs": [
    {
     "ename": "NameError",
     "evalue": "name 'svm' is not defined",
     "output_type": "error",
     "traceback": [
      "\u001b[0;31m---------------------------------------------------------------------------\u001b[0m",
      "\u001b[0;31mNameError\u001b[0m                                 Traceback (most recent call last)",
      "\u001b[0;32m<ipython-input-1-34233397b88e>\u001b[0m in \u001b[0;36m<module>\u001b[0;34m\u001b[0m\n\u001b[0;32m----> 1\u001b[0;31m \u001b[0mpredict\u001b[0m \u001b[0;34m=\u001b[0m \u001b[0msvm\u001b[0m\u001b[0;34m.\u001b[0m\u001b[0mpredict\u001b[0m\u001b[0;34m(\u001b[0m\u001b[0mX_test\u001b[0m\u001b[0;34m)\u001b[0m\u001b[0;34m\u001b[0m\u001b[0;34m\u001b[0m\u001b[0m\n\u001b[0m\u001b[1;32m      2\u001b[0m \u001b[0;34m\u001b[0m\u001b[0m\n\u001b[1;32m      3\u001b[0m \u001b[0mdf_out\u001b[0m \u001b[0;34m=\u001b[0m \u001b[0mpd\u001b[0m\u001b[0;34m.\u001b[0m\u001b[0mread_csv\u001b[0m\u001b[0;34m(\u001b[0m\u001b[0;34m'../data/signate_titanic/test.tsv'\u001b[0m\u001b[0;34m,\u001b[0m \u001b[0mdelimiter\u001b[0m\u001b[0;34m=\u001b[0m\u001b[0;34m'\\t'\u001b[0m\u001b[0;34m)\u001b[0m\u001b[0;34m\u001b[0m\u001b[0;34m\u001b[0m\u001b[0m\n\u001b[1;32m      4\u001b[0m \u001b[0mdf_out\u001b[0m\u001b[0;34m[\u001b[0m\u001b[0;34m'survived'\u001b[0m\u001b[0;34m]\u001b[0m \u001b[0;34m=\u001b[0m \u001b[0mpredict\u001b[0m\u001b[0;34m\u001b[0m\u001b[0;34m\u001b[0m\u001b[0m\n\u001b[1;32m      5\u001b[0m \u001b[0;31m#df_out['survived'] = df_out['survived'].map({0: 1, 1: 0})\u001b[0m\u001b[0;34m\u001b[0m\u001b[0;34m\u001b[0m\u001b[0;34m\u001b[0m\u001b[0m\n",
      "\u001b[0;31mNameError\u001b[0m: name 'svm' is not defined"
     ]
    }
   ],
   "source": [
    "predict = svm.predict(X_test)\n",
    "\n",
    "df_out = pd.read_csv('../data/signate_titanic/test.tsv', delimiter='\\t')\n",
    "df_out['survived'] = predict\n",
    "#df_out['survived'] = df_out['survived'].map({0: 1, 1: 0})\n",
    "\n",
    "df_out[['id',\"survived\"]].to_csv(\"../data/signate_titanic/output/svm.tsv\",index=False, header=False, sep='\\t')"
   ]
  },
  {
   "cell_type": "code",
   "execution_count": null,
   "metadata": {},
   "outputs": [],
   "source": []
  },
  {
   "cell_type": "code",
   "execution_count": null,
   "metadata": {},
   "outputs": [],
   "source": []
  }
 ],
 "metadata": {
  "kernelspec": {
   "display_name": "Python 3",
   "language": "python",
   "name": "python3"
  },
  "language_info": {
   "codemirror_mode": {
    "name": "ipython",
    "version": 3
   },
   "file_extension": ".py",
   "mimetype": "text/x-python",
   "name": "python",
   "nbconvert_exporter": "python",
   "pygments_lexer": "ipython3",
   "version": "3.6.7"
  }
 },
 "nbformat": 4,
 "nbformat_minor": 2
}
