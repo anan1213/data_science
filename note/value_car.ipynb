{
 "cells": [
  {
   "cell_type": "code",
   "execution_count": 423,
   "metadata": {},
   "outputs": [
    {
     "name": "stdout",
     "output_type": "stream",
     "text": [
      "['.DS_Store', 'train.tsv', 'output', 'test.tsv', 'sample_submit.csv', '.ipynb_checkpoints']\n"
     ]
    }
   ],
   "source": [
    "import pandas as pd\n",
    "import matplotlib.pyplot as plt\n",
    "import seaborn as sns\n",
    "import numpy as np\n",
    "import os\n",
    "import re\n",
    "\n",
    "import warnings\n",
    "warnings.filterwarnings('ignore')\n",
    "\n",
    "print(os.listdir('../data/value_car'))"
   ]
  },
  {
   "cell_type": "code",
   "execution_count": 424,
   "metadata": {},
   "outputs": [],
   "source": [
    "def display():\n",
    "    \"\"\"This function display history of acc and loss.\n",
    "    returns: two figures.\n",
    "    \"\"\"\n",
    "    plt.figure(figsize=(12, 5))\n",
    "    plt.plot(history.history['acc'])\n",
    "    plt.plot(history.history['val_acc'])\n",
    "    plt.title('Model Accuracy')\n",
    "    plt.xlabel('epochs')\n",
    "    plt.ylabel('Accuracy')\n",
    "    plt.show()\n",
    "    \n",
    "    plt.figure(figsize=(12, 5))\n",
    "    plt.plot(history.history['loss'])\n",
    "    plt.plot(history.history['val_loss'])\n",
    "    plt.title('Model Loss')\n",
    "    plt.xlabel('epochs')\n",
    "    plt.ylabel('Loss')\n",
    "    plt.show()"
   ]
  },
  {
   "cell_type": "code",
   "execution_count": 425,
   "metadata": {},
   "outputs": [],
   "source": [
    "df_train = pd.read_csv('../data/value_car/train.tsv', delimiter='\\t')\n",
    "df_test = pd.read_csv('../data/value_car/test.tsv', delimiter='\\t')"
   ]
  },
  {
   "cell_type": "code",
   "execution_count": 426,
   "metadata": {},
   "outputs": [
    {
     "data": {
      "text/html": [
       "<div>\n",
       "<style scoped>\n",
       "    .dataframe tbody tr th:only-of-type {\n",
       "        vertical-align: middle;\n",
       "    }\n",
       "\n",
       "    .dataframe tbody tr th {\n",
       "        vertical-align: top;\n",
       "    }\n",
       "\n",
       "    .dataframe thead th {\n",
       "        text-align: right;\n",
       "    }\n",
       "</style>\n",
       "<table border=\"1\" class=\"dataframe\">\n",
       "  <thead>\n",
       "    <tr style=\"text-align: right;\">\n",
       "      <th></th>\n",
       "      <th>id</th>\n",
       "      <th>class</th>\n",
       "      <th>buying</th>\n",
       "      <th>maint</th>\n",
       "      <th>doors</th>\n",
       "      <th>persons</th>\n",
       "      <th>lug_boot</th>\n",
       "      <th>safety</th>\n",
       "    </tr>\n",
       "  </thead>\n",
       "  <tbody>\n",
       "    <tr>\n",
       "      <th>0</th>\n",
       "      <td>0</td>\n",
       "      <td>unacc</td>\n",
       "      <td>low</td>\n",
       "      <td>med</td>\n",
       "      <td>3</td>\n",
       "      <td>2</td>\n",
       "      <td>small</td>\n",
       "      <td>low</td>\n",
       "    </tr>\n",
       "    <tr>\n",
       "      <th>1</th>\n",
       "      <td>3</td>\n",
       "      <td>acc</td>\n",
       "      <td>low</td>\n",
       "      <td>high</td>\n",
       "      <td>3</td>\n",
       "      <td>more</td>\n",
       "      <td>small</td>\n",
       "      <td>med</td>\n",
       "    </tr>\n",
       "    <tr>\n",
       "      <th>2</th>\n",
       "      <td>7</td>\n",
       "      <td>unacc</td>\n",
       "      <td>vhigh</td>\n",
       "      <td>high</td>\n",
       "      <td>5more</td>\n",
       "      <td>2</td>\n",
       "      <td>small</td>\n",
       "      <td>med</td>\n",
       "    </tr>\n",
       "    <tr>\n",
       "      <th>3</th>\n",
       "      <td>11</td>\n",
       "      <td>acc</td>\n",
       "      <td>high</td>\n",
       "      <td>high</td>\n",
       "      <td>3</td>\n",
       "      <td>more</td>\n",
       "      <td>big</td>\n",
       "      <td>med</td>\n",
       "    </tr>\n",
       "    <tr>\n",
       "      <th>4</th>\n",
       "      <td>12</td>\n",
       "      <td>unacc</td>\n",
       "      <td>high</td>\n",
       "      <td>high</td>\n",
       "      <td>3</td>\n",
       "      <td>2</td>\n",
       "      <td>med</td>\n",
       "      <td>high</td>\n",
       "    </tr>\n",
       "  </tbody>\n",
       "</table>\n",
       "</div>"
      ],
      "text/plain": [
       "   id  class buying maint  doors persons lug_boot safety\n",
       "0   0  unacc    low   med      3       2    small    low\n",
       "1   3    acc    low  high      3    more    small    med\n",
       "2   7  unacc  vhigh  high  5more       2    small    med\n",
       "3  11    acc   high  high      3    more      big    med\n",
       "4  12  unacc   high  high      3       2      med   high"
      ]
     },
     "execution_count": 426,
     "metadata": {},
     "output_type": "execute_result"
    }
   ],
   "source": [
    "df_train.head()"
   ]
  },
  {
   "cell_type": "code",
   "execution_count": 427,
   "metadata": {},
   "outputs": [
    {
     "data": {
      "text/plain": [
       "unacc    591\n",
       "acc      206\n",
       "good      34\n",
       "vgood     33\n",
       "Name: class, dtype: int64"
      ]
     },
     "execution_count": 427,
     "metadata": {},
     "output_type": "execute_result"
    }
   ],
   "source": [
    "df_train['class'].value_counts()"
   ]
  },
  {
   "cell_type": "code",
   "execution_count": 428,
   "metadata": {},
   "outputs": [],
   "source": [
    "def kesson_table(df):\n",
    "    total = df.isnull().sum()\n",
    "    percent = total / len(df) * 100\n",
    "    kesson_table = pd.concat([total, percent], axis=1, keys=['Total', 'Percent'])\n",
    "    kesson_table = kesson_table.drop(kesson_table[kesson_table['Total'] == 0].index)\n",
    "    return kesson_table"
   ]
  },
  {
   "cell_type": "code",
   "execution_count": 429,
   "metadata": {},
   "outputs": [
    {
     "data": {
      "text/plain": [
       "low      226\n",
       "med      219\n",
       "high     218\n",
       "vhigh    201\n",
       "Name: buying, dtype: int64"
      ]
     },
     "execution_count": 429,
     "metadata": {},
     "output_type": "execute_result"
    }
   ],
   "source": [
    "df_train['buying'].value_counts()"
   ]
  },
  {
   "cell_type": "code",
   "execution_count": 430,
   "metadata": {},
   "outputs": [
    {
     "name": "stdout",
     "output_type": "stream",
     "text": [
      "class   acc  good  unacc  vgood\n",
      "buying                         \n",
      "high     55     0    163      0\n",
      "low      53    24    128     21\n",
      "med      63    10    134     12\n",
      "vhigh    35     0    166      0\n"
     ]
    },
    {
     "data": {
      "image/png": "[encoded data removed]",
      "text/plain": [
       "<Figure size 864x360 with 1 Axes>"
      ]
     },
     "metadata": {
      "needs_background": "light"
     },
     "output_type": "display_data"
    }
   ],
   "source": [
    "print(pd.crosstab(df_train['buying'], df_train['class']))\n",
    "\n",
    "plt.figure(figsize=(12, 5))\n",
    "sns.countplot(x='buying', hue='class', data=df_train, palette='hls')\n",
    "plt.title('count of buying', fontsize=20)\n",
    "plt.xlabel('buying', fontsize=15)\n",
    "plt.ylabel('counts', fontsize=15)\n",
    "plt.show()"
   ]
  },
  {
   "cell_type": "code",
   "execution_count": 431,
   "metadata": {},
   "outputs": [
    {
     "data": {
      "text/plain": [
       "high     227\n",
       "vhigh    225\n",
       "low      219\n",
       "med      193\n",
       "Name: maint, dtype: int64"
      ]
     },
     "execution_count": 431,
     "metadata": {},
     "output_type": "execute_result"
    }
   ],
   "source": [
    "df_train['maint'].value_counts()"
   ]
  },
  {
   "cell_type": "code",
   "execution_count": 432,
   "metadata": {},
   "outputs": [
    {
     "name": "stdout",
     "output_type": "stream",
     "text": [
      "class  acc  good  unacc  vgood\n",
      "maint                         \n",
      "high    56     0    165      6\n",
      "low     52    23    131     13\n",
      "med     53    11    115     14\n",
      "vhigh   45     0    180      0\n"
     ]
    },
    {
     "data": {
      "image/png": "[encoded data removed]",
      "text/plain": [
       "<Figure size 864x360 with 1 Axes>"
      ]
     },
     "metadata": {
      "needs_background": "light"
     },
     "output_type": "display_data"
    }
   ],
   "source": [
    "print(pd.crosstab(df_train['maint'], df_train['class']))\n",
    "\n",
    "plt.figure(figsize=(12, 5))\n",
    "sns.countplot(x='maint', hue='class', data=df_train, palette='hls')\n",
    "plt.title('count of maint', fontsize=20)\n",
    "plt.xlabel('buying', fontsize=15)\n",
    "plt.ylabel('counts', fontsize=15)\n",
    "plt.show()"
   ]
  },
  {
   "cell_type": "code",
   "execution_count": 433,
   "metadata": {},
   "outputs": [
    {
     "data": {
      "text/plain": [
       "3        238\n",
       "4        220\n",
       "5more    208\n",
       "2        198\n",
       "Name: doors, dtype: int64"
      ]
     },
     "execution_count": 433,
     "metadata": {},
     "output_type": "execute_result"
    }
   ],
   "source": [
    "df_train['doors'].value_counts()"
   ]
  },
  {
   "cell_type": "code",
   "execution_count": 434,
   "metadata": {},
   "outputs": [
    {
     "name": "stdout",
     "output_type": "stream",
     "text": [
      "class  acc  good  unacc  vgood\n",
      "maint                         \n",
      "high    56     0    165      6\n",
      "low     52    23    131     13\n",
      "med     53    11    115     14\n",
      "vhigh   45     0    180      0\n"
     ]
    },
    {
     "data": {
      "image/png": "[encoded data removed]",
      "text/plain": [
       "<Figure size 864x360 with 1 Axes>"
      ]
     },
     "metadata": {
      "needs_background": "light"
     },
     "output_type": "display_data"
    }
   ],
   "source": [
    "print(pd.crosstab(df_train['maint'], df_train['class']))\n",
    "\n",
    "plt.figure(figsize=(12, 5))\n",
    "sns.countplot(x='maint', hue='class', data=df_train, palette='hls')\n",
    "plt.title('count of maint', fontsize=20)\n",
    "plt.xlabel('buying', fontsize=15)\n",
    "plt.ylabel('counts', fontsize=15)\n",
    "plt.show()"
   ]
  },
  {
   "cell_type": "code",
   "execution_count": 435,
   "metadata": {},
   "outputs": [
    {
     "data": {
      "text/plain": [
       "more    299\n",
       "2       284\n",
       "4       281\n",
       "Name: persons, dtype: int64"
      ]
     },
     "execution_count": 435,
     "metadata": {},
     "output_type": "execute_result"
    }
   ],
   "source": [
    "df_train['persons'].value_counts()"
   ]
  },
  {
   "cell_type": "code",
   "execution_count": 436,
   "metadata": {},
   "outputs": [
    {
     "name": "stdout",
     "output_type": "stream",
     "text": [
      "class    acc  good  unacc  vgood\n",
      "persons                         \n",
      "2          0     0    284      0\n",
      "4        104    19    145     13\n",
      "more     102    15    162     20\n"
     ]
    },
    {
     "data": {
      "image/png": "[encoded data removed]",
      "text/plain": [
       "<Figure size 864x360 with 1 Axes>"
      ]
     },
     "metadata": {
      "needs_background": "light"
     },
     "output_type": "display_data"
    }
   ],
   "source": [
    "print(pd.crosstab(df_train['persons'], df_train['class']))\n",
    "\n",
    "plt.figure(figsize=(12, 5))\n",
    "sns.countplot(x='persons', hue='class', data=df_train, palette='hls')\n",
    "plt.title('count of persons', fontsize=20)\n",
    "plt.xlabel('buying', fontsize=15)\n",
    "plt.ylabel('counts', fontsize=15)\n",
    "plt.show()"
   ]
  },
  {
   "cell_type": "code",
   "execution_count": 437,
   "metadata": {},
   "outputs": [
    {
     "data": {
      "text/plain": [
       "med      299\n",
       "big      285\n",
       "small    280\n",
       "Name: lug_boot, dtype: int64"
      ]
     },
     "execution_count": 437,
     "metadata": {},
     "output_type": "execute_result"
    }
   ],
   "source": [
    "df_train['lug_boot'].value_counts()"
   ]
  },
  {
   "cell_type": "code",
   "execution_count": 438,
   "metadata": {},
   "outputs": [
    {
     "name": "stdout",
     "output_type": "stream",
     "text": [
      "class     acc  good  unacc  vgood\n",
      "lug_boot                         \n",
      "big        83     9    173     20\n",
      "med        71    14    201     13\n",
      "small      52    11    217      0\n"
     ]
    },
    {
     "data": {
      "image/png": "[encoded data removed]",
      "text/plain": [
       "<Figure size 864x360 with 1 Axes>"
      ]
     },
     "metadata": {
      "needs_background": "light"
     },
     "output_type": "display_data"
    }
   ],
   "source": [
    "print(pd.crosstab(df_train['lug_boot'], df_train['class']))\n",
    "\n",
    "plt.figure(figsize=(12, 5))\n",
    "sns.countplot(x='lug_boot', hue='class', data=df_train, palette='hls')\n",
    "plt.title('count of lugboot', fontsize=20)\n",
    "plt.xlabel('buying', fontsize=15)\n",
    "plt.ylabel('counts', fontsize=15)\n",
    "plt.show()"
   ]
  },
  {
   "cell_type": "code",
   "execution_count": 439,
   "metadata": {},
   "outputs": [
    {
     "data": {
      "text/plain": [
       "high    291\n",
       "med     289\n",
       "low     284\n",
       "Name: safety, dtype: int64"
      ]
     },
     "execution_count": 439,
     "metadata": {},
     "output_type": "execute_result"
    }
   ],
   "source": [
    "df_train['safety'].value_counts()"
   ]
  },
  {
   "cell_type": "code",
   "execution_count": 440,
   "metadata": {},
   "outputs": [
    {
     "name": "stdout",
     "output_type": "stream",
     "text": [
      "class   acc  good  unacc  vgood\n",
      "safety                         \n",
      "high    105    16    137     33\n",
      "low       0     0    284      0\n",
      "med     101    18    170      0\n"
     ]
    },
    {
     "data": {
      "image/png": "[encoded data removed]",
      "text/plain": [
       "<Figure size 864x360 with 1 Axes>"
      ]
     },
     "metadata": {
      "needs_background": "light"
     },
     "output_type": "display_data"
    }
   ],
   "source": [
    "print(pd.crosstab(df_train['safety'], df_train['class']))\n",
    "\n",
    "plt.figure(figsize=(12, 5))\n",
    "sns.countplot(x='safety', hue='class', data=df_train, palette='hls')\n",
    "plt.title('count of safety', fontsize=20)\n",
    "plt.xlabel('buying', fontsize=15)\n",
    "plt.ylabel('counts', fontsize=15)\n",
    "plt.show()"
   ]
  },
  {
   "cell_type": "code",
   "execution_count": 441,
   "metadata": {},
   "outputs": [
    {
     "data": {
      "text/html": [
       "<div>\n",
       "<style scoped>\n",
       "    .dataframe tbody tr th:only-of-type {\n",
       "        vertical-align: middle;\n",
       "    }\n",
       "\n",
       "    .dataframe tbody tr th {\n",
       "        vertical-align: top;\n",
       "    }\n",
       "\n",
       "    .dataframe thead th {\n",
       "        text-align: right;\n",
       "    }\n",
       "</style>\n",
       "<table border=\"1\" class=\"dataframe\">\n",
       "  <thead>\n",
       "    <tr style=\"text-align: right;\">\n",
       "      <th></th>\n",
       "      <th>id</th>\n",
       "      <th>class</th>\n",
       "      <th>buying</th>\n",
       "      <th>maint</th>\n",
       "      <th>doors</th>\n",
       "      <th>persons</th>\n",
       "      <th>lug_boot</th>\n",
       "      <th>safety</th>\n",
       "    </tr>\n",
       "  </thead>\n",
       "  <tbody>\n",
       "    <tr>\n",
       "      <th>0</th>\n",
       "      <td>0</td>\n",
       "      <td>unacc</td>\n",
       "      <td>low</td>\n",
       "      <td>med</td>\n",
       "      <td>3</td>\n",
       "      <td>2</td>\n",
       "      <td>small</td>\n",
       "      <td>low</td>\n",
       "    </tr>\n",
       "    <tr>\n",
       "      <th>1</th>\n",
       "      <td>3</td>\n",
       "      <td>acc</td>\n",
       "      <td>low</td>\n",
       "      <td>high</td>\n",
       "      <td>3</td>\n",
       "      <td>more</td>\n",
       "      <td>small</td>\n",
       "      <td>med</td>\n",
       "    </tr>\n",
       "    <tr>\n",
       "      <th>2</th>\n",
       "      <td>7</td>\n",
       "      <td>unacc</td>\n",
       "      <td>vhigh</td>\n",
       "      <td>high</td>\n",
       "      <td>5more</td>\n",
       "      <td>2</td>\n",
       "      <td>small</td>\n",
       "      <td>med</td>\n",
       "    </tr>\n",
       "    <tr>\n",
       "      <th>3</th>\n",
       "      <td>11</td>\n",
       "      <td>acc</td>\n",
       "      <td>high</td>\n",
       "      <td>high</td>\n",
       "      <td>3</td>\n",
       "      <td>more</td>\n",
       "      <td>big</td>\n",
       "      <td>med</td>\n",
       "    </tr>\n",
       "    <tr>\n",
       "      <th>4</th>\n",
       "      <td>12</td>\n",
       "      <td>unacc</td>\n",
       "      <td>high</td>\n",
       "      <td>high</td>\n",
       "      <td>3</td>\n",
       "      <td>2</td>\n",
       "      <td>med</td>\n",
       "      <td>high</td>\n",
       "    </tr>\n",
       "  </tbody>\n",
       "</table>\n",
       "</div>"
      ],
      "text/plain": [
       "   id  class buying maint  doors persons lug_boot safety\n",
       "0   0  unacc    low   med      3       2    small    low\n",
       "1   3    acc    low  high      3    more    small    med\n",
       "2   7  unacc  vhigh  high  5more       2    small    med\n",
       "3  11    acc   high  high      3    more      big    med\n",
       "4  12  unacc   high  high      3       2      med   high"
      ]
     },
     "execution_count": 441,
     "metadata": {},
     "output_type": "execute_result"
    }
   ],
   "source": [
    "df_train.head()"
   ]
  },
  {
   "cell_type": "markdown",
   "metadata": {},
   "source": [
    "These var are all categorial var"
   ]
  },
  {
   "cell_type": "code",
   "execution_count": 442,
   "metadata": {},
   "outputs": [],
   "source": [
    "columns = ['buying', 'maint', 'doors', 'persons', 'lug_boot', 'safety']\n",
    "\n",
    "df_train = pd.get_dummies(df_train, columns=columns, prefix=columns)\n",
    "df_test = pd.get_dummies(df_test, columns=columns, prefix=columns)"
   ]
  },
  {
   "cell_type": "code",
   "execution_count": 443,
   "metadata": {
    "scrolled": true
   },
   "outputs": [
    {
     "name": "stdout",
     "output_type": "stream",
     "text": [
      "(864, 21) (864, 4) (864, 21)\n"
     ]
    }
   ],
   "source": [
    "from keras.utils import np_utils\n",
    "\n",
    "train = df_train.drop(['id', 'class'], axis=1)\n",
    "X_train = train.values\n",
    "\n",
    "map_list = { 'unacc':0, 'acc':1, 'good':2, 'vgood':3 }\n",
    "df_train['class'] = df_train['class'].map(map_list)\n",
    "y_train = df_train['class'].values\n",
    "y_train = np_utils.to_categorical(y_train, 4)\n",
    "\n",
    "test = df_test.drop(['id'], axis=1)\n",
    "X_test = test.values\n",
    "\n",
    "print(X_train.shape, y_train.shape, X_test.shape)"
   ]
  },
  {
   "cell_type": "code",
   "execution_count": 444,
   "metadata": {},
   "outputs": [],
   "source": [
    "from sklearn.preprocessing import StandardScaler\n",
    "sc = StandardScaler()\n",
    "\n",
    "X_train = sc.fit_transform(X_train)\n",
    "X_test = sc.fit_transform(X_test)"
   ]
  },
  {
   "cell_type": "code",
   "execution_count": 445,
   "metadata": {},
   "outputs": [],
   "source": [
    "from keras.models import Sequential\n",
    "from keras.layers import Dense, Dropout\n",
    "from keras.optimizers import Adam"
   ]
  },
  {
   "cell_type": "code",
   "execution_count": 448,
   "metadata": {},
   "outputs": [
    {
     "name": "stdout",
     "output_type": "stream",
     "text": [
      "_________________________________________________________________\n",
      "Layer (type)                 Output Shape              Param #   \n",
      "=================================================================\n",
      "dense_76 (Dense)             (None, 105)               2310      \n",
      "_________________________________________________________________\n",
      "dropout_38 (Dropout)         (None, 105)               0         \n",
      "_________________________________________________________________\n",
      "dense_77 (Dense)             (None, 4)                 424       \n",
      "=================================================================\n",
      "Total params: 2,734\n",
      "Trainable params: 2,734\n",
      "Non-trainable params: 0\n",
      "_________________________________________________________________\n"
     ]
    }
   ],
   "source": [
    "model = Sequential()\n",
    "\n",
    "model.add(Dense(21*5, activation='relu', input_dim=21, kernel_initializer='uniform'))\n",
    "model.add(Dropout(0.3))\n",
    "#model.add(Dense(15*10, activation='relu', kernel_initializer='uniform'))\n",
    "#model.add(Dropout(0.3))\n",
    "model.add(Dense(4, activation='sigmoid', kernel_initializer='uniform'))\n",
    "\n",
    "model.summary()"
   ]
  },
  {
   "cell_type": "code",
   "execution_count": 449,
   "metadata": {},
   "outputs": [
    {
     "name": "stdout",
     "output_type": "stream",
     "text": [
      "Train on 691 samples, validate on 173 samples\n",
      "Epoch 1/300\n",
      "691/691 [==============================] - 2s 3ms/step - loss: 1.3723 - acc: 0.5137 - val_loss: 1.3507 - val_acc: 0.7225\n",
      "Epoch 2/300\n",
      "691/691 [==============================] - 0s 60us/step - loss: 1.3310 - acc: 0.7410 - val_loss: 1.3085 - val_acc: 0.6936\n",
      "Epoch 3/300\n",
      "691/691 [==============================] - 0s 62us/step - loss: 1.2829 - acc: 0.7077 - val_loss: 1.2548 - val_acc: 0.6821\n",
      "Epoch 4/300\n",
      "691/691 [==============================] - 0s 56us/step - loss: 1.2210 - acc: 0.6990 - val_loss: 1.1860 - val_acc: 0.6763\n",
      "Epoch 5/300\n",
      "691/691 [==============================] - 0s 61us/step - loss: 1.1420 - acc: 0.6946 - val_loss: 1.1031 - val_acc: 0.6821\n",
      "Epoch 6/300\n",
      "691/691 [==============================] - 0s 57us/step - loss: 1.0510 - acc: 0.6932 - val_loss: 1.0091 - val_acc: 0.6821\n",
      "Epoch 7/300\n",
      "691/691 [==============================] - 0s 60us/step - loss: 0.9471 - acc: 0.7004 - val_loss: 0.9116 - val_acc: 0.6821\n",
      "Epoch 8/300\n",
      "691/691 [==============================] - 0s 54us/step - loss: 0.8463 - acc: 0.7120 - val_loss: 0.8183 - val_acc: 0.6821\n",
      "Epoch 9/300\n",
      "691/691 [==============================] - 0s 69us/step - loss: 0.7515 - acc: 0.7192 - val_loss: 0.7365 - val_acc: 0.7110\n",
      "Epoch 10/300\n",
      "691/691 [==============================] - 0s 54us/step - loss: 0.6723 - acc: 0.7323 - val_loss: 0.6706 - val_acc: 0.7225\n",
      "Epoch 11/300\n",
      "691/691 [==============================] - 0s 64us/step - loss: 0.6029 - acc: 0.7627 - val_loss: 0.6169 - val_acc: 0.7399\n",
      "Epoch 12/300\n",
      "691/691 [==============================] - 0s 55us/step - loss: 0.5548 - acc: 0.7815 - val_loss: 0.5724 - val_acc: 0.7457\n",
      "Epoch 13/300\n",
      "691/691 [==============================] - 0s 56us/step - loss: 0.5121 - acc: 0.8046 - val_loss: 0.5356 - val_acc: 0.7919\n",
      "Epoch 14/300\n",
      "691/691 [==============================] - 0s 55us/step - loss: 0.4716 - acc: 0.8365 - val_loss: 0.5025 - val_acc: 0.8150\n",
      "Epoch 15/300\n",
      "691/691 [==============================] - 0s 62us/step - loss: 0.4445 - acc: 0.8553 - val_loss: 0.4742 - val_acc: 0.8266\n",
      "Epoch 16/300\n",
      "691/691 [==============================] - 0s 57us/step - loss: 0.4167 - acc: 0.8683 - val_loss: 0.4495 - val_acc: 0.8497\n",
      "Epoch 17/300\n",
      "691/691 [==============================] - 0s 63us/step - loss: 0.3924 - acc: 0.8813 - val_loss: 0.4271 - val_acc: 0.8671\n",
      "Epoch 18/300\n",
      "691/691 [==============================] - 0s 55us/step - loss: 0.3689 - acc: 0.8813 - val_loss: 0.4071 - val_acc: 0.8671\n",
      "Epoch 19/300\n",
      "691/691 [==============================] - 0s 59us/step - loss: 0.3530 - acc: 0.8842 - val_loss: 0.3898 - val_acc: 0.8671\n",
      "Epoch 20/300\n",
      "691/691 [==============================] - 0s 53us/step - loss: 0.3403 - acc: 0.8828 - val_loss: 0.3730 - val_acc: 0.8671\n",
      "Epoch 21/300\n",
      "691/691 [==============================] - 0s 71us/step - loss: 0.3231 - acc: 0.8842 - val_loss: 0.3585 - val_acc: 0.8671\n",
      "Epoch 22/300\n",
      "691/691 [==============================] - 0s 61us/step - loss: 0.3063 - acc: 0.8886 - val_loss: 0.3469 - val_acc: 0.8728\n",
      "Epoch 23/300\n",
      "691/691 [==============================] - 0s 56us/step - loss: 0.2990 - acc: 0.8944 - val_loss: 0.3361 - val_acc: 0.8728\n",
      "Epoch 24/300\n",
      "691/691 [==============================] - 0s 63us/step - loss: 0.2817 - acc: 0.8987 - val_loss: 0.3261 - val_acc: 0.8728\n",
      "Epoch 25/300\n",
      "691/691 [==============================] - 0s 54us/step - loss: 0.2720 - acc: 0.8987 - val_loss: 0.3161 - val_acc: 0.8728\n",
      "Epoch 26/300\n",
      "691/691 [==============================] - 0s 65us/step - loss: 0.2581 - acc: 0.9045 - val_loss: 0.3074 - val_acc: 0.8728\n",
      "Epoch 27/300\n",
      "691/691 [==============================] - 0s 56us/step - loss: 0.2563 - acc: 0.9001 - val_loss: 0.3003 - val_acc: 0.8671\n",
      "Epoch 28/300\n",
      "691/691 [==============================] - 0s 64us/step - loss: 0.2566 - acc: 0.8958 - val_loss: 0.2927 - val_acc: 0.8728\n",
      "Epoch 29/300\n",
      "691/691 [==============================] - 0s 73us/step - loss: 0.2402 - acc: 0.8987 - val_loss: 0.2856 - val_acc: 0.8728\n",
      "Epoch 30/300\n",
      "691/691 [==============================] - 0s 65us/step - loss: 0.2397 - acc: 0.9059 - val_loss: 0.2803 - val_acc: 0.8786\n",
      "Epoch 31/300\n",
      "691/691 [==============================] - 0s 54us/step - loss: 0.2356 - acc: 0.9001 - val_loss: 0.2774 - val_acc: 0.8786\n",
      "Epoch 32/300\n",
      "691/691 [==============================] - 0s 72us/step - loss: 0.2255 - acc: 0.9059 - val_loss: 0.2742 - val_acc: 0.8786\n",
      "Epoch 33/300\n",
      "691/691 [==============================] - 0s 66us/step - loss: 0.2237 - acc: 0.9030 - val_loss: 0.2658 - val_acc: 0.8844\n",
      "Epoch 34/300\n",
      "691/691 [==============================] - 0s 54us/step - loss: 0.2142 - acc: 0.9074 - val_loss: 0.2566 - val_acc: 0.8902\n",
      "Epoch 35/300\n",
      "691/691 [==============================] - 0s 63us/step - loss: 0.2139 - acc: 0.9074 - val_loss: 0.2535 - val_acc: 0.8844\n",
      "Epoch 36/300\n",
      "691/691 [==============================] - 0s 66us/step - loss: 0.2027 - acc: 0.9132 - val_loss: 0.2503 - val_acc: 0.8844\n",
      "Epoch 37/300\n",
      "691/691 [==============================] - 0s 72us/step - loss: 0.1973 - acc: 0.9088 - val_loss: 0.2446 - val_acc: 0.8844\n",
      "Epoch 38/300\n",
      "691/691 [==============================] - 0s 62us/step - loss: 0.2043 - acc: 0.9088 - val_loss: 0.2412 - val_acc: 0.8844\n",
      "Epoch 39/300\n",
      "691/691 [==============================] - 0s 56us/step - loss: 0.1953 - acc: 0.9088 - val_loss: 0.2346 - val_acc: 0.8902\n",
      "Epoch 40/300\n",
      "691/691 [==============================] - 0s 65us/step - loss: 0.1827 - acc: 0.9117 - val_loss: 0.2274 - val_acc: 0.8902\n",
      "Epoch 41/300\n",
      "691/691 [==============================] - 0s 68us/step - loss: 0.1854 - acc: 0.9132 - val_loss: 0.2244 - val_acc: 0.8902\n",
      "Epoch 42/300\n",
      "691/691 [==============================] - 0s 56us/step - loss: 0.1851 - acc: 0.9088 - val_loss: 0.2217 - val_acc: 0.8902\n",
      "Epoch 43/300\n",
      "691/691 [==============================] - 0s 85us/step - loss: 0.1821 - acc: 0.9117 - val_loss: 0.2194 - val_acc: 0.8902\n",
      "Epoch 44/300\n",
      "691/691 [==============================] - 0s 82us/step - loss: 0.1789 - acc: 0.9045 - val_loss: 0.2146 - val_acc: 0.8902\n",
      "Epoch 45/300\n",
      "691/691 [==============================] - 0s 74us/step - loss: 0.1636 - acc: 0.9146 - val_loss: 0.2117 - val_acc: 0.8902\n",
      "Epoch 46/300\n",
      "691/691 [==============================] - 0s 82us/step - loss: 0.1757 - acc: 0.9074 - val_loss: 0.2052 - val_acc: 0.8960\n",
      "Epoch 47/300\n",
      "691/691 [==============================] - 0s 58us/step - loss: 0.1722 - acc: 0.9088 - val_loss: 0.2022 - val_acc: 0.8960\n",
      "Epoch 48/300\n",
      "691/691 [==============================] - 0s 85us/step - loss: 0.1712 - acc: 0.9045 - val_loss: 0.2035 - val_acc: 0.8902\n",
      "Epoch 49/300\n",
      "691/691 [==============================] - 0s 81us/step - loss: 0.1661 - acc: 0.9088 - val_loss: 0.2021 - val_acc: 0.8902\n",
      "Epoch 50/300\n",
      "691/691 [==============================] - 0s 88us/step - loss: 0.1578 - acc: 0.9146 - val_loss: 0.1980 - val_acc: 0.8902\n",
      "Epoch 51/300\n",
      "691/691 [==============================] - ETA: 0s - loss: 0.1291 - acc: 0.925 - 0s 101us/step - loss: 0.1503 - acc: 0.9175 - val_loss: 0.1932 - val_acc: 0.8960\n",
      "Epoch 52/300\n",
      "691/691 [==============================] - 0s 112us/step - loss: 0.1505 - acc: 0.9161 - val_loss: 0.1922 - val_acc: 0.8960\n",
      "Epoch 53/300\n",
      "691/691 [==============================] - 0s 70us/step - loss: 0.1535 - acc: 0.9132 - val_loss: 0.1915 - val_acc: 0.8960\n",
      "Epoch 54/300\n",
      "691/691 [==============================] - 0s 70us/step - loss: 0.1480 - acc: 0.9103 - val_loss: 0.1879 - val_acc: 0.8902\n",
      "Epoch 55/300\n",
      "691/691 [==============================] - 0s 64us/step - loss: 0.1449 - acc: 0.9146 - val_loss: 0.1815 - val_acc: 0.8960\n",
      "Epoch 56/300\n",
      "691/691 [==============================] - 0s 61us/step - loss: 0.1484 - acc: 0.9247 - val_loss: 0.1779 - val_acc: 0.8960\n",
      "Epoch 57/300\n",
      "691/691 [==============================] - 0s 72us/step - loss: 0.1408 - acc: 0.9233 - val_loss: 0.1779 - val_acc: 0.8960\n",
      "Epoch 58/300\n",
      "691/691 [==============================] - 0s 68us/step - loss: 0.1403 - acc: 0.9247 - val_loss: 0.1785 - val_acc: 0.9075\n",
      "Epoch 59/300\n",
      "691/691 [==============================] - 0s 66us/step - loss: 0.1430 - acc: 0.9247 - val_loss: 0.1775 - val_acc: 0.9017\n",
      "Epoch 60/300\n",
      "691/691 [==============================] - 0s 70us/step - loss: 0.1404 - acc: 0.9291 - val_loss: 0.1737 - val_acc: 0.9075\n",
      "Epoch 61/300\n"
     ]
    },
    {
     "name": "stdout",
     "output_type": "stream",
     "text": [
      "691/691 [==============================] - 0s 64us/step - loss: 0.1250 - acc: 0.9436 - val_loss: 0.1664 - val_acc: 0.9133\n",
      "Epoch 62/300\n",
      "691/691 [==============================] - 0s 64us/step - loss: 0.1290 - acc: 0.9436 - val_loss: 0.1612 - val_acc: 0.9191\n",
      "Epoch 63/300\n",
      "691/691 [==============================] - 0s 53us/step - loss: 0.1303 - acc: 0.9378 - val_loss: 0.1623 - val_acc: 0.9191\n",
      "Epoch 64/300\n",
      "691/691 [==============================] - 0s 53us/step - loss: 0.1178 - acc: 0.9551 - val_loss: 0.1578 - val_acc: 0.9249\n",
      "Epoch 65/300\n",
      "691/691 [==============================] - 0s 60us/step - loss: 0.1217 - acc: 0.9537 - val_loss: 0.1535 - val_acc: 0.9249\n",
      "Epoch 66/300\n",
      "691/691 [==============================] - 0s 54us/step - loss: 0.1237 - acc: 0.9537 - val_loss: 0.1499 - val_acc: 0.9306\n",
      "Epoch 67/300\n",
      "691/691 [==============================] - 0s 53us/step - loss: 0.1148 - acc: 0.9609 - val_loss: 0.1457 - val_acc: 0.9364\n",
      "Epoch 68/300\n",
      "691/691 [==============================] - 0s 52us/step - loss: 0.1086 - acc: 0.9638 - val_loss: 0.1408 - val_acc: 0.9422\n",
      "Epoch 69/300\n",
      "691/691 [==============================] - 0s 49us/step - loss: 0.1069 - acc: 0.9566 - val_loss: 0.1404 - val_acc: 0.9422\n",
      "Epoch 70/300\n",
      "691/691 [==============================] - 0s 44us/step - loss: 0.1113 - acc: 0.9638 - val_loss: 0.1376 - val_acc: 0.9364\n",
      "Epoch 71/300\n",
      "691/691 [==============================] - 0s 43us/step - loss: 0.1057 - acc: 0.9667 - val_loss: 0.1382 - val_acc: 0.9306\n",
      "Epoch 72/300\n",
      "691/691 [==============================] - 0s 63us/step - loss: 0.0959 - acc: 0.9754 - val_loss: 0.1323 - val_acc: 0.9306\n",
      "Epoch 73/300\n",
      "691/691 [==============================] - ETA: 0s - loss: 0.0907 - acc: 0.937 - 0s 81us/step - loss: 0.0981 - acc: 0.9682 - val_loss: 0.1282 - val_acc: 0.9364\n",
      "Epoch 74/300\n",
      "691/691 [==============================] - 0s 88us/step - loss: 0.1038 - acc: 0.9754 - val_loss: 0.1233 - val_acc: 0.9364\n",
      "Epoch 75/300\n",
      "691/691 [==============================] - 0s 71us/step - loss: 0.0942 - acc: 0.9754 - val_loss: 0.1221 - val_acc: 0.9364\n",
      "Epoch 76/300\n",
      "691/691 [==============================] - 0s 49us/step - loss: 0.0971 - acc: 0.9696 - val_loss: 0.1227 - val_acc: 0.9422\n",
      "Epoch 77/300\n",
      "691/691 [==============================] - 0s 48us/step - loss: 0.0932 - acc: 0.9768 - val_loss: 0.1217 - val_acc: 0.9480\n",
      "Epoch 78/300\n",
      "691/691 [==============================] - 0s 45us/step - loss: 0.0768 - acc: 0.9870 - val_loss: 0.1180 - val_acc: 0.9422\n",
      "Epoch 79/300\n",
      "691/691 [==============================] - 0s 49us/step - loss: 0.0838 - acc: 0.9797 - val_loss: 0.1166 - val_acc: 0.9422\n",
      "Epoch 80/300\n",
      "691/691 [==============================] - 0s 48us/step - loss: 0.0785 - acc: 0.9826 - val_loss: 0.1148 - val_acc: 0.9538\n",
      "Epoch 81/300\n",
      "691/691 [==============================] - 0s 43us/step - loss: 0.0770 - acc: 0.9783 - val_loss: 0.1147 - val_acc: 0.9480\n",
      "Epoch 82/300\n",
      "691/691 [==============================] - 0s 47us/step - loss: 0.0743 - acc: 0.9870 - val_loss: 0.1110 - val_acc: 0.9480\n",
      "Epoch 83/300\n",
      "691/691 [==============================] - 0s 45us/step - loss: 0.0763 - acc: 0.9812 - val_loss: 0.1099 - val_acc: 0.9480\n",
      "Epoch 84/300\n",
      "691/691 [==============================] - 0s 48us/step - loss: 0.0742 - acc: 0.9855 - val_loss: 0.1096 - val_acc: 0.9480\n",
      "Epoch 85/300\n",
      "691/691 [==============================] - 0s 76us/step - loss: 0.0710 - acc: 0.9870 - val_loss: 0.1113 - val_acc: 0.9480\n",
      "Epoch 86/300\n",
      "691/691 [==============================] - 0s 82us/step - loss: 0.0767 - acc: 0.9826 - val_loss: 0.1099 - val_acc: 0.9538\n",
      "Epoch 87/300\n",
      "691/691 [==============================] - 0s 62us/step - loss: 0.0735 - acc: 0.9841 - val_loss: 0.1082 - val_acc: 0.9595\n",
      "Epoch 88/300\n",
      "691/691 [==============================] - 0s 59us/step - loss: 0.0815 - acc: 0.9826 - val_loss: 0.1081 - val_acc: 0.9538\n",
      "Epoch 89/300\n",
      "691/691 [==============================] - 0s 49us/step - loss: 0.0605 - acc: 0.9884 - val_loss: 0.1099 - val_acc: 0.9480\n",
      "Epoch 90/300\n",
      "691/691 [==============================] - 0s 49us/step - loss: 0.0759 - acc: 0.9768 - val_loss: 0.1087 - val_acc: 0.9480\n",
      "Epoch 91/300\n",
      "691/691 [==============================] - 0s 47us/step - loss: 0.0667 - acc: 0.9884 - val_loss: 0.1063 - val_acc: 0.9480\n",
      "Epoch 92/300\n",
      "691/691 [==============================] - 0s 75us/step - loss: 0.0673 - acc: 0.9841 - val_loss: 0.1010 - val_acc: 0.9538\n",
      "Epoch 93/300\n",
      "691/691 [==============================] - 0s 83us/step - loss: 0.0601 - acc: 0.9884 - val_loss: 0.0985 - val_acc: 0.9538\n",
      "Epoch 94/300\n",
      "691/691 [==============================] - 0s 76us/step - loss: 0.0622 - acc: 0.9884 - val_loss: 0.1002 - val_acc: 0.9538\n",
      "Epoch 95/300\n",
      "691/691 [==============================] - 0s 62us/step - loss: 0.0621 - acc: 0.9841 - val_loss: 0.1000 - val_acc: 0.9538\n",
      "Epoch 96/300\n",
      "691/691 [==============================] - 0s 58us/step - loss: 0.0642 - acc: 0.9855 - val_loss: 0.0982 - val_acc: 0.9538\n",
      "Epoch 97/300\n",
      "691/691 [==============================] - 0s 60us/step - loss: 0.0768 - acc: 0.9740 - val_loss: 0.1010 - val_acc: 0.9538\n",
      "Epoch 98/300\n",
      "691/691 [==============================] - 0s 61us/step - loss: 0.0594 - acc: 0.9870 - val_loss: 0.1066 - val_acc: 0.9480\n",
      "Epoch 99/300\n",
      "691/691 [==============================] - 0s 82us/step - loss: 0.0646 - acc: 0.9812 - val_loss: 0.1101 - val_acc: 0.9422\n",
      "Epoch 100/300\n",
      "691/691 [==============================] - 0s 81us/step - loss: 0.0610 - acc: 0.9812 - val_loss: 0.1138 - val_acc: 0.9422\n",
      "Epoch 101/300\n",
      "691/691 [==============================] - 0s 74us/step - loss: 0.0614 - acc: 0.9826 - val_loss: 0.1045 - val_acc: 0.9480\n",
      "Epoch 102/300\n",
      "691/691 [==============================] - 0s 74us/step - loss: 0.0710 - acc: 0.9826 - val_loss: 0.0990 - val_acc: 0.9538\n",
      "Epoch 103/300\n",
      "691/691 [==============================] - 0s 63us/step - loss: 0.0544 - acc: 0.9928 - val_loss: 0.1001 - val_acc: 0.9538\n",
      "Epoch 104/300\n",
      "691/691 [==============================] - 0s 63us/step - loss: 0.0537 - acc: 0.9899 - val_loss: 0.1001 - val_acc: 0.9538\n",
      "Epoch 105/300\n",
      "691/691 [==============================] - 0s 80us/step - loss: 0.0564 - acc: 0.9899 - val_loss: 0.1010 - val_acc: 0.9538\n",
      "Epoch 106/300\n",
      "691/691 [==============================] - 0s 82us/step - loss: 0.0515 - acc: 0.9899 - val_loss: 0.0993 - val_acc: 0.9538\n",
      "Epoch 107/300\n",
      "691/691 [==============================] - 0s 89us/step - loss: 0.0565 - acc: 0.9855 - val_loss: 0.0961 - val_acc: 0.9538\n",
      "Epoch 108/300\n",
      "691/691 [==============================] - 0s 75us/step - loss: 0.0489 - acc: 0.9870 - val_loss: 0.0985 - val_acc: 0.9538\n",
      "Epoch 109/300\n",
      "691/691 [==============================] - 0s 57us/step - loss: 0.0601 - acc: 0.9884 - val_loss: 0.0997 - val_acc: 0.9538\n",
      "Epoch 110/300\n",
      "691/691 [==============================] - 0s 63us/step - loss: 0.0495 - acc: 0.9928 - val_loss: 0.1019 - val_acc: 0.9538\n",
      "Epoch 111/300\n",
      "691/691 [==============================] - 0s 82us/step - loss: 0.0484 - acc: 0.9870 - val_loss: 0.1026 - val_acc: 0.9538\n",
      "Epoch 112/300\n",
      "691/691 [==============================] - 0s 117us/step - loss: 0.0622 - acc: 0.9855 - val_loss: 0.0999 - val_acc: 0.9538\n",
      "Epoch 113/300\n",
      "691/691 [==============================] - 0s 83us/step - loss: 0.0508 - acc: 0.9870 - val_loss: 0.0923 - val_acc: 0.9595\n",
      "Epoch 114/300\n",
      "691/691 [==============================] - 0s 68us/step - loss: 0.0589 - acc: 0.9826 - val_loss: 0.0931 - val_acc: 0.9538\n",
      "Epoch 115/300\n",
      "691/691 [==============================] - 0s 60us/step - loss: 0.0430 - acc: 0.9899 - val_loss: 0.0975 - val_acc: 0.9538\n",
      "Epoch 116/300\n",
      "691/691 [==============================] - 0s 89us/step - loss: 0.0508 - acc: 0.9913 - val_loss: 0.0969 - val_acc: 0.9480\n",
      "Epoch 117/300\n",
      "691/691 [==============================] - 0s 76us/step - loss: 0.0429 - acc: 0.9957 - val_loss: 0.0990 - val_acc: 0.9422\n",
      "Epoch 118/300\n",
      "691/691 [==============================] - 0s 73us/step - loss: 0.0442 - acc: 0.9884 - val_loss: 0.1006 - val_acc: 0.9422\n",
      "Epoch 119/300\n",
      "691/691 [==============================] - 0s 73us/step - loss: 0.0441 - acc: 0.9913 - val_loss: 0.0960 - val_acc: 0.9480\n",
      "Epoch 120/300\n",
      "691/691 [==============================] - 0s 81us/step - loss: 0.0401 - acc: 0.9942 - val_loss: 0.0955 - val_acc: 0.9538\n",
      "Epoch 121/300\n"
     ]
    },
    {
     "name": "stdout",
     "output_type": "stream",
     "text": [
      "691/691 [==============================] - 0s 80us/step - loss: 0.0452 - acc: 0.9913 - val_loss: 0.0982 - val_acc: 0.9480\n",
      "Epoch 122/300\n",
      "691/691 [==============================] - 0s 80us/step - loss: 0.0492 - acc: 0.9884 - val_loss: 0.1005 - val_acc: 0.9422\n",
      "Epoch 123/300\n",
      "691/691 [==============================] - 0s 63us/step - loss: 0.0437 - acc: 0.9928 - val_loss: 0.0979 - val_acc: 0.9422\n",
      "Epoch 124/300\n",
      "691/691 [==============================] - 0s 50us/step - loss: 0.0399 - acc: 0.9913 - val_loss: 0.0970 - val_acc: 0.9422\n",
      "Epoch 125/300\n",
      "691/691 [==============================] - 0s 44us/step - loss: 0.0515 - acc: 0.9884 - val_loss: 0.0975 - val_acc: 0.9480\n",
      "Epoch 126/300\n",
      "691/691 [==============================] - 0s 54us/step - loss: 0.0420 - acc: 0.9928 - val_loss: 0.0964 - val_acc: 0.9480\n",
      "Epoch 127/300\n",
      "691/691 [==============================] - 0s 83us/step - loss: 0.0419 - acc: 0.9899 - val_loss: 0.0956 - val_acc: 0.9480\n",
      "Epoch 128/300\n",
      "691/691 [==============================] - 0s 70us/step - loss: 0.0417 - acc: 0.9928 - val_loss: 0.0952 - val_acc: 0.9538\n",
      "Epoch 129/300\n",
      "691/691 [==============================] - 0s 70us/step - loss: 0.0423 - acc: 0.9928 - val_loss: 0.0911 - val_acc: 0.9480\n",
      "Epoch 130/300\n",
      "691/691 [==============================] - 0s 59us/step - loss: 0.0400 - acc: 0.9884 - val_loss: 0.0941 - val_acc: 0.9480\n",
      "Epoch 131/300\n",
      "691/691 [==============================] - 0s 65us/step - loss: 0.0426 - acc: 0.9870 - val_loss: 0.0933 - val_acc: 0.9480\n",
      "Epoch 132/300\n",
      "691/691 [==============================] - 0s 98us/step - loss: 0.0412 - acc: 0.9899 - val_loss: 0.0911 - val_acc: 0.9480\n",
      "Epoch 133/300\n",
      "691/691 [==============================] - 0s 67us/step - loss: 0.0421 - acc: 0.9928 - val_loss: 0.0893 - val_acc: 0.9480\n",
      "Epoch 134/300\n",
      "691/691 [==============================] - 0s 67us/step - loss: 0.0378 - acc: 0.9899 - val_loss: 0.0893 - val_acc: 0.9538\n",
      "Epoch 135/300\n",
      "691/691 [==============================] - 0s 49us/step - loss: 0.0378 - acc: 0.9957 - val_loss: 0.0869 - val_acc: 0.9538\n",
      "Epoch 136/300\n",
      "691/691 [==============================] - 0s 46us/step - loss: 0.0387 - acc: 0.9884 - val_loss: 0.0844 - val_acc: 0.9538\n",
      "Epoch 137/300\n",
      "691/691 [==============================] - 0s 75us/step - loss: 0.0349 - acc: 0.9942 - val_loss: 0.0837 - val_acc: 0.9595\n",
      "Epoch 138/300\n",
      "691/691 [==============================] - 0s 78us/step - loss: 0.0404 - acc: 0.9942 - val_loss: 0.0873 - val_acc: 0.9538\n",
      "Epoch 139/300\n",
      "691/691 [==============================] - 0s 57us/step - loss: 0.0358 - acc: 0.9942 - val_loss: 0.0879 - val_acc: 0.9538\n",
      "Epoch 140/300\n",
      "691/691 [==============================] - 0s 63us/step - loss: 0.0387 - acc: 0.9942 - val_loss: 0.0889 - val_acc: 0.9538\n",
      "Epoch 141/300\n",
      "691/691 [==============================] - 0s 66us/step - loss: 0.0335 - acc: 0.9942 - val_loss: 0.0910 - val_acc: 0.9538\n",
      "Epoch 142/300\n",
      "691/691 [==============================] - 0s 60us/step - loss: 0.0264 - acc: 0.9986 - val_loss: 0.0922 - val_acc: 0.9538\n",
      "Epoch 143/300\n",
      "691/691 [==============================] - 0s 87us/step - loss: 0.0380 - acc: 0.9884 - val_loss: 0.0934 - val_acc: 0.9480\n",
      "Epoch 144/300\n",
      "691/691 [==============================] - 0s 67us/step - loss: 0.0281 - acc: 0.9957 - val_loss: 0.0933 - val_acc: 0.9538\n",
      "Epoch 145/300\n",
      "691/691 [==============================] - 0s 77us/step - loss: 0.0407 - acc: 0.9942 - val_loss: 0.0923 - val_acc: 0.9538\n",
      "Epoch 146/300\n",
      "691/691 [==============================] - 0s 49us/step - loss: 0.0365 - acc: 0.9913 - val_loss: 0.0919 - val_acc: 0.9538\n",
      "Epoch 147/300\n",
      "691/691 [==============================] - 0s 60us/step - loss: 0.0339 - acc: 0.9942 - val_loss: 0.0891 - val_acc: 0.9480\n",
      "Epoch 148/300\n",
      "691/691 [==============================] - 0s 91us/step - loss: 0.0274 - acc: 0.9971 - val_loss: 0.0902 - val_acc: 0.9480\n",
      "Epoch 149/300\n",
      "691/691 [==============================] - 0s 66us/step - loss: 0.0258 - acc: 0.9971 - val_loss: 0.0893 - val_acc: 0.9480\n",
      "Epoch 150/300\n",
      "691/691 [==============================] - 0s 70us/step - loss: 0.0340 - acc: 0.9971 - val_loss: 0.0877 - val_acc: 0.9480\n",
      "Epoch 151/300\n",
      "691/691 [==============================] - 0s 47us/step - loss: 0.0271 - acc: 0.9971 - val_loss: 0.0879 - val_acc: 0.9480\n",
      "Epoch 152/300\n",
      "691/691 [==============================] - 0s 59us/step - loss: 0.0311 - acc: 0.9928 - val_loss: 0.0889 - val_acc: 0.9480\n",
      "Epoch 153/300\n",
      "691/691 [==============================] - 0s 59us/step - loss: 0.0286 - acc: 0.9942 - val_loss: 0.0895 - val_acc: 0.9538\n",
      "Epoch 154/300\n",
      "691/691 [==============================] - 0s 84us/step - loss: 0.0317 - acc: 0.9928 - val_loss: 0.0915 - val_acc: 0.9480\n",
      "Epoch 155/300\n",
      "691/691 [==============================] - 0s 68us/step - loss: 0.0398 - acc: 0.9971 - val_loss: 0.0906 - val_acc: 0.9480\n",
      "Epoch 156/300\n",
      "691/691 [==============================] - 0s 72us/step - loss: 0.0257 - acc: 0.9971 - val_loss: 0.0928 - val_acc: 0.9480\n",
      "Epoch 157/300\n",
      "691/691 [==============================] - 0s 48us/step - loss: 0.0306 - acc: 0.9942 - val_loss: 0.0979 - val_acc: 0.9422\n",
      "Epoch 158/300\n",
      "691/691 [==============================] - 0s 43us/step - loss: 0.0331 - acc: 0.9884 - val_loss: 0.0980 - val_acc: 0.9480\n",
      "Epoch 159/300\n",
      "691/691 [==============================] - 0s 62us/step - loss: 0.0319 - acc: 0.9942 - val_loss: 0.0967 - val_acc: 0.9480\n",
      "Epoch 160/300\n",
      "691/691 [==============================] - 0s 87us/step - loss: 0.0312 - acc: 0.9986 - val_loss: 0.0946 - val_acc: 0.9480\n",
      "Epoch 161/300\n",
      "691/691 [==============================] - 0s 57us/step - loss: 0.0362 - acc: 0.9913 - val_loss: 0.0927 - val_acc: 0.9538\n",
      "Epoch 162/300\n",
      "691/691 [==============================] - 0s 62us/step - loss: 0.0355 - acc: 0.9928 - val_loss: 0.0930 - val_acc: 0.9538\n",
      "Epoch 163/300\n",
      "691/691 [==============================] - 0s 53us/step - loss: 0.0340 - acc: 0.9913 - val_loss: 0.0926 - val_acc: 0.9538\n",
      "Epoch 164/300\n",
      "691/691 [==============================] - 0s 71us/step - loss: 0.0353 - acc: 0.9913 - val_loss: 0.0891 - val_acc: 0.9538\n",
      "Epoch 165/300\n",
      "691/691 [==============================] - 0s 73us/step - loss: 0.0297 - acc: 0.9957 - val_loss: 0.0866 - val_acc: 0.9538\n",
      "Epoch 166/300\n",
      "691/691 [==============================] - 0s 69us/step - loss: 0.0364 - acc: 0.9928 - val_loss: 0.0874 - val_acc: 0.9538\n",
      "Epoch 167/300\n",
      "691/691 [==============================] - 0s 83us/step - loss: 0.0296 - acc: 0.9928 - val_loss: 0.0880 - val_acc: 0.9538\n",
      "Epoch 168/300\n",
      "691/691 [==============================] - 0s 52us/step - loss: 0.0299 - acc: 0.9942 - val_loss: 0.0929 - val_acc: 0.9480\n",
      "Epoch 169/300\n",
      "691/691 [==============================] - 0s 76us/step - loss: 0.0220 - acc: 0.9986 - val_loss: 0.0934 - val_acc: 0.9480\n",
      "Epoch 170/300\n",
      "691/691 [==============================] - 0s 88us/step - loss: 0.0247 - acc: 0.9957 - val_loss: 0.0884 - val_acc: 0.9480\n",
      "Epoch 171/300\n",
      "691/691 [==============================] - 0s 74us/step - loss: 0.0276 - acc: 0.9957 - val_loss: 0.0834 - val_acc: 0.9538\n",
      "Epoch 172/300\n",
      "691/691 [==============================] - 0s 61us/step - loss: 0.0361 - acc: 0.9928 - val_loss: 0.0816 - val_acc: 0.9538\n",
      "Epoch 173/300\n",
      "691/691 [==============================] - 0s 66us/step - loss: 0.0305 - acc: 0.9942 - val_loss: 0.0829 - val_acc: 0.9538\n",
      "Epoch 174/300\n",
      "691/691 [==============================] - 0s 70us/step - loss: 0.0287 - acc: 0.9913 - val_loss: 0.0797 - val_acc: 0.9595\n",
      "Epoch 175/300\n",
      "691/691 [==============================] - 0s 88us/step - loss: 0.0276 - acc: 0.9942 - val_loss: 0.0793 - val_acc: 0.9595\n",
      "Epoch 176/300\n",
      "691/691 [==============================] - 0s 70us/step - loss: 0.0237 - acc: 0.9986 - val_loss: 0.0788 - val_acc: 0.9595\n",
      "Epoch 177/300\n",
      "691/691 [==============================] - 0s 64us/step - loss: 0.0245 - acc: 0.9986 - val_loss: 0.0822 - val_acc: 0.9538\n",
      "Epoch 178/300\n",
      "691/691 [==============================] - 0s 59us/step - loss: 0.0269 - acc: 0.9942 - val_loss: 0.0833 - val_acc: 0.9480\n",
      "Epoch 179/300\n",
      "691/691 [==============================] - 0s 78us/step - loss: 0.0254 - acc: 0.9942 - val_loss: 0.0825 - val_acc: 0.9538\n",
      "Epoch 180/300\n",
      "691/691 [==============================] - 0s 87us/step - loss: 0.0210 - acc: 0.9986 - val_loss: 0.0842 - val_acc: 0.9538\n",
      "Epoch 181/300\n"
     ]
    },
    {
     "name": "stdout",
     "output_type": "stream",
     "text": [
      "691/691 [==============================] - 0s 82us/step - loss: 0.0221 - acc: 0.9986 - val_loss: 0.0859 - val_acc: 0.9538\n",
      "Epoch 182/300\n",
      "691/691 [==============================] - 0s 87us/step - loss: 0.0229 - acc: 0.9986 - val_loss: 0.0870 - val_acc: 0.9538\n",
      "Epoch 183/300\n",
      "691/691 [==============================] - 0s 45us/step - loss: 0.0213 - acc: 0.9957 - val_loss: 0.0883 - val_acc: 0.9538\n",
      "Epoch 184/300\n",
      "691/691 [==============================] - 0s 69us/step - loss: 0.0274 - acc: 0.9928 - val_loss: 0.0866 - val_acc: 0.9538\n",
      "Epoch 185/300\n",
      "691/691 [==============================] - 0s 77us/step - loss: 0.0249 - acc: 0.9957 - val_loss: 0.0819 - val_acc: 0.9653\n",
      "Epoch 186/300\n",
      "691/691 [==============================] - 0s 59us/step - loss: 0.0259 - acc: 0.9971 - val_loss: 0.0808 - val_acc: 0.9653\n",
      "Epoch 187/300\n",
      "691/691 [==============================] - 0s 65us/step - loss: 0.0198 - acc: 0.9971 - val_loss: 0.0828 - val_acc: 0.9653\n",
      "Epoch 188/300\n",
      "691/691 [==============================] - 0s 72us/step - loss: 0.0231 - acc: 0.9928 - val_loss: 0.0879 - val_acc: 0.9595\n",
      "Epoch 189/300\n",
      "691/691 [==============================] - 0s 48us/step - loss: 0.0334 - acc: 0.9913 - val_loss: 0.0918 - val_acc: 0.9538\n",
      "Epoch 190/300\n",
      "691/691 [==============================] - 0s 80us/step - loss: 0.0230 - acc: 0.9957 - val_loss: 0.0874 - val_acc: 0.9538\n",
      "Epoch 191/300\n",
      "691/691 [==============================] - 0s 85us/step - loss: 0.0245 - acc: 0.9986 - val_loss: 0.0867 - val_acc: 0.9480\n",
      "Epoch 192/300\n",
      "691/691 [==============================] - 0s 83us/step - loss: 0.0264 - acc: 0.9928 - val_loss: 0.0909 - val_acc: 0.9538\n",
      "Epoch 193/300\n",
      "691/691 [==============================] - 0s 68us/step - loss: 0.0290 - acc: 0.9928 - val_loss: 0.0933 - val_acc: 0.9538\n",
      "Epoch 194/300\n",
      "691/691 [==============================] - 0s 51us/step - loss: 0.0268 - acc: 0.9942 - val_loss: 0.0890 - val_acc: 0.9538\n",
      "Epoch 195/300\n",
      "691/691 [==============================] - 0s 44us/step - loss: 0.0212 - acc: 1.0000 - val_loss: 0.0853 - val_acc: 0.9595\n",
      "Epoch 196/300\n",
      "691/691 [==============================] - 0s 80us/step - loss: 0.0207 - acc: 0.9986 - val_loss: 0.0829 - val_acc: 0.9595\n",
      "Epoch 197/300\n",
      "691/691 [==============================] - 0s 69us/step - loss: 0.0248 - acc: 0.9942 - val_loss: 0.0847 - val_acc: 0.9595\n",
      "Epoch 198/300\n",
      "691/691 [==============================] - 0s 71us/step - loss: 0.0220 - acc: 0.9957 - val_loss: 0.0858 - val_acc: 0.9595\n",
      "Epoch 199/300\n",
      "691/691 [==============================] - 0s 75us/step - loss: 0.0227 - acc: 0.9971 - val_loss: 0.0875 - val_acc: 0.9595\n",
      "Epoch 200/300\n",
      "691/691 [==============================] - 0s 50us/step - loss: 0.0224 - acc: 0.9957 - val_loss: 0.0865 - val_acc: 0.9595\n",
      "Epoch 201/300\n",
      "691/691 [==============================] - 0s 45us/step - loss: 0.0284 - acc: 0.9928 - val_loss: 0.0816 - val_acc: 0.9595\n",
      "Epoch 202/300\n",
      "691/691 [==============================] - 0s 63us/step - loss: 0.0199 - acc: 0.9957 - val_loss: 0.0816 - val_acc: 0.9653\n",
      "Epoch 203/300\n",
      "691/691 [==============================] - 0s 79us/step - loss: 0.0232 - acc: 0.9957 - val_loss: 0.0848 - val_acc: 0.9595\n",
      "Epoch 204/300\n",
      "691/691 [==============================] - 0s 65us/step - loss: 0.0217 - acc: 0.9942 - val_loss: 0.0883 - val_acc: 0.9480\n",
      "Epoch 205/300\n",
      "691/691 [==============================] - 0s 62us/step - loss: 0.0310 - acc: 0.9913 - val_loss: 0.0867 - val_acc: 0.9538\n",
      "Epoch 206/300\n",
      "691/691 [==============================] - 0s 57us/step - loss: 0.0186 - acc: 0.9957 - val_loss: 0.0843 - val_acc: 0.9538\n",
      "Epoch 207/300\n",
      "691/691 [==============================] - 0s 71us/step - loss: 0.0221 - acc: 0.9942 - val_loss: 0.0806 - val_acc: 0.9595\n",
      "Epoch 208/300\n",
      "691/691 [==============================] - 0s 64us/step - loss: 0.0178 - acc: 0.9971 - val_loss: 0.0788 - val_acc: 0.9595\n",
      "Epoch 209/300\n",
      "691/691 [==============================] - 0s 48us/step - loss: 0.0161 - acc: 0.9986 - val_loss: 0.0800 - val_acc: 0.9595\n",
      "Epoch 210/300\n",
      "691/691 [==============================] - 0s 61us/step - loss: 0.0166 - acc: 0.9971 - val_loss: 0.0813 - val_acc: 0.9595\n",
      "Epoch 211/300\n",
      "691/691 [==============================] - 0s 68us/step - loss: 0.0244 - acc: 0.9942 - val_loss: 0.0827 - val_acc: 0.9538\n",
      "Epoch 212/300\n",
      "691/691 [==============================] - 0s 79us/step - loss: 0.0220 - acc: 0.9928 - val_loss: 0.0828 - val_acc: 0.9538\n",
      "Epoch 213/300\n",
      "691/691 [==============================] - 0s 66us/step - loss: 0.0180 - acc: 0.9971 - val_loss: 0.0834 - val_acc: 0.9480\n",
      "Epoch 214/300\n",
      "691/691 [==============================] - 0s 81us/step - loss: 0.0173 - acc: 1.0000 - val_loss: 0.0845 - val_acc: 0.9538\n",
      "Epoch 215/300\n",
      "691/691 [==============================] - 0s 44us/step - loss: 0.0242 - acc: 0.9942 - val_loss: 0.0829 - val_acc: 0.9538\n",
      "Epoch 216/300\n",
      "691/691 [==============================] - 0s 45us/step - loss: 0.0194 - acc: 0.9986 - val_loss: 0.0857 - val_acc: 0.9538\n",
      "Epoch 217/300\n",
      "691/691 [==============================] - 0s 80us/step - loss: 0.0218 - acc: 0.9957 - val_loss: 0.0886 - val_acc: 0.9538\n",
      "Epoch 218/300\n",
      "691/691 [==============================] - 0s 73us/step - loss: 0.0249 - acc: 0.9971 - val_loss: 0.0862 - val_acc: 0.9595\n",
      "Epoch 219/300\n",
      "691/691 [==============================] - 0s 66us/step - loss: 0.0196 - acc: 0.9957 - val_loss: 0.0850 - val_acc: 0.9538\n",
      "Epoch 220/300\n",
      "691/691 [==============================] - 0s 69us/step - loss: 0.0193 - acc: 0.9971 - val_loss: 0.0839 - val_acc: 0.9538\n",
      "Epoch 221/300\n",
      "691/691 [==============================] - 0s 69us/step - loss: 0.0192 - acc: 0.9986 - val_loss: 0.0833 - val_acc: 0.9595\n",
      "Epoch 222/300\n",
      "691/691 [==============================] - 0s 66us/step - loss: 0.0203 - acc: 0.9986 - val_loss: 0.0834 - val_acc: 0.9653\n",
      "Epoch 223/300\n",
      "691/691 [==============================] - 0s 46us/step - loss: 0.0149 - acc: 0.9971 - val_loss: 0.0863 - val_acc: 0.9538\n",
      "Epoch 224/300\n",
      "691/691 [==============================] - 0s 44us/step - loss: 0.0192 - acc: 0.9942 - val_loss: 0.0842 - val_acc: 0.9595\n",
      "Epoch 225/300\n",
      "691/691 [==============================] - 0s 63us/step - loss: 0.0163 - acc: 0.9971 - val_loss: 0.0809 - val_acc: 0.9595\n",
      "Epoch 226/300\n",
      "691/691 [==============================] - 0s 95us/step - loss: 0.0175 - acc: 0.9957 - val_loss: 0.0805 - val_acc: 0.9595\n",
      "Epoch 227/300\n",
      "691/691 [==============================] - 0s 71us/step - loss: 0.0141 - acc: 0.9986 - val_loss: 0.0798 - val_acc: 0.9595\n",
      "Epoch 228/300\n",
      "691/691 [==============================] - 0s 71us/step - loss: 0.0209 - acc: 0.9971 - val_loss: 0.0802 - val_acc: 0.9653\n",
      "Epoch 229/300\n",
      "691/691 [==============================] - 0s 67us/step - loss: 0.0169 - acc: 0.9986 - val_loss: 0.0799 - val_acc: 0.9653\n",
      "Epoch 230/300\n",
      "691/691 [==============================] - 0s 57us/step - loss: 0.0179 - acc: 0.9957 - val_loss: 0.0817 - val_acc: 0.9653\n",
      "Epoch 231/300\n",
      "691/691 [==============================] - 0s 48us/step - loss: 0.0171 - acc: 0.9971 - val_loss: 0.0833 - val_acc: 0.9653\n",
      "Epoch 232/300\n",
      "691/691 [==============================] - 0s 76us/step - loss: 0.0161 - acc: 0.9986 - val_loss: 0.0849 - val_acc: 0.9595\n",
      "Epoch 233/300\n",
      "691/691 [==============================] - 0s 83us/step - loss: 0.0268 - acc: 0.9899 - val_loss: 0.0856 - val_acc: 0.9538\n",
      "Epoch 234/300\n",
      "691/691 [==============================] - 0s 65us/step - loss: 0.0141 - acc: 0.9986 - val_loss: 0.0885 - val_acc: 0.9538\n",
      "Epoch 235/300\n",
      "691/691 [==============================] - 0s 69us/step - loss: 0.0156 - acc: 0.9986 - val_loss: 0.0904 - val_acc: 0.9538\n",
      "Epoch 236/300\n",
      "691/691 [==============================] - 0s 69us/step - loss: 0.0197 - acc: 0.9942 - val_loss: 0.0914 - val_acc: 0.9595\n",
      "Epoch 237/300\n",
      "691/691 [==============================] - 0s 68us/step - loss: 0.0158 - acc: 0.9986 - val_loss: 0.0876 - val_acc: 0.9653\n",
      "Epoch 238/300\n",
      "691/691 [==============================] - 0s 67us/step - loss: 0.0129 - acc: 0.9986 - val_loss: 0.0870 - val_acc: 0.9653\n",
      "Epoch 239/300\n",
      "691/691 [==============================] - 0s 65us/step - loss: 0.0170 - acc: 0.9986 - val_loss: 0.0848 - val_acc: 0.9595\n",
      "Epoch 240/300\n",
      "691/691 [==============================] - 0s 66us/step - loss: 0.0112 - acc: 0.9986 - val_loss: 0.0857 - val_acc: 0.9538\n",
      "Epoch 241/300\n"
     ]
    },
    {
     "name": "stdout",
     "output_type": "stream",
     "text": [
      "691/691 [==============================] - 0s 75us/step - loss: 0.0229 - acc: 0.9928 - val_loss: 0.0863 - val_acc: 0.9538\n",
      "Epoch 242/300\n",
      "691/691 [==============================] - 0s 75us/step - loss: 0.0164 - acc: 0.9971 - val_loss: 0.0859 - val_acc: 0.9538\n",
      "Epoch 243/300\n",
      "691/691 [==============================] - 0s 67us/step - loss: 0.0138 - acc: 1.0000 - val_loss: 0.0848 - val_acc: 0.9595\n",
      "Epoch 244/300\n",
      "691/691 [==============================] - 0s 72us/step - loss: 0.0216 - acc: 0.9942 - val_loss: 0.0818 - val_acc: 0.9595\n",
      "Epoch 245/300\n",
      "691/691 [==============================] - 0s 56us/step - loss: 0.0127 - acc: 1.0000 - val_loss: 0.0820 - val_acc: 0.9595\n",
      "Epoch 246/300\n",
      "691/691 [==============================] - 0s 58us/step - loss: 0.0217 - acc: 0.9971 - val_loss: 0.0796 - val_acc: 0.9653\n",
      "Epoch 247/300\n",
      "691/691 [==============================] - 0s 98us/step - loss: 0.0145 - acc: 0.9986 - val_loss: 0.0808 - val_acc: 0.9595\n",
      "Epoch 248/300\n",
      "691/691 [==============================] - 0s 73us/step - loss: 0.0147 - acc: 0.9986 - val_loss: 0.0827 - val_acc: 0.9595\n",
      "Epoch 249/300\n",
      "691/691 [==============================] - 0s 66us/step - loss: 0.0147 - acc: 0.9986 - val_loss: 0.0855 - val_acc: 0.9653\n",
      "Epoch 250/300\n",
      "691/691 [==============================] - 0s 68us/step - loss: 0.0183 - acc: 0.9971 - val_loss: 0.0836 - val_acc: 0.9653\n",
      "Epoch 251/300\n",
      "691/691 [==============================] - 0s 62us/step - loss: 0.0138 - acc: 0.9986 - val_loss: 0.0812 - val_acc: 0.9653\n",
      "Epoch 252/300\n",
      "691/691 [==============================] - 0s 48us/step - loss: 0.0124 - acc: 0.9986 - val_loss: 0.0792 - val_acc: 0.9653\n",
      "Epoch 253/300\n",
      "691/691 [==============================] - 0s 44us/step - loss: 0.0166 - acc: 0.9971 - val_loss: 0.0779 - val_acc: 0.9711\n",
      "Epoch 254/300\n",
      "691/691 [==============================] - 0s 60us/step - loss: 0.0158 - acc: 0.9957 - val_loss: 0.0767 - val_acc: 0.9711\n",
      "Epoch 255/300\n",
      "691/691 [==============================] - 0s 85us/step - loss: 0.0148 - acc: 0.9971 - val_loss: 0.0753 - val_acc: 0.9711\n",
      "Epoch 256/300\n",
      "691/691 [==============================] - 0s 92us/step - loss: 0.0172 - acc: 0.9971 - val_loss: 0.0766 - val_acc: 0.9711\n",
      "Epoch 257/300\n",
      "691/691 [==============================] - 0s 68us/step - loss: 0.0143 - acc: 0.9986 - val_loss: 0.0764 - val_acc: 0.9711\n",
      "Epoch 258/300\n",
      "691/691 [==============================] - 0s 63us/step - loss: 0.0178 - acc: 0.9957 - val_loss: 0.0768 - val_acc: 0.9653\n",
      "Epoch 259/300\n",
      "691/691 [==============================] - 0s 64us/step - loss: 0.0154 - acc: 0.9957 - val_loss: 0.0774 - val_acc: 0.9653\n",
      "Epoch 260/300\n",
      "691/691 [==============================] - 0s 70us/step - loss: 0.0164 - acc: 0.9957 - val_loss: 0.0766 - val_acc: 0.9653\n",
      "Epoch 261/300\n",
      "691/691 [==============================] - 0s 71us/step - loss: 0.0182 - acc: 0.9971 - val_loss: 0.0760 - val_acc: 0.9653\n",
      "Epoch 262/300\n",
      "691/691 [==============================] - 0s 63us/step - loss: 0.0159 - acc: 0.9971 - val_loss: 0.0794 - val_acc: 0.9595\n",
      "Epoch 263/300\n",
      "691/691 [==============================] - 0s 47us/step - loss: 0.0101 - acc: 1.0000 - val_loss: 0.0808 - val_acc: 0.9595\n",
      "Epoch 264/300\n",
      "691/691 [==============================] - 0s 72us/step - loss: 0.0159 - acc: 0.9971 - val_loss: 0.0788 - val_acc: 0.9595\n",
      "Epoch 265/300\n",
      "691/691 [==============================] - 0s 67us/step - loss: 0.0114 - acc: 1.0000 - val_loss: 0.0755 - val_acc: 0.9653\n",
      "Epoch 266/300\n",
      "691/691 [==============================] - 0s 76us/step - loss: 0.0159 - acc: 0.9986 - val_loss: 0.0759 - val_acc: 0.9595\n",
      "Epoch 267/300\n",
      "691/691 [==============================] - 0s 73us/step - loss: 0.0198 - acc: 0.9957 - val_loss: 0.0778 - val_acc: 0.9595\n",
      "Epoch 268/300\n",
      "691/691 [==============================] - 0s 71us/step - loss: 0.0183 - acc: 0.9957 - val_loss: 0.0786 - val_acc: 0.9595\n",
      "Epoch 269/300\n",
      "691/691 [==============================] - 0s 67us/step - loss: 0.0146 - acc: 0.9957 - val_loss: 0.0769 - val_acc: 0.9595\n",
      "Epoch 270/300\n",
      "691/691 [==============================] - 0s 62us/step - loss: 0.0117 - acc: 1.0000 - val_loss: 0.0789 - val_acc: 0.9595\n",
      "Epoch 271/300\n",
      "691/691 [==============================] - 0s 76us/step - loss: 0.0133 - acc: 1.0000 - val_loss: 0.0817 - val_acc: 0.9595\n",
      "Epoch 272/300\n",
      "691/691 [==============================] - 0s 61us/step - loss: 0.0128 - acc: 0.9986 - val_loss: 0.0847 - val_acc: 0.9595\n",
      "Epoch 273/300\n",
      "691/691 [==============================] - 0s 57us/step - loss: 0.0161 - acc: 0.9986 - val_loss: 0.0849 - val_acc: 0.9595\n",
      "Epoch 274/300\n",
      "691/691 [==============================] - 0s 66us/step - loss: 0.0129 - acc: 0.9986 - val_loss: 0.0857 - val_acc: 0.9595\n",
      "Epoch 275/300\n",
      "691/691 [==============================] - 0s 66us/step - loss: 0.0118 - acc: 0.9986 - val_loss: 0.0873 - val_acc: 0.9538\n",
      "Epoch 276/300\n",
      "691/691 [==============================] - 0s 71us/step - loss: 0.0134 - acc: 0.9971 - val_loss: 0.0854 - val_acc: 0.9538\n",
      "Epoch 277/300\n",
      "691/691 [==============================] - 0s 69us/step - loss: 0.0106 - acc: 1.0000 - val_loss: 0.0833 - val_acc: 0.9595\n",
      "Epoch 278/300\n",
      "691/691 [==============================] - 0s 66us/step - loss: 0.0144 - acc: 0.9971 - val_loss: 0.0824 - val_acc: 0.9653\n",
      "Epoch 279/300\n",
      "691/691 [==============================] - 0s 55us/step - loss: 0.0130 - acc: 0.9971 - val_loss: 0.0804 - val_acc: 0.9711\n",
      "Epoch 280/300\n",
      "691/691 [==============================] - 0s 66us/step - loss: 0.0171 - acc: 0.9971 - val_loss: 0.0785 - val_acc: 0.9711\n",
      "Epoch 281/300\n",
      "691/691 [==============================] - 0s 56us/step - loss: 0.0158 - acc: 0.9971 - val_loss: 0.0797 - val_acc: 0.9653\n",
      "Epoch 282/300\n",
      "691/691 [==============================] - 0s 65us/step - loss: 0.0173 - acc: 0.9971 - val_loss: 0.0790 - val_acc: 0.9711\n",
      "Epoch 283/300\n",
      "691/691 [==============================] - 0s 66us/step - loss: 0.0132 - acc: 0.9971 - val_loss: 0.0787 - val_acc: 0.9711\n",
      "Epoch 284/300\n",
      "691/691 [==============================] - 0s 55us/step - loss: 0.0154 - acc: 0.9942 - val_loss: 0.0823 - val_acc: 0.9595\n",
      "Epoch 285/300\n",
      "691/691 [==============================] - 0s 50us/step - loss: 0.0181 - acc: 0.9942 - val_loss: 0.0861 - val_acc: 0.9595\n",
      "Epoch 286/300\n",
      "691/691 [==============================] - 0s 43us/step - loss: 0.0104 - acc: 0.9986 - val_loss: 0.0850 - val_acc: 0.9595\n",
      "Epoch 287/300\n",
      "691/691 [==============================] - 0s 42us/step - loss: 0.0138 - acc: 0.9957 - val_loss: 0.0837 - val_acc: 0.9595\n",
      "Epoch 288/300\n",
      "691/691 [==============================] - 0s 47us/step - loss: 0.0119 - acc: 0.9986 - val_loss: 0.0862 - val_acc: 0.9538\n",
      "Epoch 289/300\n",
      "691/691 [==============================] - 0s 46us/step - loss: 0.0099 - acc: 1.0000 - val_loss: 0.0904 - val_acc: 0.9538\n",
      "Epoch 290/300\n",
      "691/691 [==============================] - 0s 47us/step - loss: 0.0105 - acc: 1.0000 - val_loss: 0.0931 - val_acc: 0.9538\n",
      "Epoch 291/300\n",
      "691/691 [==============================] - 0s 48us/step - loss: 0.0113 - acc: 0.9971 - val_loss: 0.0936 - val_acc: 0.9538\n",
      "Epoch 292/300\n",
      "691/691 [==============================] - 0s 46us/step - loss: 0.0123 - acc: 0.9986 - val_loss: 0.0876 - val_acc: 0.9595\n",
      "Epoch 293/300\n",
      "691/691 [==============================] - 0s 50us/step - loss: 0.0140 - acc: 0.9986 - val_loss: 0.0799 - val_acc: 0.9653\n",
      "Epoch 294/300\n",
      "691/691 [==============================] - 0s 47us/step - loss: 0.0131 - acc: 0.9971 - val_loss: 0.0784 - val_acc: 0.9653\n",
      "Epoch 295/300\n",
      "691/691 [==============================] - 0s 47us/step - loss: 0.0134 - acc: 0.9971 - val_loss: 0.0760 - val_acc: 0.9653\n",
      "Epoch 296/300\n",
      "691/691 [==============================] - 0s 43us/step - loss: 0.0117 - acc: 0.9971 - val_loss: 0.0754 - val_acc: 0.9653\n",
      "Epoch 297/300\n",
      "691/691 [==============================] - 0s 47us/step - loss: 0.0218 - acc: 0.9942 - val_loss: 0.0743 - val_acc: 0.9769\n",
      "Epoch 298/300\n",
      "691/691 [==============================] - 0s 44us/step - loss: 0.0101 - acc: 0.9986 - val_loss: 0.0726 - val_acc: 0.9769\n",
      "Epoch 299/300\n",
      "691/691 [==============================] - 0s 53us/step - loss: 0.0102 - acc: 0.9971 - val_loss: 0.0745 - val_acc: 0.9769\n",
      "Epoch 300/300\n",
      "691/691 [==============================] - 0s 49us/step - loss: 0.0127 - acc: 0.9971 - val_loss: 0.0790 - val_acc: 0.9711\n"
     ]
    },
    {
     "name": "stdout",
     "output_type": "stream",
     "text": [
      "864/864 [==============================] - 0s 47us/step\n",
      "acc: 99.42%\n"
     ]
    }
   ],
   "source": [
    "model.compile(optimizer=Adam(), loss='categorical_crossentropy', metrics=['accuracy'])\n",
    "history = model.fit(X_train, y_train, batch_size=80, epochs=300, validation_split=0.2, verbose=1)\n",
    "\n",
    "scores = model.evaluate(X_train, y_train, batch_size=30)\n",
    "print('%s: %.2f%%' % (model.metrics_names[1], scores[1]*100))"
   ]
  },
  {
   "cell_type": "code",
   "execution_count": 416,
   "metadata": {},
   "outputs": [
    {
     "data": {
      "image/png": "[encoded data removed]",
      "text/plain": [
       "<Figure size 864x360 with 1 Axes>"
      ]
     },
     "metadata": {
      "needs_background": "light"
     },
     "output_type": "display_data"
    },
    {
     "data": {
      "image/png": "[encoded data removed]",
      "text/plain": [
       "<Figure size 864x360 with 1 Axes>"
      ]
     },
     "metadata": {
      "needs_background": "light"
     },
     "output_type": "display_data"
    }
   ],
   "source": [
    "display()"
   ]
  },
  {
   "cell_type": "markdown",
   "metadata": {},
   "source": [
    "predict = model.predict(X_test)\n",
    "for row in predict:\n",
    "    row[np.argmax(row)] = 1.0\n",
    "    for j in row:\n",
    "        if j != 1.0:\n",
    "            j = 0\n",
    "            \n",
    "predict = np.round(predict)\n",
    "predict"
   ]
  },
  {
   "cell_type": "code",
   "execution_count": 418,
   "metadata": {},
   "outputs": [
    {
     "data": {
      "text/plain": [
       "array([[1., 0., 0., 0.],\n",
       "       [1., 0., 0., 0.],\n",
       "       [1., 0., 0., 0.],\n",
       "       ...,\n",
       "       [1., 0., 0., 0.],\n",
       "       [1., 0., 0., 0.],\n",
       "       [1., 0., 0., 0.]], dtype=float32)"
      ]
     },
     "execution_count": 418,
     "metadata": {},
     "output_type": "execute_result"
    }
   ],
   "source": [
    "predict = np.round(predict)\n",
    "predict"
   ]
  },
  {
   "cell_type": "code",
   "execution_count": 419,
   "metadata": {},
   "outputs": [],
   "source": [
    "predict = np.round(predict)\n",
    "df = pd.DataFrame(predict, columns=['first', 'second', 'third', 'forth'])\n",
    "\n",
    "df['class'] = 0\n",
    "df['class'][df['first'] == 1] = 'unacc'\n",
    "df['class'][df['second'] == 1] = 'acc'\n",
    "df['class'][df['third'] == 1] = 'good'\n",
    "df['class'][df['forth'] == 1] = 'vgood'\n",
    "\n",
    "df_out = pd.read_csv('../data/value_car/test.tsv', delimiter='\\t')\n",
    "df_out = pd.concat([df_out, df], axis=1)\n",
    "\n",
    "df_out[[\"id\",\"class\"]].to_csv(\"../data/value_car/output/submission.csv\",index=False, header=False)"
   ]
  },
  {
   "cell_type": "markdown",
   "metadata": {},
   "source": [
    "'unacc':0, 'acc':1, 'good':2, 'vgood':3"
   ]
  },
  {
   "cell_type": "code",
   "execution_count": 420,
   "metadata": {},
   "outputs": [
    {
     "data": {
      "text/plain": [
       "unacc    612\n",
       "acc      189\n",
       "good      36\n",
       "vgood     27\n",
       "Name: class, dtype: int64"
      ]
     },
     "execution_count": 420,
     "metadata": {},
     "output_type": "execute_result"
    }
   ],
   "source": [
    "df_out['class'].value_counts()"
   ]
  },
  {
   "cell_type": "code",
   "execution_count": null,
   "metadata": {},
   "outputs": [],
   "source": []
  }
 ],
 "metadata": {
  "kernelspec": {
   "display_name": "Python 3",
   "language": "python",
   "name": "python3"
  },
  "language_info": {
   "codemirror_mode": {
    "name": "ipython",
    "version": 3
   },
   "file_extension": ".py",
   "mimetype": "text/x-python",
   "name": "python",
   "nbconvert_exporter": "python",
   "pygments_lexer": "ipython3",
   "version": "3.6.7"
  }
 },
 "nbformat": 4,
 "nbformat_minor": 2
}
